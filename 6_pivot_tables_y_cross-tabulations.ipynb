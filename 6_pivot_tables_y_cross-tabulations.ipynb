{
 "cells": [
  {
   "cell_type": "markdown",
   "metadata": {
    "tags": [],
    "cell_id": "00000-699708c9-4299-4bfd-8414-8fb83efdb2aa",
    "deepnote_cell_type": "markdown"
   },
   "source": "# Pivot tables y cross-tabulations",
   "execution_count": null
  },
  {
   "cell_type": "code",
   "source": "import pandas as pd\nChicago_data = 'https://raw.githubusercontent.com/terranigmark/curso-analisis-exploratorio-datos-platzi/main/Traffic_Crashes1.csv'\ndf = pd.read_csv(Chicago_data)\ndf",
   "metadata": {
    "tags": [],
    "cell_id": "00001-654087cc-8717-48ab-b77b-7ebfaf3b75bd",
    "deepnote_to_be_reexecuted": false,
    "source_hash": "da230362",
    "execution_start": 1635526117245,
    "execution_millis": 1081,
    "deepnote_cell_type": "code"
   },
   "outputs": [
    {
     "output_type": "execute_result",
     "execution_count": 1,
     "data": {
      "application/vnd.deepnote.dataframe.v2+json": {
       "row_count": 27961,
       "column_count": 51,
       "columns": [
        {
         "name": "Unnamed: 0",
         "dtype": "int64",
         "stats": {
          "unique_count": 27961,
          "nan_count": 0,
          "min": "5",
          "max": "447370",
          "histogram": [
           {
            "bin_start": 5,
            "bin_end": 44741.5,
            "count": 2794
           },
           {
            "bin_start": 44741.5,
            "bin_end": 89478,
            "count": 2779
           },
           {
            "bin_start": 89478,
            "bin_end": 134214.5,
            "count": 2847
           },
           {
            "bin_start": 134214.5,
            "bin_end": 178951,
            "count": 2758
           },
           {
            "bin_start": 178951,
            "bin_end": 223687.5,
            "count": 2784
           },
           {
            "bin_start": 223687.5,
            "bin_end": 268424,
            "count": 2826
           },
           {
            "bin_start": 268424,
            "bin_end": 313160.5,
            "count": 2740
           },
           {
            "bin_start": 313160.5,
            "bin_end": 357897,
            "count": 2759
           },
           {
            "bin_start": 357897,
            "bin_end": 402633.5,
            "count": 2844
           },
           {
            "bin_start": 402633.5,
            "bin_end": 447370,
            "count": 2830
           }
          ]
         }
        },
        {
         "name": "CRASH_RECORD_ID",
         "dtype": "object",
         "stats": {
          "unique_count": 27961,
          "nan_count": 0,
          "categories": [
           {
            "name": "9e97e92753166de921a0e87199513aa841142c6fbb3a1ea166f4e3ec5f919e4002ef990a54b8c540c17fc2316727ee19b30019c881cbabb5502feccb8fed0f91",
            "count": 1
           },
           {
            "name": "e5fe82ab7757d630a7f79927113bc63b5bede0cda7466568034102305859bac13dde19a66a69fcca588fda8e54f05f2dba7b8f3c49f28b48025deca7232188cb",
            "count": 1
           },
           {
            "name": "27959 others",
            "count": 27959
           }
          ]
         }
        },
        {
         "name": "RD_NO",
         "dtype": "object",
         "stats": {
          "unique_count": 27713,
          "nan_count": 248,
          "categories": [
           {
            "name": "JA154528",
            "count": 1
           },
           {
            "name": "27712 others",
            "count": 27712
           },
           {
            "name": "Missing",
            "count": 248
           }
          ]
         }
        },
        {
         "name": "CRASH_DATE_EST_I",
         "dtype": "object"
        },
        {
         "name": "CRASH_DATE",
         "dtype": "object"
        },
        {
         "name": "POSTED_SPEED_LIMIT",
         "dtype": "int64"
        },
        {
         "name": "TRAFFIC_CONTROL_DEVICE",
         "dtype": "object"
        },
        {
         "name": "DEVICE_CONDITION",
         "dtype": "object"
        },
        {
         "name": "WEATHER_CONDITION",
         "dtype": "object"
        },
        {
         "name": "LIGHTING_CONDITION",
         "dtype": "object"
        },
        {
         "name": "FIRST_CRASH_TYPE",
         "dtype": "object"
        },
        {
         "name": "TRAFFICWAY_TYPE",
         "dtype": "object"
        },
        {
         "name": "LANE_CNT",
         "dtype": "float64"
        },
        {
         "name": "ALIGNMENT",
         "dtype": "object"
        },
        {
         "name": "ROADWAY_SURFACE_COND",
         "dtype": "object"
        },
        {
         "name": "ROAD_DEFECT",
         "dtype": "object"
        },
        {
         "name": "REPORT_TYPE",
         "dtype": "object"
        },
        {
         "name": "CRASH_TYPE",
         "dtype": "object"
        },
        {
         "name": "INTERSECTION_RELATED_I",
         "dtype": "object"
        },
        {
         "name": "NOT_RIGHT_OF_WAY_I",
         "dtype": "object"
        },
        {
         "name": "HIT_AND_RUN_I",
         "dtype": "object"
        },
        {
         "name": "DAMAGE",
         "dtype": "object"
        },
        {
         "name": "DATE_POLICE_NOTIFIED",
         "dtype": "object"
        },
        {
         "name": "PRIM_CONTRIBUTORY_CAUSE",
         "dtype": "object"
        },
        {
         "name": "SEC_CONTRIBUTORY_CAUSE",
         "dtype": "object"
        },
        {
         "name": "STREET_NO",
         "dtype": "int64"
        },
        {
         "name": "STREET_DIRECTION",
         "dtype": "object"
        },
        {
         "name": "STREET_NAME",
         "dtype": "object"
        },
        {
         "name": "BEAT_OF_OCCURRENCE",
         "dtype": "float64"
        },
        {
         "name": "PHOTOS_TAKEN_I",
         "dtype": "object"
        },
        {
         "name": "STATEMENTS_TAKEN_I",
         "dtype": "object"
        },
        {
         "name": "DOORING_I",
         "dtype": "object"
        },
        {
         "name": "WORK_ZONE_I",
         "dtype": "object"
        },
        {
         "name": "WORK_ZONE_TYPE",
         "dtype": "object"
        },
        {
         "name": "WORKERS_PRESENT_I",
         "dtype": "object"
        },
        {
         "name": "NUM_UNITS",
         "dtype": "int64"
        },
        {
         "name": "MOST_SEVERE_INJURY",
         "dtype": "object"
        },
        {
         "name": "INJURIES_TOTAL",
         "dtype": "float64"
        },
        {
         "name": "INJURIES_FATAL",
         "dtype": "float64"
        },
        {
         "name": "INJURIES_INCAPACITATING",
         "dtype": "float64"
        },
        {
         "name": "INJURIES_NON_INCAPACITATING",
         "dtype": "float64"
        },
        {
         "name": "INJURIES_REPORTED_NOT_EVIDENT",
         "dtype": "float64"
        },
        {
         "name": "INJURIES_NO_INDICATION",
         "dtype": "float64"
        },
        {
         "name": "INJURIES_UNKNOWN",
         "dtype": "float64"
        },
        {
         "name": "CRASH_HOUR",
         "dtype": "int64"
        },
        {
         "name": "CRASH_DAY_OF_WEEK",
         "dtype": "int64"
        },
        {
         "name": "CRASH_MONTH",
         "dtype": "int64"
        },
        {
         "name": "LATITUDE",
         "dtype": "float64"
        },
        {
         "name": "LONGITUDE",
         "dtype": "float64"
        },
        {
         "name": "LOCATION",
         "dtype": "object"
        },
        {
         "name": "date_real",
         "dtype": "object"
        },
        {
         "name": "_deepnote_index_column",
         "dtype": "int64"
        }
       ],
       "rows_top": [
        {
         "Unnamed: 0": 290702,
         "CRASH_RECORD_ID": "9e97e92753166de921a0e87199513aa841142c6fbb3a1ea166f4e3ec5f919e4002ef990a54b8c540c17fc2316727ee19b30…",
         "RD_NO": "JA154528",
         "CRASH_DATE_EST_I": "nan",
         "CRASH_DATE": "2017-02-14 10:00:00",
         "POSTED_SPEED_LIMIT": 30,
         "TRAFFIC_CONTROL_DEVICE": "NO CONTROLS",
         "DEVICE_CONDITION": "NO CONTROLS",
         "WEATHER_CONDITION": "CLEAR",
         "LIGHTING_CONDITION": "DAYLIGHT",
         "FIRST_CRASH_TYPE": "PARKED MOTOR VEHICLE",
         "TRAFFICWAY_TYPE": "ONE-WAY",
         "LANE_CNT": "nan",
         "ALIGNMENT": "STRAIGHT AND LEVEL",
         "ROADWAY_SURFACE_COND": "DRY",
         "ROAD_DEFECT": "NO DEFECTS",
         "REPORT_TYPE": "NOT ON SCENE (DESK REPORT)",
         "CRASH_TYPE": "NO INJURY / DRIVE AWAY",
         "INTERSECTION_RELATED_I": "nan",
         "NOT_RIGHT_OF_WAY_I": "nan",
         "HIT_AND_RUN_I": "Y",
         "DAMAGE": "$500 OR LESS",
         "DATE_POLICE_NOTIFIED": "02/15/2017 11:22:00 AM",
         "PRIM_CONTRIBUTORY_CAUSE": "UNABLE TO DETERMINE",
         "SEC_CONTRIBUTORY_CAUSE": "UNABLE TO DETERMINE",
         "STREET_NO": 1417,
         "STREET_DIRECTION": "W",
         "STREET_NAME": "ALBION AVE",
         "BEAT_OF_OCCURRENCE": 2432,
         "PHOTOS_TAKEN_I": "nan",
         "STATEMENTS_TAKEN_I": "nan",
         "DOORING_I": "nan",
         "WORK_ZONE_I": "nan",
         "WORK_ZONE_TYPE": "nan",
         "WORKERS_PRESENT_I": "nan",
         "NUM_UNITS": 2,
         "MOST_SEVERE_INJURY": "NO INDICATION OF INJURY",
         "INJURIES_TOTAL": 0,
         "INJURIES_FATAL": 0,
         "INJURIES_INCAPACITATING": 0,
         "INJURIES_NON_INCAPACITATING": 0,
         "INJURIES_REPORTED_NOT_EVIDENT": 0,
         "INJURIES_NO_INDICATION": 1,
         "INJURIES_UNKNOWN": 0,
         "CRASH_HOUR": 10,
         "CRASH_DAY_OF_WEEK": 3,
         "CRASH_MONTH": 2,
         "LATITUDE": 42.001675862,
         "LONGITUDE": -87.666364005,
         "LOCATION": "POINT (-87.666364005301 42.001675862416)",
         "date_real": "2017-02-14",
         "_deepnote_index_column": 0
        },
        {
         "Unnamed: 0": 405524,
         "CRASH_RECORD_ID": "e5fe82ab7757d630a7f79927113bc63b5bede0cda7466568034102305859bac13dde19a66a69fcca588fda8e54f05f2dba7…",
         "RD_NO": "JC391213",
         "CRASH_DATE_EST_I": "nan",
         "CRASH_DATE": "2019-08-13 19:12:00",
         "POSTED_SPEED_LIMIT": 35,
         "TRAFFIC_CONTROL_DEVICE": "TRAFFIC SIGNAL",
         "DEVICE_CONDITION": "FUNCTIONING PROPERLY",
         "WEATHER_CONDITION": "CLEAR",
         "LIGHTING_CONDITION": "DAYLIGHT",
         "FIRST_CRASH_TYPE": "SIDESWIPE SAME DIRECTION",
         "TRAFFICWAY_TYPE": "DIVIDED - W/MEDIAN (NOT RAISED)",
         "LANE_CNT": "nan",
         "ALIGNMENT": "STRAIGHT AND LEVEL",
         "ROADWAY_SURFACE_COND": "DRY",
         "ROAD_DEFECT": "NO DEFECTS",
         "REPORT_TYPE": "ON SCENE",
         "CRASH_TYPE": "NO INJURY / DRIVE AWAY",
         "INTERSECTION_RELATED_I": "nan",
         "NOT_RIGHT_OF_WAY_I": "nan",
         "HIT_AND_RUN_I": "nan",
         "DAMAGE": "$500 OR LESS",
         "DATE_POLICE_NOTIFIED": "08/13/2019 07:13:00 PM",
         "PRIM_CONTRIBUTORY_CAUSE": "IMPROPER OVERTAKING/PASSING",
         "SEC_CONTRIBUTORY_CAUSE": "NOT APPLICABLE",
         "STREET_NO": 3202,
         "STREET_DIRECTION": "N",
         "STREET_NAME": "CLARK ST",
         "BEAT_OF_OCCURRENCE": 1924,
         "PHOTOS_TAKEN_I": "nan",
         "STATEMENTS_TAKEN_I": "nan",
         "DOORING_I": "nan",
         "WORK_ZONE_I": "nan",
         "WORK_ZONE_TYPE": "nan",
         "WORKERS_PRESENT_I": "nan",
         "NUM_UNITS": 2,
         "MOST_SEVERE_INJURY": "NO INDICATION OF INJURY",
         "INJURIES_TOTAL": 0,
         "INJURIES_FATAL": 0,
         "INJURIES_INCAPACITATING": 0,
         "INJURIES_NON_INCAPACITATING": 0,
         "INJURIES_REPORTED_NOT_EVIDENT": 0,
         "INJURIES_NO_INDICATION": 8,
         "INJURIES_UNKNOWN": 0,
         "CRASH_HOUR": 19,
         "CRASH_DAY_OF_WEEK": 3,
         "CRASH_MONTH": 8,
         "LATITUDE": 41.940040917,
         "LONGITUDE": -87.65092322299999,
         "LOCATION": "POINT (-87.650923222567 41.940040917032)",
         "date_real": "2019-08-13",
         "_deepnote_index_column": 1
        },
        {
         "Unnamed: 0": 261834,
         "CRASH_RECORD_ID": "8c8ea6db9e1950765419429e2732ba5598fc6f87ac9e0ce3a3670ba533ad43e06ececf8931e5138c5299d355e0d7185074d…",
         "RD_NO": "JC273287",
         "CRASH_DATE_EST_I": "nan",
         "CRASH_DATE": "2019-05-22 08:30:00",
         "POSTED_SPEED_LIMIT": 25,
         "TRAFFIC_CONTROL_DEVICE": "STOP SIGN/FLASHER",
         "DEVICE_CONDITION": "FUNCTIONING PROPERLY",
         "WEATHER_CONDITION": "RAIN",
         "LIGHTING_CONDITION": "DAYLIGHT",
         "FIRST_CRASH_TYPE": "REAR TO FRONT",
         "TRAFFICWAY_TYPE": "ONE-WAY",
         "LANE_CNT": "nan",
         "ALIGNMENT": "STRAIGHT AND LEVEL",
         "ROADWAY_SURFACE_COND": "WET",
         "ROAD_DEFECT": "NO DEFECTS",
         "REPORT_TYPE": "ON SCENE",
         "CRASH_TYPE": "NO INJURY / DRIVE AWAY",
         "INTERSECTION_RELATED_I": "nan",
         "NOT_RIGHT_OF_WAY_I": "nan",
         "HIT_AND_RUN_I": "Y",
         "DAMAGE": "$500 OR LESS",
         "DATE_POLICE_NOTIFIED": "05/22/2019 08:45:00 AM",
         "PRIM_CONTRIBUTORY_CAUSE": "OPERATING VEHICLE IN ERRATIC, RECKLESS, CARELESS, NEGLIGENT OR AGGRESSIVE MANNER",
         "SEC_CONTRIBUTORY_CAUSE": "NOT APPLICABLE",
         "STREET_NO": 3300,
         "STREET_DIRECTION": "W",
         "STREET_NAME": "BELLE PLAINE AVE",
         "BEAT_OF_OCCURRENCE": 1724,
         "PHOTOS_TAKEN_I": "nan",
         "STATEMENTS_TAKEN_I": "nan",
         "DOORING_I": "nan",
         "WORK_ZONE_I": "nan",
         "WORK_ZONE_TYPE": "nan",
         "WORKERS_PRESENT_I": "nan",
         "NUM_UNITS": 2,
         "MOST_SEVERE_INJURY": "NO INDICATION OF INJURY",
         "INJURIES_TOTAL": 0,
         "INJURIES_FATAL": 0,
         "INJURIES_INCAPACITATING": 0,
         "INJURIES_NON_INCAPACITATING": 0,
         "INJURIES_REPORTED_NOT_EVIDENT": 0,
         "INJURIES_NO_INDICATION": 2,
         "INJURIES_UNKNOWN": 0,
         "CRASH_HOUR": 8,
         "CRASH_DAY_OF_WEEK": 4,
         "CRASH_MONTH": 5,
         "LATITUDE": 41.95585361,
         "LONGITUDE": -87.710644535,
         "LOCATION": "POINT (-87.710644534923 41.955853610383)",
         "date_real": "2019-05-22",
         "_deepnote_index_column": 2
        },
        {
         "Unnamed: 0": 38519,
         "CRASH_RECORD_ID": "02671b7d36a9d189d607778816fec23bbb2e5ac3cd3039a4cc351a1f839fcc8dc9ff54c43fd87d247c05507f431e8b2d443…",
         "RD_NO": "JA307115",
         "CRASH_DATE_EST_I": "nan",
         "CRASH_DATE": "2017-06-14 16:50:00",
         "POSTED_SPEED_LIMIT": 0,
         "TRAFFIC_CONTROL_DEVICE": "UNKNOWN",
         "DEVICE_CONDITION": "UNKNOWN",
         "WEATHER_CONDITION": "UNKNOWN",
         "LIGHTING_CONDITION": "UNKNOWN",
         "FIRST_CRASH_TYPE": "REAR END",
         "TRAFFICWAY_TYPE": "PARKING LOT",
         "LANE_CNT": 1,
         "ALIGNMENT": "STRAIGHT AND LEVEL",
         "ROADWAY_SURFACE_COND": "UNKNOWN",
         "ROAD_DEFECT": "UNKNOWN",
         "REPORT_TYPE": "ON SCENE",
         "CRASH_TYPE": "NO INJURY / DRIVE AWAY",
         "INTERSECTION_RELATED_I": "nan",
         "NOT_RIGHT_OF_WAY_I": "Y",
         "HIT_AND_RUN_I": "nan",
         "DAMAGE": "$501 - $1,500",
         "DATE_POLICE_NOTIFIED": "06/14/2017 06:39:00 PM",
         "PRIM_CONTRIBUTORY_CAUSE": "FAILING TO YIELD RIGHT-OF-WAY",
         "SEC_CONTRIBUTORY_CAUSE": "NOT APPLICABLE",
         "STREET_NO": 1340,
         "STREET_DIRECTION": "S",
         "STREET_NAME": "DAMEN AVE",
         "BEAT_OF_OCCURRENCE": 1233,
         "PHOTOS_TAKEN_I": "nan",
         "STATEMENTS_TAKEN_I": "nan",
         "DOORING_I": "nan",
         "WORK_ZONE_I": "nan",
         "WORK_ZONE_TYPE": "nan",
         "WORKERS_PRESENT_I": "nan",
         "NUM_UNITS": 2,
         "MOST_SEVERE_INJURY": "NO INDICATION OF INJURY",
         "INJURIES_TOTAL": 0,
         "INJURIES_FATAL": 0,
         "INJURIES_INCAPACITATING": 0,
         "INJURIES_NON_INCAPACITATING": 0,
         "INJURIES_REPORTED_NOT_EVIDENT": 0,
         "INJURIES_NO_INDICATION": 2,
         "INJURIES_UNKNOWN": 0,
         "CRASH_HOUR": 16,
         "CRASH_DAY_OF_WEEK": 4,
         "CRASH_MONTH": 6,
         "LATITUDE": 41.863734391,
         "LONGITUDE": -87.67631269,
         "LOCATION": "POINT (-87.676312689993 41.863734390899)",
         "date_real": "2017-06-14",
         "_deepnote_index_column": 3
        },
        {
         "Unnamed: 0": 420197,
         "CRASH_RECORD_ID": "ef1b1d450f65c6d16245dffdd3304d93b8be7d7bbf47f35ba8690274cc9cbb54272e7832f3fce3597abfd89b69cad625ebd…",
         "RD_NO": "JB247942",
         "CRASH_DATE_EST_I": "nan",
         "CRASH_DATE": "2018-05-03 08:35:00",
         "POSTED_SPEED_LIMIT": 30,
         "TRAFFIC_CONTROL_DEVICE": "NO CONTROLS",
         "DEVICE_CONDITION": "NO CONTROLS",
         "WEATHER_CONDITION": "RAIN",
         "LIGHTING_CONDITION": "DAYLIGHT",
         "FIRST_CRASH_TYPE": "SIDESWIPE SAME DIRECTION",
         "TRAFFICWAY_TYPE": "NOT DIVIDED",
         "LANE_CNT": "nan",
         "ALIGNMENT": "STRAIGHT AND LEVEL",
         "ROADWAY_SURFACE_COND": "WET",
         "ROAD_DEFECT": "NO DEFECTS",
         "REPORT_TYPE": "NOT ON SCENE (DESK REPORT)",
         "CRASH_TYPE": "NO INJURY / DRIVE AWAY",
         "INTERSECTION_RELATED_I": "nan",
         "NOT_RIGHT_OF_WAY_I": "nan",
         "HIT_AND_RUN_I": "nan",
         "DAMAGE": "OVER $1,500",
         "DATE_POLICE_NOTIFIED": "05/03/2018 09:15:00 AM",
         "PRIM_CONTRIBUTORY_CAUSE": "IMPROPER OVERTAKING/PASSING",
         "SEC_CONTRIBUTORY_CAUSE": "UNABLE TO DETERMINE",
         "STREET_NO": 2755,
         "STREET_DIRECTION": "W",
         "STREET_NAME": "CERMAK RD",
         "BEAT_OF_OCCURRENCE": 1034,
         "PHOTOS_TAKEN_I": "nan",
         "STATEMENTS_TAKEN_I": "nan",
         "DOORING_I": "nan",
         "WORK_ZONE_I": "nan",
         "WORK_ZONE_TYPE": "nan",
         "WORKERS_PRESENT_I": "nan",
         "NUM_UNITS": 2,
         "MOST_SEVERE_INJURY": "NO INDICATION OF INJURY",
         "INJURIES_TOTAL": 0,
         "INJURIES_FATAL": 0,
         "INJURIES_INCAPACITATING": 0,
         "INJURIES_NON_INCAPACITATING": 0,
         "INJURIES_REPORTED_NOT_EVIDENT": 0,
         "INJURIES_NO_INDICATION": 2,
         "INJURIES_UNKNOWN": 0,
         "CRASH_HOUR": 8,
         "CRASH_DAY_OF_WEEK": 5,
         "CRASH_MONTH": 5,
         "LATITUDE": 41.851794252,
         "LONGITUDE": -87.695223114,
         "LOCATION": "POINT (-87.695223114296 41.851794251516)",
         "date_real": "2018-05-03",
         "_deepnote_index_column": 4
        },
        {
         "Unnamed: 0": 119253,
         "CRASH_RECORD_ID": "345729c9593fdf3d42bafb07f647dadf200ca36280c1e3884cdf80b428ee705cf020c4b4e88f651d481df21f008715d19fd…",
         "RD_NO": "JD171221",
         "CRASH_DATE_EST_I": "nan",
         "CRASH_DATE": "2020-03-02 11:00:00",
         "POSTED_SPEED_LIMIT": 30,
         "TRAFFIC_CONTROL_DEVICE": "NO CONTROLS",
         "DEVICE_CONDITION": "NO CONTROLS",
         "WEATHER_CONDITION": "CLEAR",
         "LIGHTING_CONDITION": "DAYLIGHT",
         "FIRST_CRASH_TYPE": "REAR TO SIDE",
         "TRAFFICWAY_TYPE": "NOT DIVIDED",
         "LANE_CNT": "nan",
         "ALIGNMENT": "STRAIGHT AND LEVEL",
         "ROADWAY_SURFACE_COND": "DRY",
         "ROAD_DEFECT": "NO DEFECTS",
         "REPORT_TYPE": "NOT ON SCENE (DESK REPORT)",
         "CRASH_TYPE": "NO INJURY / DRIVE AWAY",
         "INTERSECTION_RELATED_I": "nan",
         "NOT_RIGHT_OF_WAY_I": "nan",
         "HIT_AND_RUN_I": "nan",
         "DAMAGE": "$501 - $1,500",
         "DATE_POLICE_NOTIFIED": "03/02/2020 11:15:00 AM",
         "PRIM_CONTRIBUTORY_CAUSE": "UNABLE TO DETERMINE",
         "SEC_CONTRIBUTORY_CAUSE": "NOT APPLICABLE",
         "STREET_NO": 6120,
         "STREET_DIRECTION": "S",
         "STREET_NAME": "JUSTINE ST",
         "BEAT_OF_OCCURRENCE": 713,
         "PHOTOS_TAKEN_I": "nan",
         "STATEMENTS_TAKEN_I": "nan",
         "DOORING_I": "nan",
         "WORK_ZONE_I": "nan",
         "WORK_ZONE_TYPE": "nan",
         "WORKERS_PRESENT_I": "nan",
         "NUM_UNITS": 2,
         "MOST_SEVERE_INJURY": "NO INDICATION OF INJURY",
         "INJURIES_TOTAL": 0,
         "INJURIES_FATAL": 0,
         "INJURIES_INCAPACITATING": 0,
         "INJURIES_NON_INCAPACITATING": 0,
         "INJURIES_REPORTED_NOT_EVIDENT": 0,
         "INJURIES_NO_INDICATION": 2,
         "INJURIES_UNKNOWN": 0,
         "CRASH_HOUR": 11,
         "CRASH_DAY_OF_WEEK": 2,
         "CRASH_MONTH": 3,
         "LATITUDE": 41.782470517,
         "LONGITUDE": -87.66320518399999,
         "LOCATION": "POINT (-87.663205183759 41.78247051714)",
         "date_real": "2020-03-02",
         "_deepnote_index_column": 5
        },
        {
         "Unnamed: 0": 442780,
         "CRASH_RECORD_ID": "fd438efdc61972cb0ac7b27ffa4568df01873fc04b7d03c1329d73dcace986397fd215f42a157f64bb3e81d8eaae6e6679c…",
         "RD_NO": "JB363267",
         "CRASH_DATE_EST_I": "nan",
         "CRASH_DATE": "2018-07-24 13:20:00",
         "POSTED_SPEED_LIMIT": 30,
         "TRAFFIC_CONTROL_DEVICE": "NO CONTROLS",
         "DEVICE_CONDITION": "NO CONTROLS",
         "WEATHER_CONDITION": "CLEAR",
         "LIGHTING_CONDITION": "DAYLIGHT",
         "FIRST_CRASH_TYPE": "SIDESWIPE SAME DIRECTION",
         "TRAFFICWAY_TYPE": "NOT DIVIDED",
         "LANE_CNT": "nan",
         "ALIGNMENT": "STRAIGHT AND LEVEL",
         "ROADWAY_SURFACE_COND": "DRY",
         "ROAD_DEFECT": "NO DEFECTS",
         "REPORT_TYPE": "ON SCENE",
         "CRASH_TYPE": "NO INJURY / DRIVE AWAY",
         "INTERSECTION_RELATED_I": "nan",
         "NOT_RIGHT_OF_WAY_I": "nan",
         "HIT_AND_RUN_I": "nan",
         "DAMAGE": "OVER $1,500",
         "DATE_POLICE_NOTIFIED": "07/24/2018 01:22:00 PM",
         "PRIM_CONTRIBUTORY_CAUSE": "DRIVING SKILLS/KNOWLEDGE/EXPERIENCE",
         "SEC_CONTRIBUTORY_CAUSE": "NOT APPLICABLE",
         "STREET_NO": 3548,
         "STREET_DIRECTION": "W",
         "STREET_NAME": "ARTHINGTON ST",
         "BEAT_OF_OCCURRENCE": 1133,
         "PHOTOS_TAKEN_I": "nan",
         "STATEMENTS_TAKEN_I": "nan",
         "DOORING_I": "nan",
         "WORK_ZONE_I": "nan",
         "WORK_ZONE_TYPE": "nan",
         "WORKERS_PRESENT_I": "nan",
         "NUM_UNITS": 2,
         "MOST_SEVERE_INJURY": "NO INDICATION OF INJURY",
         "INJURIES_TOTAL": 0,
         "INJURIES_FATAL": 0,
         "INJURIES_INCAPACITATING": 0,
         "INJURIES_NON_INCAPACITATING": 0,
         "INJURIES_REPORTED_NOT_EVIDENT": 0,
         "INJURIES_NO_INDICATION": 3,
         "INJURIES_UNKNOWN": 0,
         "CRASH_HOUR": 13,
         "CRASH_DAY_OF_WEEK": 3,
         "CRASH_MONTH": 7,
         "LATITUDE": 41.870061053,
         "LONGITUDE": -87.71503619799999,
         "LOCATION": "POINT (-87.715036197762 41.87006105302)",
         "date_real": "2018-07-24",
         "_deepnote_index_column": 6
        },
        {
         "Unnamed: 0": 251434,
         "CRASH_RECORD_ID": "8607ea59568ab3bd9c15c5eb91da10bbc96b98e28bdb2f602ec37446d14a27b90e50ff49d868116e24c0c72acc4e65ccf84…",
         "RD_NO": "JC464663",
         "CRASH_DATE_EST_I": "nan",
         "CRASH_DATE": "2019-10-08 12:18:00",
         "POSTED_SPEED_LIMIT": 10,
         "TRAFFIC_CONTROL_DEVICE": "NO CONTROLS",
         "DEVICE_CONDITION": "NO CONTROLS",
         "WEATHER_CONDITION": "CLEAR",
         "LIGHTING_CONDITION": "DAYLIGHT",
         "FIRST_CRASH_TYPE": "PARKED MOTOR VEHICLE",
         "TRAFFICWAY_TYPE": "PARKING LOT",
         "LANE_CNT": "nan",
         "ALIGNMENT": "STRAIGHT AND LEVEL",
         "ROADWAY_SURFACE_COND": "DRY",
         "ROAD_DEFECT": "NO DEFECTS",
         "REPORT_TYPE": "ON SCENE",
         "CRASH_TYPE": "NO INJURY / DRIVE AWAY",
         "INTERSECTION_RELATED_I": "nan",
         "NOT_RIGHT_OF_WAY_I": "nan",
         "HIT_AND_RUN_I": "nan",
         "DAMAGE": "$501 - $1,500",
         "DATE_POLICE_NOTIFIED": "10/08/2019 12:20:00 PM",
         "PRIM_CONTRIBUTORY_CAUSE": "UNABLE TO DETERMINE",
         "SEC_CONTRIBUTORY_CAUSE": "UNABLE TO DETERMINE",
         "STREET_NO": 5252,
         "STREET_DIRECTION": "W",
         "STREET_NAME": "PALMER ST",
         "BEAT_OF_OCCURRENCE": 2515,
         "PHOTOS_TAKEN_I": "nan",
         "STATEMENTS_TAKEN_I": "nan",
         "DOORING_I": "nan",
         "WORK_ZONE_I": "nan",
         "WORK_ZONE_TYPE": "nan",
         "WORKERS_PRESENT_I": "nan",
         "NUM_UNITS": 2,
         "MOST_SEVERE_INJURY": "NO INDICATION OF INJURY",
         "INJURIES_TOTAL": 0,
         "INJURIES_FATAL": 0,
         "INJURIES_INCAPACITATING": 0,
         "INJURIES_NON_INCAPACITATING": 0,
         "INJURIES_REPORTED_NOT_EVIDENT": 0,
         "INJURIES_NO_INDICATION": 1,
         "INJURIES_UNKNOWN": 0,
         "CRASH_HOUR": 12,
         "CRASH_DAY_OF_WEEK": 3,
         "CRASH_MONTH": 10,
         "LATITUDE": 41.920538447,
         "LONGITUDE": -87.75820003,
         "LOCATION": "POINT (-87.758200029995 41.920538446762)",
         "date_real": "2019-10-08",
         "_deepnote_index_column": 7
        },
        {
         "Unnamed: 0": 346960,
         "CRASH_RECORD_ID": "c16d497258988ff9d7c0227218de4fbf16ef490ce2eab2b1072eb3b80bd773d791011b6004bf840e6582584b3eb939ed326…",
         "RD_NO": "JC490370",
         "CRASH_DATE_EST_I": "nan",
         "CRASH_DATE": "2019-10-29 03:20:00",
         "POSTED_SPEED_LIMIT": 30,
         "TRAFFIC_CONTROL_DEVICE": "TRAFFIC SIGNAL",
         "DEVICE_CONDITION": "FUNCTIONING PROPERLY",
         "WEATHER_CONDITION": "RAIN",
         "LIGHTING_CONDITION": "DARKNESS, LIGHTED ROAD",
         "FIRST_CRASH_TYPE": "REAR END",
         "TRAFFICWAY_TYPE": "DIVIDED - W/MEDIAN (NOT RAISED)",
         "LANE_CNT": "nan",
         "ALIGNMENT": "STRAIGHT AND LEVEL",
         "ROADWAY_SURFACE_COND": "WET",
         "ROAD_DEFECT": "RUT, HOLES",
         "REPORT_TYPE": "ON SCENE",
         "CRASH_TYPE": "NO INJURY / DRIVE AWAY",
         "INTERSECTION_RELATED_I": "Y",
         "NOT_RIGHT_OF_WAY_I": "nan",
         "HIT_AND_RUN_I": "nan",
         "DAMAGE": "$501 - $1,500",
         "DATE_POLICE_NOTIFIED": "10/29/2019 03:21:00 AM",
         "PRIM_CONTRIBUTORY_CAUSE": "FAILING TO REDUCE SPEED TO AVOID CRASH",
         "SEC_CONTRIBUTORY_CAUSE": "FOLLOWING TOO CLOSELY",
         "STREET_NO": 10300,
         "STREET_DIRECTION": "S",
         "STREET_NAME": "DOTY AVE E",
         "BEAT_OF_OCCURRENCE": 434,
         "PHOTOS_TAKEN_I": "nan",
         "STATEMENTS_TAKEN_I": "nan",
         "DOORING_I": "nan",
         "WORK_ZONE_I": "nan",
         "WORK_ZONE_TYPE": "nan",
         "WORKERS_PRESENT_I": "nan",
         "NUM_UNITS": 2,
         "MOST_SEVERE_INJURY": "NO INDICATION OF INJURY",
         "INJURIES_TOTAL": 0,
         "INJURIES_FATAL": 0,
         "INJURIES_INCAPACITATING": 0,
         "INJURIES_NON_INCAPACITATING": 0,
         "INJURIES_REPORTED_NOT_EVIDENT": 0,
         "INJURIES_NO_INDICATION": 2,
         "INJURIES_UNKNOWN": 0,
         "CRASH_HOUR": 3,
         "CRASH_DAY_OF_WEEK": 3,
         "CRASH_MONTH": 10,
         "LATITUDE": 41.707849555,
         "LONGITUDE": -87.580854271,
         "LOCATION": "POINT (-87.580854271249 41.70784955538)",
         "date_real": "2019-10-29",
         "_deepnote_index_column": 8
        }
       ],
       "rows_bottom": [
        {
         "Unnamed: 0": 162297,
         "CRASH_RECORD_ID": "4edd9bdcc70ceaf69a0f4aab14d8667b228d27f57a2ab7c2488a19bf52e8c459f477466b55a3f2ba8f7de634e172c425325…",
         "RD_NO": "JD135388",
         "CRASH_DATE_EST_I": "nan",
         "CRASH_DATE": "2020-01-24 18:30:00",
         "POSTED_SPEED_LIMIT": 30,
         "TRAFFIC_CONTROL_DEVICE": "TRAFFIC SIGNAL",
         "DEVICE_CONDITION": "UNKNOWN",
         "WEATHER_CONDITION": "UNKNOWN",
         "LIGHTING_CONDITION": "DARKNESS, LIGHTED ROAD",
         "FIRST_CRASH_TYPE": "REAR END",
         "TRAFFICWAY_TYPE": "DIVIDED - W/MEDIAN (NOT RAISED)",
         "LANE_CNT": "nan",
         "ALIGNMENT": "STRAIGHT AND LEVEL",
         "ROADWAY_SURFACE_COND": "UNKNOWN",
         "ROAD_DEFECT": "UNKNOWN",
         "REPORT_TYPE": "NOT ON SCENE (DESK REPORT)",
         "CRASH_TYPE": "NO INJURY / DRIVE AWAY",
         "INTERSECTION_RELATED_I": "nan",
         "NOT_RIGHT_OF_WAY_I": "nan",
         "HIT_AND_RUN_I": "nan",
         "DAMAGE": "OVER $1,500",
         "DATE_POLICE_NOTIFIED": "01/31/2020 04:30:00 PM",
         "PRIM_CONTRIBUTORY_CAUSE": "UNABLE TO DETERMINE",
         "SEC_CONTRIBUTORY_CAUSE": "UNABLE TO DETERMINE",
         "STREET_NO": 5801,
         "STREET_DIRECTION": "W",
         "STREET_NAME": "FULLERTON AVE",
         "BEAT_OF_OCCURRENCE": 2515,
         "PHOTOS_TAKEN_I": "nan",
         "STATEMENTS_TAKEN_I": "nan",
         "DOORING_I": "nan",
         "WORK_ZONE_I": "nan",
         "WORK_ZONE_TYPE": "nan",
         "WORKERS_PRESENT_I": "nan",
         "NUM_UNITS": 3,
         "MOST_SEVERE_INJURY": "NO INDICATION OF INJURY",
         "INJURIES_TOTAL": 0,
         "INJURIES_FATAL": 0,
         "INJURIES_INCAPACITATING": 0,
         "INJURIES_NON_INCAPACITATING": 0,
         "INJURIES_REPORTED_NOT_EVIDENT": 0,
         "INJURIES_NO_INDICATION": 3,
         "INJURIES_UNKNOWN": 0,
         "CRASH_HOUR": 18,
         "CRASH_DAY_OF_WEEK": 6,
         "CRASH_MONTH": 1,
         "LATITUDE": 41.923794554,
         "LONGITUDE": -87.77091113899999,
         "LOCATION": "POINT (-87.77091113871 41.923794553965)",
         "date_real": "2020-01-24",
         "_deepnote_index_column": 27951
        },
        {
         "Unnamed: 0": 426176,
         "CRASH_RECORD_ID": "f2e2f5f7e08051785d1aa36c583e30341acfb8ff809020fc688365519b498921c732b08330dade22f914df3764735763350…",
         "RD_NO": "JC526542",
         "CRASH_DATE_EST_I": "nan",
         "CRASH_DATE": "2019-11-27 13:05:00",
         "POSTED_SPEED_LIMIT": 30,
         "TRAFFIC_CONTROL_DEVICE": "NO CONTROLS",
         "DEVICE_CONDITION": "NO CONTROLS",
         "WEATHER_CONDITION": "CLOUDY/OVERCAST",
         "LIGHTING_CONDITION": "DAYLIGHT",
         "FIRST_CRASH_TYPE": "OTHER NONCOLLISION",
         "TRAFFICWAY_TYPE": "OTHER",
         "LANE_CNT": "nan",
         "ALIGNMENT": "STRAIGHT AND LEVEL",
         "ROADWAY_SURFACE_COND": "DRY",
         "ROAD_DEFECT": "NO DEFECTS",
         "REPORT_TYPE": "ON SCENE",
         "CRASH_TYPE": "NO INJURY / DRIVE AWAY",
         "INTERSECTION_RELATED_I": "nan",
         "NOT_RIGHT_OF_WAY_I": "nan",
         "HIT_AND_RUN_I": "nan",
         "DAMAGE": "OVER $1,500",
         "DATE_POLICE_NOTIFIED": "11/27/2019 01:05:00 PM",
         "PRIM_CONTRIBUTORY_CAUSE": "NOT APPLICABLE",
         "SEC_CONTRIBUTORY_CAUSE": "NOT APPLICABLE",
         "STREET_NO": 10400,
         "STREET_DIRECTION": "S",
         "STREET_NAME": "VINCENNES AVE",
         "BEAT_OF_OCCURRENCE": 2212,
         "PHOTOS_TAKEN_I": "nan",
         "STATEMENTS_TAKEN_I": "nan",
         "DOORING_I": "nan",
         "WORK_ZONE_I": "N",
         "WORK_ZONE_TYPE": "nan",
         "WORKERS_PRESENT_I": "nan",
         "NUM_UNITS": 1,
         "MOST_SEVERE_INJURY": "NO INDICATION OF INJURY",
         "INJURIES_TOTAL": 0,
         "INJURIES_FATAL": 0,
         "INJURIES_INCAPACITATING": 0,
         "INJURIES_NON_INCAPACITATING": 0,
         "INJURIES_REPORTED_NOT_EVIDENT": 0,
         "INJURIES_NO_INDICATION": 1,
         "INJURIES_UNKNOWN": 0,
         "CRASH_HOUR": 13,
         "CRASH_DAY_OF_WEEK": 4,
         "CRASH_MONTH": 11,
         "LATITUDE": 41.704913034,
         "LONGITUDE": -87.656874378,
         "LOCATION": "POINT (-87.656874377859 41.704913034132)",
         "date_real": "2019-11-27",
         "_deepnote_index_column": 27952
        },
        {
         "Unnamed: 0": 439549,
         "CRASH_RECORD_ID": "fb3ef7a886d3ec8d04ce38ee23c4d55d2b5f8a253ba97affeb7734223fef76c74f76410d2a133cfd0b2fcc07833c6e1b2ff…",
         "RD_NO": "JB564112",
         "CRASH_DATE_EST_I": "nan",
         "CRASH_DATE": "2018-12-22 14:00:00",
         "POSTED_SPEED_LIMIT": 25,
         "TRAFFIC_CONTROL_DEVICE": "NO CONTROLS",
         "DEVICE_CONDITION": "NO CONTROLS",
         "WEATHER_CONDITION": "CLEAR",
         "LIGHTING_CONDITION": "DAYLIGHT",
         "FIRST_CRASH_TYPE": "ANGLE",
         "TRAFFICWAY_TYPE": "ONE-WAY",
         "LANE_CNT": 1,
         "ALIGNMENT": "CURVE ON GRADE",
         "ROADWAY_SURFACE_COND": "DRY",
         "ROAD_DEFECT": "NO DEFECTS",
         "REPORT_TYPE": "ON SCENE",
         "CRASH_TYPE": "INJURY AND / OR TOW DUE TO CRASH",
         "INTERSECTION_RELATED_I": "Y",
         "NOT_RIGHT_OF_WAY_I": "nan",
         "HIT_AND_RUN_I": "nan",
         "DAMAGE": "OVER $1,500",
         "DATE_POLICE_NOTIFIED": "12/22/2018 04:03:00 PM",
         "PRIM_CONTRIBUTORY_CAUSE": "FAILING TO YIELD RIGHT-OF-WAY",
         "SEC_CONTRIBUTORY_CAUSE": "FAILING TO REDUCE SPEED TO AVOID CRASH",
         "STREET_NO": 5346,
         "STREET_DIRECTION": "W",
         "STREET_NAME": "BELLE PLAINE AVE",
         "BEAT_OF_OCCURRENCE": 1624,
         "PHOTOS_TAKEN_I": "nan",
         "STATEMENTS_TAKEN_I": "nan",
         "DOORING_I": "nan",
         "WORK_ZONE_I": "nan",
         "WORK_ZONE_TYPE": "nan",
         "WORKERS_PRESENT_I": "nan",
         "NUM_UNITS": 3,
         "MOST_SEVERE_INJURY": "REPORTED, NOT EVIDENT",
         "INJURIES_TOTAL": 1,
         "INJURIES_FATAL": 0,
         "INJURIES_INCAPACITATING": 0,
         "INJURIES_NON_INCAPACITATING": 0,
         "INJURIES_REPORTED_NOT_EVIDENT": 1,
         "INJURIES_NO_INDICATION": 1,
         "INJURIES_UNKNOWN": 0,
         "CRASH_HOUR": 14,
         "CRASH_DAY_OF_WEEK": 7,
         "CRASH_MONTH": 12,
         "LATITUDE": 41.955180951,
         "LONGITUDE": -87.76155631299999,
         "LOCATION": "POINT (-87.761556312739 41.955180951062)",
         "date_real": "2018-12-22",
         "_deepnote_index_column": 27953
        },
        {
         "Unnamed: 0": 40003,
         "CRASH_RECORD_ID": "034bf0c283d26d1206b2d7412b3e4a58e05b1a9029f4815014cc5a2893727b208f9b1ee11955e6f649f21fbac83c6d5a5c6…",
         "RD_NO": "JB222914",
         "CRASH_DATE_EST_I": "nan",
         "CRASH_DATE": "2018-04-13 19:04:00",
         "POSTED_SPEED_LIMIT": 30,
         "TRAFFIC_CONTROL_DEVICE": "NO CONTROLS",
         "DEVICE_CONDITION": "NO CONTROLS",
         "WEATHER_CONDITION": "RAIN",
         "LIGHTING_CONDITION": "DUSK",
         "FIRST_CRASH_TYPE": "TURNING",
         "TRAFFICWAY_TYPE": "NOT DIVIDED",
         "LANE_CNT": 2,
         "ALIGNMENT": "STRAIGHT AND LEVEL",
         "ROADWAY_SURFACE_COND": "WET",
         "ROAD_DEFECT": "NO DEFECTS",
         "REPORT_TYPE": "ON SCENE",
         "CRASH_TYPE": "NO INJURY / DRIVE AWAY",
         "INTERSECTION_RELATED_I": "nan",
         "NOT_RIGHT_OF_WAY_I": "nan",
         "HIT_AND_RUN_I": "nan",
         "DAMAGE": "OVER $1,500",
         "DATE_POLICE_NOTIFIED": "04/13/2018 07:05:00 PM",
         "PRIM_CONTRIBUTORY_CAUSE": "FAILING TO YIELD RIGHT-OF-WAY",
         "SEC_CONTRIBUTORY_CAUSE": "NOT APPLICABLE",
         "STREET_NO": 5241,
         "STREET_DIRECTION": "W",
         "STREET_NAME": "GRAND AVE",
         "BEAT_OF_OCCURRENCE": 2515,
         "PHOTOS_TAKEN_I": "nan",
         "STATEMENTS_TAKEN_I": "nan",
         "DOORING_I": "nan",
         "WORK_ZONE_I": "nan",
         "WORK_ZONE_TYPE": "nan",
         "WORKERS_PRESENT_I": "nan",
         "NUM_UNITS": 2,
         "MOST_SEVERE_INJURY": "NO INDICATION OF INJURY",
         "INJURIES_TOTAL": 0,
         "INJURIES_FATAL": 0,
         "INJURIES_INCAPACITATING": 0,
         "INJURIES_NON_INCAPACITATING": 0,
         "INJURIES_REPORTED_NOT_EVIDENT": 0,
         "INJURIES_NO_INDICATION": 3,
         "INJURIES_UNKNOWN": 0,
         "CRASH_HOUR": 19,
         "CRASH_DAY_OF_WEEK": 6,
         "CRASH_MONTH": 4,
         "LATITUDE": 41.917123854,
         "LONGITUDE": -87.757553371,
         "LOCATION": "POINT (-87.757553370935 41.917123853668)",
         "date_real": "2018-04-13",
         "_deepnote_index_column": 27954
        },
        {
         "Unnamed: 0": 145165,
         "CRASH_RECORD_ID": "443ddab0c701d268f65c05cc4d43691406cb1f7c4906d86744298c0bf78c49221c51c059cde32d67d2b2a5f03af2a9ab208…",
         "RD_NO": "HY460582",
         "CRASH_DATE_EST_I": "Y",
         "CRASH_DATE": "2015-10-11 13:00:00",
         "POSTED_SPEED_LIMIT": 30,
         "TRAFFIC_CONTROL_DEVICE": "NO CONTROLS",
         "DEVICE_CONDITION": "NO CONTROLS",
         "WEATHER_CONDITION": "CLEAR",
         "LIGHTING_CONDITION": "UNKNOWN",
         "FIRST_CRASH_TYPE": "PARKED MOTOR VEHICLE",
         "TRAFFICWAY_TYPE": "NOT DIVIDED",
         "LANE_CNT": 2,
         "ALIGNMENT": "STRAIGHT AND LEVEL",
         "ROADWAY_SURFACE_COND": "DRY",
         "ROAD_DEFECT": "NO DEFECTS",
         "REPORT_TYPE": "NOT ON SCENE (DESK REPORT)",
         "CRASH_TYPE": "NO INJURY / DRIVE AWAY",
         "INTERSECTION_RELATED_I": "nan",
         "NOT_RIGHT_OF_WAY_I": "nan",
         "HIT_AND_RUN_I": "nan",
         "DAMAGE": "$501 - $1,500",
         "DATE_POLICE_NOTIFIED": "10/13/2015 04:20:00 PM",
         "PRIM_CONTRIBUTORY_CAUSE": "UNABLE TO DETERMINE",
         "SEC_CONTRIBUTORY_CAUSE": "NOT APPLICABLE",
         "STREET_NO": 3627,
         "STREET_DIRECTION": "N",
         "STREET_NAME": "KEDVALE AVE",
         "BEAT_OF_OCCURRENCE": 1732,
         "PHOTOS_TAKEN_I": "nan",
         "STATEMENTS_TAKEN_I": "nan",
         "DOORING_I": "nan",
         "WORK_ZONE_I": "nan",
         "WORK_ZONE_TYPE": "nan",
         "WORKERS_PRESENT_I": "nan",
         "NUM_UNITS": 2,
         "MOST_SEVERE_INJURY": "NO INDICATION OF INJURY",
         "INJURIES_TOTAL": 0,
         "INJURIES_FATAL": 0,
         "INJURIES_INCAPACITATING": 0,
         "INJURIES_NON_INCAPACITATING": 0,
         "INJURIES_REPORTED_NOT_EVIDENT": 0,
         "INJURIES_NO_INDICATION": 1,
         "INJURIES_UNKNOWN": 0,
         "CRASH_HOUR": 13,
         "CRASH_DAY_OF_WEEK": 1,
         "CRASH_MONTH": 10,
         "LATITUDE": 41.947163998,
         "LONGITUDE": -87.73050972200001,
         "LOCATION": "POINT (-87.730509722027 41.947163998057)",
         "date_real": "2015-10-11",
         "_deepnote_index_column": 27955
        },
        {
         "Unnamed: 0": 260197,
         "CRASH_RECORD_ID": "8b8091d6e859b6e3d5b4945c48cc37f70cc5a0bb96cee5335c9762d13466c943cb8c92784748d5937a23837507f89d50b41…",
         "RD_NO": "JC358154",
         "CRASH_DATE_EST_I": "nan",
         "CRASH_DATE": "2019-07-21 09:40:00",
         "POSTED_SPEED_LIMIT": 20,
         "TRAFFIC_CONTROL_DEVICE": "NO CONTROLS",
         "DEVICE_CONDITION": "OTHER",
         "WEATHER_CONDITION": "RAIN",
         "LIGHTING_CONDITION": "DAYLIGHT",
         "FIRST_CRASH_TYPE": "OTHER OBJECT",
         "TRAFFICWAY_TYPE": "ALLEY",
         "LANE_CNT": "nan",
         "ALIGNMENT": "STRAIGHT AND LEVEL",
         "ROADWAY_SURFACE_COND": "WET",
         "ROAD_DEFECT": "UNKNOWN",
         "REPORT_TYPE": "ON SCENE",
         "CRASH_TYPE": "INJURY AND / OR TOW DUE TO CRASH",
         "INTERSECTION_RELATED_I": "nan",
         "NOT_RIGHT_OF_WAY_I": "Y",
         "HIT_AND_RUN_I": "Y",
         "DAMAGE": "$501 - $1,500",
         "DATE_POLICE_NOTIFIED": "07/21/2019 09:45:00 AM",
         "PRIM_CONTRIBUTORY_CAUSE": "UNABLE TO DETERMINE",
         "SEC_CONTRIBUTORY_CAUSE": "UNABLE TO DETERMINE",
         "STREET_NO": 7357,
         "STREET_DIRECTION": "N",
         "STREET_NAME": "ASHLAND BLVD",
         "BEAT_OF_OCCURRENCE": 2423,
         "PHOTOS_TAKEN_I": "nan",
         "STATEMENTS_TAKEN_I": "Y",
         "DOORING_I": "nan",
         "WORK_ZONE_I": "nan",
         "WORK_ZONE_TYPE": "nan",
         "WORKERS_PRESENT_I": "nan",
         "NUM_UNITS": 1,
         "MOST_SEVERE_INJURY": "NO INDICATION OF INJURY",
         "INJURIES_TOTAL": 0,
         "INJURIES_FATAL": 0,
         "INJURIES_INCAPACITATING": 0,
         "INJURIES_NON_INCAPACITATING": 0,
         "INJURIES_REPORTED_NOT_EVIDENT": 0,
         "INJURIES_NO_INDICATION": 4,
         "INJURIES_UNKNOWN": 0,
         "CRASH_HOUR": 9,
         "CRASH_DAY_OF_WEEK": 1,
         "CRASH_MONTH": 7,
         "LATITUDE": 42.01552405,
         "LONGITUDE": -87.670148619,
         "LOCATION": "POINT (-87.670148618764 42.015524050154)",
         "date_real": "2019-07-21",
         "_deepnote_index_column": 27956
        },
        {
         "Unnamed: 0": 287015,
         "CRASH_RECORD_ID": "9c4fd6d0e2aad82586cbfd9c324bd02e91bac1cab8a6d721a1d0815d19bc7be85eda6c0549aaef800fdc2d47554a8b600eb…",
         "RD_NO": "JB260573",
         "CRASH_DATE_EST_I": "nan",
         "CRASH_DATE": "2018-05-12 09:30:00",
         "POSTED_SPEED_LIMIT": 30,
         "TRAFFIC_CONTROL_DEVICE": "NO CONTROLS",
         "DEVICE_CONDITION": "NO CONTROLS",
         "WEATHER_CONDITION": "CLOUDY/OVERCAST",
         "LIGHTING_CONDITION": "DAYLIGHT",
         "FIRST_CRASH_TYPE": "REAR END",
         "TRAFFICWAY_TYPE": "NOT DIVIDED",
         "LANE_CNT": "nan",
         "ALIGNMENT": "STRAIGHT AND LEVEL",
         "ROADWAY_SURFACE_COND": "WET",
         "ROAD_DEFECT": "NO DEFECTS",
         "REPORT_TYPE": "NOT ON SCENE (DESK REPORT)",
         "CRASH_TYPE": "NO INJURY / DRIVE AWAY",
         "INTERSECTION_RELATED_I": "nan",
         "NOT_RIGHT_OF_WAY_I": "nan",
         "HIT_AND_RUN_I": "nan",
         "DAMAGE": "OVER $1,500",
         "DATE_POLICE_NOTIFIED": "05/12/2018 10:30:00 AM",
         "PRIM_CONTRIBUTORY_CAUSE": "FOLLOWING TOO CLOSELY",
         "SEC_CONTRIBUTORY_CAUSE": "NOT APPLICABLE",
         "STREET_NO": 837,
         "STREET_DIRECTION": "W",
         "STREET_NAME": "99TH ST",
         "BEAT_OF_OCCURRENCE": 2232,
         "PHOTOS_TAKEN_I": "nan",
         "STATEMENTS_TAKEN_I": "nan",
         "DOORING_I": "nan",
         "WORK_ZONE_I": "nan",
         "WORK_ZONE_TYPE": "nan",
         "WORKERS_PRESENT_I": "nan",
         "NUM_UNITS": 2,
         "MOST_SEVERE_INJURY": "NO INDICATION OF INJURY",
         "INJURIES_TOTAL": 0,
         "INJURIES_FATAL": 0,
         "INJURIES_INCAPACITATING": 0,
         "INJURIES_NON_INCAPACITATING": 0,
         "INJURIES_REPORTED_NOT_EVIDENT": 0,
         "INJURIES_NO_INDICATION": 2,
         "INJURIES_UNKNOWN": 0,
         "CRASH_HOUR": 9,
         "CRASH_DAY_OF_WEEK": 7,
         "CRASH_MONTH": 5,
         "LATITUDE": 41.714086293,
         "LONGITUDE": -87.644470095,
         "LOCATION": "POINT (-87.644470094837 41.714086293399)",
         "date_real": "2018-05-12",
         "_deepnote_index_column": 27957
        },
        {
         "Unnamed: 0": 45454,
         "CRASH_RECORD_ID": "06a7b3fd12824e33a1e60c1e153da14eff3b4fdcf2974b6f23e8631a9596d068047992f400052b5eee4d80bcdc3814a68fe…",
         "RD_NO": "JB470083",
         "CRASH_DATE_EST_I": "nan",
         "CRASH_DATE": "2018-10-10 13:25:00",
         "POSTED_SPEED_LIMIT": 30,
         "TRAFFIC_CONTROL_DEVICE": "STOP SIGN/FLASHER",
         "DEVICE_CONDITION": "FUNCTIONING PROPERLY",
         "WEATHER_CONDITION": "RAIN",
         "LIGHTING_CONDITION": "DAYLIGHT",
         "FIRST_CRASH_TYPE": "PEDESTRIAN",
         "TRAFFICWAY_TYPE": "DIVIDED - W/MEDIAN (NOT RAISED)",
         "LANE_CNT": "nan",
         "ALIGNMENT": "STRAIGHT AND LEVEL",
         "ROADWAY_SURFACE_COND": "WET",
         "ROAD_DEFECT": "NO DEFECTS",
         "REPORT_TYPE": "ON SCENE",
         "CRASH_TYPE": "INJURY AND / OR TOW DUE TO CRASH",
         "INTERSECTION_RELATED_I": "nan",
         "NOT_RIGHT_OF_WAY_I": "nan",
         "HIT_AND_RUN_I": "nan",
         "DAMAGE": "$501 - $1,500",
         "DATE_POLICE_NOTIFIED": "10/10/2018 01:28:00 PM",
         "PRIM_CONTRIBUTORY_CAUSE": "FAILING TO YIELD RIGHT-OF-WAY",
         "SEC_CONTRIBUTORY_CAUSE": "NOT APPLICABLE",
         "STREET_NO": 2332,
         "STREET_DIRECTION": "W",
         "STREET_NAME": "69TH ST",
         "BEAT_OF_OCCURRENCE": 832,
         "PHOTOS_TAKEN_I": "nan",
         "STATEMENTS_TAKEN_I": "nan",
         "DOORING_I": "nan",
         "WORK_ZONE_I": "nan",
         "WORK_ZONE_TYPE": "nan",
         "WORKERS_PRESENT_I": "nan",
         "NUM_UNITS": 2,
         "MOST_SEVERE_INJURY": "NONINCAPACITATING INJURY",
         "INJURIES_TOTAL": 1,
         "INJURIES_FATAL": 0,
         "INJURIES_INCAPACITATING": 0,
         "INJURIES_NON_INCAPACITATING": 1,
         "INJURIES_REPORTED_NOT_EVIDENT": 0,
         "INJURIES_NO_INDICATION": 1,
         "INJURIES_UNKNOWN": 0,
         "CRASH_HOUR": 13,
         "CRASH_DAY_OF_WEEK": 4,
         "CRASH_MONTH": 10,
         "LATITUDE": 41.768457639,
         "LONGITUDE": -87.682094956,
         "LOCATION": "POINT (-87.682094956182 41.768457638793)",
         "date_real": "2018-10-10",
         "_deepnote_index_column": 27958
        },
        {
         "Unnamed: 0": 278265,
         "CRASH_RECORD_ID": "96dcaa7c132e400472e55cf6a22d2805e7ef9ea2b24183e41f23e86356ec720894ae2bdebef3cd14c79c2afbc111a159115…",
         "RD_NO": "JC246583",
         "CRASH_DATE_EST_I": "nan",
         "CRASH_DATE": "2019-05-02 09:45:00",
         "POSTED_SPEED_LIMIT": 30,
         "TRAFFIC_CONTROL_DEVICE": "TRAFFIC SIGNAL",
         "DEVICE_CONDITION": "FUNCTIONING PROPERLY",
         "WEATHER_CONDITION": "RAIN",
         "LIGHTING_CONDITION": "DAYLIGHT",
         "FIRST_CRASH_TYPE": "REAR END",
         "TRAFFICWAY_TYPE": "NOT DIVIDED",
         "LANE_CNT": "nan",
         "ALIGNMENT": "STRAIGHT AND LEVEL",
         "ROADWAY_SURFACE_COND": "WET",
         "ROAD_DEFECT": "NO DEFECTS",
         "REPORT_TYPE": "NOT ON SCENE (DESK REPORT)",
         "CRASH_TYPE": "NO INJURY / DRIVE AWAY",
         "INTERSECTION_RELATED_I": "nan",
         "NOT_RIGHT_OF_WAY_I": "nan",
         "HIT_AND_RUN_I": "nan",
         "DAMAGE": "$501 - $1,500",
         "DATE_POLICE_NOTIFIED": "05/02/2019 11:25:00 AM",
         "PRIM_CONTRIBUTORY_CAUSE": "DISTRACTION - FROM OUTSIDE VEHICLE",
         "SEC_CONTRIBUTORY_CAUSE": "UNABLE TO DETERMINE",
         "STREET_NO": 3958,
         "STREET_DIRECTION": "W",
         "STREET_NAME": "111TH ST",
         "BEAT_OF_OCCURRENCE": 2211,
         "PHOTOS_TAKEN_I": "nan",
         "STATEMENTS_TAKEN_I": "nan",
         "DOORING_I": "nan",
         "WORK_ZONE_I": "nan",
         "WORK_ZONE_TYPE": "nan",
         "WORKERS_PRESENT_I": "nan",
         "NUM_UNITS": 2,
         "MOST_SEVERE_INJURY": "NO INDICATION OF INJURY",
         "INJURIES_TOTAL": 0,
         "INJURIES_FATAL": 0,
         "INJURIES_INCAPACITATING": 0,
         "INJURIES_NON_INCAPACITATING": 0,
         "INJURIES_REPORTED_NOT_EVIDENT": 0,
         "INJURIES_NO_INDICATION": 2,
         "INJURIES_UNKNOWN": 0,
         "CRASH_HOUR": 9,
         "CRASH_DAY_OF_WEEK": 5,
         "CRASH_MONTH": 5,
         "LATITUDE": 41.691384556,
         "LONGITUDE": -87.720231719,
         "LOCATION": "POINT (-87.720231718762 41.691384555796)",
         "date_real": "2019-05-02",
         "_deepnote_index_column": 27959
        },
        {
         "Unnamed: 0": 351224,
         "CRASH_RECORD_ID": "c40cfbdecdb69787d725adbf4c6bf3ce4d937631c0624de905f40c2abeececaad9aad4d84bdeef8c75c14fb14fd98c677ef…",
         "RD_NO": "JA382962",
         "CRASH_DATE_EST_I": "Y",
         "CRASH_DATE": "2017-08-08 10:00:00",
         "POSTED_SPEED_LIMIT": 15,
         "TRAFFIC_CONTROL_DEVICE": "NO CONTROLS",
         "DEVICE_CONDITION": "NO CONTROLS",
         "WEATHER_CONDITION": "CLEAR",
         "LIGHTING_CONDITION": "UNKNOWN",
         "FIRST_CRASH_TYPE": "PARKED MOTOR VEHICLE",
         "TRAFFICWAY_TYPE": "OTHER",
         "LANE_CNT": 1,
         "ALIGNMENT": "STRAIGHT AND LEVEL",
         "ROADWAY_SURFACE_COND": "DRY",
         "ROAD_DEFECT": "NO DEFECTS",
         "REPORT_TYPE": "NOT ON SCENE (DESK REPORT)",
         "CRASH_TYPE": "NO INJURY / DRIVE AWAY",
         "INTERSECTION_RELATED_I": "nan",
         "NOT_RIGHT_OF_WAY_I": "nan",
         "HIT_AND_RUN_I": "Y",
         "DAMAGE": "$500 OR LESS",
         "DATE_POLICE_NOTIFIED": "08/08/2017 04:45:00 PM",
         "PRIM_CONTRIBUTORY_CAUSE": "FAILING TO YIELD RIGHT-OF-WAY",
         "SEC_CONTRIBUTORY_CAUSE": "UNABLE TO DETERMINE",
         "STREET_NO": 4020,
         "STREET_DIRECTION": "S",
         "STREET_NAME": "WABASH AVE",
         "BEAT_OF_OCCURRENCE": 213,
         "PHOTOS_TAKEN_I": "nan",
         "STATEMENTS_TAKEN_I": "nan",
         "DOORING_I": "nan",
         "WORK_ZONE_I": "nan",
         "WORK_ZONE_TYPE": "nan",
         "WORKERS_PRESENT_I": "nan",
         "NUM_UNITS": 2,
         "MOST_SEVERE_INJURY": "NO INDICATION OF INJURY",
         "INJURIES_TOTAL": 0,
         "INJURIES_FATAL": 0,
         "INJURIES_INCAPACITATING": 0,
         "INJURIES_NON_INCAPACITATING": 0,
         "INJURIES_REPORTED_NOT_EVIDENT": 0,
         "INJURIES_NO_INDICATION": 1,
         "INJURIES_UNKNOWN": 0,
         "CRASH_HOUR": 10,
         "CRASH_DAY_OF_WEEK": 3,
         "CRASH_MONTH": 8,
         "LATITUDE": 41.821303996,
         "LONGITUDE": -87.624922436,
         "LOCATION": "POINT (-87.624922436047 41.821303995837)",
         "date_real": "2017-08-08",
         "_deepnote_index_column": 27960
        }
       ]
      },
      "text/plain": "       Unnamed: 0                                    CRASH_RECORD_ID  \\\n0          290702  9e97e92753166de921a0e87199513aa841142c6fbb3a1e...   \n1          405524  e5fe82ab7757d630a7f79927113bc63b5bede0cda74665...   \n2          261834  8c8ea6db9e1950765419429e2732ba5598fc6f87ac9e0c...   \n3           38519  02671b7d36a9d189d607778816fec23bbb2e5ac3cd3039...   \n4          420197  ef1b1d450f65c6d16245dffdd3304d93b8be7d7bbf47f3...   \n...           ...                                                ...   \n27956      260197  8b8091d6e859b6e3d5b4945c48cc37f70cc5a0bb96cee5...   \n27957      287015  9c4fd6d0e2aad82586cbfd9c324bd02e91bac1cab8a6d7...   \n27958       45454  06a7b3fd12824e33a1e60c1e153da14eff3b4fdcf2974b...   \n27959      278265  96dcaa7c132e400472e55cf6a22d2805e7ef9ea2b24183...   \n27960      351224  c40cfbdecdb69787d725adbf4c6bf3ce4d937631c0624d...   \n\n          RD_NO CRASH_DATE_EST_I           CRASH_DATE  POSTED_SPEED_LIMIT  \\\n0      JA154528              NaN  2017-02-14 10:00:00                  30   \n1      JC391213              NaN  2019-08-13 19:12:00                  35   \n2      JC273287              NaN  2019-05-22 08:30:00                  25   \n3      JA307115              NaN  2017-06-14 16:50:00                   0   \n4      JB247942              NaN  2018-05-03 08:35:00                  30   \n...         ...              ...                  ...                 ...   \n27956  JC358154              NaN  2019-07-21 09:40:00                  20   \n27957  JB260573              NaN  2018-05-12 09:30:00                  30   \n27958  JB470083              NaN  2018-10-10 13:25:00                  30   \n27959  JC246583              NaN  2019-05-02 09:45:00                  30   \n27960  JA382962                Y  2017-08-08 10:00:00                  15   \n\n      TRAFFIC_CONTROL_DEVICE      DEVICE_CONDITION WEATHER_CONDITION  \\\n0                NO CONTROLS           NO CONTROLS             CLEAR   \n1             TRAFFIC SIGNAL  FUNCTIONING PROPERLY             CLEAR   \n2          STOP SIGN/FLASHER  FUNCTIONING PROPERLY              RAIN   \n3                    UNKNOWN               UNKNOWN           UNKNOWN   \n4                NO CONTROLS           NO CONTROLS              RAIN   \n...                      ...                   ...               ...   \n27956            NO CONTROLS                 OTHER              RAIN   \n27957            NO CONTROLS           NO CONTROLS   CLOUDY/OVERCAST   \n27958      STOP SIGN/FLASHER  FUNCTIONING PROPERLY              RAIN   \n27959         TRAFFIC SIGNAL  FUNCTIONING PROPERLY              RAIN   \n27960            NO CONTROLS           NO CONTROLS             CLEAR   \n\n      LIGHTING_CONDITION  ... INJURIES_REPORTED_NOT_EVIDENT  \\\n0               DAYLIGHT  ...                           0.0   \n1               DAYLIGHT  ...                           0.0   \n2               DAYLIGHT  ...                           0.0   \n3                UNKNOWN  ...                           0.0   \n4               DAYLIGHT  ...                           0.0   \n...                  ...  ...                           ...   \n27956           DAYLIGHT  ...                           0.0   \n27957           DAYLIGHT  ...                           0.0   \n27958           DAYLIGHT  ...                           0.0   \n27959           DAYLIGHT  ...                           0.0   \n27960            UNKNOWN  ...                           0.0   \n\n      INJURIES_NO_INDICATION  INJURIES_UNKNOWN CRASH_HOUR CRASH_DAY_OF_WEEK  \\\n0                        1.0               0.0         10                 3   \n1                        8.0               0.0         19                 3   \n2                        2.0               0.0          8                 4   \n3                        2.0               0.0         16                 4   \n4                        2.0               0.0          8                 5   \n...                      ...               ...        ...               ...   \n27956                    4.0               0.0          9                 1   \n27957                    2.0               0.0          9                 7   \n27958                    1.0               0.0         13                 4   \n27959                    2.0               0.0          9                 5   \n27960                    1.0               0.0         10                 3   \n\n      CRASH_MONTH   LATITUDE  LONGITUDE  \\\n0               2  42.001676 -87.666364   \n1               8  41.940041 -87.650923   \n2               5  41.955854 -87.710645   \n3               6  41.863734 -87.676313   \n4               5  41.851794 -87.695223   \n...           ...        ...        ...   \n27956           7  42.015524 -87.670149   \n27957           5  41.714086 -87.644470   \n27958          10  41.768458 -87.682095   \n27959           5  41.691385 -87.720232   \n27960           8  41.821304 -87.624922   \n\n                                       LOCATION   date_real  \n0      POINT (-87.666364005301 42.001675862416)  2017-02-14  \n1      POINT (-87.650923222567 41.940040917032)  2019-08-13  \n2      POINT (-87.710644534923 41.955853610383)  2019-05-22  \n3      POINT (-87.676312689993 41.863734390899)  2017-06-14  \n4      POINT (-87.695223114296 41.851794251516)  2018-05-03  \n...                                         ...         ...  \n27956  POINT (-87.670148618764 42.015524050154)  2019-07-21  \n27957  POINT (-87.644470094837 41.714086293399)  2018-05-12  \n27958  POINT (-87.682094956182 41.768457638793)  2018-10-10  \n27959  POINT (-87.720231718762 41.691384555796)  2019-05-02  \n27960  POINT (-87.624922436047 41.821303995837)  2017-08-08  \n\n[27961 rows x 51 columns]",
      "text/html": "<div>\n<style scoped>\n    .dataframe tbody tr th:only-of-type {\n        vertical-align: middle;\n    }\n\n    .dataframe tbody tr th {\n        vertical-align: top;\n    }\n\n    .dataframe thead th {\n        text-align: right;\n    }\n</style>\n<table border=\"1\" class=\"dataframe\">\n  <thead>\n    <tr style=\"text-align: right;\">\n      <th></th>\n      <th>Unnamed: 0</th>\n      <th>CRASH_RECORD_ID</th>\n      <th>RD_NO</th>\n      <th>CRASH_DATE_EST_I</th>\n      <th>CRASH_DATE</th>\n      <th>POSTED_SPEED_LIMIT</th>\n      <th>TRAFFIC_CONTROL_DEVICE</th>\n      <th>DEVICE_CONDITION</th>\n      <th>WEATHER_CONDITION</th>\n      <th>LIGHTING_CONDITION</th>\n      <th>...</th>\n      <th>INJURIES_REPORTED_NOT_EVIDENT</th>\n      <th>INJURIES_NO_INDICATION</th>\n      <th>INJURIES_UNKNOWN</th>\n      <th>CRASH_HOUR</th>\n      <th>CRASH_DAY_OF_WEEK</th>\n      <th>CRASH_MONTH</th>\n      <th>LATITUDE</th>\n      <th>LONGITUDE</th>\n      <th>LOCATION</th>\n      <th>date_real</th>\n    </tr>\n  </thead>\n  <tbody>\n    <tr>\n      <th>0</th>\n      <td>290702</td>\n      <td>9e97e92753166de921a0e87199513aa841142c6fbb3a1e...</td>\n      <td>JA154528</td>\n      <td>NaN</td>\n      <td>2017-02-14 10:00:00</td>\n      <td>30</td>\n      <td>NO CONTROLS</td>\n      <td>NO CONTROLS</td>\n      <td>CLEAR</td>\n      <td>DAYLIGHT</td>\n      <td>...</td>\n      <td>0.0</td>\n      <td>1.0</td>\n      <td>0.0</td>\n      <td>10</td>\n      <td>3</td>\n      <td>2</td>\n      <td>42.001676</td>\n      <td>-87.666364</td>\n      <td>POINT (-87.666364005301 42.001675862416)</td>\n      <td>2017-02-14</td>\n    </tr>\n    <tr>\n      <th>1</th>\n      <td>405524</td>\n      <td>e5fe82ab7757d630a7f79927113bc63b5bede0cda74665...</td>\n      <td>JC391213</td>\n      <td>NaN</td>\n      <td>2019-08-13 19:12:00</td>\n      <td>35</td>\n      <td>TRAFFIC SIGNAL</td>\n      <td>FUNCTIONING PROPERLY</td>\n      <td>CLEAR</td>\n      <td>DAYLIGHT</td>\n      <td>...</td>\n      <td>0.0</td>\n      <td>8.0</td>\n      <td>0.0</td>\n      <td>19</td>\n      <td>3</td>\n      <td>8</td>\n      <td>41.940041</td>\n      <td>-87.650923</td>\n      <td>POINT (-87.650923222567 41.940040917032)</td>\n      <td>2019-08-13</td>\n    </tr>\n    <tr>\n      <th>2</th>\n      <td>261834</td>\n      <td>8c8ea6db9e1950765419429e2732ba5598fc6f87ac9e0c...</td>\n      <td>JC273287</td>\n      <td>NaN</td>\n      <td>2019-05-22 08:30:00</td>\n      <td>25</td>\n      <td>STOP SIGN/FLASHER</td>\n      <td>FUNCTIONING PROPERLY</td>\n      <td>RAIN</td>\n      <td>DAYLIGHT</td>\n      <td>...</td>\n      <td>0.0</td>\n      <td>2.0</td>\n      <td>0.0</td>\n      <td>8</td>\n      <td>4</td>\n      <td>5</td>\n      <td>41.955854</td>\n      <td>-87.710645</td>\n      <td>POINT (-87.710644534923 41.955853610383)</td>\n      <td>2019-05-22</td>\n    </tr>\n    <tr>\n      <th>3</th>\n      <td>38519</td>\n      <td>02671b7d36a9d189d607778816fec23bbb2e5ac3cd3039...</td>\n      <td>JA307115</td>\n      <td>NaN</td>\n      <td>2017-06-14 16:50:00</td>\n      <td>0</td>\n      <td>UNKNOWN</td>\n      <td>UNKNOWN</td>\n      <td>UNKNOWN</td>\n      <td>UNKNOWN</td>\n      <td>...</td>\n      <td>0.0</td>\n      <td>2.0</td>\n      <td>0.0</td>\n      <td>16</td>\n      <td>4</td>\n      <td>6</td>\n      <td>41.863734</td>\n      <td>-87.676313</td>\n      <td>POINT (-87.676312689993 41.863734390899)</td>\n      <td>2017-06-14</td>\n    </tr>\n    <tr>\n      <th>4</th>\n      <td>420197</td>\n      <td>ef1b1d450f65c6d16245dffdd3304d93b8be7d7bbf47f3...</td>\n      <td>JB247942</td>\n      <td>NaN</td>\n      <td>2018-05-03 08:35:00</td>\n      <td>30</td>\n      <td>NO CONTROLS</td>\n      <td>NO CONTROLS</td>\n      <td>RAIN</td>\n      <td>DAYLIGHT</td>\n      <td>...</td>\n      <td>0.0</td>\n      <td>2.0</td>\n      <td>0.0</td>\n      <td>8</td>\n      <td>5</td>\n      <td>5</td>\n      <td>41.851794</td>\n      <td>-87.695223</td>\n      <td>POINT (-87.695223114296 41.851794251516)</td>\n      <td>2018-05-03</td>\n    </tr>\n    <tr>\n      <th>...</th>\n      <td>...</td>\n      <td>...</td>\n      <td>...</td>\n      <td>...</td>\n      <td>...</td>\n      <td>...</td>\n      <td>...</td>\n      <td>...</td>\n      <td>...</td>\n      <td>...</td>\n      <td>...</td>\n      <td>...</td>\n      <td>...</td>\n      <td>...</td>\n      <td>...</td>\n      <td>...</td>\n      <td>...</td>\n      <td>...</td>\n      <td>...</td>\n      <td>...</td>\n      <td>...</td>\n    </tr>\n    <tr>\n      <th>27956</th>\n      <td>260197</td>\n      <td>8b8091d6e859b6e3d5b4945c48cc37f70cc5a0bb96cee5...</td>\n      <td>JC358154</td>\n      <td>NaN</td>\n      <td>2019-07-21 09:40:00</td>\n      <td>20</td>\n      <td>NO CONTROLS</td>\n      <td>OTHER</td>\n      <td>RAIN</td>\n      <td>DAYLIGHT</td>\n      <td>...</td>\n      <td>0.0</td>\n      <td>4.0</td>\n      <td>0.0</td>\n      <td>9</td>\n      <td>1</td>\n      <td>7</td>\n      <td>42.015524</td>\n      <td>-87.670149</td>\n      <td>POINT (-87.670148618764 42.015524050154)</td>\n      <td>2019-07-21</td>\n    </tr>\n    <tr>\n      <th>27957</th>\n      <td>287015</td>\n      <td>9c4fd6d0e2aad82586cbfd9c324bd02e91bac1cab8a6d7...</td>\n      <td>JB260573</td>\n      <td>NaN</td>\n      <td>2018-05-12 09:30:00</td>\n      <td>30</td>\n      <td>NO CONTROLS</td>\n      <td>NO CONTROLS</td>\n      <td>CLOUDY/OVERCAST</td>\n      <td>DAYLIGHT</td>\n      <td>...</td>\n      <td>0.0</td>\n      <td>2.0</td>\n      <td>0.0</td>\n      <td>9</td>\n      <td>7</td>\n      <td>5</td>\n      <td>41.714086</td>\n      <td>-87.644470</td>\n      <td>POINT (-87.644470094837 41.714086293399)</td>\n      <td>2018-05-12</td>\n    </tr>\n    <tr>\n      <th>27958</th>\n      <td>45454</td>\n      <td>06a7b3fd12824e33a1e60c1e153da14eff3b4fdcf2974b...</td>\n      <td>JB470083</td>\n      <td>NaN</td>\n      <td>2018-10-10 13:25:00</td>\n      <td>30</td>\n      <td>STOP SIGN/FLASHER</td>\n      <td>FUNCTIONING PROPERLY</td>\n      <td>RAIN</td>\n      <td>DAYLIGHT</td>\n      <td>...</td>\n      <td>0.0</td>\n      <td>1.0</td>\n      <td>0.0</td>\n      <td>13</td>\n      <td>4</td>\n      <td>10</td>\n      <td>41.768458</td>\n      <td>-87.682095</td>\n      <td>POINT (-87.682094956182 41.768457638793)</td>\n      <td>2018-10-10</td>\n    </tr>\n    <tr>\n      <th>27959</th>\n      <td>278265</td>\n      <td>96dcaa7c132e400472e55cf6a22d2805e7ef9ea2b24183...</td>\n      <td>JC246583</td>\n      <td>NaN</td>\n      <td>2019-05-02 09:45:00</td>\n      <td>30</td>\n      <td>TRAFFIC SIGNAL</td>\n      <td>FUNCTIONING PROPERLY</td>\n      <td>RAIN</td>\n      <td>DAYLIGHT</td>\n      <td>...</td>\n      <td>0.0</td>\n      <td>2.0</td>\n      <td>0.0</td>\n      <td>9</td>\n      <td>5</td>\n      <td>5</td>\n      <td>41.691385</td>\n      <td>-87.720232</td>\n      <td>POINT (-87.720231718762 41.691384555796)</td>\n      <td>2019-05-02</td>\n    </tr>\n    <tr>\n      <th>27960</th>\n      <td>351224</td>\n      <td>c40cfbdecdb69787d725adbf4c6bf3ce4d937631c0624d...</td>\n      <td>JA382962</td>\n      <td>Y</td>\n      <td>2017-08-08 10:00:00</td>\n      <td>15</td>\n      <td>NO CONTROLS</td>\n      <td>NO CONTROLS</td>\n      <td>CLEAR</td>\n      <td>UNKNOWN</td>\n      <td>...</td>\n      <td>0.0</td>\n      <td>1.0</td>\n      <td>0.0</td>\n      <td>10</td>\n      <td>3</td>\n      <td>8</td>\n      <td>41.821304</td>\n      <td>-87.624922</td>\n      <td>POINT (-87.624922436047 41.821303995837)</td>\n      <td>2017-08-08</td>\n    </tr>\n  </tbody>\n</table>\n<p>27961 rows × 51 columns</p>\n</div>"
     },
     "metadata": {}
    }
   ],
   "execution_count": 1
  },
  {
   "cell_type": "markdown",
   "source": "## Group by",
   "metadata": {
    "tags": [],
    "cell_id": "00002-cfff9cb0-8c9b-4ee6-9b59-2f152e5ef851",
    "deepnote_cell_type": "markdown"
   }
  },
  {
   "cell_type": "code",
   "source": "df['CRASH_DATE'] = df['CRASH_DATE'].apply(lambda x: pd.to_datetime(x,errors='coerce', utc=True))\ndf.groupby(['LIGHTING_CONDITION','REPORT_TYPE','CRASH_HOUR']).agg({'BEAT_OF_OCCURRENCE':'sum',})",
   "metadata": {
    "tags": [],
    "cell_id": "00002-bc43edc8-e83d-4f82-8b35-0a3ee30d7db8",
    "deepnote_to_be_reexecuted": false,
    "source_hash": "39411bbb",
    "execution_start": 1635526171642,
    "execution_millis": 7327,
    "deepnote_cell_type": "code"
   },
   "outputs": [
    {
     "output_type": "execute_result",
     "execution_count": 3,
     "data": {
      "application/vnd.deepnote.dataframe.v2+json": {
       "row_count": 291,
       "column_count": 1,
       "columns": [
        {
         "name": "BEAT_OF_OCCURRENCE",
         "dtype": "float64",
         "stats": {
          "unique_count": 288,
          "nan_count": 0,
          "min": "114.0",
          "max": "1623055.0",
          "histogram": [
           {
            "bin_start": 114,
            "bin_end": 162408.1,
            "count": 245
           },
           {
            "bin_start": 162408.1,
            "bin_end": 324702.2,
            "count": 13
           },
           {
            "bin_start": 324702.2,
            "bin_end": 486996.30000000005,
            "count": 10
           },
           {
            "bin_start": 486996.30000000005,
            "bin_end": 649290.4,
            "count": 5
           },
           {
            "bin_start": 649290.4,
            "bin_end": 811584.5,
            "count": 7
           },
           {
            "bin_start": 811584.5,
            "bin_end": 973878.6000000001,
            "count": 4
           },
           {
            "bin_start": 973878.6000000001,
            "bin_end": 1136172.7,
            "count": 2
           },
           {
            "bin_start": 1136172.7,
            "bin_end": 1298466.8,
            "count": 1
           },
           {
            "bin_start": 1298466.8,
            "bin_end": 1460760.9000000001,
            "count": 3
           },
           {
            "bin_start": 1460760.9000000001,
            "bin_end": 1623055,
            "count": 1
           }
          ]
         }
        },
        {
         "name": "_deepnote_index_column",
         "dtype": "object"
        }
       ],
       "rows_top": [
        {
         "BEAT_OF_OCCURRENCE": 1614,
         "_deepnote_index_column": "('DARKNESS', 'AMENDED', 20)"
        },
        {
         "BEAT_OF_OCCURRENCE": 64739,
         "_deepnote_index_column": "('DARKNESS', 'NOT ON SCENE (DESK REPORT)', 0)"
        },
        {
         "BEAT_OF_OCCURRENCE": 60086,
         "_deepnote_index_column": "('DARKNESS', 'NOT ON SCENE (DESK REPORT)', 1)"
        },
        {
         "BEAT_OF_OCCURRENCE": 36251,
         "_deepnote_index_column": "('DARKNESS', 'NOT ON SCENE (DESK REPORT)', 2)"
        },
        {
         "BEAT_OF_OCCURRENCE": 39172,
         "_deepnote_index_column": "('DARKNESS', 'NOT ON SCENE (DESK REPORT)', 3)"
        },
        {
         "BEAT_OF_OCCURRENCE": 33159,
         "_deepnote_index_column": "('DARKNESS', 'NOT ON SCENE (DESK REPORT)', 4)"
        },
        {
         "BEAT_OF_OCCURRENCE": 20983,
         "_deepnote_index_column": "('DARKNESS', 'NOT ON SCENE (DESK REPORT)', 5)"
        },
        {
         "BEAT_OF_OCCURRENCE": 14994,
         "_deepnote_index_column": "('DARKNESS', 'NOT ON SCENE (DESK REPORT)', 6)"
        },
        {
         "BEAT_OF_OCCURRENCE": 9421,
         "_deepnote_index_column": "('DARKNESS', 'NOT ON SCENE (DESK REPORT)', 7)"
        },
        {
         "BEAT_OF_OCCURRENCE": 1632,
         "_deepnote_index_column": "('DARKNESS', 'NOT ON SCENE (DESK REPORT)', 8)"
        },
        {
         "BEAT_OF_OCCURRENCE": 6211,
         "_deepnote_index_column": "('DARKNESS', 'NOT ON SCENE (DESK REPORT)', 9)"
        },
        {
         "BEAT_OF_OCCURRENCE": 4829,
         "_deepnote_index_column": "('DARKNESS', 'NOT ON SCENE (DESK REPORT)', 10)"
        },
        {
         "BEAT_OF_OCCURRENCE": 114,
         "_deepnote_index_column": "('DARKNESS', 'NOT ON SCENE (DESK REPORT)', 11)"
        },
        {
         "BEAT_OF_OCCURRENCE": 1043,
         "_deepnote_index_column": "('DARKNESS', 'NOT ON SCENE (DESK REPORT)', 12)"
        },
        {
         "BEAT_OF_OCCURRENCE": 5396,
         "_deepnote_index_column": "('DARKNESS', 'NOT ON SCENE (DESK REPORT)', 14)"
        },
        {
         "BEAT_OF_OCCURRENCE": 9654,
         "_deepnote_index_column": "('DARKNESS', 'NOT ON SCENE (DESK REPORT)', 15)"
        },
        {
         "BEAT_OF_OCCURRENCE": 21070,
         "_deepnote_index_column": "('DARKNESS', 'NOT ON SCENE (DESK REPORT)', 16)"
        },
        {
         "BEAT_OF_OCCURRENCE": 110326,
         "_deepnote_index_column": "('DARKNESS', 'NOT ON SCENE (DESK REPORT)', 17)"
        },
        {
         "BEAT_OF_OCCURRENCE": 130400,
         "_deepnote_index_column": "('DARKNESS', 'NOT ON SCENE (DESK REPORT)', 18)"
        },
        {
         "BEAT_OF_OCCURRENCE": 128198,
         "_deepnote_index_column": "('DARKNESS', 'NOT ON SCENE (DESK REPORT)', 19)"
        },
        {
         "BEAT_OF_OCCURRENCE": 113076,
         "_deepnote_index_column": "('DARKNESS', 'NOT ON SCENE (DESK REPORT)', 20)"
        },
        {
         "BEAT_OF_OCCURRENCE": 110211,
         "_deepnote_index_column": "('DARKNESS', 'NOT ON SCENE (DESK REPORT)', 21)"
        },
        {
         "BEAT_OF_OCCURRENCE": 93176,
         "_deepnote_index_column": "('DARKNESS', 'NOT ON SCENE (DESK REPORT)', 22)"
        },
        {
         "BEAT_OF_OCCURRENCE": 77841,
         "_deepnote_index_column": "('DARKNESS', 'NOT ON SCENE (DESK REPORT)', 23)"
        },
        {
         "BEAT_OF_OCCURRENCE": 33487,
         "_deepnote_index_column": "('DARKNESS', 'ON SCENE', 0)"
        },
        {
         "BEAT_OF_OCCURRENCE": 32373,
         "_deepnote_index_column": "('DARKNESS', 'ON SCENE', 1)"
        },
        {
         "BEAT_OF_OCCURRENCE": 36158,
         "_deepnote_index_column": "('DARKNESS', 'ON SCENE', 2)"
        },
        {
         "BEAT_OF_OCCURRENCE": 29331,
         "_deepnote_index_column": "('DARKNESS', 'ON SCENE', 3)"
        },
        {
         "BEAT_OF_OCCURRENCE": 44962,
         "_deepnote_index_column": "('DARKNESS', 'ON SCENE', 4)"
        },
        {
         "BEAT_OF_OCCURRENCE": 14901,
         "_deepnote_index_column": "('DARKNESS', 'ON SCENE', 5)"
        },
        {
         "BEAT_OF_OCCURRENCE": 11009,
         "_deepnote_index_column": "('DARKNESS', 'ON SCENE', 6)"
        },
        {
         "BEAT_OF_OCCURRENCE": 3357,
         "_deepnote_index_column": "('DARKNESS', 'ON SCENE', 7)"
        },
        {
         "BEAT_OF_OCCURRENCE": 2012,
         "_deepnote_index_column": "('DARKNESS', 'ON SCENE', 9)"
        },
        {
         "BEAT_OF_OCCURRENCE": 631,
         "_deepnote_index_column": "('DARKNESS', 'ON SCENE', 11)"
        },
        {
         "BEAT_OF_OCCURRENCE": 1221,
         "_deepnote_index_column": "('DARKNESS', 'ON SCENE', 12)"
        },
        {
         "BEAT_OF_OCCURRENCE": 1611,
         "_deepnote_index_column": "('DARKNESS', 'ON SCENE', 14)"
        },
        {
         "BEAT_OF_OCCURRENCE": 2453,
         "_deepnote_index_column": "('DARKNESS', 'ON SCENE', 15)"
        },
        {
         "BEAT_OF_OCCURRENCE": 11478,
         "_deepnote_index_column": "('DARKNESS', 'ON SCENE', 16)"
        },
        {
         "BEAT_OF_OCCURRENCE": 33642,
         "_deepnote_index_column": "('DARKNESS', 'ON SCENE', 17)"
        },
        {
         "BEAT_OF_OCCURRENCE": 61122,
         "_deepnote_index_column": "('DARKNESS', 'ON SCENE', 18)"
        },
        {
         "BEAT_OF_OCCURRENCE": 61944,
         "_deepnote_index_column": "('DARKNESS', 'ON SCENE', 19)"
        },
        {
         "BEAT_OF_OCCURRENCE": 77402,
         "_deepnote_index_column": "('DARKNESS', 'ON SCENE', 20)"
        },
        {
         "BEAT_OF_OCCURRENCE": 54110,
         "_deepnote_index_column": "('DARKNESS', 'ON SCENE', 21)"
        },
        {
         "BEAT_OF_OCCURRENCE": 40332,
         "_deepnote_index_column": "('DARKNESS', 'ON SCENE', 22)"
        },
        {
         "BEAT_OF_OCCURRENCE": 41373,
         "_deepnote_index_column": "('DARKNESS', 'ON SCENE', 23)"
        },
        {
         "BEAT_OF_OCCURRENCE": 614,
         "_deepnote_index_column": "('DARKNESS, LIGHTED ROAD', 'AMENDED', 21)"
        },
        {
         "BEAT_OF_OCCURRENCE": 322,
         "_deepnote_index_column": "('DARKNESS, LIGHTED ROAD', 'AMENDED', 22)"
        },
        {
         "BEAT_OF_OCCURRENCE": 1832,
         "_deepnote_index_column": "('DARKNESS, LIGHTED ROAD', 'AMENDED', 23)"
        },
        {
         "BEAT_OF_OCCURRENCE": 178057,
         "_deepnote_index_column": "('DARKNESS, LIGHTED ROAD', 'NOT ON SCENE (DESK REPORT)', 0)"
        },
        {
         "BEAT_OF_OCCURRENCE": 152767,
         "_deepnote_index_column": "('DARKNESS, LIGHTED ROAD', 'NOT ON SCENE (DESK REPORT)', 1)"
        },
        {
         "BEAT_OF_OCCURRENCE": 135845,
         "_deepnote_index_column": "('DARKNESS, LIGHTED ROAD', 'NOT ON SCENE (DESK REPORT)', 2)"
        },
        {
         "BEAT_OF_OCCURRENCE": 89968,
         "_deepnote_index_column": "('DARKNESS, LIGHTED ROAD', 'NOT ON SCENE (DESK REPORT)', 3)"
        },
        {
         "BEAT_OF_OCCURRENCE": 86627,
         "_deepnote_index_column": "('DARKNESS, LIGHTED ROAD', 'NOT ON SCENE (DESK REPORT)', 4)"
        },
        {
         "BEAT_OF_OCCURRENCE": 92027,
         "_deepnote_index_column": "('DARKNESS, LIGHTED ROAD', 'NOT ON SCENE (DESK REPORT)', 5)"
        },
        {
         "BEAT_OF_OCCURRENCE": 55596,
         "_deepnote_index_column": "('DARKNESS, LIGHTED ROAD', 'NOT ON SCENE (DESK REPORT)', 6)"
        },
        {
         "BEAT_OF_OCCURRENCE": 8704,
         "_deepnote_index_column": "('DARKNESS, LIGHTED ROAD', 'NOT ON SCENE (DESK REPORT)', 7)"
        },
        {
         "BEAT_OF_OCCURRENCE": 9596,
         "_deepnote_index_column": "('DARKNESS, LIGHTED ROAD', 'NOT ON SCENE (DESK REPORT)', 8)"
        },
        {
         "BEAT_OF_OCCURRENCE": 16070,
         "_deepnote_index_column": "('DARKNESS, LIGHTED ROAD', 'NOT ON SCENE (DESK REPORT)', 9)"
        },
        {
         "BEAT_OF_OCCURRENCE": 9605,
         "_deepnote_index_column": "('DARKNESS, LIGHTED ROAD', 'NOT ON SCENE (DESK REPORT)', 10)"
        },
        {
         "BEAT_OF_OCCURRENCE": 15415,
         "_deepnote_index_column": "('DARKNESS, LIGHTED ROAD', 'NOT ON SCENE (DESK REPORT)', 11)"
        },
        {
         "BEAT_OF_OCCURRENCE": 12660,
         "_deepnote_index_column": "('DARKNESS, LIGHTED ROAD', 'NOT ON SCENE (DESK REPORT)', 12)"
        },
        {
         "BEAT_OF_OCCURRENCE": 1268,
         "_deepnote_index_column": "('DARKNESS, LIGHTED ROAD', 'NOT ON SCENE (DESK REPORT)', 13)"
        },
        {
         "BEAT_OF_OCCURRENCE": 8465,
         "_deepnote_index_column": "('DARKNESS, LIGHTED ROAD', 'NOT ON SCENE (DESK REPORT)', 14)"
        },
        {
         "BEAT_OF_OCCURRENCE": 15396,
         "_deepnote_index_column": "('DARKNESS, LIGHTED ROAD', 'NOT ON SCENE (DESK REPORT)', 15)"
        },
        {
         "BEAT_OF_OCCURRENCE": 77684,
         "_deepnote_index_column": "('DARKNESS, LIGHTED ROAD', 'NOT ON SCENE (DESK REPORT)', 16)"
        },
        {
         "BEAT_OF_OCCURRENCE": 256628,
         "_deepnote_index_column": "('DARKNESS, LIGHTED ROAD', 'NOT ON SCENE (DESK REPORT)', 17)"
        },
        {
         "BEAT_OF_OCCURRENCE": 359583,
         "_deepnote_index_column": "('DARKNESS, LIGHTED ROAD', 'NOT ON SCENE (DESK REPORT)', 18)"
        },
        {
         "BEAT_OF_OCCURRENCE": 392535,
         "_deepnote_index_column": "('DARKNESS, LIGHTED ROAD', 'NOT ON SCENE (DESK REPORT)', 19)"
        },
        {
         "BEAT_OF_OCCURRENCE": 430819,
         "_deepnote_index_column": "('DARKNESS, LIGHTED ROAD', 'NOT ON SCENE (DESK REPORT)', 20)"
        },
        {
         "BEAT_OF_OCCURRENCE": 430801,
         "_deepnote_index_column": "('DARKNESS, LIGHTED ROAD', 'NOT ON SCENE (DESK REPORT)', 21)"
        },
        {
         "BEAT_OF_OCCURRENCE": 388662,
         "_deepnote_index_column": "('DARKNESS, LIGHTED ROAD', 'NOT ON SCENE (DESK REPORT)', 22)"
        },
        {
         "BEAT_OF_OCCURRENCE": 272836,
         "_deepnote_index_column": "('DARKNESS, LIGHTED ROAD', 'NOT ON SCENE (DESK REPORT)', 23)"
        },
        {
         "BEAT_OF_OCCURRENCE": 352001,
         "_deepnote_index_column": "('DARKNESS, LIGHTED ROAD', 'ON SCENE', 0)"
        },
        {
         "BEAT_OF_OCCURRENCE": 269572,
         "_deepnote_index_column": "('DARKNESS, LIGHTED ROAD', 'ON SCENE', 1)"
        },
        {
         "BEAT_OF_OCCURRENCE": 277908,
         "_deepnote_index_column": "('DARKNESS, LIGHTED ROAD', 'ON SCENE', 2)"
        },
        {
         "BEAT_OF_OCCURRENCE": 219932,
         "_deepnote_index_column": "('DARKNESS, LIGHTED ROAD', 'ON SCENE', 3)"
        },
        {
         "BEAT_OF_OCCURRENCE": 144208,
         "_deepnote_index_column": "('DARKNESS, LIGHTED ROAD', 'ON SCENE', 4)"
        },
        {
         "BEAT_OF_OCCURRENCE": 119351,
         "_deepnote_index_column": "('DARKNESS, LIGHTED ROAD', 'ON SCENE', 5)"
        },
        {
         "BEAT_OF_OCCURRENCE": 72977,
         "_deepnote_index_column": "('DARKNESS, LIGHTED ROAD', 'ON SCENE', 6)"
        },
        {
         "BEAT_OF_OCCURRENCE": 6794,
         "_deepnote_index_column": "('DARKNESS, LIGHTED ROAD', 'ON SCENE', 7)"
        },
        {
         "BEAT_OF_OCCURRENCE": 2355,
         "_deepnote_index_column": "('DARKNESS, LIGHTED ROAD', 'ON SCENE', 8)"
        },
        {
         "BEAT_OF_OCCURRENCE": 5443,
         "_deepnote_index_column": "('DARKNESS, LIGHTED ROAD', 'ON SCENE', 9)"
        },
        {
         "BEAT_OF_OCCURRENCE": 1520,
         "_deepnote_index_column": "('DARKNESS, LIGHTED ROAD', 'ON SCENE', 10)"
        },
        {
         "BEAT_OF_OCCURRENCE": 7313,
         "_deepnote_index_column": "('DARKNESS, LIGHTED ROAD', 'ON SCENE', 11)"
        },
        {
         "BEAT_OF_OCCURRENCE": 2211,
         "_deepnote_index_column": "('DARKNESS, LIGHTED ROAD', 'ON SCENE', 12)"
        },
        {
         "BEAT_OF_OCCURRENCE": 432,
         "_deepnote_index_column": "('DARKNESS, LIGHTED ROAD', 'ON SCENE', 13)"
        },
        {
         "BEAT_OF_OCCURRENCE": 2558,
         "_deepnote_index_column": "('DARKNESS, LIGHTED ROAD', 'ON SCENE', 14)"
        },
        {
         "BEAT_OF_OCCURRENCE": 4416,
         "_deepnote_index_column": "('DARKNESS, LIGHTED ROAD', 'ON SCENE', 15)"
        },
        {
         "BEAT_OF_OCCURRENCE": 63111,
         "_deepnote_index_column": "('DARKNESS, LIGHTED ROAD', 'ON SCENE', 16)"
        },
        {
         "BEAT_OF_OCCURRENCE": 207303,
         "_deepnote_index_column": "('DARKNESS, LIGHTED ROAD', 'ON SCENE', 17)"
        },
        {
         "BEAT_OF_OCCURRENCE": 244808,
         "_deepnote_index_column": "('DARKNESS, LIGHTED ROAD', 'ON SCENE', 18)"
        },
        {
         "BEAT_OF_OCCURRENCE": 273956,
         "_deepnote_index_column": "('DARKNESS, LIGHTED ROAD', 'ON SCENE', 19)"
        },
        {
         "BEAT_OF_OCCURRENCE": 319211,
         "_deepnote_index_column": "('DARKNESS, LIGHTED ROAD', 'ON SCENE', 20)"
        },
        {
         "BEAT_OF_OCCURRENCE": 362095,
         "_deepnote_index_column": "('DARKNESS, LIGHTED ROAD', 'ON SCENE', 21)"
        },
        {
         "BEAT_OF_OCCURRENCE": 381959,
         "_deepnote_index_column": "('DARKNESS, LIGHTED ROAD', 'ON SCENE', 22)"
        },
        {
         "BEAT_OF_OCCURRENCE": 352259,
         "_deepnote_index_column": "('DARKNESS, LIGHTED ROAD', 'ON SCENE', 23)"
        },
        {
         "BEAT_OF_OCCURRENCE": 411,
         "_deepnote_index_column": "('DAWN', 'NOT ON SCENE (DESK REPORT)', 0)"
        },
        {
         "BEAT_OF_OCCURRENCE": 512,
         "_deepnote_index_column": "('DAWN', 'NOT ON SCENE (DESK REPORT)', 1)"
        },
        {
         "BEAT_OF_OCCURRENCE": 311,
         "_deepnote_index_column": "('DAWN', 'NOT ON SCENE (DESK REPORT)', 2)"
        },
        {
         "BEAT_OF_OCCURRENCE": 1047,
         "_deepnote_index_column": "('DAWN', 'NOT ON SCENE (DESK REPORT)', 3)"
        },
        {
         "BEAT_OF_OCCURRENCE": 3823,
         "_deepnote_index_column": "('DAWN', 'NOT ON SCENE (DESK REPORT)', 4)"
        },
        {
         "BEAT_OF_OCCURRENCE": 52578,
         "_deepnote_index_column": "('DAWN', 'NOT ON SCENE (DESK REPORT)', 5)"
        },
        {
         "BEAT_OF_OCCURRENCE": 45574,
         "_deepnote_index_column": "('DAWN', 'NOT ON SCENE (DESK REPORT)', 6)"
        },
        {
         "BEAT_OF_OCCURRENCE": 32225,
         "_deepnote_index_column": "('DAWN', 'NOT ON SCENE (DESK REPORT)', 7)"
        },
        {
         "BEAT_OF_OCCURRENCE": 3289,
         "_deepnote_index_column": "('DAWN', 'NOT ON SCENE (DESK REPORT)', 8)"
        },
        {
         "BEAT_OF_OCCURRENCE": 5500,
         "_deepnote_index_column": "('DAWN', 'NOT ON SCENE (DESK REPORT)', 9)"
        },
        {
         "BEAT_OF_OCCURRENCE": 3970,
         "_deepnote_index_column": "('DAWN', 'NOT ON SCENE (DESK REPORT)', 10)"
        },
        {
         "BEAT_OF_OCCURRENCE": 1222,
         "_deepnote_index_column": "('DAWN', 'NOT ON SCENE (DESK REPORT)', 11)"
        },
        {
         "BEAT_OF_OCCURRENCE": 3667,
         "_deepnote_index_column": "('DAWN', 'NOT ON SCENE (DESK REPORT)', 12)"
        },
        {
         "BEAT_OF_OCCURRENCE": 3470,
         "_deepnote_index_column": "('DAWN', 'NOT ON SCENE (DESK REPORT)', 13)"
        },
        {
         "BEAT_OF_OCCURRENCE": 5647,
         "_deepnote_index_column": "('DAWN', 'NOT ON SCENE (DESK REPORT)', 14)"
        },
        {
         "BEAT_OF_OCCURRENCE": 5526,
         "_deepnote_index_column": "('DAWN', 'NOT ON SCENE (DESK REPORT)', 15)"
        },
        {
         "BEAT_OF_OCCURRENCE": 23340,
         "_deepnote_index_column": "('DAWN', 'NOT ON SCENE (DESK REPORT)', 16)"
        },
        {
         "BEAT_OF_OCCURRENCE": 28886,
         "_deepnote_index_column": "('DAWN', 'NOT ON SCENE (DESK REPORT)', 17)"
        },
        {
         "BEAT_OF_OCCURRENCE": 26411,
         "_deepnote_index_column": "('DAWN', 'NOT ON SCENE (DESK REPORT)', 18)"
        },
        {
         "BEAT_OF_OCCURRENCE": 25700,
         "_deepnote_index_column": "('DAWN', 'NOT ON SCENE (DESK REPORT)', 19)"
        },
        {
         "BEAT_OF_OCCURRENCE": 9420,
         "_deepnote_index_column": "('DAWN', 'NOT ON SCENE (DESK REPORT)', 20)"
        },
        {
         "BEAT_OF_OCCURRENCE": 2934,
         "_deepnote_index_column": "('DAWN', 'NOT ON SCENE (DESK REPORT)', 22)"
        },
        {
         "BEAT_OF_OCCURRENCE": 2868,
         "_deepnote_index_column": "('DAWN', 'ON SCENE', 0)"
        },
        {
         "BEAT_OF_OCCURRENCE": 1122,
         "_deepnote_index_column": "('DAWN', 'ON SCENE', 1)"
        },
        {
         "BEAT_OF_OCCURRENCE": 2556,
         "_deepnote_index_column": "('DAWN', 'ON SCENE', 2)"
        },
        {
         "BEAT_OF_OCCURRENCE": 10346,
         "_deepnote_index_column": "('DAWN', 'ON SCENE', 4)"
        },
        {
         "BEAT_OF_OCCURRENCE": 52021,
         "_deepnote_index_column": "('DAWN', 'ON SCENE', 5)"
        },
        {
         "BEAT_OF_OCCURRENCE": 78097,
         "_deepnote_index_column": "('DAWN', 'ON SCENE', 6)"
        },
        {
         "BEAT_OF_OCCURRENCE": 27277,
         "_deepnote_index_column": "('DAWN', 'ON SCENE', 7)"
        },
        {
         "BEAT_OF_OCCURRENCE": 5566,
         "_deepnote_index_column": "('DAWN', 'ON SCENE', 8)"
        },
        {
         "BEAT_OF_OCCURRENCE": 2836,
         "_deepnote_index_column": "('DAWN', 'ON SCENE', 9)"
        },
        {
         "BEAT_OF_OCCURRENCE": 322,
         "_deepnote_index_column": "('DAWN', 'ON SCENE', 10)"
        },
        {
         "BEAT_OF_OCCURRENCE": 611,
         "_deepnote_index_column": "('DAWN', 'ON SCENE', 11)"
        },
        {
         "BEAT_OF_OCCURRENCE": 1723,
         "_deepnote_index_column": "('DAWN', 'ON SCENE', 12)"
        },
        {
         "BEAT_OF_OCCURRENCE": 2645,
         "_deepnote_index_column": "('DAWN', 'ON SCENE', 13)"
        },
        {
         "BEAT_OF_OCCURRENCE": 3998,
         "_deepnote_index_column": "('DAWN', 'ON SCENE', 14)"
        },
        {
         "BEAT_OF_OCCURRENCE": 10513,
         "_deepnote_index_column": "('DAWN', 'ON SCENE', 15)"
        },
        {
         "BEAT_OF_OCCURRENCE": 22486,
         "_deepnote_index_column": "('DAWN', 'ON SCENE', 16)"
        },
        {
         "BEAT_OF_OCCURRENCE": 14297,
         "_deepnote_index_column": "('DAWN', 'ON SCENE', 17)"
        },
        {
         "BEAT_OF_OCCURRENCE": 7697,
         "_deepnote_index_column": "('DAWN', 'ON SCENE', 18)"
        },
        {
         "BEAT_OF_OCCURRENCE": 5913,
         "_deepnote_index_column": "('DAWN', 'ON SCENE', 19)"
        },
        {
         "BEAT_OF_OCCURRENCE": 2691,
         "_deepnote_index_column": "('DAWN', 'ON SCENE', 20)"
        },
        {
         "BEAT_OF_OCCURRENCE": 957,
         "_deepnote_index_column": "('DAWN', 'ON SCENE', 21)"
        },
        {
         "BEAT_OF_OCCURRENCE": 2735,
         "_deepnote_index_column": "('DAWN', 'ON SCENE', 22)"
        },
        {
         "BEAT_OF_OCCURRENCE": 2334,
         "_deepnote_index_column": "('DAWN', 'ON SCENE', 23)"
        },
        {
         "BEAT_OF_OCCURRENCE": 334,
         "_deepnote_index_column": "('DAYLIGHT', 'AMENDED', 6)"
        },
        {
         "BEAT_OF_OCCURRENCE": 2438,
         "_deepnote_index_column": "('DAYLIGHT', 'AMENDED', 7)"
        },
        {
         "BEAT_OF_OCCURRENCE": 1724,
         "_deepnote_index_column": "('DAYLIGHT', 'AMENDED', 8)"
        },
        {
         "BEAT_OF_OCCURRENCE": 1234,
         "_deepnote_index_column": "('DAYLIGHT', 'AMENDED', 10)"
        },
        {
         "BEAT_OF_OCCURRENCE": 122,
         "_deepnote_index_column": "('DAYLIGHT', 'AMENDED', 11)"
        },
        {
         "BEAT_OF_OCCURRENCE": 4145,
         "_deepnote_index_column": "('DAYLIGHT', 'AMENDED', 12)"
        },
        {
         "BEAT_OF_OCCURRENCE": 1847,
         "_deepnote_index_column": "('DAYLIGHT', 'AMENDED', 14)"
        },
        {
         "BEAT_OF_OCCURRENCE": 1234,
         "_deepnote_index_column": "('DAYLIGHT', 'AMENDED', 16)"
        },
        {
         "BEAT_OF_OCCURRENCE": 2411,
         "_deepnote_index_column": "('DAYLIGHT', 'AMENDED', 18)"
        },
        {
         "BEAT_OF_OCCURRENCE": 913,
         "_deepnote_index_column": "('DAYLIGHT', 'AMENDED', 20)"
        },
        {
         "BEAT_OF_OCCURRENCE": 9161,
         "_deepnote_index_column": "('DAYLIGHT', 'NOT ON SCENE (DESK REPORT)', 0)"
        },
        {
         "BEAT_OF_OCCURRENCE": 15993,
         "_deepnote_index_column": "('DAYLIGHT', 'NOT ON SCENE (DESK REPORT)', 1)"
        },
        {
         "BEAT_OF_OCCURRENCE": 14100,
         "_deepnote_index_column": "('DAYLIGHT', 'NOT ON SCENE (DESK REPORT)', 2)"
        },
        {
         "BEAT_OF_OCCURRENCE": 6919,
         "_deepnote_index_column": "('DAYLIGHT', 'NOT ON SCENE (DESK REPORT)', 3)"
        },
        {
         "BEAT_OF_OCCURRENCE": 9516,
         "_deepnote_index_column": "('DAYLIGHT', 'NOT ON SCENE (DESK REPORT)', 4)"
        },
        {
         "BEAT_OF_OCCURRENCE": 53259,
         "_deepnote_index_column": "('DAYLIGHT', 'NOT ON SCENE (DESK REPORT)', 5)"
        },
        {
         "BEAT_OF_OCCURRENCE": 248437,
         "_deepnote_index_column": "('DAYLIGHT', 'NOT ON SCENE (DESK REPORT)', 6)"
        },
        {
         "BEAT_OF_OCCURRENCE": 851441,
         "_deepnote_index_column": "('DAYLIGHT', 'NOT ON SCENE (DESK REPORT)', 7)"
        },
        {
         "BEAT_OF_OCCURRENCE": 1010147,
         "_deepnote_index_column": "('DAYLIGHT', 'NOT ON SCENE (DESK REPORT)', 8)"
        },
        {
         "BEAT_OF_OCCURRENCE": 893461,
         "_deepnote_index_column": "('DAYLIGHT', 'NOT ON SCENE (DESK REPORT)', 9)"
        },
        {
         "BEAT_OF_OCCURRENCE": 886555,
         "_deepnote_index_column": "('DAYLIGHT', 'NOT ON SCENE (DESK REPORT)', 10)"
        },
        {
         "BEAT_OF_OCCURRENCE": 960092,
         "_deepnote_index_column": "('DAYLIGHT', 'NOT ON SCENE (DESK REPORT)', 11)"
        },
        {
         "BEAT_OF_OCCURRENCE": 1162459,
         "_deepnote_index_column": "('DAYLIGHT', 'NOT ON SCENE (DESK REPORT)', 12)"
        },
        {
         "BEAT_OF_OCCURRENCE": 1390670,
         "_deepnote_index_column": "('DAYLIGHT', 'NOT ON SCENE (DESK REPORT)', 13)"
        },
        {
         "BEAT_OF_OCCURRENCE": 1435547,
         "_deepnote_index_column": "('DAYLIGHT', 'NOT ON SCENE (DESK REPORT)', 14)"
        },
        {
         "BEAT_OF_OCCURRENCE": 1623055,
         "_deepnote_index_column": "('DAYLIGHT', 'NOT ON SCENE (DESK REPORT)', 15)"
        },
        {
         "BEAT_OF_OCCURRENCE": 1399872,
         "_deepnote_index_column": "('DAYLIGHT', 'NOT ON SCENE (DESK REPORT)', 16)"
        },
        {
         "BEAT_OF_OCCURRENCE": 1043168,
         "_deepnote_index_column": "('DAYLIGHT', 'NOT ON SCENE (DESK REPORT)', 17)"
        },
        {
         "BEAT_OF_OCCURRENCE": 637484,
         "_deepnote_index_column": "('DAYLIGHT', 'NOT ON SCENE (DESK REPORT)', 18)"
        },
        {
         "BEAT_OF_OCCURRENCE": 264800,
         "_deepnote_index_column": "('DAYLIGHT', 'NOT ON SCENE (DESK REPORT)', 19)"
        },
        {
         "BEAT_OF_OCCURRENCE": 74576,
         "_deepnote_index_column": "('DAYLIGHT', 'NOT ON SCENE (DESK REPORT)', 20)"
        },
        {
         "BEAT_OF_OCCURRENCE": 26066,
         "_deepnote_index_column": "('DAYLIGHT', 'NOT ON SCENE (DESK REPORT)', 21)"
        },
        {
         "BEAT_OF_OCCURRENCE": 12328,
         "_deepnote_index_column": "('DAYLIGHT', 'NOT ON SCENE (DESK REPORT)', 22)"
        },
        {
         "BEAT_OF_OCCURRENCE": 12408,
         "_deepnote_index_column": "('DAYLIGHT', 'NOT ON SCENE (DESK REPORT)', 23)"
        },
        {
         "BEAT_OF_OCCURRENCE": 3728,
         "_deepnote_index_column": "('DAYLIGHT', 'ON SCENE', 0)"
        },
        {
         "BEAT_OF_OCCURRENCE": 5724,
         "_deepnote_index_column": "('DAYLIGHT', 'ON SCENE', 1)"
        },
        {
         "BEAT_OF_OCCURRENCE": 4263,
         "_deepnote_index_column": "('DAYLIGHT', 'ON SCENE', 2)"
        },
        {
         "BEAT_OF_OCCURRENCE": 842,
         "_deepnote_index_column": "('DAYLIGHT', 'ON SCENE', 3)"
        },
        {
         "BEAT_OF_OCCURRENCE": 12114,
         "_deepnote_index_column": "('DAYLIGHT', 'ON SCENE', 4)"
        },
        {
         "BEAT_OF_OCCURRENCE": 44263,
         "_deepnote_index_column": "('DAYLIGHT', 'ON SCENE', 5)"
        },
        {
         "BEAT_OF_OCCURRENCE": 196040,
         "_deepnote_index_column": "('DAYLIGHT', 'ON SCENE', 6)"
        },
        {
         "BEAT_OF_OCCURRENCE": 579253,
         "_deepnote_index_column": "('DAYLIGHT', 'ON SCENE', 7)"
        },
        {
         "BEAT_OF_OCCURRENCE": 730902,
         "_deepnote_index_column": "('DAYLIGHT', 'ON SCENE', 8)"
        },
        {
         "BEAT_OF_OCCURRENCE": 634360,
         "_deepnote_index_column": "('DAYLIGHT', 'ON SCENE', 9)"
        },
        {
         "BEAT_OF_OCCURRENCE": 617279,
         "_deepnote_index_column": "('DAYLIGHT', 'ON SCENE', 10)"
        },
        {
         "BEAT_OF_OCCURRENCE": 714689,
         "_deepnote_index_column": "('DAYLIGHT', 'ON SCENE', 11)"
        },
        {
         "BEAT_OF_OCCURRENCE": 745929,
         "_deepnote_index_column": "('DAYLIGHT', 'ON SCENE', 12)"
        },
        {
         "BEAT_OF_OCCURRENCE": 684837,
         "_deepnote_index_column": "('DAYLIGHT', 'ON SCENE', 13)"
        },
        {
         "BEAT_OF_OCCURRENCE": 705780,
         "_deepnote_index_column": "('DAYLIGHT', 'ON SCENE', 14)"
        },
        {
         "BEAT_OF_OCCURRENCE": 800021,
         "_deepnote_index_column": "('DAYLIGHT', 'ON SCENE', 15)"
        },
        {
         "BEAT_OF_OCCURRENCE": 745380,
         "_deepnote_index_column": "('DAYLIGHT', 'ON SCENE', 16)"
        },
        {
         "BEAT_OF_OCCURRENCE": 572352,
         "_deepnote_index_column": "('DAYLIGHT', 'ON SCENE', 17)"
        },
        {
         "BEAT_OF_OCCURRENCE": 342266,
         "_deepnote_index_column": "('DAYLIGHT', 'ON SCENE', 18)"
        },
        {
         "BEAT_OF_OCCURRENCE": 147515,
         "_deepnote_index_column": "('DAYLIGHT', 'ON SCENE', 19)"
        },
        {
         "BEAT_OF_OCCURRENCE": 11527,
         "_deepnote_index_column": "('DAYLIGHT', 'ON SCENE', 20)"
        },
        {
         "BEAT_OF_OCCURRENCE": 4550,
         "_deepnote_index_column": "('DAYLIGHT', 'ON SCENE', 21)"
        },
        {
         "BEAT_OF_OCCURRENCE": 2788,
         "_deepnote_index_column": "('DAYLIGHT', 'ON SCENE', 22)"
        },
        {
         "BEAT_OF_OCCURRENCE": 643,
         "_deepnote_index_column": "('DUSK', 'AMENDED', 20)"
        },
        {
         "BEAT_OF_OCCURRENCE": 3358,
         "_deepnote_index_column": "('DUSK', 'NOT ON SCENE (DESK REPORT)', 0)"
        },
        {
         "BEAT_OF_OCCURRENCE": 1049,
         "_deepnote_index_column": "('DUSK', 'NOT ON SCENE (DESK REPORT)', 1)"
        },
        {
         "BEAT_OF_OCCURRENCE": 1232,
         "_deepnote_index_column": "('DUSK', 'NOT ON SCENE (DESK REPORT)', 2)"
        },
        {
         "BEAT_OF_OCCURRENCE": 3492,
         "_deepnote_index_column": "('DUSK', 'NOT ON SCENE (DESK REPORT)', 3)"
        },
        {
         "BEAT_OF_OCCURRENCE": 633,
         "_deepnote_index_column": "('DUSK', 'NOT ON SCENE (DESK REPORT)', 4)"
        },
        {
         "BEAT_OF_OCCURRENCE": 8558,
         "_deepnote_index_column": "('DUSK', 'NOT ON SCENE (DESK REPORT)', 5)"
        },
        {
         "BEAT_OF_OCCURRENCE": 9673,
         "_deepnote_index_column": "('DUSK', 'NOT ON SCENE (DESK REPORT)', 6)"
        },
        {
         "BEAT_OF_OCCURRENCE": 4260,
         "_deepnote_index_column": "('DUSK', 'NOT ON SCENE (DESK REPORT)', 7)"
        },
        {
         "BEAT_OF_OCCURRENCE": 2531,
         "_deepnote_index_column": "('DUSK', 'NOT ON SCENE (DESK REPORT)', 8)"
        },
        {
         "BEAT_OF_OCCURRENCE": 1823,
         "_deepnote_index_column": "('DUSK', 'NOT ON SCENE (DESK REPORT)', 11)"
        },
        {
         "BEAT_OF_OCCURRENCE": 1814,
         "_deepnote_index_column": "('DUSK', 'NOT ON SCENE (DESK REPORT)', 12)"
        },
        {
         "BEAT_OF_OCCURRENCE": 5733,
         "_deepnote_index_column": "('DUSK', 'NOT ON SCENE (DESK REPORT)', 13)"
        },
        {
         "BEAT_OF_OCCURRENCE": 5046,
         "_deepnote_index_column": "('DUSK', 'NOT ON SCENE (DESK REPORT)', 14)"
        },
        {
         "BEAT_OF_OCCURRENCE": 31669,
         "_deepnote_index_column": "('DUSK', 'NOT ON SCENE (DESK REPORT)', 15)"
        },
        {
         "BEAT_OF_OCCURRENCE": 109203,
         "_deepnote_index_column": "('DUSK', 'NOT ON SCENE (DESK REPORT)', 16)"
        },
        {
         "BEAT_OF_OCCURRENCE": 136759,
         "_deepnote_index_column": "('DUSK', 'NOT ON SCENE (DESK REPORT)', 17)"
        },
        {
         "BEAT_OF_OCCURRENCE": 112565,
         "_deepnote_index_column": "('DUSK', 'NOT ON SCENE (DESK REPORT)', 18)"
        },
        {
         "BEAT_OF_OCCURRENCE": 92200,
         "_deepnote_index_column": "('DUSK', 'NOT ON SCENE (DESK REPORT)', 19)"
        },
        {
         "BEAT_OF_OCCURRENCE": 44599,
         "_deepnote_index_column": "('DUSK', 'NOT ON SCENE (DESK REPORT)', 20)"
        },
        {
         "BEAT_OF_OCCURRENCE": 18622,
         "_deepnote_index_column": "('DUSK', 'NOT ON SCENE (DESK REPORT)', 21)"
        },
        {
         "BEAT_OF_OCCURRENCE": 15906,
         "_deepnote_index_column": "('DUSK', 'NOT ON SCENE (DESK REPORT)', 22)"
        },
        {
         "BEAT_OF_OCCURRENCE": 1834,
         "_deepnote_index_column": "('DUSK', 'NOT ON SCENE (DESK REPORT)', 23)"
        },
        {
         "BEAT_OF_OCCURRENCE": 1955,
         "_deepnote_index_column": "('DUSK', 'ON SCENE', 0)"
        },
        {
         "BEAT_OF_OCCURRENCE": 433,
         "_deepnote_index_column": "('DUSK', 'ON SCENE', 1)"
        },
        {
         "BEAT_OF_OCCURRENCE": 2632,
         "_deepnote_index_column": "('DUSK', 'ON SCENE', 2)"
        },
        {
         "BEAT_OF_OCCURRENCE": 3755,
         "_deepnote_index_column": "('DUSK', 'ON SCENE', 3)"
        },
        {
         "BEAT_OF_OCCURRENCE": 2770,
         "_deepnote_index_column": "('DUSK', 'ON SCENE', 4)"
        },
        {
         "BEAT_OF_OCCURRENCE": 4847,
         "_deepnote_index_column": "('DUSK', 'ON SCENE', 5)"
        },
        {
         "BEAT_OF_OCCURRENCE": 2466,
         "_deepnote_index_column": "('DUSK', 'ON SCENE', 6)"
        },
        {
         "BEAT_OF_OCCURRENCE": 3024,
         "_deepnote_index_column": "('DUSK', 'ON SCENE', 8)"
        },
        {
         "BEAT_OF_OCCURRENCE": 2345,
         "_deepnote_index_column": "('DUSK', 'ON SCENE', 9)"
        },
        {
         "BEAT_OF_OCCURRENCE": 2637,
         "_deepnote_index_column": "('DUSK', 'ON SCENE', 11)"
        },
        {
         "BEAT_OF_OCCURRENCE": 114,
         "_deepnote_index_column": "('DUSK', 'ON SCENE', 12)"
        },
        {
         "BEAT_OF_OCCURRENCE": 3049,
         "_deepnote_index_column": "('DUSK', 'ON SCENE', 13)"
        },
        {
         "BEAT_OF_OCCURRENCE": 2877,
         "_deepnote_index_column": "('DUSK', 'ON SCENE', 14)"
        },
        {
         "BEAT_OF_OCCURRENCE": 22105,
         "_deepnote_index_column": "('DUSK', 'ON SCENE', 15)"
        },
        {
         "BEAT_OF_OCCURRENCE": 60345,
         "_deepnote_index_column": "('DUSK', 'ON SCENE', 16)"
        },
        {
         "BEAT_OF_OCCURRENCE": 58036,
         "_deepnote_index_column": "('DUSK', 'ON SCENE', 17)"
        },
        {
         "BEAT_OF_OCCURRENCE": 74826,
         "_deepnote_index_column": "('DUSK', 'ON SCENE', 18)"
        },
        {
         "BEAT_OF_OCCURRENCE": 82891,
         "_deepnote_index_column": "('DUSK', 'ON SCENE', 19)"
        },
        {
         "BEAT_OF_OCCURRENCE": 44214,
         "_deepnote_index_column": "('DUSK', 'ON SCENE', 20)"
        },
        {
         "BEAT_OF_OCCURRENCE": 14222,
         "_deepnote_index_column": "('DUSK', 'ON SCENE', 21)"
        },
        {
         "BEAT_OF_OCCURRENCE": 5246,
         "_deepnote_index_column": "('DUSK', 'ON SCENE', 22)"
        },
        {
         "BEAT_OF_OCCURRENCE": 7662,
         "_deepnote_index_column": "('DUSK', 'ON SCENE', 23)"
        },
        {
         "BEAT_OF_OCCURRENCE": 32634,
         "_deepnote_index_column": "('UNKNOWN', 'NOT ON SCENE (DESK REPORT)', 0)"
        },
        {
         "BEAT_OF_OCCURRENCE": 30131,
         "_deepnote_index_column": "('UNKNOWN', 'NOT ON SCENE (DESK REPORT)', 1)"
        },
        {
         "BEAT_OF_OCCURRENCE": 20565,
         "_deepnote_index_column": "('UNKNOWN', 'NOT ON SCENE (DESK REPORT)', 2)"
        },
        {
         "BEAT_OF_OCCURRENCE": 13019,
         "_deepnote_index_column": "('UNKNOWN', 'NOT ON SCENE (DESK REPORT)', 3)"
        },
        {
         "BEAT_OF_OCCURRENCE": 11447,
         "_deepnote_index_column": "('UNKNOWN', 'NOT ON SCENE (DESK REPORT)', 4)"
        },
        {
         "BEAT_OF_OCCURRENCE": 15528,
         "_deepnote_index_column": "('UNKNOWN', 'NOT ON SCENE (DESK REPORT)', 5)"
        },
        {
         "BEAT_OF_OCCURRENCE": 36392,
         "_deepnote_index_column": "('UNKNOWN', 'NOT ON SCENE (DESK REPORT)', 6)"
        },
        {
         "BEAT_OF_OCCURRENCE": 43497,
         "_deepnote_index_column": "('UNKNOWN', 'NOT ON SCENE (DESK REPORT)', 7)"
        },
        {
         "BEAT_OF_OCCURRENCE": 61695,
         "_deepnote_index_column": "('UNKNOWN', 'NOT ON SCENE (DESK REPORT)', 8)"
        },
        {
         "BEAT_OF_OCCURRENCE": 53613,
         "_deepnote_index_column": "('UNKNOWN', 'NOT ON SCENE (DESK REPORT)', 9)"
        },
        {
         "BEAT_OF_OCCURRENCE": 64157,
         "_deepnote_index_column": "('UNKNOWN', 'NOT ON SCENE (DESK REPORT)', 10)"
        },
        {
         "BEAT_OF_OCCURRENCE": 48966,
         "_deepnote_index_column": "('UNKNOWN', 'NOT ON SCENE (DESK REPORT)', 11)"
        },
        {
         "BEAT_OF_OCCURRENCE": 66295,
         "_deepnote_index_column": "('UNKNOWN', 'NOT ON SCENE (DESK REPORT)', 12)"
        },
        {
         "BEAT_OF_OCCURRENCE": 49403,
         "_deepnote_index_column": "('UNKNOWN', 'NOT ON SCENE (DESK REPORT)', 13)"
        },
        {
         "BEAT_OF_OCCURRENCE": 46619,
         "_deepnote_index_column": "('UNKNOWN', 'NOT ON SCENE (DESK REPORT)', 14)"
        },
        {
         "BEAT_OF_OCCURRENCE": 61919,
         "_deepnote_index_column": "('UNKNOWN', 'NOT ON SCENE (DESK REPORT)', 15)"
        },
        {
         "BEAT_OF_OCCURRENCE": 71354,
         "_deepnote_index_column": "('UNKNOWN', 'NOT ON SCENE (DESK REPORT)', 16)"
        },
        {
         "BEAT_OF_OCCURRENCE": 61190,
         "_deepnote_index_column": "('UNKNOWN', 'NOT ON SCENE (DESK REPORT)', 17)"
        },
        {
         "BEAT_OF_OCCURRENCE": 82823,
         "_deepnote_index_column": "('UNKNOWN', 'NOT ON SCENE (DESK REPORT)', 18)"
        },
        {
         "BEAT_OF_OCCURRENCE": 52202,
         "_deepnote_index_column": "('UNKNOWN', 'NOT ON SCENE (DESK REPORT)', 19)"
        },
        {
         "BEAT_OF_OCCURRENCE": 58253,
         "_deepnote_index_column": "('UNKNOWN', 'NOT ON SCENE (DESK REPORT)', 20)"
        },
        {
         "BEAT_OF_OCCURRENCE": 44895,
         "_deepnote_index_column": "('UNKNOWN', 'NOT ON SCENE (DESK REPORT)', 21)"
        },
        {
         "BEAT_OF_OCCURRENCE": 29685,
         "_deepnote_index_column": "('UNKNOWN', 'NOT ON SCENE (DESK REPORT)', 22)"
        },
        {
         "BEAT_OF_OCCURRENCE": 27033,
         "_deepnote_index_column": "('UNKNOWN', 'NOT ON SCENE (DESK REPORT)', 23)"
        },
        {
         "BEAT_OF_OCCURRENCE": 19699,
         "_deepnote_index_column": "('UNKNOWN', 'ON SCENE', 0)"
        },
        {
         "BEAT_OF_OCCURRENCE": 9229,
         "_deepnote_index_column": "('UNKNOWN', 'ON SCENE', 1)"
        },
        {
         "BEAT_OF_OCCURRENCE": 4684,
         "_deepnote_index_column": "('UNKNOWN', 'ON SCENE', 2)"
        },
        {
         "BEAT_OF_OCCURRENCE": 16345,
         "_deepnote_index_column": "('UNKNOWN', 'ON SCENE', 3)"
        },
        {
         "BEAT_OF_OCCURRENCE": 5810,
         "_deepnote_index_column": "('UNKNOWN', 'ON SCENE', 4)"
        },
        {
         "BEAT_OF_OCCURRENCE": 4375,
         "_deepnote_index_column": "('UNKNOWN', 'ON SCENE', 5)"
        },
        {
         "BEAT_OF_OCCURRENCE": 10861,
         "_deepnote_index_column": "('UNKNOWN', 'ON SCENE', 6)"
        },
        {
         "BEAT_OF_OCCURRENCE": 14026,
         "_deepnote_index_column": "('UNKNOWN', 'ON SCENE', 7)"
        },
        {
         "BEAT_OF_OCCURRENCE": 15165,
         "_deepnote_index_column": "('UNKNOWN', 'ON SCENE', 8)"
        },
        {
         "BEAT_OF_OCCURRENCE": 13923,
         "_deepnote_index_column": "('UNKNOWN', 'ON SCENE', 9)"
        },
        {
         "BEAT_OF_OCCURRENCE": 18651,
         "_deepnote_index_column": "('UNKNOWN', 'ON SCENE', 10)"
        },
        {
         "BEAT_OF_OCCURRENCE": 5589,
         "_deepnote_index_column": "('UNKNOWN', 'ON SCENE', 11)"
        },
        {
         "BEAT_OF_OCCURRENCE": 12019,
         "_deepnote_index_column": "('UNKNOWN', 'ON SCENE', 12)"
        },
        {
         "BEAT_OF_OCCURRENCE": 5700,
         "_deepnote_index_column": "('UNKNOWN', 'ON SCENE', 13)"
        },
        {
         "BEAT_OF_OCCURRENCE": 4680,
         "_deepnote_index_column": "('UNKNOWN', 'ON SCENE', 14)"
        },
        {
         "BEAT_OF_OCCURRENCE": 10343,
         "_deepnote_index_column": "('UNKNOWN', 'ON SCENE', 15)"
        },
        {
         "BEAT_OF_OCCURRENCE": 12594,
         "_deepnote_index_column": "('UNKNOWN', 'ON SCENE', 16)"
        },
        {
         "BEAT_OF_OCCURRENCE": 15075,
         "_deepnote_index_column": "('UNKNOWN', 'ON SCENE', 17)"
        },
        {
         "BEAT_OF_OCCURRENCE": 12310,
         "_deepnote_index_column": "('UNKNOWN', 'ON SCENE', 18)"
        },
        {
         "BEAT_OF_OCCURRENCE": 4735,
         "_deepnote_index_column": "('UNKNOWN', 'ON SCENE', 19)"
        },
        {
         "BEAT_OF_OCCURRENCE": 8113,
         "_deepnote_index_column": "('UNKNOWN', 'ON SCENE', 20)"
        },
        {
         "BEAT_OF_OCCURRENCE": 6122,
         "_deepnote_index_column": "('UNKNOWN', 'ON SCENE', 21)"
        },
        {
         "BEAT_OF_OCCURRENCE": 9699,
         "_deepnote_index_column": "('UNKNOWN', 'ON SCENE', 22)"
        },
        {
         "BEAT_OF_OCCURRENCE": 3176,
         "_deepnote_index_column": "('UNKNOWN', 'ON SCENE', 23)"
        }
       ],
       "rows_bottom": null
      },
      "text/plain": "                                                          BEAT_OF_OCCURRENCE\nLIGHTING_CONDITION REPORT_TYPE                CRASH_HOUR                    \nDARKNESS           AMENDED                    20                      1614.0\n                   NOT ON SCENE (DESK REPORT) 0                      64739.0\n                                              1                      60086.0\n                                              2                      36251.0\n                                              3                      39172.0\n...                                                                      ...\nUNKNOWN            ON SCENE                   19                      4735.0\n                                              20                      8113.0\n                                              21                      6122.0\n                                              22                      9699.0\n                                              23                      3176.0\n\n[291 rows x 1 columns]",
      "text/html": "<div>\n<style scoped>\n    .dataframe tbody tr th:only-of-type {\n        vertical-align: middle;\n    }\n\n    .dataframe tbody tr th {\n        vertical-align: top;\n    }\n\n    .dataframe thead th {\n        text-align: right;\n    }\n</style>\n<table border=\"1\" class=\"dataframe\">\n  <thead>\n    <tr style=\"text-align: right;\">\n      <th></th>\n      <th></th>\n      <th></th>\n      <th>BEAT_OF_OCCURRENCE</th>\n    </tr>\n    <tr>\n      <th>LIGHTING_CONDITION</th>\n      <th>REPORT_TYPE</th>\n      <th>CRASH_HOUR</th>\n      <th></th>\n    </tr>\n  </thead>\n  <tbody>\n    <tr>\n      <th rowspan=\"5\" valign=\"top\">DARKNESS</th>\n      <th>AMENDED</th>\n      <th>20</th>\n      <td>1614.0</td>\n    </tr>\n    <tr>\n      <th rowspan=\"4\" valign=\"top\">NOT ON SCENE (DESK REPORT)</th>\n      <th>0</th>\n      <td>64739.0</td>\n    </tr>\n    <tr>\n      <th>1</th>\n      <td>60086.0</td>\n    </tr>\n    <tr>\n      <th>2</th>\n      <td>36251.0</td>\n    </tr>\n    <tr>\n      <th>3</th>\n      <td>39172.0</td>\n    </tr>\n    <tr>\n      <th>...</th>\n      <th>...</th>\n      <th>...</th>\n      <td>...</td>\n    </tr>\n    <tr>\n      <th rowspan=\"5\" valign=\"top\">UNKNOWN</th>\n      <th rowspan=\"5\" valign=\"top\">ON SCENE</th>\n      <th>19</th>\n      <td>4735.0</td>\n    </tr>\n    <tr>\n      <th>20</th>\n      <td>8113.0</td>\n    </tr>\n    <tr>\n      <th>21</th>\n      <td>6122.0</td>\n    </tr>\n    <tr>\n      <th>22</th>\n      <td>9699.0</td>\n    </tr>\n    <tr>\n      <th>23</th>\n      <td>3176.0</td>\n    </tr>\n  </tbody>\n</table>\n<p>291 rows × 1 columns</p>\n</div>"
     },
     "metadata": {}
    }
   ],
   "execution_count": 3
  },
  {
   "cell_type": "markdown",
   "source": "## Pivot table\ncon pandas, el comando pivot_table, nos permite agrupar toda la tabla del dataset, dejandonos ver la acumulación de datos y agruparlos en variables que expresemos en un\nindice",
   "metadata": {
    "tags": [],
    "cell_id": "00004-cd5ca9e1-f7c2-4725-a444-5f61f91d1b75",
    "deepnote_cell_type": "markdown"
   }
  },
  {
   "cell_type": "code",
   "source": "pd.pivot_table(df,index=['LIGHTING_CONDITION','REPORT_TYPE'])",
   "metadata": {
    "tags": [],
    "cell_id": "00003-c31c01aa-20d2-4260-ac30-396f49c21d1b",
    "deepnote_to_be_reexecuted": false,
    "source_hash": "a5c04b60",
    "execution_start": 1635526454769,
    "execution_millis": 714,
    "deepnote_cell_type": "code"
   },
   "outputs": [
    {
     "output_type": "execute_result",
     "execution_count": 5,
     "data": {
      "application/vnd.deepnote.dataframe.v2+json": {
       "row_count": 16,
       "column_count": 18,
       "columns": [
        {
         "name": "BEAT_OF_OCCURRENCE",
         "dtype": "float64",
         "stats": {
          "unique_count": 16,
          "nan_count": 0,
          "min": "321.5",
          "max": "1614.0",
          "histogram": [
           {
            "bin_start": 321.5,
            "bin_end": 450.75,
            "count": 1
           },
           {
            "bin_start": 450.75,
            "bin_end": 580,
            "count": 0
           },
           {
            "bin_start": 580,
            "bin_end": 709.25,
            "count": 0
           },
           {
            "bin_start": 709.25,
            "bin_end": 838.5,
            "count": 0
           },
           {
            "bin_start": 838.5,
            "bin_end": 967.75,
            "count": 1
           },
           {
            "bin_start": 967.75,
            "bin_end": 1097,
            "count": 0
           },
           {
            "bin_start": 1097,
            "bin_end": 1226.25,
            "count": 6
           },
           {
            "bin_start": 1226.25,
            "bin_end": 1355.5,
            "count": 6
           },
           {
            "bin_start": 1355.5,
            "bin_end": 1484.75,
            "count": 1
           },
           {
            "bin_start": 1484.75,
            "bin_end": 1614,
            "count": 1
           }
          ]
         }
        },
        {
         "name": "CRASH_DAY_OF_WEEK",
         "dtype": "float64",
         "stats": {
          "unique_count": 16,
          "nan_count": 0,
          "min": "3.5",
          "max": "6.333333333333333",
          "histogram": [
           {
            "bin_start": 3.5,
            "bin_end": 3.783333333333333,
            "count": 1
           },
           {
            "bin_start": 3.783333333333333,
            "bin_end": 4.066666666666666,
            "count": 5
           },
           {
            "bin_start": 4.066666666666666,
            "bin_end": 4.35,
            "count": 8
           },
           {
            "bin_start": 4.35,
            "bin_end": 4.633333333333333,
            "count": 0
           },
           {
            "bin_start": 4.633333333333333,
            "bin_end": 4.916666666666666,
            "count": 0
           },
           {
            "bin_start": 4.916666666666666,
            "bin_end": 5.2,
            "count": 1
           },
           {
            "bin_start": 5.2,
            "bin_end": 5.483333333333333,
            "count": 0
           },
           {
            "bin_start": 5.483333333333333,
            "bin_end": 5.766666666666667,
            "count": 0
           },
           {
            "bin_start": 5.766666666666667,
            "bin_end": 6.05,
            "count": 0
           },
           {
            "bin_start": 6.05,
            "bin_end": 6.333333333333333,
            "count": 1
           }
          ]
         }
        },
        {
         "name": "CRASH_HOUR",
         "dtype": "float64",
         "stats": {
          "unique_count": 15,
          "nan_count": 0,
          "min": "9.266968325791856",
          "max": "22.0",
          "histogram": [
           {
            "bin_start": 9.266968325791856,
            "bin_end": 10.540271493212671,
            "count": 2
           },
           {
            "bin_start": 10.540271493212671,
            "bin_end": 11.813574660633485,
            "count": 0
           },
           {
            "bin_start": 11.813574660633485,
            "bin_end": 13.086877828054298,
            "count": 6
           },
           {
            "bin_start": 13.086877828054298,
            "bin_end": 14.360180995475114,
            "count": 1
           },
           {
            "bin_start": 14.360180995475114,
            "bin_end": 15.633484162895929,
            "count": 1
           },
           {
            "bin_start": 15.633484162895929,
            "bin_end": 16.906787330316742,
            "count": 3
           },
           {
            "bin_start": 16.906787330316742,
            "bin_end": 18.18009049773756,
            "count": 0
           },
           {
            "bin_start": 18.18009049773756,
            "bin_end": 19.453393665158373,
            "count": 0
           },
           {
            "bin_start": 19.453393665158373,
            "bin_end": 20.726696832579186,
            "count": 2
           },
           {
            "bin_start": 20.726696832579186,
            "bin_end": 22,
            "count": 1
           }
          ]
         }
        },
        {
         "name": "CRASH_MONTH",
         "dtype": "float64",
         "stats": {
          "unique_count": 15,
          "nan_count": 0,
          "min": "4.333333333333333",
          "max": "7.406952965235174",
          "histogram": [
           {
            "bin_start": 4.333333333333333,
            "bin_end": 4.640695296523517,
            "count": 1
           },
           {
            "bin_start": 4.640695296523517,
            "bin_end": 4.948057259713702,
            "count": 0
           },
           {
            "bin_start": 4.948057259713702,
            "bin_end": 5.255419222903885,
            "count": 0
           },
           {
            "bin_start": 5.255419222903885,
            "bin_end": 5.562781186094069,
            "count": 0
           },
           {
            "bin_start": 5.562781186094069,
            "bin_end": 5.870143149284253,
            "count": 0
           },
           {
            "bin_start": 5.870143149284253,
            "bin_end": 6.177505112474438,
            "count": 2
           },
           {
            "bin_start": 6.177505112474438,
            "bin_end": 6.484867075664622,
            "count": 0
           },
           {
            "bin_start": 6.484867075664622,
            "bin_end": 6.792229038854806,
            "count": 4
           },
           {
            "bin_start": 6.792229038854806,
            "bin_end": 7.09959100204499,
            "count": 8
           },
           {
            "bin_start": 7.09959100204499,
            "bin_end": 7.406952965235174,
            "count": 1
           }
          ]
         }
        },
        {
         "name": "INJURIES_FATAL",
         "dtype": "float64",
         "stats": {
          "unique_count": 5,
          "nan_count": 0,
          "min": "0.0",
          "max": "0.3333333333333333",
          "histogram": [
           {
            "bin_start": 0,
            "bin_end": 0.03333333333333333,
            "count": 15
           },
           {
            "bin_start": 0.03333333333333333,
            "bin_end": 0.06666666666666667,
            "count": 0
           },
           {
            "bin_start": 0.06666666666666667,
            "bin_end": 0.1,
            "count": 0
           },
           {
            "bin_start": 0.1,
            "bin_end": 0.13333333333333333,
            "count": 0
           },
           {
            "bin_start": 0.13333333333333333,
            "bin_end": 0.16666666666666666,
            "count": 0
           },
           {
            "bin_start": 0.16666666666666666,
            "bin_end": 0.2,
            "count": 0
           },
           {
            "bin_start": 0.2,
            "bin_end": 0.23333333333333334,
            "count": 0
           },
           {
            "bin_start": 0.23333333333333334,
            "bin_end": 0.26666666666666666,
            "count": 0
           },
           {
            "bin_start": 0.26666666666666666,
            "bin_end": 0.3,
            "count": 0
           },
           {
            "bin_start": 0.3,
            "bin_end": 0.3333333333333333,
            "count": 1
           }
          ]
         }
        },
        {
         "name": "INJURIES_INCAPACITATING",
         "dtype": "float64",
         "stats": {
          "unique_count": 13,
          "nan_count": 0,
          "min": "0.0",
          "max": "0.04566666666666667",
          "histogram": [
           {
            "bin_start": 0,
            "bin_end": 0.004566666666666667,
            "count": 8
           },
           {
            "bin_start": 0.004566666666666667,
            "bin_end": 0.009133333333333334,
            "count": 2
           },
           {
            "bin_start": 0.009133333333333334,
            "bin_end": 0.0137,
            "count": 0
           },
           {
            "bin_start": 0.0137,
            "bin_end": 0.018266666666666667,
            "count": 1
           },
           {
            "bin_start": 0.018266666666666667,
            "bin_end": 0.022833333333333334,
            "count": 0
           },
           {
            "bin_start": 0.022833333333333334,
            "bin_end": 0.0274,
            "count": 1
           },
           {
            "bin_start": 0.0274,
            "bin_end": 0.03196666666666667,
            "count": 0
           },
           {
            "bin_start": 0.03196666666666667,
            "bin_end": 0.036533333333333334,
            "count": 2
           },
           {
            "bin_start": 0.036533333333333334,
            "bin_end": 0.0411,
            "count": 1
           },
           {
            "bin_start": 0.0411,
            "bin_end": 0.04566666666666667,
            "count": 1
           }
          ]
         }
        },
        {
         "name": "INJURIES_NON_INCAPACITATING",
         "dtype": "float64",
         "stats": {
          "unique_count": 15,
          "nan_count": 0,
          "min": "0.0",
          "max": "1.0",
          "histogram": [
           {
            "bin_start": 0,
            "bin_end": 0.1,
            "count": 10
           },
           {
            "bin_start": 0.1,
            "bin_end": 0.2,
            "count": 3
           },
           {
            "bin_start": 0.2,
            "bin_end": 0.30000000000000004,
            "count": 2
           },
           {
            "bin_start": 0.30000000000000004,
            "bin_end": 0.4,
            "count": 0
           },
           {
            "bin_start": 0.4,
            "bin_end": 0.5,
            "count": 0
           },
           {
            "bin_start": 0.5,
            "bin_end": 0.6000000000000001,
            "count": 0
           },
           {
            "bin_start": 0.6000000000000001,
            "bin_end": 0.7000000000000001,
            "count": 0
           },
           {
            "bin_start": 0.7000000000000001,
            "bin_end": 0.8,
            "count": 0
           },
           {
            "bin_start": 0.8,
            "bin_end": 0.9,
            "count": 0
           },
           {
            "bin_start": 0.9,
            "bin_end": 1,
            "count": 1
           }
          ]
         }
        },
        {
         "name": "INJURIES_NO_INDICATION",
         "dtype": "float64",
         "stats": {
          "unique_count": 16,
          "nan_count": 0,
          "min": "1.0",
          "max": "3.5",
          "histogram": [
           {
            "bin_start": 1,
            "bin_end": 1.25,
            "count": 2
           },
           {
            "bin_start": 1.25,
            "bin_end": 1.5,
            "count": 0
           },
           {
            "bin_start": 1.5,
            "bin_end": 1.75,
            "count": 2
           },
           {
            "bin_start": 1.75,
            "bin_end": 2,
            "count": 4
           },
           {
            "bin_start": 2,
            "bin_end": 2.25,
            "count": 6
           },
           {
            "bin_start": 2.25,
            "bin_end": 2.5,
            "count": 0
           },
           {
            "bin_start": 2.5,
            "bin_end": 2.75,
            "count": 1
           },
           {
            "bin_start": 2.75,
            "bin_end": 3,
            "count": 0
           },
           {
            "bin_start": 3,
            "bin_end": 3.25,
            "count": 0
           },
           {
            "bin_start": 3.25,
            "bin_end": 3.5,
            "count": 1
           }
          ]
         }
        },
        {
         "name": "INJURIES_REPORTED_NOT_EVIDENT",
         "dtype": "float64",
         "stats": {
          "unique_count": 13,
          "nan_count": 0,
          "min": "0.0",
          "max": "0.11591355599214145",
          "histogram": [
           {
            "bin_start": 0,
            "bin_end": 0.011591355599214145,
            "count": 5
           },
           {
            "bin_start": 0.011591355599214145,
            "bin_end": 0.02318271119842829,
            "count": 1
           },
           {
            "bin_start": 0.02318271119842829,
            "bin_end": 0.03477406679764243,
            "count": 4
           },
           {
            "bin_start": 0.03477406679764243,
            "bin_end": 0.04636542239685658,
            "count": 1
           },
           {
            "bin_start": 0.04636542239685658,
            "bin_end": 0.05795677799607073,
            "count": 0
           },
           {
            "bin_start": 0.05795677799607073,
            "bin_end": 0.06954813359528486,
            "count": 1
           },
           {
            "bin_start": 0.06954813359528486,
            "bin_end": 0.08113948919449901,
            "count": 0
           },
           {
            "bin_start": 0.08113948919449901,
            "bin_end": 0.09273084479371316,
            "count": 1
           },
           {
            "bin_start": 0.09273084479371316,
            "bin_end": 0.1043222003929273,
            "count": 2
           },
           {
            "bin_start": 0.1043222003929273,
            "bin_end": 0.11591355599214145,
            "count": 1
           }
          ]
         }
        },
        {
         "name": "INJURIES_TOTAL",
         "dtype": "float64",
         "stats": {
          "unique_count": 16,
          "nan_count": 0,
          "min": "0.0",
          "max": "1.0",
          "histogram": [
           {
            "bin_start": 0,
            "bin_end": 0.1,
            "count": 9
           },
           {
            "bin_start": 0.1,
            "bin_end": 0.2,
            "count": 0
           },
           {
            "bin_start": 0.2,
            "bin_end": 0.30000000000000004,
            "count": 2
           },
           {
            "bin_start": 0.30000000000000004,
            "bin_end": 0.4,
            "count": 4
           },
           {
            "bin_start": 0.4,
            "bin_end": 0.5,
            "count": 0
           },
           {
            "bin_start": 0.5,
            "bin_end": 0.6000000000000001,
            "count": 0
           },
           {
            "bin_start": 0.6000000000000001,
            "bin_end": 0.7000000000000001,
            "count": 0
           },
           {
            "bin_start": 0.7000000000000001,
            "bin_end": 0.8,
            "count": 0
           },
           {
            "bin_start": 0.8,
            "bin_end": 0.9,
            "count": 0
           },
           {
            "bin_start": 0.9,
            "bin_end": 1,
            "count": 1
           }
          ]
         }
        },
        {
         "name": "INJURIES_UNKNOWN",
         "dtype": "float64",
         "stats": {
          "unique_count": 1,
          "nan_count": 0,
          "min": "0.0",
          "max": "0.0",
          "histogram": [
           {
            "bin_start": -0.5,
            "bin_end": -0.4,
            "count": 0
           },
           {
            "bin_start": -0.4,
            "bin_end": -0.3,
            "count": 0
           },
           {
            "bin_start": -0.3,
            "bin_end": -0.19999999999999996,
            "count": 0
           },
           {
            "bin_start": -0.19999999999999996,
            "bin_end": -0.09999999999999998,
            "count": 0
           },
           {
            "bin_start": -0.09999999999999998,
            "bin_end": 0,
            "count": 0
           },
           {
            "bin_start": 0,
            "bin_end": 0.10000000000000009,
            "count": 16
           },
           {
            "bin_start": 0.10000000000000009,
            "bin_end": 0.20000000000000007,
            "count": 0
           },
           {
            "bin_start": 0.20000000000000007,
            "bin_end": 0.30000000000000004,
            "count": 0
           },
           {
            "bin_start": 0.30000000000000004,
            "bin_end": 0.4,
            "count": 0
           },
           {
            "bin_start": 0.4,
            "bin_end": 0.5,
            "count": 0
           }
          ]
         }
        },
        {
         "name": "LANE_CNT",
         "dtype": "float64",
         "stats": {
          "unique_count": 16,
          "nan_count": 0,
          "min": "1.7027027027027026",
          "max": "5.0",
          "histogram": [
           {
            "bin_start": 1.7027027027027026,
            "bin_end": 2.0324324324324325,
            "count": 3
           },
           {
            "bin_start": 2.0324324324324325,
            "bin_end": 2.362162162162162,
            "count": 2
           },
           {
            "bin_start": 2.362162162162162,
            "bin_end": 2.691891891891892,
            "count": 10
           },
           {
            "bin_start": 2.691891891891892,
            "bin_end": 3.0216216216216214,
            "count": 0
           },
           {
            "bin_start": 3.0216216216216214,
            "bin_end": 3.3513513513513513,
            "count": 0
           },
           {
            "bin_start": 3.3513513513513513,
            "bin_end": 3.6810810810810812,
            "count": 0
           },
           {
            "bin_start": 3.6810810810810812,
            "bin_end": 4.010810810810811,
            "count": 0
           },
           {
            "bin_start": 4.010810810810811,
            "bin_end": 4.340540540540541,
            "count": 0
           },
           {
            "bin_start": 4.340540540540541,
            "bin_end": 4.6702702702702705,
            "count": 0
           },
           {
            "bin_start": 4.6702702702702705,
            "bin_end": 5,
            "count": 1
           }
          ]
         }
        },
        {
         "name": "LATITUDE",
         "dtype": "float64",
         "stats": {
          "unique_count": 16,
          "nan_count": 0,
          "min": "41.65953026670048",
          "max": "41.954006093",
          "histogram": [
           {
            "bin_start": 41.65953026670048,
            "bin_end": 41.68897784933043,
            "count": 1
           },
           {
            "bin_start": 41.68897784933043,
            "bin_end": 41.718425431960384,
            "count": 0
           },
           {
            "bin_start": 41.718425431960384,
            "bin_end": 41.74787301459033,
            "count": 0
           },
           {
            "bin_start": 41.74787301459033,
            "bin_end": 41.77732059722029,
            "count": 0
           },
           {
            "bin_start": 41.77732059722029,
            "bin_end": 41.80676817985024,
            "count": 2
           },
           {
            "bin_start": 41.80676817985024,
            "bin_end": 41.83621576248019,
            "count": 0
           },
           {
            "bin_start": 41.83621576248019,
            "bin_end": 41.86566334511014,
            "count": 10
           },
           {
            "bin_start": 41.86566334511014,
            "bin_end": 41.89511092774009,
            "count": 2
           },
           {
            "bin_start": 41.89511092774009,
            "bin_end": 41.92455851037005,
            "count": 0
           },
           {
            "bin_start": 41.92455851037005,
            "bin_end": 41.954006093,
            "count": 1
           }
          ]
         }
        },
        {
         "name": "LONGITUDE",
         "dtype": "float64",
         "stats": {
          "unique_count": 16,
          "nan_count": 0,
          "min": "-87.835332493",
          "max": "-87.27385569068663",
          "histogram": [
           {
            "bin_start": -87.835332493,
            "bin_end": -87.77918481276866,
            "count": 1
           },
           {
            "bin_start": -87.77918481276866,
            "bin_end": -87.72303713253733,
            "count": 0
           },
           {
            "bin_start": -87.72303713253733,
            "bin_end": -87.66688945230598,
            "count": 11
           },
           {
            "bin_start": -87.66688945230598,
            "bin_end": -87.61074177207465,
            "count": 2
           },
           {
            "bin_start": -87.61074177207465,
            "bin_end": -87.55459409184331,
            "count": 1
           },
           {
            "bin_start": -87.55459409184331,
            "bin_end": -87.49844641161198,
            "count": 0
           },
           {
            "bin_start": -87.49844641161198,
            "bin_end": -87.44229873138065,
            "count": 0
           },
           {
            "bin_start": -87.44229873138065,
            "bin_end": -87.3861510511493,
            "count": 0
           },
           {
            "bin_start": -87.3861510511493,
            "bin_end": -87.33000337091796,
            "count": 0
           },
           {
            "bin_start": -87.33000337091796,
            "bin_end": -87.27385569068663,
            "count": 1
           }
          ]
         }
        },
        {
         "name": "NUM_UNITS",
         "dtype": "float64",
         "stats": {
          "unique_count": 16,
          "nan_count": 0,
          "min": "1.6666666666666667",
          "max": "2.5",
          "histogram": [
           {
            "bin_start": 1.6666666666666667,
            "bin_end": 1.75,
            "count": 1
           },
           {
            "bin_start": 1.75,
            "bin_end": 1.8333333333333335,
            "count": 0
           },
           {
            "bin_start": 1.8333333333333335,
            "bin_end": 1.9166666666666667,
            "count": 0
           },
           {
            "bin_start": 1.9166666666666667,
            "bin_end": 2,
            "count": 5
           },
           {
            "bin_start": 2,
            "bin_end": 2.0833333333333335,
            "count": 6
           },
           {
            "bin_start": 2.0833333333333335,
            "bin_end": 2.166666666666667,
            "count": 3
           },
           {
            "bin_start": 2.166666666666667,
            "bin_end": 2.25,
            "count": 0
           },
           {
            "bin_start": 2.25,
            "bin_end": 2.3333333333333335,
            "count": 0
           },
           {
            "bin_start": 2.3333333333333335,
            "bin_end": 2.416666666666667,
            "count": 0
           },
           {
            "bin_start": 2.416666666666667,
            "bin_end": 2.5,
            "count": 1
           }
          ]
         }
        },
        {
         "name": "POSTED_SPEED_LIMIT",
         "dtype": "float64",
         "stats": {
          "unique_count": 16,
          "nan_count": 0,
          "min": "20.0",
          "max": "40.0",
          "histogram": [
           {
            "bin_start": 20,
            "bin_end": 22,
            "count": 1
           },
           {
            "bin_start": 22,
            "bin_end": 24,
            "count": 0
           },
           {
            "bin_start": 24,
            "bin_end": 26,
            "count": 0
           },
           {
            "bin_start": 26,
            "bin_end": 28,
            "count": 4
           },
           {
            "bin_start": 28,
            "bin_end": 30,
            "count": 9
           },
           {
            "bin_start": 30,
            "bin_end": 32,
            "count": 1
           },
           {
            "bin_start": 32,
            "bin_end": 34,
            "count": 0
           },
           {
            "bin_start": 34,
            "bin_end": 36,
            "count": 0
           },
           {
            "bin_start": 36,
            "bin_end": 38,
            "count": 0
           },
           {
            "bin_start": 38,
            "bin_end": 40,
            "count": 1
           }
          ]
         }
        },
        {
         "name": "STREET_NO",
         "dtype": "float64",
         "stats": {
          "unique_count": 16,
          "nan_count": 0,
          "min": "3077.6666666666665",
          "max": "8324.0",
          "histogram": [
           {
            "bin_start": 3077.6666666666665,
            "bin_end": 3602.3,
            "count": 3
           },
           {
            "bin_start": 3602.3,
            "bin_end": 4126.933333333333,
            "count": 11
           },
           {
            "bin_start": 4126.933333333333,
            "bin_end": 4651.566666666667,
            "count": 0
           },
           {
            "bin_start": 4651.566666666667,
            "bin_end": 5176.200000000001,
            "count": 0
           },
           {
            "bin_start": 5176.200000000001,
            "bin_end": 5700.833333333334,
            "count": 0
           },
           {
            "bin_start": 5700.833333333334,
            "bin_end": 6225.466666666667,
            "count": 1
           },
           {
            "bin_start": 6225.466666666667,
            "bin_end": 6750.1,
            "count": 0
           },
           {
            "bin_start": 6750.1,
            "bin_end": 7274.733333333334,
            "count": 0
           },
           {
            "bin_start": 7274.733333333334,
            "bin_end": 7799.366666666667,
            "count": 0
           },
           {
            "bin_start": 7799.366666666667,
            "bin_end": 8324,
            "count": 1
           }
          ]
         }
        },
        {
         "name": "Unnamed: 0",
         "dtype": "float64",
         "stats": {
          "unique_count": 16,
          "nan_count": 0,
          "min": "199036.53367875647",
          "max": "322381.0",
          "histogram": [
           {
            "bin_start": 199036.53367875647,
            "bin_end": 211370.9803108808,
            "count": 3
           },
           {
            "bin_start": 211370.9803108808,
            "bin_end": 223705.42694300518,
            "count": 3
           },
           {
            "bin_start": 223705.42694300518,
            "bin_end": 236039.87357512955,
            "count": 6
           },
           {
            "bin_start": 236039.87357512955,
            "bin_end": 248374.32020725388,
            "count": 2
           },
           {
            "bin_start": 248374.32020725388,
            "bin_end": 260708.76683937822,
            "count": 0
           },
           {
            "bin_start": 260708.76683937822,
            "bin_end": 273043.2134715026,
            "count": 0
           },
           {
            "bin_start": 273043.2134715026,
            "bin_end": 285377.66010362696,
            "count": 0
           },
           {
            "bin_start": 285377.66010362696,
            "bin_end": 297712.10673575127,
            "count": 0
           },
           {
            "bin_start": 297712.10673575127,
            "bin_end": 310046.55336787563,
            "count": 0
           },
           {
            "bin_start": 310046.55336787563,
            "bin_end": 322381,
            "count": 2
           }
          ]
         }
        },
        {
         "name": "_deepnote_index_column",
         "dtype": "object"
        }
       ],
       "rows_top": [
        {
         "BEAT_OF_OCCURRENCE": 1614,
         "CRASH_DAY_OF_WEEK": 5,
         "CRASH_HOUR": 20,
         "CRASH_MONTH": 6,
         "INJURIES_FATAL": 0,
         "INJURIES_INCAPACITATING": 0,
         "INJURIES_NON_INCAPACITATING": 0,
         "INJURIES_NO_INDICATION": 2,
         "INJURIES_REPORTED_NOT_EVIDENT": 0,
         "INJURIES_TOTAL": 0,
         "INJURIES_UNKNOWN": 0,
         "LANE_CNT": 2,
         "LATITUDE": 41.954006093,
         "LONGITUDE": -87.835332493,
         "NUM_UNITS": 2,
         "POSTED_SPEED_LIMIT": 30,
         "STREET_NO": 8324,
         "Unnamed: 0": 322381,
         "_deepnote_index_column": "('DARKNESS', 'AMENDED')"
        },
        {
         "BEAT_OF_OCCURRENCE": 1183.0790899241604,
         "CRASH_DAY_OF_WEEK": 4.1007583965330445,
         "CRASH_HOUR": 15.395449620801733,
         "CRASH_MONTH": 6.9035752979414955,
         "INJURIES_FATAL": 0,
         "INJURIES_INCAPACITATING": 0.015167930660888408,
         "INJURIES_NON_INCAPACITATING": 0.027085590465872156,
         "INJURIES_NO_INDICATION": 1.9349945828819068,
         "INJURIES_REPORTED_NOT_EVIDENT": 0.03358613217768147,
         "INJURIES_TOTAL": 0.07583965330444203,
         "INJURIES_UNKNOWN": 0,
         "LANE_CNT": 2.5486725663716814,
         "LATITUDE": 41.8463632939738,
         "LONGITUDE": -87.67004353261233,
         "NUM_UNITS": 1.9739978331527628,
         "POSTED_SPEED_LIMIT": 27.621885157096425,
         "STREET_NO": 3777.507042253521,
         "Unnamed: 0": 230103.15384615384,
         "_deepnote_index_column": "('DARKNESS', 'NOT ON SCENE (DESK REPORT)')"
        },
        {
         "BEAT_OF_OCCURRENCE": 1166.4882352941177,
         "CRASH_DAY_OF_WEEK": 4.2,
         "CRASH_HOUR": 13.735294117647058,
         "CRASH_MONTH": 6.786274509803921,
         "INJURIES_FATAL": 0,
         "INJURIES_INCAPACITATING": 0.03929273084479371,
         "INJURIES_NON_INCAPACITATING": 0.2082514734774067,
         "INJURIES_NO_INDICATION": 1.6797642436149312,
         "INJURIES_REPORTED_NOT_EVIDENT": 0.11591355599214145,
         "INJURIES_TOTAL": 0.36345776031434185,
         "INJURIES_UNKNOWN": 0,
         "LANE_CNT": 2.316279069767442,
         "LATITUDE": 41.84218059299214,
         "LONGITUDE": -87.67556576321495,
         "NUM_UNITS": 2.074509803921569,
         "POSTED_SPEED_LIMIT": 28.29019607843137,
         "STREET_NO": 3991.0176470588235,
         "Unnamed: 0": 214160.031372549,
         "_deepnote_index_column": "('DARKNESS', 'ON SCENE')"
        },
        {
         "BEAT_OF_OCCURRENCE": 922.6666666666666,
         "CRASH_DAY_OF_WEEK": 6.333333333333333,
         "CRASH_HOUR": 22,
         "CRASH_MONTH": 4.333333333333333,
         "INJURIES_FATAL": 0.3333333333333333,
         "INJURIES_INCAPACITATING": 0,
         "INJURIES_NON_INCAPACITATING": 0,
         "INJURIES_NO_INDICATION": 1,
         "INJURIES_REPORTED_NOT_EVIDENT": 0,
         "INJURIES_TOTAL": 0.3333333333333333,
         "INJURIES_UNKNOWN": 0,
         "LANE_CNT": 2.6666666666666665,
         "LATITUDE": 41.80355633866666,
         "LONGITUDE": -87.638637858,
         "NUM_UNITS": 1.6666666666666667,
         "POSTED_SPEED_LIMIT": 20,
         "STREET_NO": 3077.6666666666665,
         "Unnamed: 0": 315089.3333333333,
         "_deepnote_index_column": "('DARKNESS, LIGHTED ROAD', 'AMENDED')"
        },
        {
         "BEAT_OF_OCCURRENCE": 1298.2976985894582,
         "CRASH_DAY_OF_WEEK": 4.208611729769859,
         "CRASH_HOUR": 15.688938381588716,
         "CRASH_MONTH": 6.579064587973274,
         "INJURIES_FATAL": 0,
         "INJURIES_INCAPACITATING": 0.006310319227913883,
         "INJURIES_NON_INCAPACITATING": 0.030438010393466965,
         "INJURIES_NO_INDICATION": 2.0579064587973273,
         "INJURIES_REPORTED_NOT_EVIDENT": 0.033778767631774315,
         "INJURIES_TOTAL": 0.07052709725315516,
         "INJURIES_UNKNOWN": 0,
         "LANE_CNT": 2.5021676300578033,
         "LATITUDE": 41.86538548593035,
         "LONGITUDE": -87.67725099104968,
         "NUM_UNITS": 1.9970304380103934,
         "POSTED_SPEED_LIMIT": 28.47698589458055,
         "STREET_NO": 3505.801781737194,
         "Unnamed: 0": 233109.35337787677,
         "_deepnote_index_column": "('DARKNESS, LIGHTED ROAD', 'NOT ON SCENE (DESK REPORT)')"
        },
        {
         "BEAT_OF_OCCURRENCE": 1223.0771523178807,
         "CRASH_DAY_OF_WEEK": 4.061258278145695,
         "CRASH_HOUR": 12.978807947019867,
         "CRASH_MONTH": 6.926158940397351,
         "INJURIES_FATAL": 0.004666666666666667,
         "INJURIES_INCAPACITATING": 0.04566666666666667,
         "INJURIES_NON_INCAPACITATING": 0.22466666666666665,
         "INJURIES_NO_INDICATION": 1.841,
         "INJURIES_REPORTED_NOT_EVIDENT": 0.093,
         "INJURIES_TOTAL": 0.368,
         "INJURIES_UNKNOWN": 0,
         "LANE_CNT": 2.5323795180722892,
         "LATITUDE": 41.83954282292642,
         "LONGITUDE": -87.65104728750826,
         "NUM_UNITS": 2.0963576158940396,
         "POSTED_SPEED_LIMIT": 29.26225165562914,
         "STREET_NO": 3663.9049668874172,
         "Unnamed: 0": 219285.0963576159,
         "_deepnote_index_column": "('DARKNESS, LIGHTED ROAD', 'ON SCENE')"
        },
        {
         "BEAT_OF_OCCURRENCE": 1137.3027888446215,
         "CRASH_DAY_OF_WEEK": 4.047808764940239,
         "CRASH_HOUR": 11.816733067729084,
         "CRASH_MONTH": 6.900398406374502,
         "INJURIES_FATAL": 0,
         "INJURIES_INCAPACITATING": 0.00398406374501992,
         "INJURIES_NON_INCAPACITATING": 0.05179282868525897,
         "INJURIES_NO_INDICATION": 1.948207171314741,
         "INJURIES_REPORTED_NOT_EVIDENT": 0.035856573705179286,
         "INJURIES_TOTAL": 0.09163346613545817,
         "INJURIES_UNKNOWN": 0,
         "LANE_CNT": 2.5392156862745097,
         "LATITUDE": 41.84744377213944,
         "LONGITUDE": -87.67403217859366,
         "NUM_UNITS": 1.9721115537848606,
         "POSTED_SPEED_LIMIT": 28.46613545816733,
         "STREET_NO": 3835.406374501992,
         "Unnamed: 0": 230564.91633466136,
         "_deepnote_index_column": "('DAWN', 'NOT ON SCENE (DESK REPORT)')"
        },
        {
         "BEAT_OF_OCCURRENCE": 1183.7601809954751,
         "CRASH_DAY_OF_WEEK": 4.049773755656108,
         "CRASH_HOUR": 9.266968325791856,
         "CRASH_MONTH": 6.909502262443439,
         "INJURIES_FATAL": 0,
         "INJURIES_INCAPACITATING": 0.02727272727272727,
         "INJURIES_NON_INCAPACITATING": 0.18636363636363637,
         "INJURIES_NO_INDICATION": 1.8181818181818181,
         "INJURIES_REPORTED_NOT_EVIDENT": 0.05909090909090909,
         "INJURIES_TOTAL": 0.2727272727272727,
         "INJURIES_UNKNOWN": 0,
         "LANE_CNT": 2.511904761904762,
         "LATITUDE": 41.65953026670048,
         "LONGITUDE": -87.27385569068663,
         "NUM_UNITS": 2.0361990950226243,
         "POSTED_SPEED_LIMIT": 28.34389140271493,
         "STREET_NO": 3942.5701357466064,
         "Unnamed: 0": 206568.77375565612,
         "_deepnote_index_column": "('DAWN', 'ON SCENE')"
        },
        {
         "BEAT_OF_OCCURRENCE": 1261.6923076923076,
         "CRASH_DAY_OF_WEEK": 4.3076923076923075,
         "CRASH_HOUR": 11.923076923076923,
         "CRASH_MONTH": 7,
         "INJURIES_FATAL": 0,
         "INJURIES_INCAPACITATING": 0,
         "INJURIES_NON_INCAPACITATING": 0.07692307692307693,
         "INJURIES_NO_INDICATION": 2.6153846153846154,
         "INJURIES_REPORTED_NOT_EVIDENT": 0,
         "INJURIES_TOTAL": 0.07692307692307693,
         "INJURIES_UNKNOWN": 0,
         "LANE_CNT": 2.3333333333333335,
         "LATITUDE": 41.88479417761538,
         "LONGITUDE": -87.6774381403077,
         "NUM_UNITS": 2.1538461538461537,
         "POSTED_SPEED_LIMIT": 29.615384615384617,
         "STREET_NO": 3802.846153846154,
         "Unnamed: 0": 204369.53846153847,
         "_deepnote_index_column": "('DAYLIGHT', 'AMENDED')"
        },
        {
         "BEAT_OF_OCCURRENCE": 1263.180460597337,
         "CRASH_DAY_OF_WEEK": 4.127473911478949,
         "CRASH_HOUR": 12.749100395825836,
         "CRASH_MONTH": 6.5660309463835915,
         "INJURIES_FATAL": 0,
         "INJURIES_INCAPACITATING": 0.001981089599279604,
         "INJURIES_NON_INCAPACITATING": 0.021341737955875732,
         "INJURIES_NO_INDICATION": 2.104817649707339,
         "INJURIES_REPORTED_NOT_EVIDENT": 0.028725799189554254,
         "INJURIES_TOTAL": 0.05204862674470959,
         "INJURIES_UNKNOWN": 0,
         "LANE_CNT": 2.5982939123691353,
         "LATITUDE": 41.85970722358553,
         "LONGITUDE": -87.66971065063886,
         "NUM_UNITS": 2.004048218783735,
         "POSTED_SPEED_LIMIT": 27.99658150413818,
         "STREET_NO": 3498.125314861461,
         "Unnamed: 0": 229400.86964735517,
         "_deepnote_index_column": "('DAYLIGHT', 'NOT ON SCENE (DESK REPORT)')"
        },
        {
         "BEAT_OF_OCCURRENCE": 1228.7576923076922,
         "CRASH_DAY_OF_WEEK": 4.129142011834319,
         "CRASH_HOUR": 12.275,
         "CRASH_MONTH": 6.650739644970415,
         "INJURIES_FATAL": 0.0013337285121517487,
         "INJURIES_INCAPACITATING": 0.03586247777119146,
         "INJURIES_NON_INCAPACITATING": 0.19605809128630705,
         "INJURIES_NO_INDICATION": 2.0417901600474213,
         "INJURIES_REPORTED_NOT_EVIDENT": 0.0981031416716064,
         "INJURIES_TOTAL": 0.33135743924125666,
         "INJURIES_UNKNOWN": 0,
         "LANE_CNT": 2.6225341426403643,
         "LATITUDE": 41.85627081838205,
         "LONGITUDE": -87.68050650158852,
         "NUM_UNITS": 2.06405325443787,
         "POSTED_SPEED_LIMIT": 28.331360946745562,
         "STREET_NO": 3703.470710059172,
         "Unnamed: 0": 215604.41893491126,
         "_deepnote_index_column": "('DAYLIGHT', 'ON SCENE')"
        },
        {
         "BEAT_OF_OCCURRENCE": 321.5,
         "CRASH_DAY_OF_WEEK": 3.5,
         "CRASH_HOUR": 20,
         "CRASH_MONTH": 6,
         "INJURIES_FATAL": 0,
         "INJURIES_INCAPACITATING": 0,
         "INJURIES_NON_INCAPACITATING": 1,
         "INJURIES_NO_INDICATION": 3.5,
         "INJURIES_REPORTED_NOT_EVIDENT": 0,
         "INJURIES_TOTAL": 1,
         "INJURIES_UNKNOWN": 0,
         "LANE_CNT": 5,
         "LATITUDE": 41.785815802,
         "LONGITUDE": -87.5979580305,
         "NUM_UNITS": 2.5,
         "POSTED_SPEED_LIMIT": 40,
         "STREET_NO": 6000,
         "Unnamed: 0": 238542.5,
         "_deepnote_index_column": "('DUSK', 'AMENDED')"
        },
        {
         "BEAT_OF_OCCURRENCE": 1252.676891615542,
         "CRASH_DAY_OF_WEEK": 4.034764826175869,
         "CRASH_HOUR": 16.787321063394682,
         "CRASH_MONTH": 7.406952965235174,
         "INJURIES_FATAL": 0,
         "INJURIES_INCAPACITATING": 0.004098360655737705,
         "INJURIES_NON_INCAPACITATING": 0.030737704918032786,
         "INJURIES_NO_INDICATION": 2.1700819672131146,
         "INJURIES_REPORTED_NOT_EVIDENT": 0.02663934426229508,
         "INJURIES_TOTAL": 0.06147540983606557,
         "INJURIES_UNKNOWN": 0,
         "LANE_CNT": 2.4043478260869566,
         "LATITUDE": 41.85206279328134,
         "LONGITUDE": -87.67815777703488,
         "NUM_UNITS": 1.9938650306748467,
         "POSTED_SPEED_LIMIT": 28.139059304703476,
         "STREET_NO": 3787.7034764826176,
         "Unnamed: 0": 224259.25766871165,
         "_deepnote_index_column": "('DUSK', 'NOT ON SCENE (DESK REPORT)')"
        },
        {
         "BEAT_OF_OCCURRENCE": 1223.2553191489362,
         "CRASH_DAY_OF_WEEK": 4.179331306990881,
         "CRASH_HOUR": 16.90577507598784,
         "CRASH_MONTH": 6.908814589665654,
         "INJURIES_FATAL": 0.003048780487804878,
         "INJURIES_INCAPACITATING": 0.03353658536585366,
         "INJURIES_NON_INCAPACITATING": 0.17073170731707318,
         "INJURIES_NO_INDICATION": 2.1219512195121952,
         "INJURIES_REPORTED_NOT_EVIDENT": 0.08536585365853659,
         "INJURIES_TOTAL": 0.2926829268292683,
         "INJURIES_UNKNOWN": 0,
         "LANE_CNT": 2.5826771653543306,
         "LATITUDE": 41.85478350151375,
         "LONGITUDE": -87.67743590977682,
         "NUM_UNITS": 2.094224924012158,
         "POSTED_SPEED_LIMIT": 28.86018237082067,
         "STREET_NO": 3773.2674772036476,
         "Unnamed: 0": 236552.3282674772,
         "_deepnote_index_column": "('DUSK', 'ON SCENE')"
        },
        {
         "BEAT_OF_OCCURRENCE": 1410.56640625,
         "CRASH_DAY_OF_WEEK": 4.127438231469441,
         "CRASH_HOUR": 12.798439531859557,
         "CRASH_MONTH": 6.931079323797139,
         "INJURIES_FATAL": 0,
         "INJURIES_INCAPACITATING": 0.001303780964797914,
         "INJURIES_NON_INCAPACITATING": 0.010430247718383311,
         "INJURIES_NO_INDICATION": 1.514993481095176,
         "INJURIES_REPORTED_NOT_EVIDENT": 0.007822685788787484,
         "INJURIES_TOTAL": 0.01955671447196871,
         "INJURIES_UNKNOWN": 0,
         "LANE_CNT": 1.8579710144927537,
         "LATITUDE": 41.87068707682272,
         "LONGITUDE": -87.68401142263104,
         "NUM_UNITS": 1.9856957087126137,
         "POSTED_SPEED_LIMIT": 26.762028608582575,
         "STREET_NO": 3886.2392717815346,
         "Unnamed: 0": 227247.08842652795,
         "_deepnote_index_column": "('UNKNOWN', 'NOT ON SCENE (DESK REPORT)')"
        },
        {
         "BEAT_OF_OCCURRENCE": 1258.6683937823834,
         "CRASH_DAY_OF_WEEK": 4.010362694300518,
         "CRASH_HOUR": 10.393782383419689,
         "CRASH_MONTH": 6.844559585492228,
         "INJURIES_FATAL": 0,
         "INJURIES_INCAPACITATING": 0.005235602094240838,
         "INJURIES_NON_INCAPACITATING": 0.05235602094240838,
         "INJURIES_NO_INDICATION": 1.1780104712041886,
         "INJURIES_REPORTED_NOT_EVIDENT": 0.020942408376963352,
         "INJURIES_TOTAL": 0.07853403141361257,
         "INJURIES_UNKNOWN": 0,
         "LANE_CNT": 1.7027027027027026,
         "LATITUDE": 41.8591398746354,
         "LONGITUDE": -87.67776384752085,
         "NUM_UNITS": 2.0207253886010363,
         "POSTED_SPEED_LIMIT": 26.031088082901555,
         "STREET_NO": 3932.880829015544,
         "Unnamed: 0": 199036.53367875647,
         "_deepnote_index_column": "('UNKNOWN', 'ON SCENE')"
        }
       ],
       "rows_bottom": null
      },
      "text/plain": "                                                   BEAT_OF_OCCURRENCE  \\\nLIGHTING_CONDITION     REPORT_TYPE                                      \nDARKNESS               AMENDED                            1614.000000   \n                       NOT ON SCENE (DESK REPORT)         1183.079090   \n                       ON SCENE                           1166.488235   \nDARKNESS, LIGHTED ROAD AMENDED                             922.666667   \n                       NOT ON SCENE (DESK REPORT)         1298.297699   \n                       ON SCENE                           1223.077152   \nDAWN                   NOT ON SCENE (DESK REPORT)         1137.302789   \n                       ON SCENE                           1183.760181   \nDAYLIGHT               AMENDED                            1261.692308   \n                       NOT ON SCENE (DESK REPORT)         1263.180461   \n                       ON SCENE                           1228.757692   \nDUSK                   AMENDED                             321.500000   \n                       NOT ON SCENE (DESK REPORT)         1252.676892   \n                       ON SCENE                           1223.255319   \nUNKNOWN                NOT ON SCENE (DESK REPORT)         1410.566406   \n                       ON SCENE                           1258.668394   \n\n                                                   CRASH_DAY_OF_WEEK  \\\nLIGHTING_CONDITION     REPORT_TYPE                                     \nDARKNESS               AMENDED                              5.000000   \n                       NOT ON SCENE (DESK REPORT)           4.100758   \n                       ON SCENE                             4.200000   \nDARKNESS, LIGHTED ROAD AMENDED                              6.333333   \n                       NOT ON SCENE (DESK REPORT)           4.208612   \n                       ON SCENE                             4.061258   \nDAWN                   NOT ON SCENE (DESK REPORT)           4.047809   \n                       ON SCENE                             4.049774   \nDAYLIGHT               AMENDED                              4.307692   \n                       NOT ON SCENE (DESK REPORT)           4.127474   \n                       ON SCENE                             4.129142   \nDUSK                   AMENDED                              3.500000   \n                       NOT ON SCENE (DESK REPORT)           4.034765   \n                       ON SCENE                             4.179331   \nUNKNOWN                NOT ON SCENE (DESK REPORT)           4.127438   \n                       ON SCENE                             4.010363   \n\n                                                   CRASH_HOUR  CRASH_MONTH  \\\nLIGHTING_CONDITION     REPORT_TYPE                                           \nDARKNESS               AMENDED                      20.000000     6.000000   \n                       NOT ON SCENE (DESK REPORT)   15.395450     6.903575   \n                       ON SCENE                     13.735294     6.786275   \nDARKNESS, LIGHTED ROAD AMENDED                      22.000000     4.333333   \n                       NOT ON SCENE (DESK REPORT)   15.688938     6.579065   \n                       ON SCENE                     12.978808     6.926159   \nDAWN                   NOT ON SCENE (DESK REPORT)   11.816733     6.900398   \n                       ON SCENE                      9.266968     6.909502   \nDAYLIGHT               AMENDED                      11.923077     7.000000   \n                       NOT ON SCENE (DESK REPORT)   12.749100     6.566031   \n                       ON SCENE                     12.275000     6.650740   \nDUSK                   AMENDED                      20.000000     6.000000   \n                       NOT ON SCENE (DESK REPORT)   16.787321     7.406953   \n                       ON SCENE                     16.905775     6.908815   \nUNKNOWN                NOT ON SCENE (DESK REPORT)   12.798440     6.931079   \n                       ON SCENE                     10.393782     6.844560   \n\n                                                   INJURIES_FATAL  \\\nLIGHTING_CONDITION     REPORT_TYPE                                  \nDARKNESS               AMENDED                           0.000000   \n                       NOT ON SCENE (DESK REPORT)        0.000000   \n                       ON SCENE                          0.000000   \nDARKNESS, LIGHTED ROAD AMENDED                           0.333333   \n                       NOT ON SCENE (DESK REPORT)        0.000000   \n                       ON SCENE                          0.004667   \nDAWN                   NOT ON SCENE (DESK REPORT)        0.000000   \n                       ON SCENE                          0.000000   \nDAYLIGHT               AMENDED                           0.000000   \n                       NOT ON SCENE (DESK REPORT)        0.000000   \n                       ON SCENE                          0.001334   \nDUSK                   AMENDED                           0.000000   \n                       NOT ON SCENE (DESK REPORT)        0.000000   \n                       ON SCENE                          0.003049   \nUNKNOWN                NOT ON SCENE (DESK REPORT)        0.000000   \n                       ON SCENE                          0.000000   \n\n                                                   INJURIES_INCAPACITATING  \\\nLIGHTING_CONDITION     REPORT_TYPE                                           \nDARKNESS               AMENDED                                    0.000000   \n                       NOT ON SCENE (DESK REPORT)                 0.015168   \n                       ON SCENE                                   0.039293   \nDARKNESS, LIGHTED ROAD AMENDED                                    0.000000   \n                       NOT ON SCENE (DESK REPORT)                 0.006310   \n                       ON SCENE                                   0.045667   \nDAWN                   NOT ON SCENE (DESK REPORT)                 0.003984   \n                       ON SCENE                                   0.027273   \nDAYLIGHT               AMENDED                                    0.000000   \n                       NOT ON SCENE (DESK REPORT)                 0.001981   \n                       ON SCENE                                   0.035862   \nDUSK                   AMENDED                                    0.000000   \n                       NOT ON SCENE (DESK REPORT)                 0.004098   \n                       ON SCENE                                   0.033537   \nUNKNOWN                NOT ON SCENE (DESK REPORT)                 0.001304   \n                       ON SCENE                                   0.005236   \n\n                                                   INJURIES_NON_INCAPACITATING  \\\nLIGHTING_CONDITION     REPORT_TYPE                                               \nDARKNESS               AMENDED                                        0.000000   \n                       NOT ON SCENE (DESK REPORT)                     0.027086   \n                       ON SCENE                                       0.208251   \nDARKNESS, LIGHTED ROAD AMENDED                                        0.000000   \n                       NOT ON SCENE (DESK REPORT)                     0.030438   \n                       ON SCENE                                       0.224667   \nDAWN                   NOT ON SCENE (DESK REPORT)                     0.051793   \n                       ON SCENE                                       0.186364   \nDAYLIGHT               AMENDED                                        0.076923   \n                       NOT ON SCENE (DESK REPORT)                     0.021342   \n                       ON SCENE                                       0.196058   \nDUSK                   AMENDED                                        1.000000   \n                       NOT ON SCENE (DESK REPORT)                     0.030738   \n                       ON SCENE                                       0.170732   \nUNKNOWN                NOT ON SCENE (DESK REPORT)                     0.010430   \n                       ON SCENE                                       0.052356   \n\n                                                   INJURIES_NO_INDICATION  \\\nLIGHTING_CONDITION     REPORT_TYPE                                          \nDARKNESS               AMENDED                                   2.000000   \n                       NOT ON SCENE (DESK REPORT)                1.934995   \n                       ON SCENE                                  1.679764   \nDARKNESS, LIGHTED ROAD AMENDED                                   1.000000   \n                       NOT ON SCENE (DESK REPORT)                2.057906   \n                       ON SCENE                                  1.841000   \nDAWN                   NOT ON SCENE (DESK REPORT)                1.948207   \n                       ON SCENE                                  1.818182   \nDAYLIGHT               AMENDED                                   2.615385   \n                       NOT ON SCENE (DESK REPORT)                2.104818   \n                       ON SCENE                                  2.041790   \nDUSK                   AMENDED                                   3.500000   \n                       NOT ON SCENE (DESK REPORT)                2.170082   \n                       ON SCENE                                  2.121951   \nUNKNOWN                NOT ON SCENE (DESK REPORT)                1.514993   \n                       ON SCENE                                  1.178010   \n\n                                                   INJURIES_REPORTED_NOT_EVIDENT  \\\nLIGHTING_CONDITION     REPORT_TYPE                                                 \nDARKNESS               AMENDED                                          0.000000   \n                       NOT ON SCENE (DESK REPORT)                       0.033586   \n                       ON SCENE                                         0.115914   \nDARKNESS, LIGHTED ROAD AMENDED                                          0.000000   \n                       NOT ON SCENE (DESK REPORT)                       0.033779   \n                       ON SCENE                                         0.093000   \nDAWN                   NOT ON SCENE (DESK REPORT)                       0.035857   \n                       ON SCENE                                         0.059091   \nDAYLIGHT               AMENDED                                          0.000000   \n                       NOT ON SCENE (DESK REPORT)                       0.028726   \n                       ON SCENE                                         0.098103   \nDUSK                   AMENDED                                          0.000000   \n                       NOT ON SCENE (DESK REPORT)                       0.026639   \n                       ON SCENE                                         0.085366   \nUNKNOWN                NOT ON SCENE (DESK REPORT)                       0.007823   \n                       ON SCENE                                         0.020942   \n\n                                                   INJURIES_TOTAL  \\\nLIGHTING_CONDITION     REPORT_TYPE                                  \nDARKNESS               AMENDED                           0.000000   \n                       NOT ON SCENE (DESK REPORT)        0.075840   \n                       ON SCENE                          0.363458   \nDARKNESS, LIGHTED ROAD AMENDED                           0.333333   \n                       NOT ON SCENE (DESK REPORT)        0.070527   \n                       ON SCENE                          0.368000   \nDAWN                   NOT ON SCENE (DESK REPORT)        0.091633   \n                       ON SCENE                          0.272727   \nDAYLIGHT               AMENDED                           0.076923   \n                       NOT ON SCENE (DESK REPORT)        0.052049   \n                       ON SCENE                          0.331357   \nDUSK                   AMENDED                           1.000000   \n                       NOT ON SCENE (DESK REPORT)        0.061475   \n                       ON SCENE                          0.292683   \nUNKNOWN                NOT ON SCENE (DESK REPORT)        0.019557   \n                       ON SCENE                          0.078534   \n\n                                                   INJURIES_UNKNOWN  LANE_CNT  \\\nLIGHTING_CONDITION     REPORT_TYPE                                              \nDARKNESS               AMENDED                                  0.0  2.000000   \n                       NOT ON SCENE (DESK REPORT)               0.0  2.548673   \n                       ON SCENE                                 0.0  2.316279   \nDARKNESS, LIGHTED ROAD AMENDED                                  0.0  2.666667   \n                       NOT ON SCENE (DESK REPORT)               0.0  2.502168   \n                       ON SCENE                                 0.0  2.532380   \nDAWN                   NOT ON SCENE (DESK REPORT)               0.0  2.539216   \n                       ON SCENE                                 0.0  2.511905   \nDAYLIGHT               AMENDED                                  0.0  2.333333   \n                       NOT ON SCENE (DESK REPORT)               0.0  2.598294   \n                       ON SCENE                                 0.0  2.622534   \nDUSK                   AMENDED                                  0.0  5.000000   \n                       NOT ON SCENE (DESK REPORT)               0.0  2.404348   \n                       ON SCENE                                 0.0  2.582677   \nUNKNOWN                NOT ON SCENE (DESK REPORT)               0.0  1.857971   \n                       ON SCENE                                 0.0  1.702703   \n\n                                                    LATITUDE  LONGITUDE  \\\nLIGHTING_CONDITION     REPORT_TYPE                                        \nDARKNESS               AMENDED                     41.954006 -87.835332   \n                       NOT ON SCENE (DESK REPORT)  41.846363 -87.670044   \n                       ON SCENE                    41.842181 -87.675566   \nDARKNESS, LIGHTED ROAD AMENDED                     41.803556 -87.638638   \n                       NOT ON SCENE (DESK REPORT)  41.865385 -87.677251   \n                       ON SCENE                    41.839543 -87.651047   \nDAWN                   NOT ON SCENE (DESK REPORT)  41.847444 -87.674032   \n                       ON SCENE                    41.659530 -87.273856   \nDAYLIGHT               AMENDED                     41.884794 -87.677438   \n                       NOT ON SCENE (DESK REPORT)  41.859707 -87.669711   \n                       ON SCENE                    41.856271 -87.680507   \nDUSK                   AMENDED                     41.785816 -87.597958   \n                       NOT ON SCENE (DESK REPORT)  41.852063 -87.678158   \n                       ON SCENE                    41.854784 -87.677436   \nUNKNOWN                NOT ON SCENE (DESK REPORT)  41.870687 -87.684011   \n                       ON SCENE                    41.859140 -87.677764   \n\n                                                   NUM_UNITS  \\\nLIGHTING_CONDITION     REPORT_TYPE                             \nDARKNESS               AMENDED                      2.000000   \n                       NOT ON SCENE (DESK REPORT)   1.973998   \n                       ON SCENE                     2.074510   \nDARKNESS, LIGHTED ROAD AMENDED                      1.666667   \n                       NOT ON SCENE (DESK REPORT)   1.997030   \n                       ON SCENE                     2.096358   \nDAWN                   NOT ON SCENE (DESK REPORT)   1.972112   \n                       ON SCENE                     2.036199   \nDAYLIGHT               AMENDED                      2.153846   \n                       NOT ON SCENE (DESK REPORT)   2.004048   \n                       ON SCENE                     2.064053   \nDUSK                   AMENDED                      2.500000   \n                       NOT ON SCENE (DESK REPORT)   1.993865   \n                       ON SCENE                     2.094225   \nUNKNOWN                NOT ON SCENE (DESK REPORT)   1.985696   \n                       ON SCENE                     2.020725   \n\n                                                   POSTED_SPEED_LIMIT  \\\nLIGHTING_CONDITION     REPORT_TYPE                                      \nDARKNESS               AMENDED                              30.000000   \n                       NOT ON SCENE (DESK REPORT)           27.621885   \n                       ON SCENE                             28.290196   \nDARKNESS, LIGHTED ROAD AMENDED                              20.000000   \n                       NOT ON SCENE (DESK REPORT)           28.476986   \n                       ON SCENE                             29.262252   \nDAWN                   NOT ON SCENE (DESK REPORT)           28.466135   \n                       ON SCENE                             28.343891   \nDAYLIGHT               AMENDED                              29.615385   \n                       NOT ON SCENE (DESK REPORT)           27.996582   \n                       ON SCENE                             28.331361   \nDUSK                   AMENDED                              40.000000   \n                       NOT ON SCENE (DESK REPORT)           28.139059   \n                       ON SCENE                             28.860182   \nUNKNOWN                NOT ON SCENE (DESK REPORT)           26.762029   \n                       ON SCENE                             26.031088   \n\n                                                     STREET_NO     Unnamed: 0  \nLIGHTING_CONDITION     REPORT_TYPE                                             \nDARKNESS               AMENDED                     8324.000000  322381.000000  \n                       NOT ON SCENE (DESK REPORT)  3777.507042  230103.153846  \n                       ON SCENE                    3991.017647  214160.031373  \nDARKNESS, LIGHTED ROAD AMENDED                     3077.666667  315089.333333  \n                       NOT ON SCENE (DESK REPORT)  3505.801782  233109.353378  \n                       ON SCENE                    3663.904967  219285.096358  \nDAWN                   NOT ON SCENE (DESK REPORT)  3835.406375  230564.916335  \n                       ON SCENE                    3942.570136  206568.773756  \nDAYLIGHT               AMENDED                     3802.846154  204369.538462  \n                       NOT ON SCENE (DESK REPORT)  3498.125315  229400.869647  \n                       ON SCENE                    3703.470710  215604.418935  \nDUSK                   AMENDED                     6000.000000  238542.500000  \n                       NOT ON SCENE (DESK REPORT)  3787.703476  224259.257669  \n                       ON SCENE                    3773.267477  236552.328267  \nUNKNOWN                NOT ON SCENE (DESK REPORT)  3886.239272  227247.088427  \n                       ON SCENE                    3932.880829  199036.533679  ",
      "text/html": "<div>\n<style scoped>\n    .dataframe tbody tr th:only-of-type {\n        vertical-align: middle;\n    }\n\n    .dataframe tbody tr th {\n        vertical-align: top;\n    }\n\n    .dataframe thead th {\n        text-align: right;\n    }\n</style>\n<table border=\"1\" class=\"dataframe\">\n  <thead>\n    <tr style=\"text-align: right;\">\n      <th></th>\n      <th></th>\n      <th>BEAT_OF_OCCURRENCE</th>\n      <th>CRASH_DAY_OF_WEEK</th>\n      <th>CRASH_HOUR</th>\n      <th>CRASH_MONTH</th>\n      <th>INJURIES_FATAL</th>\n      <th>INJURIES_INCAPACITATING</th>\n      <th>INJURIES_NON_INCAPACITATING</th>\n      <th>INJURIES_NO_INDICATION</th>\n      <th>INJURIES_REPORTED_NOT_EVIDENT</th>\n      <th>INJURIES_TOTAL</th>\n      <th>INJURIES_UNKNOWN</th>\n      <th>LANE_CNT</th>\n      <th>LATITUDE</th>\n      <th>LONGITUDE</th>\n      <th>NUM_UNITS</th>\n      <th>POSTED_SPEED_LIMIT</th>\n      <th>STREET_NO</th>\n      <th>Unnamed: 0</th>\n    </tr>\n    <tr>\n      <th>LIGHTING_CONDITION</th>\n      <th>REPORT_TYPE</th>\n      <th></th>\n      <th></th>\n      <th></th>\n      <th></th>\n      <th></th>\n      <th></th>\n      <th></th>\n      <th></th>\n      <th></th>\n      <th></th>\n      <th></th>\n      <th></th>\n      <th></th>\n      <th></th>\n      <th></th>\n      <th></th>\n      <th></th>\n      <th></th>\n    </tr>\n  </thead>\n  <tbody>\n    <tr>\n      <th rowspan=\"3\" valign=\"top\">DARKNESS</th>\n      <th>AMENDED</th>\n      <td>1614.000000</td>\n      <td>5.000000</td>\n      <td>20.000000</td>\n      <td>6.000000</td>\n      <td>0.000000</td>\n      <td>0.000000</td>\n      <td>0.000000</td>\n      <td>2.000000</td>\n      <td>0.000000</td>\n      <td>0.000000</td>\n      <td>0.0</td>\n      <td>2.000000</td>\n      <td>41.954006</td>\n      <td>-87.835332</td>\n      <td>2.000000</td>\n      <td>30.000000</td>\n      <td>8324.000000</td>\n      <td>322381.000000</td>\n    </tr>\n    <tr>\n      <th>NOT ON SCENE (DESK REPORT)</th>\n      <td>1183.079090</td>\n      <td>4.100758</td>\n      <td>15.395450</td>\n      <td>6.903575</td>\n      <td>0.000000</td>\n      <td>0.015168</td>\n      <td>0.027086</td>\n      <td>1.934995</td>\n      <td>0.033586</td>\n      <td>0.075840</td>\n      <td>0.0</td>\n      <td>2.548673</td>\n      <td>41.846363</td>\n      <td>-87.670044</td>\n      <td>1.973998</td>\n      <td>27.621885</td>\n      <td>3777.507042</td>\n      <td>230103.153846</td>\n    </tr>\n    <tr>\n      <th>ON SCENE</th>\n      <td>1166.488235</td>\n      <td>4.200000</td>\n      <td>13.735294</td>\n      <td>6.786275</td>\n      <td>0.000000</td>\n      <td>0.039293</td>\n      <td>0.208251</td>\n      <td>1.679764</td>\n      <td>0.115914</td>\n      <td>0.363458</td>\n      <td>0.0</td>\n      <td>2.316279</td>\n      <td>41.842181</td>\n      <td>-87.675566</td>\n      <td>2.074510</td>\n      <td>28.290196</td>\n      <td>3991.017647</td>\n      <td>214160.031373</td>\n    </tr>\n    <tr>\n      <th rowspan=\"3\" valign=\"top\">DARKNESS, LIGHTED ROAD</th>\n      <th>AMENDED</th>\n      <td>922.666667</td>\n      <td>6.333333</td>\n      <td>22.000000</td>\n      <td>4.333333</td>\n      <td>0.333333</td>\n      <td>0.000000</td>\n      <td>0.000000</td>\n      <td>1.000000</td>\n      <td>0.000000</td>\n      <td>0.333333</td>\n      <td>0.0</td>\n      <td>2.666667</td>\n      <td>41.803556</td>\n      <td>-87.638638</td>\n      <td>1.666667</td>\n      <td>20.000000</td>\n      <td>3077.666667</td>\n      <td>315089.333333</td>\n    </tr>\n    <tr>\n      <th>NOT ON SCENE (DESK REPORT)</th>\n      <td>1298.297699</td>\n      <td>4.208612</td>\n      <td>15.688938</td>\n      <td>6.579065</td>\n      <td>0.000000</td>\n      <td>0.006310</td>\n      <td>0.030438</td>\n      <td>2.057906</td>\n      <td>0.033779</td>\n      <td>0.070527</td>\n      <td>0.0</td>\n      <td>2.502168</td>\n      <td>41.865385</td>\n      <td>-87.677251</td>\n      <td>1.997030</td>\n      <td>28.476986</td>\n      <td>3505.801782</td>\n      <td>233109.353378</td>\n    </tr>\n    <tr>\n      <th>ON SCENE</th>\n      <td>1223.077152</td>\n      <td>4.061258</td>\n      <td>12.978808</td>\n      <td>6.926159</td>\n      <td>0.004667</td>\n      <td>0.045667</td>\n      <td>0.224667</td>\n      <td>1.841000</td>\n      <td>0.093000</td>\n      <td>0.368000</td>\n      <td>0.0</td>\n      <td>2.532380</td>\n      <td>41.839543</td>\n      <td>-87.651047</td>\n      <td>2.096358</td>\n      <td>29.262252</td>\n      <td>3663.904967</td>\n      <td>219285.096358</td>\n    </tr>\n    <tr>\n      <th rowspan=\"2\" valign=\"top\">DAWN</th>\n      <th>NOT ON SCENE (DESK REPORT)</th>\n      <td>1137.302789</td>\n      <td>4.047809</td>\n      <td>11.816733</td>\n      <td>6.900398</td>\n      <td>0.000000</td>\n      <td>0.003984</td>\n      <td>0.051793</td>\n      <td>1.948207</td>\n      <td>0.035857</td>\n      <td>0.091633</td>\n      <td>0.0</td>\n      <td>2.539216</td>\n      <td>41.847444</td>\n      <td>-87.674032</td>\n      <td>1.972112</td>\n      <td>28.466135</td>\n      <td>3835.406375</td>\n      <td>230564.916335</td>\n    </tr>\n    <tr>\n      <th>ON SCENE</th>\n      <td>1183.760181</td>\n      <td>4.049774</td>\n      <td>9.266968</td>\n      <td>6.909502</td>\n      <td>0.000000</td>\n      <td>0.027273</td>\n      <td>0.186364</td>\n      <td>1.818182</td>\n      <td>0.059091</td>\n      <td>0.272727</td>\n      <td>0.0</td>\n      <td>2.511905</td>\n      <td>41.659530</td>\n      <td>-87.273856</td>\n      <td>2.036199</td>\n      <td>28.343891</td>\n      <td>3942.570136</td>\n      <td>206568.773756</td>\n    </tr>\n    <tr>\n      <th rowspan=\"3\" valign=\"top\">DAYLIGHT</th>\n      <th>AMENDED</th>\n      <td>1261.692308</td>\n      <td>4.307692</td>\n      <td>11.923077</td>\n      <td>7.000000</td>\n      <td>0.000000</td>\n      <td>0.000000</td>\n      <td>0.076923</td>\n      <td>2.615385</td>\n      <td>0.000000</td>\n      <td>0.076923</td>\n      <td>0.0</td>\n      <td>2.333333</td>\n      <td>41.884794</td>\n      <td>-87.677438</td>\n      <td>2.153846</td>\n      <td>29.615385</td>\n      <td>3802.846154</td>\n      <td>204369.538462</td>\n    </tr>\n    <tr>\n      <th>NOT ON SCENE (DESK REPORT)</th>\n      <td>1263.180461</td>\n      <td>4.127474</td>\n      <td>12.749100</td>\n      <td>6.566031</td>\n      <td>0.000000</td>\n      <td>0.001981</td>\n      <td>0.021342</td>\n      <td>2.104818</td>\n      <td>0.028726</td>\n      <td>0.052049</td>\n      <td>0.0</td>\n      <td>2.598294</td>\n      <td>41.859707</td>\n      <td>-87.669711</td>\n      <td>2.004048</td>\n      <td>27.996582</td>\n      <td>3498.125315</td>\n      <td>229400.869647</td>\n    </tr>\n    <tr>\n      <th>ON SCENE</th>\n      <td>1228.757692</td>\n      <td>4.129142</td>\n      <td>12.275000</td>\n      <td>6.650740</td>\n      <td>0.001334</td>\n      <td>0.035862</td>\n      <td>0.196058</td>\n      <td>2.041790</td>\n      <td>0.098103</td>\n      <td>0.331357</td>\n      <td>0.0</td>\n      <td>2.622534</td>\n      <td>41.856271</td>\n      <td>-87.680507</td>\n      <td>2.064053</td>\n      <td>28.331361</td>\n      <td>3703.470710</td>\n      <td>215604.418935</td>\n    </tr>\n    <tr>\n      <th rowspan=\"3\" valign=\"top\">DUSK</th>\n      <th>AMENDED</th>\n      <td>321.500000</td>\n      <td>3.500000</td>\n      <td>20.000000</td>\n      <td>6.000000</td>\n      <td>0.000000</td>\n      <td>0.000000</td>\n      <td>1.000000</td>\n      <td>3.500000</td>\n      <td>0.000000</td>\n      <td>1.000000</td>\n      <td>0.0</td>\n      <td>5.000000</td>\n      <td>41.785816</td>\n      <td>-87.597958</td>\n      <td>2.500000</td>\n      <td>40.000000</td>\n      <td>6000.000000</td>\n      <td>238542.500000</td>\n    </tr>\n    <tr>\n      <th>NOT ON SCENE (DESK REPORT)</th>\n      <td>1252.676892</td>\n      <td>4.034765</td>\n      <td>16.787321</td>\n      <td>7.406953</td>\n      <td>0.000000</td>\n      <td>0.004098</td>\n      <td>0.030738</td>\n      <td>2.170082</td>\n      <td>0.026639</td>\n      <td>0.061475</td>\n      <td>0.0</td>\n      <td>2.404348</td>\n      <td>41.852063</td>\n      <td>-87.678158</td>\n      <td>1.993865</td>\n      <td>28.139059</td>\n      <td>3787.703476</td>\n      <td>224259.257669</td>\n    </tr>\n    <tr>\n      <th>ON SCENE</th>\n      <td>1223.255319</td>\n      <td>4.179331</td>\n      <td>16.905775</td>\n      <td>6.908815</td>\n      <td>0.003049</td>\n      <td>0.033537</td>\n      <td>0.170732</td>\n      <td>2.121951</td>\n      <td>0.085366</td>\n      <td>0.292683</td>\n      <td>0.0</td>\n      <td>2.582677</td>\n      <td>41.854784</td>\n      <td>-87.677436</td>\n      <td>2.094225</td>\n      <td>28.860182</td>\n      <td>3773.267477</td>\n      <td>236552.328267</td>\n    </tr>\n    <tr>\n      <th rowspan=\"2\" valign=\"top\">UNKNOWN</th>\n      <th>NOT ON SCENE (DESK REPORT)</th>\n      <td>1410.566406</td>\n      <td>4.127438</td>\n      <td>12.798440</td>\n      <td>6.931079</td>\n      <td>0.000000</td>\n      <td>0.001304</td>\n      <td>0.010430</td>\n      <td>1.514993</td>\n      <td>0.007823</td>\n      <td>0.019557</td>\n      <td>0.0</td>\n      <td>1.857971</td>\n      <td>41.870687</td>\n      <td>-87.684011</td>\n      <td>1.985696</td>\n      <td>26.762029</td>\n      <td>3886.239272</td>\n      <td>227247.088427</td>\n    </tr>\n    <tr>\n      <th>ON SCENE</th>\n      <td>1258.668394</td>\n      <td>4.010363</td>\n      <td>10.393782</td>\n      <td>6.844560</td>\n      <td>0.000000</td>\n      <td>0.005236</td>\n      <td>0.052356</td>\n      <td>1.178010</td>\n      <td>0.020942</td>\n      <td>0.078534</td>\n      <td>0.0</td>\n      <td>1.702703</td>\n      <td>41.859140</td>\n      <td>-87.677764</td>\n      <td>2.020725</td>\n      <td>26.031088</td>\n      <td>3932.880829</td>\n      <td>199036.533679</td>\n    </tr>\n  </tbody>\n</table>\n</div>"
     },
     "metadata": {}
    }
   ],
   "execution_count": 5
  },
  {
   "cell_type": "markdown",
   "source": "## Filtro\nCuando tomamos el dataframe y aplicamos el comando filter, nos muestra solo las columnas que ingresemos filtradas y separadas.",
   "metadata": {
    "tags": [],
    "cell_id": "00006-8b5b768b-ccd4-4e60-9468-45f12426cbac",
    "deepnote_cell_type": "markdown"
   }
  },
  {
   "cell_type": "code",
   "source": "df.filter(['LIGHTING_CONDITION','REPORT_TYPE'])",
   "metadata": {
    "tags": [],
    "cell_id": "00004-d48902e7-2351-4289-a04b-4bb59fab57be",
    "deepnote_to_be_reexecuted": false,
    "source_hash": "cdb072af",
    "execution_start": 1635526582110,
    "execution_millis": 64,
    "deepnote_cell_type": "code"
   },
   "outputs": [
    {
     "output_type": "execute_result",
     "execution_count": 6,
     "data": {
      "application/vnd.deepnote.dataframe.v2+json": {
       "row_count": 27961,
       "column_count": 2,
       "columns": [
        {
         "name": "LIGHTING_CONDITION",
         "dtype": "object",
         "stats": {
          "unique_count": 6,
          "nan_count": 0,
          "categories": [
           {
            "name": "DAYLIGHT",
            "count": 18296
           },
           {
            "name": "DARKNESS, LIGHTED ROAD",
            "count": 5883
           },
           {
            "name": "4 others",
            "count": 3782
           }
          ]
         }
        },
        {
         "name": "REPORT_TYPE",
         "dtype": "object",
         "stats": {
          "unique_count": 3,
          "nan_count": 667,
          "categories": [
           {
            "name": "NOT ON SCENE (DESK REPORT)",
            "count": 16242
           },
           {
            "name": "2 others",
            "count": 11052
           },
           {
            "name": "Missing",
            "count": 667
           }
          ]
         }
        },
        {
         "name": "_deepnote_index_column",
         "dtype": "int64"
        }
       ],
       "rows_top": [
        {
         "LIGHTING_CONDITION": "DAYLIGHT",
         "REPORT_TYPE": "NOT ON SCENE (DESK REPORT)",
         "_deepnote_index_column": 0
        },
        {
         "LIGHTING_CONDITION": "DAYLIGHT",
         "REPORT_TYPE": "ON SCENE",
         "_deepnote_index_column": 1
        },
        {
         "LIGHTING_CONDITION": "DAYLIGHT",
         "REPORT_TYPE": "ON SCENE",
         "_deepnote_index_column": 2
        },
        {
         "LIGHTING_CONDITION": "UNKNOWN",
         "REPORT_TYPE": "ON SCENE",
         "_deepnote_index_column": 3
        },
        {
         "LIGHTING_CONDITION": "DAYLIGHT",
         "REPORT_TYPE": "NOT ON SCENE (DESK REPORT)",
         "_deepnote_index_column": 4
        },
        {
         "LIGHTING_CONDITION": "DAYLIGHT",
         "REPORT_TYPE": "NOT ON SCENE (DESK REPORT)",
         "_deepnote_index_column": 5
        },
        {
         "LIGHTING_CONDITION": "DAYLIGHT",
         "REPORT_TYPE": "ON SCENE",
         "_deepnote_index_column": 6
        },
        {
         "LIGHTING_CONDITION": "DAYLIGHT",
         "REPORT_TYPE": "ON SCENE",
         "_deepnote_index_column": 7
        },
        {
         "LIGHTING_CONDITION": "DARKNESS, LIGHTED ROAD",
         "REPORT_TYPE": "ON SCENE",
         "_deepnote_index_column": 8
        },
        {
         "LIGHTING_CONDITION": "DAYLIGHT",
         "REPORT_TYPE": "NOT ON SCENE (DESK REPORT)",
         "_deepnote_index_column": 9
        },
        {
         "LIGHTING_CONDITION": "UNKNOWN",
         "REPORT_TYPE": "NOT ON SCENE (DESK REPORT)",
         "_deepnote_index_column": 10
        },
        {
         "LIGHTING_CONDITION": "DAYLIGHT",
         "REPORT_TYPE": "NOT ON SCENE (DESK REPORT)",
         "_deepnote_index_column": 11
        },
        {
         "LIGHTING_CONDITION": "DARKNESS, LIGHTED ROAD",
         "REPORT_TYPE": "ON SCENE",
         "_deepnote_index_column": 12
        },
        {
         "LIGHTING_CONDITION": "DUSK",
         "REPORT_TYPE": "ON SCENE",
         "_deepnote_index_column": 13
        },
        {
         "LIGHTING_CONDITION": "DAYLIGHT",
         "REPORT_TYPE": "NOT ON SCENE (DESK REPORT)",
         "_deepnote_index_column": 14
        },
        {
         "LIGHTING_CONDITION": "DAYLIGHT",
         "REPORT_TYPE": "NOT ON SCENE (DESK REPORT)",
         "_deepnote_index_column": 15
        },
        {
         "LIGHTING_CONDITION": "DARKNESS, LIGHTED ROAD",
         "REPORT_TYPE": "ON SCENE",
         "_deepnote_index_column": 16
        },
        {
         "LIGHTING_CONDITION": "DAYLIGHT",
         "REPORT_TYPE": "NOT ON SCENE (DESK REPORT)",
         "_deepnote_index_column": 17
        },
        {
         "LIGHTING_CONDITION": "DARKNESS, LIGHTED ROAD",
         "REPORT_TYPE": "ON SCENE",
         "_deepnote_index_column": 18
        },
        {
         "LIGHTING_CONDITION": "DARKNESS, LIGHTED ROAD",
         "REPORT_TYPE": "NOT ON SCENE (DESK REPORT)",
         "_deepnote_index_column": 19
        },
        {
         "LIGHTING_CONDITION": "DAYLIGHT",
         "REPORT_TYPE": "ON SCENE",
         "_deepnote_index_column": 20
        },
        {
         "LIGHTING_CONDITION": "UNKNOWN",
         "REPORT_TYPE": "ON SCENE",
         "_deepnote_index_column": 21
        },
        {
         "LIGHTING_CONDITION": "DAYLIGHT",
         "REPORT_TYPE": "NOT ON SCENE (DESK REPORT)",
         "_deepnote_index_column": 22
        },
        {
         "LIGHTING_CONDITION": "DAYLIGHT",
         "REPORT_TYPE": "NOT ON SCENE (DESK REPORT)",
         "_deepnote_index_column": 23
        },
        {
         "LIGHTING_CONDITION": "DAYLIGHT",
         "REPORT_TYPE": "NOT ON SCENE (DESK REPORT)",
         "_deepnote_index_column": 24
        },
        {
         "LIGHTING_CONDITION": "DAYLIGHT",
         "REPORT_TYPE": "NOT ON SCENE (DESK REPORT)",
         "_deepnote_index_column": 25
        },
        {
         "LIGHTING_CONDITION": "DAYLIGHT",
         "REPORT_TYPE": "NOT ON SCENE (DESK REPORT)",
         "_deepnote_index_column": 26
        },
        {
         "LIGHTING_CONDITION": "DAYLIGHT",
         "REPORT_TYPE": "NOT ON SCENE (DESK REPORT)",
         "_deepnote_index_column": 27
        },
        {
         "LIGHTING_CONDITION": "DAYLIGHT",
         "REPORT_TYPE": "ON SCENE",
         "_deepnote_index_column": 28
        },
        {
         "LIGHTING_CONDITION": "DARKNESS, LIGHTED ROAD",
         "REPORT_TYPE": "NOT ON SCENE (DESK REPORT)",
         "_deepnote_index_column": 29
        },
        {
         "LIGHTING_CONDITION": "DARKNESS, LIGHTED ROAD",
         "REPORT_TYPE": "NOT ON SCENE (DESK REPORT)",
         "_deepnote_index_column": 30
        },
        {
         "LIGHTING_CONDITION": "DAYLIGHT",
         "REPORT_TYPE": "ON SCENE",
         "_deepnote_index_column": 31
        },
        {
         "LIGHTING_CONDITION": "DARKNESS, LIGHTED ROAD",
         "REPORT_TYPE": "ON SCENE",
         "_deepnote_index_column": 32
        },
        {
         "LIGHTING_CONDITION": "DAYLIGHT",
         "REPORT_TYPE": "ON SCENE",
         "_deepnote_index_column": 33
        },
        {
         "LIGHTING_CONDITION": "DARKNESS, LIGHTED ROAD",
         "REPORT_TYPE": "ON SCENE",
         "_deepnote_index_column": 34
        },
        {
         "LIGHTING_CONDITION": "DAYLIGHT",
         "REPORT_TYPE": "NOT ON SCENE (DESK REPORT)",
         "_deepnote_index_column": 35
        },
        {
         "LIGHTING_CONDITION": "DAYLIGHT",
         "REPORT_TYPE": "ON SCENE",
         "_deepnote_index_column": 36
        },
        {
         "LIGHTING_CONDITION": "DARKNESS, LIGHTED ROAD",
         "REPORT_TYPE": "NOT ON SCENE (DESK REPORT)",
         "_deepnote_index_column": 37
        },
        {
         "LIGHTING_CONDITION": "DARKNESS",
         "REPORT_TYPE": "NOT ON SCENE (DESK REPORT)",
         "_deepnote_index_column": 38
        },
        {
         "LIGHTING_CONDITION": "DARKNESS",
         "REPORT_TYPE": "ON SCENE",
         "_deepnote_index_column": 39
        },
        {
         "LIGHTING_CONDITION": "DAYLIGHT",
         "REPORT_TYPE": "NOT ON SCENE (DESK REPORT)",
         "_deepnote_index_column": 40
        },
        {
         "LIGHTING_CONDITION": "DAYLIGHT",
         "REPORT_TYPE": "NOT ON SCENE (DESK REPORT)",
         "_deepnote_index_column": 41
        },
        {
         "LIGHTING_CONDITION": "DAYLIGHT",
         "REPORT_TYPE": "NOT ON SCENE (DESK REPORT)",
         "_deepnote_index_column": 42
        },
        {
         "LIGHTING_CONDITION": "DAYLIGHT",
         "REPORT_TYPE": "NOT ON SCENE (DESK REPORT)",
         "_deepnote_index_column": 43
        },
        {
         "LIGHTING_CONDITION": "DAYLIGHT",
         "REPORT_TYPE": "NOT ON SCENE (DESK REPORT)",
         "_deepnote_index_column": 44
        },
        {
         "LIGHTING_CONDITION": "DAYLIGHT",
         "REPORT_TYPE": "ON SCENE",
         "_deepnote_index_column": 45
        },
        {
         "LIGHTING_CONDITION": "DAYLIGHT",
         "REPORT_TYPE": "NOT ON SCENE (DESK REPORT)",
         "_deepnote_index_column": 46
        },
        {
         "LIGHTING_CONDITION": "DARKNESS",
         "REPORT_TYPE": "NOT ON SCENE (DESK REPORT)",
         "_deepnote_index_column": 47
        },
        {
         "LIGHTING_CONDITION": "DARKNESS, LIGHTED ROAD",
         "REPORT_TYPE": "ON SCENE",
         "_deepnote_index_column": 48
        },
        {
         "LIGHTING_CONDITION": "DAYLIGHT",
         "REPORT_TYPE": "NOT ON SCENE (DESK REPORT)",
         "_deepnote_index_column": 49
        },
        {
         "LIGHTING_CONDITION": "DAYLIGHT",
         "REPORT_TYPE": "ON SCENE",
         "_deepnote_index_column": 50
        },
        {
         "LIGHTING_CONDITION": "UNKNOWN",
         "REPORT_TYPE": "NOT ON SCENE (DESK REPORT)",
         "_deepnote_index_column": 51
        },
        {
         "LIGHTING_CONDITION": "DAYLIGHT",
         "REPORT_TYPE": "NOT ON SCENE (DESK REPORT)",
         "_deepnote_index_column": 52
        },
        {
         "LIGHTING_CONDITION": "DAYLIGHT",
         "REPORT_TYPE": "ON SCENE",
         "_deepnote_index_column": 53
        },
        {
         "LIGHTING_CONDITION": "DAYLIGHT",
         "REPORT_TYPE": "NOT ON SCENE (DESK REPORT)",
         "_deepnote_index_column": 54
        },
        {
         "LIGHTING_CONDITION": "DAYLIGHT",
         "REPORT_TYPE": "ON SCENE",
         "_deepnote_index_column": 55
        },
        {
         "LIGHTING_CONDITION": "DAYLIGHT",
         "REPORT_TYPE": "NOT ON SCENE (DESK REPORT)",
         "_deepnote_index_column": 56
        },
        {
         "LIGHTING_CONDITION": "DAYLIGHT",
         "REPORT_TYPE": "NOT ON SCENE (DESK REPORT)",
         "_deepnote_index_column": 57
        },
        {
         "LIGHTING_CONDITION": "DAYLIGHT",
         "REPORT_TYPE": "ON SCENE",
         "_deepnote_index_column": 58
        },
        {
         "LIGHTING_CONDITION": "UNKNOWN",
         "REPORT_TYPE": "NOT ON SCENE (DESK REPORT)",
         "_deepnote_index_column": 59
        },
        {
         "LIGHTING_CONDITION": "DARKNESS",
         "REPORT_TYPE": "NOT ON SCENE (DESK REPORT)",
         "_deepnote_index_column": 60
        },
        {
         "LIGHTING_CONDITION": "DAYLIGHT",
         "REPORT_TYPE": "ON SCENE",
         "_deepnote_index_column": 61
        },
        {
         "LIGHTING_CONDITION": "DAYLIGHT",
         "REPORT_TYPE": "ON SCENE",
         "_deepnote_index_column": 62
        },
        {
         "LIGHTING_CONDITION": "DAYLIGHT",
         "REPORT_TYPE": "ON SCENE",
         "_deepnote_index_column": 63
        },
        {
         "LIGHTING_CONDITION": "DARKNESS, LIGHTED ROAD",
         "REPORT_TYPE": "NOT ON SCENE (DESK REPORT)",
         "_deepnote_index_column": 64
        },
        {
         "LIGHTING_CONDITION": "DAYLIGHT",
         "REPORT_TYPE": "NOT ON SCENE (DESK REPORT)",
         "_deepnote_index_column": 65
        },
        {
         "LIGHTING_CONDITION": "DAYLIGHT",
         "REPORT_TYPE": "NOT ON SCENE (DESK REPORT)",
         "_deepnote_index_column": 66
        },
        {
         "LIGHTING_CONDITION": "DAYLIGHT",
         "REPORT_TYPE": "NOT ON SCENE (DESK REPORT)",
         "_deepnote_index_column": 67
        },
        {
         "LIGHTING_CONDITION": "DAYLIGHT",
         "REPORT_TYPE": "NOT ON SCENE (DESK REPORT)",
         "_deepnote_index_column": 68
        },
        {
         "LIGHTING_CONDITION": "DARKNESS, LIGHTED ROAD",
         "REPORT_TYPE": "ON SCENE",
         "_deepnote_index_column": 69
        },
        {
         "LIGHTING_CONDITION": "DAYLIGHT",
         "REPORT_TYPE": "NOT ON SCENE (DESK REPORT)",
         "_deepnote_index_column": 70
        },
        {
         "LIGHTING_CONDITION": "DAYLIGHT",
         "REPORT_TYPE": "NOT ON SCENE (DESK REPORT)",
         "_deepnote_index_column": 71
        },
        {
         "LIGHTING_CONDITION": "DAYLIGHT",
         "REPORT_TYPE": "ON SCENE",
         "_deepnote_index_column": 72
        },
        {
         "LIGHTING_CONDITION": "DAYLIGHT",
         "REPORT_TYPE": "NOT ON SCENE (DESK REPORT)",
         "_deepnote_index_column": 73
        },
        {
         "LIGHTING_CONDITION": "DAYLIGHT",
         "REPORT_TYPE": "NOT ON SCENE (DESK REPORT)",
         "_deepnote_index_column": 74
        },
        {
         "LIGHTING_CONDITION": "DAYLIGHT",
         "REPORT_TYPE": "ON SCENE",
         "_deepnote_index_column": 75
        },
        {
         "LIGHTING_CONDITION": "DAYLIGHT",
         "REPORT_TYPE": "NOT ON SCENE (DESK REPORT)",
         "_deepnote_index_column": 76
        },
        {
         "LIGHTING_CONDITION": "DAYLIGHT",
         "REPORT_TYPE": "ON SCENE",
         "_deepnote_index_column": 77
        },
        {
         "LIGHTING_CONDITION": "DAYLIGHT",
         "REPORT_TYPE": "ON SCENE",
         "_deepnote_index_column": 78
        },
        {
         "LIGHTING_CONDITION": "DARKNESS",
         "REPORT_TYPE": "NOT ON SCENE (DESK REPORT)",
         "_deepnote_index_column": 79
        },
        {
         "LIGHTING_CONDITION": "DAYLIGHT",
         "REPORT_TYPE": "NOT ON SCENE (DESK REPORT)",
         "_deepnote_index_column": 80
        },
        {
         "LIGHTING_CONDITION": "DARKNESS, LIGHTED ROAD",
         "REPORT_TYPE": "ON SCENE",
         "_deepnote_index_column": 81
        },
        {
         "LIGHTING_CONDITION": "DAYLIGHT",
         "REPORT_TYPE": "NOT ON SCENE (DESK REPORT)",
         "_deepnote_index_column": 82
        },
        {
         "LIGHTING_CONDITION": "DAYLIGHT",
         "REPORT_TYPE": "NOT ON SCENE (DESK REPORT)",
         "_deepnote_index_column": 83
        },
        {
         "LIGHTING_CONDITION": "DARKNESS, LIGHTED ROAD",
         "REPORT_TYPE": "ON SCENE",
         "_deepnote_index_column": 84
        },
        {
         "LIGHTING_CONDITION": "DAYLIGHT",
         "REPORT_TYPE": "ON SCENE",
         "_deepnote_index_column": 85
        },
        {
         "LIGHTING_CONDITION": "DAYLIGHT",
         "REPORT_TYPE": "ON SCENE",
         "_deepnote_index_column": 86
        },
        {
         "LIGHTING_CONDITION": "DAYLIGHT",
         "REPORT_TYPE": "NOT ON SCENE (DESK REPORT)",
         "_deepnote_index_column": 87
        },
        {
         "LIGHTING_CONDITION": "DAYLIGHT",
         "REPORT_TYPE": "ON SCENE",
         "_deepnote_index_column": 88
        },
        {
         "LIGHTING_CONDITION": "DAYLIGHT",
         "REPORT_TYPE": "NOT ON SCENE (DESK REPORT)",
         "_deepnote_index_column": 89
        },
        {
         "LIGHTING_CONDITION": "DUSK",
         "REPORT_TYPE": "NOT ON SCENE (DESK REPORT)",
         "_deepnote_index_column": 90
        },
        {
         "LIGHTING_CONDITION": "DARKNESS, LIGHTED ROAD",
         "REPORT_TYPE": "ON SCENE",
         "_deepnote_index_column": 91
        },
        {
         "LIGHTING_CONDITION": "DAYLIGHT",
         "REPORT_TYPE": "NOT ON SCENE (DESK REPORT)",
         "_deepnote_index_column": 92
        },
        {
         "LIGHTING_CONDITION": "DARKNESS, LIGHTED ROAD",
         "REPORT_TYPE": "NOT ON SCENE (DESK REPORT)",
         "_deepnote_index_column": 93
        },
        {
         "LIGHTING_CONDITION": "DUSK",
         "REPORT_TYPE": "NOT ON SCENE (DESK REPORT)",
         "_deepnote_index_column": 94
        },
        {
         "LIGHTING_CONDITION": "DAYLIGHT",
         "REPORT_TYPE": "ON SCENE",
         "_deepnote_index_column": 95
        },
        {
         "LIGHTING_CONDITION": "DAYLIGHT",
         "REPORT_TYPE": "ON SCENE",
         "_deepnote_index_column": 96
        },
        {
         "LIGHTING_CONDITION": "DARKNESS, LIGHTED ROAD",
         "REPORT_TYPE": "ON SCENE",
         "_deepnote_index_column": 97
        },
        {
         "LIGHTING_CONDITION": "DAYLIGHT",
         "REPORT_TYPE": "NOT ON SCENE (DESK REPORT)",
         "_deepnote_index_column": 98
        },
        {
         "LIGHTING_CONDITION": "DAYLIGHT",
         "REPORT_TYPE": "NOT ON SCENE (DESK REPORT)",
         "_deepnote_index_column": 99
        },
        {
         "LIGHTING_CONDITION": "DAYLIGHT",
         "REPORT_TYPE": "ON SCENE",
         "_deepnote_index_column": 100
        },
        {
         "LIGHTING_CONDITION": "DAYLIGHT",
         "REPORT_TYPE": "NOT ON SCENE (DESK REPORT)",
         "_deepnote_index_column": 101
        },
        {
         "LIGHTING_CONDITION": "DARKNESS, LIGHTED ROAD",
         "REPORT_TYPE": "NOT ON SCENE (DESK REPORT)",
         "_deepnote_index_column": 102
        },
        {
         "LIGHTING_CONDITION": "DAYLIGHT",
         "REPORT_TYPE": "NOT ON SCENE (DESK REPORT)",
         "_deepnote_index_column": 103
        },
        {
         "LIGHTING_CONDITION": "DAYLIGHT",
         "REPORT_TYPE": "NOT ON SCENE (DESK REPORT)",
         "_deepnote_index_column": 104
        },
        {
         "LIGHTING_CONDITION": "DARKNESS",
         "REPORT_TYPE": "NOT ON SCENE (DESK REPORT)",
         "_deepnote_index_column": 105
        },
        {
         "LIGHTING_CONDITION": "DAYLIGHT",
         "REPORT_TYPE": "ON SCENE",
         "_deepnote_index_column": 106
        },
        {
         "LIGHTING_CONDITION": "DUSK",
         "REPORT_TYPE": "ON SCENE",
         "_deepnote_index_column": 107
        },
        {
         "LIGHTING_CONDITION": "DAYLIGHT",
         "REPORT_TYPE": "ON SCENE",
         "_deepnote_index_column": 108
        },
        {
         "LIGHTING_CONDITION": "DAYLIGHT",
         "REPORT_TYPE": "NOT ON SCENE (DESK REPORT)",
         "_deepnote_index_column": 109
        },
        {
         "LIGHTING_CONDITION": "DAYLIGHT",
         "REPORT_TYPE": "NOT ON SCENE (DESK REPORT)",
         "_deepnote_index_column": 110
        },
        {
         "LIGHTING_CONDITION": "DAYLIGHT",
         "REPORT_TYPE": "ON SCENE",
         "_deepnote_index_column": 111
        },
        {
         "LIGHTING_CONDITION": "DAYLIGHT",
         "REPORT_TYPE": "NOT ON SCENE (DESK REPORT)",
         "_deepnote_index_column": 112
        },
        {
         "LIGHTING_CONDITION": "DAYLIGHT",
         "REPORT_TYPE": "NOT ON SCENE (DESK REPORT)",
         "_deepnote_index_column": 113
        },
        {
         "LIGHTING_CONDITION": "DARKNESS, LIGHTED ROAD",
         "REPORT_TYPE": "NOT ON SCENE (DESK REPORT)",
         "_deepnote_index_column": 114
        },
        {
         "LIGHTING_CONDITION": "DAYLIGHT",
         "REPORT_TYPE": "NOT ON SCENE (DESK REPORT)",
         "_deepnote_index_column": 115
        },
        {
         "LIGHTING_CONDITION": "DAYLIGHT",
         "REPORT_TYPE": "ON SCENE",
         "_deepnote_index_column": 116
        },
        {
         "LIGHTING_CONDITION": "DARKNESS",
         "REPORT_TYPE": "NOT ON SCENE (DESK REPORT)",
         "_deepnote_index_column": 117
        },
        {
         "LIGHTING_CONDITION": "DAYLIGHT",
         "REPORT_TYPE": "ON SCENE",
         "_deepnote_index_column": 118
        },
        {
         "LIGHTING_CONDITION": "DAYLIGHT",
         "REPORT_TYPE": "NOT ON SCENE (DESK REPORT)",
         "_deepnote_index_column": 119
        },
        {
         "LIGHTING_CONDITION": "DAYLIGHT",
         "REPORT_TYPE": "ON SCENE",
         "_deepnote_index_column": 120
        },
        {
         "LIGHTING_CONDITION": "DARKNESS, LIGHTED ROAD",
         "REPORT_TYPE": "ON SCENE",
         "_deepnote_index_column": 121
        },
        {
         "LIGHTING_CONDITION": "DAYLIGHT",
         "REPORT_TYPE": "NOT ON SCENE (DESK REPORT)",
         "_deepnote_index_column": 122
        },
        {
         "LIGHTING_CONDITION": "DARKNESS, LIGHTED ROAD",
         "REPORT_TYPE": "NOT ON SCENE (DESK REPORT)",
         "_deepnote_index_column": 123
        },
        {
         "LIGHTING_CONDITION": "DAYLIGHT",
         "REPORT_TYPE": "NOT ON SCENE (DESK REPORT)",
         "_deepnote_index_column": 124
        },
        {
         "LIGHTING_CONDITION": "DAYLIGHT",
         "REPORT_TYPE": "NOT ON SCENE (DESK REPORT)",
         "_deepnote_index_column": 125
        },
        {
         "LIGHTING_CONDITION": "DARKNESS",
         "REPORT_TYPE": "ON SCENE",
         "_deepnote_index_column": 126
        },
        {
         "LIGHTING_CONDITION": "DARKNESS, LIGHTED ROAD",
         "REPORT_TYPE": "ON SCENE",
         "_deepnote_index_column": 127
        },
        {
         "LIGHTING_CONDITION": "DAYLIGHT",
         "REPORT_TYPE": "ON SCENE",
         "_deepnote_index_column": 128
        },
        {
         "LIGHTING_CONDITION": "UNKNOWN",
         "REPORT_TYPE": "NOT ON SCENE (DESK REPORT)",
         "_deepnote_index_column": 129
        },
        {
         "LIGHTING_CONDITION": "DAYLIGHT",
         "REPORT_TYPE": "NOT ON SCENE (DESK REPORT)",
         "_deepnote_index_column": 130
        },
        {
         "LIGHTING_CONDITION": "DAYLIGHT",
         "REPORT_TYPE": "NOT ON SCENE (DESK REPORT)",
         "_deepnote_index_column": 131
        },
        {
         "LIGHTING_CONDITION": "DAYLIGHT",
         "REPORT_TYPE": "ON SCENE",
         "_deepnote_index_column": 132
        },
        {
         "LIGHTING_CONDITION": "DAYLIGHT",
         "REPORT_TYPE": "ON SCENE",
         "_deepnote_index_column": 133
        },
        {
         "LIGHTING_CONDITION": "DAWN",
         "REPORT_TYPE": "NOT ON SCENE (DESK REPORT)",
         "_deepnote_index_column": 134
        },
        {
         "LIGHTING_CONDITION": "DARKNESS, LIGHTED ROAD",
         "REPORT_TYPE": "NOT ON SCENE (DESK REPORT)",
         "_deepnote_index_column": 135
        },
        {
         "LIGHTING_CONDITION": "DARKNESS",
         "REPORT_TYPE": "ON SCENE",
         "_deepnote_index_column": 136
        },
        {
         "LIGHTING_CONDITION": "DARKNESS, LIGHTED ROAD",
         "REPORT_TYPE": "ON SCENE",
         "_deepnote_index_column": 137
        },
        {
         "LIGHTING_CONDITION": "DAYLIGHT",
         "REPORT_TYPE": "NOT ON SCENE (DESK REPORT)",
         "_deepnote_index_column": 138
        },
        {
         "LIGHTING_CONDITION": "DAYLIGHT",
         "REPORT_TYPE": "NOT ON SCENE (DESK REPORT)",
         "_deepnote_index_column": 139
        },
        {
         "LIGHTING_CONDITION": "DAYLIGHT",
         "REPORT_TYPE": "nan",
         "_deepnote_index_column": 140
        },
        {
         "LIGHTING_CONDITION": "DAYLIGHT",
         "REPORT_TYPE": "NOT ON SCENE (DESK REPORT)",
         "_deepnote_index_column": 141
        },
        {
         "LIGHTING_CONDITION": "DAYLIGHT",
         "REPORT_TYPE": "NOT ON SCENE (DESK REPORT)",
         "_deepnote_index_column": 142
        },
        {
         "LIGHTING_CONDITION": "DAYLIGHT",
         "REPORT_TYPE": "ON SCENE",
         "_deepnote_index_column": 143
        },
        {
         "LIGHTING_CONDITION": "DAYLIGHT",
         "REPORT_TYPE": "NOT ON SCENE (DESK REPORT)",
         "_deepnote_index_column": 144
        },
        {
         "LIGHTING_CONDITION": "DAYLIGHT",
         "REPORT_TYPE": "NOT ON SCENE (DESK REPORT)",
         "_deepnote_index_column": 145
        },
        {
         "LIGHTING_CONDITION": "DAYLIGHT",
         "REPORT_TYPE": "ON SCENE",
         "_deepnote_index_column": 146
        },
        {
         "LIGHTING_CONDITION": "DAYLIGHT",
         "REPORT_TYPE": "ON SCENE",
         "_deepnote_index_column": 147
        },
        {
         "LIGHTING_CONDITION": "DARKNESS, LIGHTED ROAD",
         "REPORT_TYPE": "ON SCENE",
         "_deepnote_index_column": 148
        },
        {
         "LIGHTING_CONDITION": "DARKNESS, LIGHTED ROAD",
         "REPORT_TYPE": "ON SCENE",
         "_deepnote_index_column": 149
        },
        {
         "LIGHTING_CONDITION": "DARKNESS, LIGHTED ROAD",
         "REPORT_TYPE": "ON SCENE",
         "_deepnote_index_column": 150
        },
        {
         "LIGHTING_CONDITION": "DAYLIGHT",
         "REPORT_TYPE": "ON SCENE",
         "_deepnote_index_column": 151
        },
        {
         "LIGHTING_CONDITION": "DARKNESS, LIGHTED ROAD",
         "REPORT_TYPE": "ON SCENE",
         "_deepnote_index_column": 152
        },
        {
         "LIGHTING_CONDITION": "DAYLIGHT",
         "REPORT_TYPE": "NOT ON SCENE (DESK REPORT)",
         "_deepnote_index_column": 153
        },
        {
         "LIGHTING_CONDITION": "DAYLIGHT",
         "REPORT_TYPE": "nan",
         "_deepnote_index_column": 154
        },
        {
         "LIGHTING_CONDITION": "DAYLIGHT",
         "REPORT_TYPE": "ON SCENE",
         "_deepnote_index_column": 155
        },
        {
         "LIGHTING_CONDITION": "DARKNESS, LIGHTED ROAD",
         "REPORT_TYPE": "ON SCENE",
         "_deepnote_index_column": 156
        },
        {
         "LIGHTING_CONDITION": "DAYLIGHT",
         "REPORT_TYPE": "ON SCENE",
         "_deepnote_index_column": 157
        },
        {
         "LIGHTING_CONDITION": "DAYLIGHT",
         "REPORT_TYPE": "ON SCENE",
         "_deepnote_index_column": 158
        },
        {
         "LIGHTING_CONDITION": "DAYLIGHT",
         "REPORT_TYPE": "NOT ON SCENE (DESK REPORT)",
         "_deepnote_index_column": 159
        },
        {
         "LIGHTING_CONDITION": "DARKNESS, LIGHTED ROAD",
         "REPORT_TYPE": "NOT ON SCENE (DESK REPORT)",
         "_deepnote_index_column": 160
        },
        {
         "LIGHTING_CONDITION": "DAYLIGHT",
         "REPORT_TYPE": "NOT ON SCENE (DESK REPORT)",
         "_deepnote_index_column": 161
        },
        {
         "LIGHTING_CONDITION": "DAYLIGHT",
         "REPORT_TYPE": "NOT ON SCENE (DESK REPORT)",
         "_deepnote_index_column": 162
        },
        {
         "LIGHTING_CONDITION": "DAYLIGHT",
         "REPORT_TYPE": "nan",
         "_deepnote_index_column": 163
        },
        {
         "LIGHTING_CONDITION": "DAYLIGHT",
         "REPORT_TYPE": "ON SCENE",
         "_deepnote_index_column": 164
        },
        {
         "LIGHTING_CONDITION": "DAYLIGHT",
         "REPORT_TYPE": "ON SCENE",
         "_deepnote_index_column": 165
        },
        {
         "LIGHTING_CONDITION": "DAYLIGHT",
         "REPORT_TYPE": "NOT ON SCENE (DESK REPORT)",
         "_deepnote_index_column": 166
        },
        {
         "LIGHTING_CONDITION": "DAYLIGHT",
         "REPORT_TYPE": "NOT ON SCENE (DESK REPORT)",
         "_deepnote_index_column": 167
        },
        {
         "LIGHTING_CONDITION": "DAYLIGHT",
         "REPORT_TYPE": "NOT ON SCENE (DESK REPORT)",
         "_deepnote_index_column": 168
        },
        {
         "LIGHTING_CONDITION": "DAYLIGHT",
         "REPORT_TYPE": "NOT ON SCENE (DESK REPORT)",
         "_deepnote_index_column": 169
        },
        {
         "LIGHTING_CONDITION": "DAYLIGHT",
         "REPORT_TYPE": "ON SCENE",
         "_deepnote_index_column": 170
        },
        {
         "LIGHTING_CONDITION": "DAYLIGHT",
         "REPORT_TYPE": "NOT ON SCENE (DESK REPORT)",
         "_deepnote_index_column": 171
        },
        {
         "LIGHTING_CONDITION": "UNKNOWN",
         "REPORT_TYPE": "NOT ON SCENE (DESK REPORT)",
         "_deepnote_index_column": 172
        },
        {
         "LIGHTING_CONDITION": "DARKNESS, LIGHTED ROAD",
         "REPORT_TYPE": "NOT ON SCENE (DESK REPORT)",
         "_deepnote_index_column": 173
        },
        {
         "LIGHTING_CONDITION": "UNKNOWN",
         "REPORT_TYPE": "ON SCENE",
         "_deepnote_index_column": 174
        },
        {
         "LIGHTING_CONDITION": "DARKNESS, LIGHTED ROAD",
         "REPORT_TYPE": "ON SCENE",
         "_deepnote_index_column": 175
        },
        {
         "LIGHTING_CONDITION": "DARKNESS, LIGHTED ROAD",
         "REPORT_TYPE": "ON SCENE",
         "_deepnote_index_column": 176
        },
        {
         "LIGHTING_CONDITION": "DARKNESS, LIGHTED ROAD",
         "REPORT_TYPE": "ON SCENE",
         "_deepnote_index_column": 177
        },
        {
         "LIGHTING_CONDITION": "DAYLIGHT",
         "REPORT_TYPE": "ON SCENE",
         "_deepnote_index_column": 178
        },
        {
         "LIGHTING_CONDITION": "DAYLIGHT",
         "REPORT_TYPE": "NOT ON SCENE (DESK REPORT)",
         "_deepnote_index_column": 179
        },
        {
         "LIGHTING_CONDITION": "DARKNESS, LIGHTED ROAD",
         "REPORT_TYPE": "NOT ON SCENE (DESK REPORT)",
         "_deepnote_index_column": 180
        },
        {
         "LIGHTING_CONDITION": "DAYLIGHT",
         "REPORT_TYPE": "NOT ON SCENE (DESK REPORT)",
         "_deepnote_index_column": 181
        },
        {
         "LIGHTING_CONDITION": "DARKNESS, LIGHTED ROAD",
         "REPORT_TYPE": "ON SCENE",
         "_deepnote_index_column": 182
        },
        {
         "LIGHTING_CONDITION": "DAYLIGHT",
         "REPORT_TYPE": "ON SCENE",
         "_deepnote_index_column": 183
        },
        {
         "LIGHTING_CONDITION": "UNKNOWN",
         "REPORT_TYPE": "NOT ON SCENE (DESK REPORT)",
         "_deepnote_index_column": 184
        },
        {
         "LIGHTING_CONDITION": "DARKNESS, LIGHTED ROAD",
         "REPORT_TYPE": "ON SCENE",
         "_deepnote_index_column": 185
        },
        {
         "LIGHTING_CONDITION": "DAYLIGHT",
         "REPORT_TYPE": "NOT ON SCENE (DESK REPORT)",
         "_deepnote_index_column": 186
        },
        {
         "LIGHTING_CONDITION": "DAYLIGHT",
         "REPORT_TYPE": "NOT ON SCENE (DESK REPORT)",
         "_deepnote_index_column": 187
        },
        {
         "LIGHTING_CONDITION": "DARKNESS, LIGHTED ROAD",
         "REPORT_TYPE": "ON SCENE",
         "_deepnote_index_column": 188
        },
        {
         "LIGHTING_CONDITION": "DAYLIGHT",
         "REPORT_TYPE": "ON SCENE",
         "_deepnote_index_column": 189
        },
        {
         "LIGHTING_CONDITION": "DAYLIGHT",
         "REPORT_TYPE": "NOT ON SCENE (DESK REPORT)",
         "_deepnote_index_column": 190
        },
        {
         "LIGHTING_CONDITION": "DAYLIGHT",
         "REPORT_TYPE": "NOT ON SCENE (DESK REPORT)",
         "_deepnote_index_column": 191
        },
        {
         "LIGHTING_CONDITION": "DAYLIGHT",
         "REPORT_TYPE": "ON SCENE",
         "_deepnote_index_column": 192
        },
        {
         "LIGHTING_CONDITION": "UNKNOWN",
         "REPORT_TYPE": "ON SCENE",
         "_deepnote_index_column": 193
        },
        {
         "LIGHTING_CONDITION": "DAYLIGHT",
         "REPORT_TYPE": "nan",
         "_deepnote_index_column": 194
        },
        {
         "LIGHTING_CONDITION": "DAYLIGHT",
         "REPORT_TYPE": "NOT ON SCENE (DESK REPORT)",
         "_deepnote_index_column": 195
        },
        {
         "LIGHTING_CONDITION": "DAYLIGHT",
         "REPORT_TYPE": "NOT ON SCENE (DESK REPORT)",
         "_deepnote_index_column": 196
        },
        {
         "LIGHTING_CONDITION": "DAYLIGHT",
         "REPORT_TYPE": "ON SCENE",
         "_deepnote_index_column": 197
        },
        {
         "LIGHTING_CONDITION": "DAYLIGHT",
         "REPORT_TYPE": "NOT ON SCENE (DESK REPORT)",
         "_deepnote_index_column": 198
        },
        {
         "LIGHTING_CONDITION": "DARKNESS, LIGHTED ROAD",
         "REPORT_TYPE": "NOT ON SCENE (DESK REPORT)",
         "_deepnote_index_column": 199
        },
        {
         "LIGHTING_CONDITION": "DAYLIGHT",
         "REPORT_TYPE": "NOT ON SCENE (DESK REPORT)",
         "_deepnote_index_column": 200
        },
        {
         "LIGHTING_CONDITION": "DAYLIGHT",
         "REPORT_TYPE": "NOT ON SCENE (DESK REPORT)",
         "_deepnote_index_column": 201
        },
        {
         "LIGHTING_CONDITION": "DARKNESS, LIGHTED ROAD",
         "REPORT_TYPE": "ON SCENE",
         "_deepnote_index_column": 202
        },
        {
         "LIGHTING_CONDITION": "DARKNESS, LIGHTED ROAD",
         "REPORT_TYPE": "ON SCENE",
         "_deepnote_index_column": 203
        },
        {
         "LIGHTING_CONDITION": "DAYLIGHT",
         "REPORT_TYPE": "NOT ON SCENE (DESK REPORT)",
         "_deepnote_index_column": 204
        },
        {
         "LIGHTING_CONDITION": "DAYLIGHT",
         "REPORT_TYPE": "NOT ON SCENE (DESK REPORT)",
         "_deepnote_index_column": 205
        },
        {
         "LIGHTING_CONDITION": "UNKNOWN",
         "REPORT_TYPE": "NOT ON SCENE (DESK REPORT)",
         "_deepnote_index_column": 206
        },
        {
         "LIGHTING_CONDITION": "DARKNESS, LIGHTED ROAD",
         "REPORT_TYPE": "NOT ON SCENE (DESK REPORT)",
         "_deepnote_index_column": 207
        },
        {
         "LIGHTING_CONDITION": "DAYLIGHT",
         "REPORT_TYPE": "ON SCENE",
         "_deepnote_index_column": 208
        },
        {
         "LIGHTING_CONDITION": "DARKNESS, LIGHTED ROAD",
         "REPORT_TYPE": "NOT ON SCENE (DESK REPORT)",
         "_deepnote_index_column": 209
        },
        {
         "LIGHTING_CONDITION": "DARKNESS, LIGHTED ROAD",
         "REPORT_TYPE": "NOT ON SCENE (DESK REPORT)",
         "_deepnote_index_column": 210
        },
        {
         "LIGHTING_CONDITION": "DARKNESS",
         "REPORT_TYPE": "ON SCENE",
         "_deepnote_index_column": 211
        },
        {
         "LIGHTING_CONDITION": "DAYLIGHT",
         "REPORT_TYPE": "NOT ON SCENE (DESK REPORT)",
         "_deepnote_index_column": 212
        },
        {
         "LIGHTING_CONDITION": "DARKNESS, LIGHTED ROAD",
         "REPORT_TYPE": "NOT ON SCENE (DESK REPORT)",
         "_deepnote_index_column": 213
        },
        {
         "LIGHTING_CONDITION": "DAYLIGHT",
         "REPORT_TYPE": "NOT ON SCENE (DESK REPORT)",
         "_deepnote_index_column": 214
        },
        {
         "LIGHTING_CONDITION": "DAYLIGHT",
         "REPORT_TYPE": "NOT ON SCENE (DESK REPORT)",
         "_deepnote_index_column": 215
        },
        {
         "LIGHTING_CONDITION": "DARKNESS, LIGHTED ROAD",
         "REPORT_TYPE": "NOT ON SCENE (DESK REPORT)",
         "_deepnote_index_column": 216
        },
        {
         "LIGHTING_CONDITION": "DAYLIGHT",
         "REPORT_TYPE": "NOT ON SCENE (DESK REPORT)",
         "_deepnote_index_column": 217
        },
        {
         "LIGHTING_CONDITION": "DARKNESS, LIGHTED ROAD",
         "REPORT_TYPE": "NOT ON SCENE (DESK REPORT)",
         "_deepnote_index_column": 218
        },
        {
         "LIGHTING_CONDITION": "DAYLIGHT",
         "REPORT_TYPE": "NOT ON SCENE (DESK REPORT)",
         "_deepnote_index_column": 219
        },
        {
         "LIGHTING_CONDITION": "DAYLIGHT",
         "REPORT_TYPE": "ON SCENE",
         "_deepnote_index_column": 220
        },
        {
         "LIGHTING_CONDITION": "DAYLIGHT",
         "REPORT_TYPE": "NOT ON SCENE (DESK REPORT)",
         "_deepnote_index_column": 221
        },
        {
         "LIGHTING_CONDITION": "DAYLIGHT",
         "REPORT_TYPE": "ON SCENE",
         "_deepnote_index_column": 222
        },
        {
         "LIGHTING_CONDITION": "DAYLIGHT",
         "REPORT_TYPE": "NOT ON SCENE (DESK REPORT)",
         "_deepnote_index_column": 223
        },
        {
         "LIGHTING_CONDITION": "DAYLIGHT",
         "REPORT_TYPE": "ON SCENE",
         "_deepnote_index_column": 224
        },
        {
         "LIGHTING_CONDITION": "DUSK",
         "REPORT_TYPE": "NOT ON SCENE (DESK REPORT)",
         "_deepnote_index_column": 225
        },
        {
         "LIGHTING_CONDITION": "DAYLIGHT",
         "REPORT_TYPE": "ON SCENE",
         "_deepnote_index_column": 226
        },
        {
         "LIGHTING_CONDITION": "DARKNESS, LIGHTED ROAD",
         "REPORT_TYPE": "NOT ON SCENE (DESK REPORT)",
         "_deepnote_index_column": 227
        },
        {
         "LIGHTING_CONDITION": "DAYLIGHT",
         "REPORT_TYPE": "ON SCENE",
         "_deepnote_index_column": 228
        },
        {
         "LIGHTING_CONDITION": "DARKNESS",
         "REPORT_TYPE": "NOT ON SCENE (DESK REPORT)",
         "_deepnote_index_column": 229
        },
        {
         "LIGHTING_CONDITION": "DARKNESS, LIGHTED ROAD",
         "REPORT_TYPE": "ON SCENE",
         "_deepnote_index_column": 230
        },
        {
         "LIGHTING_CONDITION": "DAYLIGHT",
         "REPORT_TYPE": "NOT ON SCENE (DESK REPORT)",
         "_deepnote_index_column": 231
        },
        {
         "LIGHTING_CONDITION": "DAYLIGHT",
         "REPORT_TYPE": "ON SCENE",
         "_deepnote_index_column": 232
        },
        {
         "LIGHTING_CONDITION": "DARKNESS, LIGHTED ROAD",
         "REPORT_TYPE": "NOT ON SCENE (DESK REPORT)",
         "_deepnote_index_column": 233
        },
        {
         "LIGHTING_CONDITION": "DAYLIGHT",
         "REPORT_TYPE": "NOT ON SCENE (DESK REPORT)",
         "_deepnote_index_column": 234
        },
        {
         "LIGHTING_CONDITION": "DAYLIGHT",
         "REPORT_TYPE": "NOT ON SCENE (DESK REPORT)",
         "_deepnote_index_column": 235
        },
        {
         "LIGHTING_CONDITION": "DAYLIGHT",
         "REPORT_TYPE": "ON SCENE",
         "_deepnote_index_column": 236
        },
        {
         "LIGHTING_CONDITION": "DAYLIGHT",
         "REPORT_TYPE": "ON SCENE",
         "_deepnote_index_column": 237
        },
        {
         "LIGHTING_CONDITION": "DAYLIGHT",
         "REPORT_TYPE": "ON SCENE",
         "_deepnote_index_column": 238
        },
        {
         "LIGHTING_CONDITION": "DAYLIGHT",
         "REPORT_TYPE": "NOT ON SCENE (DESK REPORT)",
         "_deepnote_index_column": 239
        },
        {
         "LIGHTING_CONDITION": "DARKNESS, LIGHTED ROAD",
         "REPORT_TYPE": "NOT ON SCENE (DESK REPORT)",
         "_deepnote_index_column": 240
        },
        {
         "LIGHTING_CONDITION": "DARKNESS, LIGHTED ROAD",
         "REPORT_TYPE": "ON SCENE",
         "_deepnote_index_column": 241
        },
        {
         "LIGHTING_CONDITION": "DARKNESS, LIGHTED ROAD",
         "REPORT_TYPE": "NOT ON SCENE (DESK REPORT)",
         "_deepnote_index_column": 242
        },
        {
         "LIGHTING_CONDITION": "DAYLIGHT",
         "REPORT_TYPE": "nan",
         "_deepnote_index_column": 243
        },
        {
         "LIGHTING_CONDITION": "DAYLIGHT",
         "REPORT_TYPE": "nan",
         "_deepnote_index_column": 244
        },
        {
         "LIGHTING_CONDITION": "DAYLIGHT",
         "REPORT_TYPE": "NOT ON SCENE (DESK REPORT)",
         "_deepnote_index_column": 245
        },
        {
         "LIGHTING_CONDITION": "DAYLIGHT",
         "REPORT_TYPE": "NOT ON SCENE (DESK REPORT)",
         "_deepnote_index_column": 246
        },
        {
         "LIGHTING_CONDITION": "DAYLIGHT",
         "REPORT_TYPE": "ON SCENE",
         "_deepnote_index_column": 247
        },
        {
         "LIGHTING_CONDITION": "DARKNESS, LIGHTED ROAD",
         "REPORT_TYPE": "ON SCENE",
         "_deepnote_index_column": 248
        },
        {
         "LIGHTING_CONDITION": "DARKNESS",
         "REPORT_TYPE": "ON SCENE",
         "_deepnote_index_column": 249
        }
       ],
       "rows_bottom": [
        {
         "LIGHTING_CONDITION": "DAYLIGHT",
         "REPORT_TYPE": "NOT ON SCENE (DESK REPORT)",
         "_deepnote_index_column": 27711
        },
        {
         "LIGHTING_CONDITION": "DAYLIGHT",
         "REPORT_TYPE": "NOT ON SCENE (DESK REPORT)",
         "_deepnote_index_column": 27712
        },
        {
         "LIGHTING_CONDITION": "DAWN",
         "REPORT_TYPE": "NOT ON SCENE (DESK REPORT)",
         "_deepnote_index_column": 27713
        },
        {
         "LIGHTING_CONDITION": "DAYLIGHT",
         "REPORT_TYPE": "NOT ON SCENE (DESK REPORT)",
         "_deepnote_index_column": 27714
        },
        {
         "LIGHTING_CONDITION": "DARKNESS, LIGHTED ROAD",
         "REPORT_TYPE": "ON SCENE",
         "_deepnote_index_column": 27715
        },
        {
         "LIGHTING_CONDITION": "DAYLIGHT",
         "REPORT_TYPE": "NOT ON SCENE (DESK REPORT)",
         "_deepnote_index_column": 27716
        },
        {
         "LIGHTING_CONDITION": "DAYLIGHT",
         "REPORT_TYPE": "ON SCENE",
         "_deepnote_index_column": 27717
        },
        {
         "LIGHTING_CONDITION": "DAYLIGHT",
         "REPORT_TYPE": "NOT ON SCENE (DESK REPORT)",
         "_deepnote_index_column": 27718
        },
        {
         "LIGHTING_CONDITION": "DAYLIGHT",
         "REPORT_TYPE": "ON SCENE",
         "_deepnote_index_column": 27719
        },
        {
         "LIGHTING_CONDITION": "DARKNESS, LIGHTED ROAD",
         "REPORT_TYPE": "NOT ON SCENE (DESK REPORT)",
         "_deepnote_index_column": 27720
        },
        {
         "LIGHTING_CONDITION": "DAYLIGHT",
         "REPORT_TYPE": "ON SCENE",
         "_deepnote_index_column": 27721
        },
        {
         "LIGHTING_CONDITION": "DAYLIGHT",
         "REPORT_TYPE": "NOT ON SCENE (DESK REPORT)",
         "_deepnote_index_column": 27722
        },
        {
         "LIGHTING_CONDITION": "DAYLIGHT",
         "REPORT_TYPE": "ON SCENE",
         "_deepnote_index_column": 27723
        },
        {
         "LIGHTING_CONDITION": "DAYLIGHT",
         "REPORT_TYPE": "nan",
         "_deepnote_index_column": 27724
        },
        {
         "LIGHTING_CONDITION": "DAYLIGHT",
         "REPORT_TYPE": "NOT ON SCENE (DESK REPORT)",
         "_deepnote_index_column": 27725
        },
        {
         "LIGHTING_CONDITION": "DAYLIGHT",
         "REPORT_TYPE": "ON SCENE",
         "_deepnote_index_column": 27726
        },
        {
         "LIGHTING_CONDITION": "DAYLIGHT",
         "REPORT_TYPE": "ON SCENE",
         "_deepnote_index_column": 27727
        },
        {
         "LIGHTING_CONDITION": "DAYLIGHT",
         "REPORT_TYPE": "ON SCENE",
         "_deepnote_index_column": 27728
        },
        {
         "LIGHTING_CONDITION": "DAYLIGHT",
         "REPORT_TYPE": "NOT ON SCENE (DESK REPORT)",
         "_deepnote_index_column": 27729
        },
        {
         "LIGHTING_CONDITION": "DAYLIGHT",
         "REPORT_TYPE": "ON SCENE",
         "_deepnote_index_column": 27730
        },
        {
         "LIGHTING_CONDITION": "DARKNESS, LIGHTED ROAD",
         "REPORT_TYPE": "NOT ON SCENE (DESK REPORT)",
         "_deepnote_index_column": 27731
        },
        {
         "LIGHTING_CONDITION": "DARKNESS, LIGHTED ROAD",
         "REPORT_TYPE": "ON SCENE",
         "_deepnote_index_column": 27732
        },
        {
         "LIGHTING_CONDITION": "DAYLIGHT",
         "REPORT_TYPE": "NOT ON SCENE (DESK REPORT)",
         "_deepnote_index_column": 27733
        },
        {
         "LIGHTING_CONDITION": "DAYLIGHT",
         "REPORT_TYPE": "NOT ON SCENE (DESK REPORT)",
         "_deepnote_index_column": 27734
        },
        {
         "LIGHTING_CONDITION": "DARKNESS, LIGHTED ROAD",
         "REPORT_TYPE": "NOT ON SCENE (DESK REPORT)",
         "_deepnote_index_column": 27735
        },
        {
         "LIGHTING_CONDITION": "DAYLIGHT",
         "REPORT_TYPE": "NOT ON SCENE (DESK REPORT)",
         "_deepnote_index_column": 27736
        },
        {
         "LIGHTING_CONDITION": "DAYLIGHT",
         "REPORT_TYPE": "ON SCENE",
         "_deepnote_index_column": 27737
        },
        {
         "LIGHTING_CONDITION": "DAYLIGHT",
         "REPORT_TYPE": "NOT ON SCENE (DESK REPORT)",
         "_deepnote_index_column": 27738
        },
        {
         "LIGHTING_CONDITION": "DAYLIGHT",
         "REPORT_TYPE": "NOT ON SCENE (DESK REPORT)",
         "_deepnote_index_column": 27739
        },
        {
         "LIGHTING_CONDITION": "DARKNESS, LIGHTED ROAD",
         "REPORT_TYPE": "NOT ON SCENE (DESK REPORT)",
         "_deepnote_index_column": 27740
        },
        {
         "LIGHTING_CONDITION": "DAYLIGHT",
         "REPORT_TYPE": "ON SCENE",
         "_deepnote_index_column": 27741
        },
        {
         "LIGHTING_CONDITION": "DUSK",
         "REPORT_TYPE": "ON SCENE",
         "_deepnote_index_column": 27742
        },
        {
         "LIGHTING_CONDITION": "DAYLIGHT",
         "REPORT_TYPE": "ON SCENE",
         "_deepnote_index_column": 27743
        },
        {
         "LIGHTING_CONDITION": "DARKNESS, LIGHTED ROAD",
         "REPORT_TYPE": "NOT ON SCENE (DESK REPORT)",
         "_deepnote_index_column": 27744
        },
        {
         "LIGHTING_CONDITION": "DARKNESS, LIGHTED ROAD",
         "REPORT_TYPE": "NOT ON SCENE (DESK REPORT)",
         "_deepnote_index_column": 27745
        },
        {
         "LIGHTING_CONDITION": "DAYLIGHT",
         "REPORT_TYPE": "NOT ON SCENE (DESK REPORT)",
         "_deepnote_index_column": 27746
        },
        {
         "LIGHTING_CONDITION": "DAYLIGHT",
         "REPORT_TYPE": "NOT ON SCENE (DESK REPORT)",
         "_deepnote_index_column": 27747
        },
        {
         "LIGHTING_CONDITION": "DAYLIGHT",
         "REPORT_TYPE": "NOT ON SCENE (DESK REPORT)",
         "_deepnote_index_column": 27748
        },
        {
         "LIGHTING_CONDITION": "DARKNESS, LIGHTED ROAD",
         "REPORT_TYPE": "NOT ON SCENE (DESK REPORT)",
         "_deepnote_index_column": 27749
        },
        {
         "LIGHTING_CONDITION": "DARKNESS, LIGHTED ROAD",
         "REPORT_TYPE": "ON SCENE",
         "_deepnote_index_column": 27750
        },
        {
         "LIGHTING_CONDITION": "DAYLIGHT",
         "REPORT_TYPE": "ON SCENE",
         "_deepnote_index_column": 27751
        },
        {
         "LIGHTING_CONDITION": "DARKNESS",
         "REPORT_TYPE": "ON SCENE",
         "_deepnote_index_column": 27752
        },
        {
         "LIGHTING_CONDITION": "DARKNESS, LIGHTED ROAD",
         "REPORT_TYPE": "NOT ON SCENE (DESK REPORT)",
         "_deepnote_index_column": 27753
        },
        {
         "LIGHTING_CONDITION": "UNKNOWN",
         "REPORT_TYPE": "NOT ON SCENE (DESK REPORT)",
         "_deepnote_index_column": 27754
        },
        {
         "LIGHTING_CONDITION": "DAYLIGHT",
         "REPORT_TYPE": "ON SCENE",
         "_deepnote_index_column": 27755
        },
        {
         "LIGHTING_CONDITION": "DAYLIGHT",
         "REPORT_TYPE": "ON SCENE",
         "_deepnote_index_column": 27756
        },
        {
         "LIGHTING_CONDITION": "DAYLIGHT",
         "REPORT_TYPE": "NOT ON SCENE (DESK REPORT)",
         "_deepnote_index_column": 27757
        },
        {
         "LIGHTING_CONDITION": "DAYLIGHT",
         "REPORT_TYPE": "NOT ON SCENE (DESK REPORT)",
         "_deepnote_index_column": 27758
        },
        {
         "LIGHTING_CONDITION": "DARKNESS, LIGHTED ROAD",
         "REPORT_TYPE": "ON SCENE",
         "_deepnote_index_column": 27759
        },
        {
         "LIGHTING_CONDITION": "DARKNESS, LIGHTED ROAD",
         "REPORT_TYPE": "ON SCENE",
         "_deepnote_index_column": 27760
        },
        {
         "LIGHTING_CONDITION": "DAYLIGHT",
         "REPORT_TYPE": "ON SCENE",
         "_deepnote_index_column": 27761
        },
        {
         "LIGHTING_CONDITION": "DARKNESS, LIGHTED ROAD",
         "REPORT_TYPE": "NOT ON SCENE (DESK REPORT)",
         "_deepnote_index_column": 27762
        },
        {
         "LIGHTING_CONDITION": "DAYLIGHT",
         "REPORT_TYPE": "NOT ON SCENE (DESK REPORT)",
         "_deepnote_index_column": 27763
        },
        {
         "LIGHTING_CONDITION": "DAYLIGHT",
         "REPORT_TYPE": "ON SCENE",
         "_deepnote_index_column": 27764
        },
        {
         "LIGHTING_CONDITION": "DAYLIGHT",
         "REPORT_TYPE": "ON SCENE",
         "_deepnote_index_column": 27765
        },
        {
         "LIGHTING_CONDITION": "DAYLIGHT",
         "REPORT_TYPE": "ON SCENE",
         "_deepnote_index_column": 27766
        },
        {
         "LIGHTING_CONDITION": "DAYLIGHT",
         "REPORT_TYPE": "NOT ON SCENE (DESK REPORT)",
         "_deepnote_index_column": 27767
        },
        {
         "LIGHTING_CONDITION": "DUSK",
         "REPORT_TYPE": "nan",
         "_deepnote_index_column": 27768
        },
        {
         "LIGHTING_CONDITION": "DAYLIGHT",
         "REPORT_TYPE": "ON SCENE",
         "_deepnote_index_column": 27769
        },
        {
         "LIGHTING_CONDITION": "DAYLIGHT",
         "REPORT_TYPE": "ON SCENE",
         "_deepnote_index_column": 27770
        },
        {
         "LIGHTING_CONDITION": "DAYLIGHT",
         "REPORT_TYPE": "NOT ON SCENE (DESK REPORT)",
         "_deepnote_index_column": 27771
        },
        {
         "LIGHTING_CONDITION": "DAYLIGHT",
         "REPORT_TYPE": "ON SCENE",
         "_deepnote_index_column": 27772
        },
        {
         "LIGHTING_CONDITION": "DARKNESS, LIGHTED ROAD",
         "REPORT_TYPE": "ON SCENE",
         "_deepnote_index_column": 27773
        },
        {
         "LIGHTING_CONDITION": "DAYLIGHT",
         "REPORT_TYPE": "ON SCENE",
         "_deepnote_index_column": 27774
        },
        {
         "LIGHTING_CONDITION": "UNKNOWN",
         "REPORT_TYPE": "NOT ON SCENE (DESK REPORT)",
         "_deepnote_index_column": 27775
        },
        {
         "LIGHTING_CONDITION": "DAYLIGHT",
         "REPORT_TYPE": "NOT ON SCENE (DESK REPORT)",
         "_deepnote_index_column": 27776
        },
        {
         "LIGHTING_CONDITION": "DAYLIGHT",
         "REPORT_TYPE": "ON SCENE",
         "_deepnote_index_column": 27777
        },
        {
         "LIGHTING_CONDITION": "DAYLIGHT",
         "REPORT_TYPE": "NOT ON SCENE (DESK REPORT)",
         "_deepnote_index_column": 27778
        },
        {
         "LIGHTING_CONDITION": "DAYLIGHT",
         "REPORT_TYPE": "NOT ON SCENE (DESK REPORT)",
         "_deepnote_index_column": 27779
        },
        {
         "LIGHTING_CONDITION": "DAYLIGHT",
         "REPORT_TYPE": "nan",
         "_deepnote_index_column": 27780
        },
        {
         "LIGHTING_CONDITION": "DAWN",
         "REPORT_TYPE": "NOT ON SCENE (DESK REPORT)",
         "_deepnote_index_column": 27781
        },
        {
         "LIGHTING_CONDITION": "DAYLIGHT",
         "REPORT_TYPE": "NOT ON SCENE (DESK REPORT)",
         "_deepnote_index_column": 27782
        },
        {
         "LIGHTING_CONDITION": "DAYLIGHT",
         "REPORT_TYPE": "ON SCENE",
         "_deepnote_index_column": 27783
        },
        {
         "LIGHTING_CONDITION": "DAYLIGHT",
         "REPORT_TYPE": "NOT ON SCENE (DESK REPORT)",
         "_deepnote_index_column": 27784
        },
        {
         "LIGHTING_CONDITION": "DUSK",
         "REPORT_TYPE": "NOT ON SCENE (DESK REPORT)",
         "_deepnote_index_column": 27785
        },
        {
         "LIGHTING_CONDITION": "DARKNESS",
         "REPORT_TYPE": "ON SCENE",
         "_deepnote_index_column": 27786
        },
        {
         "LIGHTING_CONDITION": "DAYLIGHT",
         "REPORT_TYPE": "NOT ON SCENE (DESK REPORT)",
         "_deepnote_index_column": 27787
        },
        {
         "LIGHTING_CONDITION": "DAYLIGHT",
         "REPORT_TYPE": "NOT ON SCENE (DESK REPORT)",
         "_deepnote_index_column": 27788
        },
        {
         "LIGHTING_CONDITION": "DAYLIGHT",
         "REPORT_TYPE": "NOT ON SCENE (DESK REPORT)",
         "_deepnote_index_column": 27789
        },
        {
         "LIGHTING_CONDITION": "DARKNESS",
         "REPORT_TYPE": "NOT ON SCENE (DESK REPORT)",
         "_deepnote_index_column": 27790
        },
        {
         "LIGHTING_CONDITION": "DAYLIGHT",
         "REPORT_TYPE": "ON SCENE",
         "_deepnote_index_column": 27791
        },
        {
         "LIGHTING_CONDITION": "DAWN",
         "REPORT_TYPE": "ON SCENE",
         "_deepnote_index_column": 27792
        },
        {
         "LIGHTING_CONDITION": "DARKNESS",
         "REPORT_TYPE": "ON SCENE",
         "_deepnote_index_column": 27793
        },
        {
         "LIGHTING_CONDITION": "DAWN",
         "REPORT_TYPE": "nan",
         "_deepnote_index_column": 27794
        },
        {
         "LIGHTING_CONDITION": "DARKNESS",
         "REPORT_TYPE": "ON SCENE",
         "_deepnote_index_column": 27795
        },
        {
         "LIGHTING_CONDITION": "DUSK",
         "REPORT_TYPE": "ON SCENE",
         "_deepnote_index_column": 27796
        },
        {
         "LIGHTING_CONDITION": "DAYLIGHT",
         "REPORT_TYPE": "NOT ON SCENE (DESK REPORT)",
         "_deepnote_index_column": 27797
        },
        {
         "LIGHTING_CONDITION": "DARKNESS, LIGHTED ROAD",
         "REPORT_TYPE": "NOT ON SCENE (DESK REPORT)",
         "_deepnote_index_column": 27798
        },
        {
         "LIGHTING_CONDITION": "UNKNOWN",
         "REPORT_TYPE": "NOT ON SCENE (DESK REPORT)",
         "_deepnote_index_column": 27799
        },
        {
         "LIGHTING_CONDITION": "DARKNESS, LIGHTED ROAD",
         "REPORT_TYPE": "NOT ON SCENE (DESK REPORT)",
         "_deepnote_index_column": 27800
        },
        {
         "LIGHTING_CONDITION": "DARKNESS, LIGHTED ROAD",
         "REPORT_TYPE": "NOT ON SCENE (DESK REPORT)",
         "_deepnote_index_column": 27801
        },
        {
         "LIGHTING_CONDITION": "DAYLIGHT",
         "REPORT_TYPE": "ON SCENE",
         "_deepnote_index_column": 27802
        },
        {
         "LIGHTING_CONDITION": "DARKNESS",
         "REPORT_TYPE": "NOT ON SCENE (DESK REPORT)",
         "_deepnote_index_column": 27803
        },
        {
         "LIGHTING_CONDITION": "DAYLIGHT",
         "REPORT_TYPE": "ON SCENE",
         "_deepnote_index_column": 27804
        },
        {
         "LIGHTING_CONDITION": "DAYLIGHT",
         "REPORT_TYPE": "NOT ON SCENE (DESK REPORT)",
         "_deepnote_index_column": 27805
        },
        {
         "LIGHTING_CONDITION": "DARKNESS, LIGHTED ROAD",
         "REPORT_TYPE": "NOT ON SCENE (DESK REPORT)",
         "_deepnote_index_column": 27806
        },
        {
         "LIGHTING_CONDITION": "DARKNESS, LIGHTED ROAD",
         "REPORT_TYPE": "ON SCENE",
         "_deepnote_index_column": 27807
        },
        {
         "LIGHTING_CONDITION": "DAYLIGHT",
         "REPORT_TYPE": "NOT ON SCENE (DESK REPORT)",
         "_deepnote_index_column": 27808
        },
        {
         "LIGHTING_CONDITION": "DAYLIGHT",
         "REPORT_TYPE": "NOT ON SCENE (DESK REPORT)",
         "_deepnote_index_column": 27809
        },
        {
         "LIGHTING_CONDITION": "DARKNESS",
         "REPORT_TYPE": "ON SCENE",
         "_deepnote_index_column": 27810
        },
        {
         "LIGHTING_CONDITION": "DAYLIGHT",
         "REPORT_TYPE": "ON SCENE",
         "_deepnote_index_column": 27811
        },
        {
         "LIGHTING_CONDITION": "DARKNESS, LIGHTED ROAD",
         "REPORT_TYPE": "NOT ON SCENE (DESK REPORT)",
         "_deepnote_index_column": 27812
        },
        {
         "LIGHTING_CONDITION": "DAYLIGHT",
         "REPORT_TYPE": "NOT ON SCENE (DESK REPORT)",
         "_deepnote_index_column": 27813
        },
        {
         "LIGHTING_CONDITION": "DAYLIGHT",
         "REPORT_TYPE": "NOT ON SCENE (DESK REPORT)",
         "_deepnote_index_column": 27814
        },
        {
         "LIGHTING_CONDITION": "DARKNESS",
         "REPORT_TYPE": "ON SCENE",
         "_deepnote_index_column": 27815
        },
        {
         "LIGHTING_CONDITION": "DARKNESS, LIGHTED ROAD",
         "REPORT_TYPE": "ON SCENE",
         "_deepnote_index_column": 27816
        },
        {
         "LIGHTING_CONDITION": "DARKNESS, LIGHTED ROAD",
         "REPORT_TYPE": "ON SCENE",
         "_deepnote_index_column": 27817
        },
        {
         "LIGHTING_CONDITION": "DAYLIGHT",
         "REPORT_TYPE": "NOT ON SCENE (DESK REPORT)",
         "_deepnote_index_column": 27818
        },
        {
         "LIGHTING_CONDITION": "DAYLIGHT",
         "REPORT_TYPE": "ON SCENE",
         "_deepnote_index_column": 27819
        },
        {
         "LIGHTING_CONDITION": "DAYLIGHT",
         "REPORT_TYPE": "NOT ON SCENE (DESK REPORT)",
         "_deepnote_index_column": 27820
        },
        {
         "LIGHTING_CONDITION": "DAYLIGHT",
         "REPORT_TYPE": "NOT ON SCENE (DESK REPORT)",
         "_deepnote_index_column": 27821
        },
        {
         "LIGHTING_CONDITION": "DAYLIGHT",
         "REPORT_TYPE": "NOT ON SCENE (DESK REPORT)",
         "_deepnote_index_column": 27822
        },
        {
         "LIGHTING_CONDITION": "DAYLIGHT",
         "REPORT_TYPE": "NOT ON SCENE (DESK REPORT)",
         "_deepnote_index_column": 27823
        },
        {
         "LIGHTING_CONDITION": "DAYLIGHT",
         "REPORT_TYPE": "ON SCENE",
         "_deepnote_index_column": 27824
        },
        {
         "LIGHTING_CONDITION": "DAYLIGHT",
         "REPORT_TYPE": "ON SCENE",
         "_deepnote_index_column": 27825
        },
        {
         "LIGHTING_CONDITION": "DARKNESS",
         "REPORT_TYPE": "ON SCENE",
         "_deepnote_index_column": 27826
        },
        {
         "LIGHTING_CONDITION": "DAYLIGHT",
         "REPORT_TYPE": "NOT ON SCENE (DESK REPORT)",
         "_deepnote_index_column": 27827
        },
        {
         "LIGHTING_CONDITION": "DARKNESS",
         "REPORT_TYPE": "ON SCENE",
         "_deepnote_index_column": 27828
        },
        {
         "LIGHTING_CONDITION": "DARKNESS, LIGHTED ROAD",
         "REPORT_TYPE": "NOT ON SCENE (DESK REPORT)",
         "_deepnote_index_column": 27829
        },
        {
         "LIGHTING_CONDITION": "DAYLIGHT",
         "REPORT_TYPE": "NOT ON SCENE (DESK REPORT)",
         "_deepnote_index_column": 27830
        },
        {
         "LIGHTING_CONDITION": "DAYLIGHT",
         "REPORT_TYPE": "NOT ON SCENE (DESK REPORT)",
         "_deepnote_index_column": 27831
        },
        {
         "LIGHTING_CONDITION": "DARKNESS, LIGHTED ROAD",
         "REPORT_TYPE": "ON SCENE",
         "_deepnote_index_column": 27832
        },
        {
         "LIGHTING_CONDITION": "DAYLIGHT",
         "REPORT_TYPE": "ON SCENE",
         "_deepnote_index_column": 27833
        },
        {
         "LIGHTING_CONDITION": "DARKNESS, LIGHTED ROAD",
         "REPORT_TYPE": "NOT ON SCENE (DESK REPORT)",
         "_deepnote_index_column": 27834
        },
        {
         "LIGHTING_CONDITION": "DAWN",
         "REPORT_TYPE": "NOT ON SCENE (DESK REPORT)",
         "_deepnote_index_column": 27835
        },
        {
         "LIGHTING_CONDITION": "DAYLIGHT",
         "REPORT_TYPE": "ON SCENE",
         "_deepnote_index_column": 27836
        },
        {
         "LIGHTING_CONDITION": "DARKNESS, LIGHTED ROAD",
         "REPORT_TYPE": "NOT ON SCENE (DESK REPORT)",
         "_deepnote_index_column": 27837
        },
        {
         "LIGHTING_CONDITION": "DARKNESS, LIGHTED ROAD",
         "REPORT_TYPE": "ON SCENE",
         "_deepnote_index_column": 27838
        },
        {
         "LIGHTING_CONDITION": "DAYLIGHT",
         "REPORT_TYPE": "NOT ON SCENE (DESK REPORT)",
         "_deepnote_index_column": 27839
        },
        {
         "LIGHTING_CONDITION": "DAYLIGHT",
         "REPORT_TYPE": "NOT ON SCENE (DESK REPORT)",
         "_deepnote_index_column": 27840
        },
        {
         "LIGHTING_CONDITION": "DAYLIGHT",
         "REPORT_TYPE": "NOT ON SCENE (DESK REPORT)",
         "_deepnote_index_column": 27841
        },
        {
         "LIGHTING_CONDITION": "DAYLIGHT",
         "REPORT_TYPE": "NOT ON SCENE (DESK REPORT)",
         "_deepnote_index_column": 27842
        },
        {
         "LIGHTING_CONDITION": "DARKNESS",
         "REPORT_TYPE": "NOT ON SCENE (DESK REPORT)",
         "_deepnote_index_column": 27843
        },
        {
         "LIGHTING_CONDITION": "DAYLIGHT",
         "REPORT_TYPE": "NOT ON SCENE (DESK REPORT)",
         "_deepnote_index_column": 27844
        },
        {
         "LIGHTING_CONDITION": "DUSK",
         "REPORT_TYPE": "ON SCENE",
         "_deepnote_index_column": 27845
        },
        {
         "LIGHTING_CONDITION": "DAYLIGHT",
         "REPORT_TYPE": "ON SCENE",
         "_deepnote_index_column": 27846
        },
        {
         "LIGHTING_CONDITION": "DARKNESS, LIGHTED ROAD",
         "REPORT_TYPE": "ON SCENE",
         "_deepnote_index_column": 27847
        },
        {
         "LIGHTING_CONDITION": "DUSK",
         "REPORT_TYPE": "ON SCENE",
         "_deepnote_index_column": 27848
        },
        {
         "LIGHTING_CONDITION": "DARKNESS, LIGHTED ROAD",
         "REPORT_TYPE": "ON SCENE",
         "_deepnote_index_column": 27849
        },
        {
         "LIGHTING_CONDITION": "DARKNESS, LIGHTED ROAD",
         "REPORT_TYPE": "ON SCENE",
         "_deepnote_index_column": 27850
        },
        {
         "LIGHTING_CONDITION": "DAYLIGHT",
         "REPORT_TYPE": "NOT ON SCENE (DESK REPORT)",
         "_deepnote_index_column": 27851
        },
        {
         "LIGHTING_CONDITION": "DAYLIGHT",
         "REPORT_TYPE": "NOT ON SCENE (DESK REPORT)",
         "_deepnote_index_column": 27852
        },
        {
         "LIGHTING_CONDITION": "DAYLIGHT",
         "REPORT_TYPE": "AMENDED",
         "_deepnote_index_column": 27853
        },
        {
         "LIGHTING_CONDITION": "UNKNOWN",
         "REPORT_TYPE": "NOT ON SCENE (DESK REPORT)",
         "_deepnote_index_column": 27854
        },
        {
         "LIGHTING_CONDITION": "DARKNESS, LIGHTED ROAD",
         "REPORT_TYPE": "NOT ON SCENE (DESK REPORT)",
         "_deepnote_index_column": 27855
        },
        {
         "LIGHTING_CONDITION": "DAYLIGHT",
         "REPORT_TYPE": "ON SCENE",
         "_deepnote_index_column": 27856
        },
        {
         "LIGHTING_CONDITION": "DAYLIGHT",
         "REPORT_TYPE": "NOT ON SCENE (DESK REPORT)",
         "_deepnote_index_column": 27857
        },
        {
         "LIGHTING_CONDITION": "DAYLIGHT",
         "REPORT_TYPE": "NOT ON SCENE (DESK REPORT)",
         "_deepnote_index_column": 27858
        },
        {
         "LIGHTING_CONDITION": "DAYLIGHT",
         "REPORT_TYPE": "NOT ON SCENE (DESK REPORT)",
         "_deepnote_index_column": 27859
        },
        {
         "LIGHTING_CONDITION": "DAYLIGHT",
         "REPORT_TYPE": "ON SCENE",
         "_deepnote_index_column": 27860
        },
        {
         "LIGHTING_CONDITION": "DAYLIGHT",
         "REPORT_TYPE": "ON SCENE",
         "_deepnote_index_column": 27861
        },
        {
         "LIGHTING_CONDITION": "DAYLIGHT",
         "REPORT_TYPE": "NOT ON SCENE (DESK REPORT)",
         "_deepnote_index_column": 27862
        },
        {
         "LIGHTING_CONDITION": "DARKNESS, LIGHTED ROAD",
         "REPORT_TYPE": "NOT ON SCENE (DESK REPORT)",
         "_deepnote_index_column": 27863
        },
        {
         "LIGHTING_CONDITION": "DAYLIGHT",
         "REPORT_TYPE": "ON SCENE",
         "_deepnote_index_column": 27864
        },
        {
         "LIGHTING_CONDITION": "DARKNESS",
         "REPORT_TYPE": "NOT ON SCENE (DESK REPORT)",
         "_deepnote_index_column": 27865
        },
        {
         "LIGHTING_CONDITION": "DAYLIGHT",
         "REPORT_TYPE": "NOT ON SCENE (DESK REPORT)",
         "_deepnote_index_column": 27866
        },
        {
         "LIGHTING_CONDITION": "DARKNESS",
         "REPORT_TYPE": "NOT ON SCENE (DESK REPORT)",
         "_deepnote_index_column": 27867
        },
        {
         "LIGHTING_CONDITION": "DAYLIGHT",
         "REPORT_TYPE": "ON SCENE",
         "_deepnote_index_column": 27868
        },
        {
         "LIGHTING_CONDITION": "DARKNESS, LIGHTED ROAD",
         "REPORT_TYPE": "ON SCENE",
         "_deepnote_index_column": 27869
        },
        {
         "LIGHTING_CONDITION": "DAYLIGHT",
         "REPORT_TYPE": "ON SCENE",
         "_deepnote_index_column": 27870
        },
        {
         "LIGHTING_CONDITION": "DARKNESS",
         "REPORT_TYPE": "NOT ON SCENE (DESK REPORT)",
         "_deepnote_index_column": 27871
        },
        {
         "LIGHTING_CONDITION": "DAYLIGHT",
         "REPORT_TYPE": "NOT ON SCENE (DESK REPORT)",
         "_deepnote_index_column": 27872
        },
        {
         "LIGHTING_CONDITION": "DARKNESS",
         "REPORT_TYPE": "NOT ON SCENE (DESK REPORT)",
         "_deepnote_index_column": 27873
        },
        {
         "LIGHTING_CONDITION": "DARKNESS, LIGHTED ROAD",
         "REPORT_TYPE": "ON SCENE",
         "_deepnote_index_column": 27874
        },
        {
         "LIGHTING_CONDITION": "DAYLIGHT",
         "REPORT_TYPE": "NOT ON SCENE (DESK REPORT)",
         "_deepnote_index_column": 27875
        },
        {
         "LIGHTING_CONDITION": "DARKNESS",
         "REPORT_TYPE": "ON SCENE",
         "_deepnote_index_column": 27876
        },
        {
         "LIGHTING_CONDITION": "DAYLIGHT",
         "REPORT_TYPE": "ON SCENE",
         "_deepnote_index_column": 27877
        },
        {
         "LIGHTING_CONDITION": "DAYLIGHT",
         "REPORT_TYPE": "NOT ON SCENE (DESK REPORT)",
         "_deepnote_index_column": 27878
        },
        {
         "LIGHTING_CONDITION": "DARKNESS",
         "REPORT_TYPE": "ON SCENE",
         "_deepnote_index_column": 27879
        },
        {
         "LIGHTING_CONDITION": "DARKNESS, LIGHTED ROAD",
         "REPORT_TYPE": "ON SCENE",
         "_deepnote_index_column": 27880
        },
        {
         "LIGHTING_CONDITION": "DAYLIGHT",
         "REPORT_TYPE": "NOT ON SCENE (DESK REPORT)",
         "_deepnote_index_column": 27881
        },
        {
         "LIGHTING_CONDITION": "DAYLIGHT",
         "REPORT_TYPE": "NOT ON SCENE (DESK REPORT)",
         "_deepnote_index_column": 27882
        },
        {
         "LIGHTING_CONDITION": "DAYLIGHT",
         "REPORT_TYPE": "ON SCENE",
         "_deepnote_index_column": 27883
        },
        {
         "LIGHTING_CONDITION": "UNKNOWN",
         "REPORT_TYPE": "ON SCENE",
         "_deepnote_index_column": 27884
        },
        {
         "LIGHTING_CONDITION": "DAYLIGHT",
         "REPORT_TYPE": "ON SCENE",
         "_deepnote_index_column": 27885
        },
        {
         "LIGHTING_CONDITION": "DARKNESS, LIGHTED ROAD",
         "REPORT_TYPE": "ON SCENE",
         "_deepnote_index_column": 27886
        },
        {
         "LIGHTING_CONDITION": "DAYLIGHT",
         "REPORT_TYPE": "ON SCENE",
         "_deepnote_index_column": 27887
        },
        {
         "LIGHTING_CONDITION": "DARKNESS, LIGHTED ROAD",
         "REPORT_TYPE": "NOT ON SCENE (DESK REPORT)",
         "_deepnote_index_column": 27888
        },
        {
         "LIGHTING_CONDITION": "DAYLIGHT",
         "REPORT_TYPE": "NOT ON SCENE (DESK REPORT)",
         "_deepnote_index_column": 27889
        },
        {
         "LIGHTING_CONDITION": "DAYLIGHT",
         "REPORT_TYPE": "NOT ON SCENE (DESK REPORT)",
         "_deepnote_index_column": 27890
        },
        {
         "LIGHTING_CONDITION": "DAYLIGHT",
         "REPORT_TYPE": "NOT ON SCENE (DESK REPORT)",
         "_deepnote_index_column": 27891
        },
        {
         "LIGHTING_CONDITION": "DAYLIGHT",
         "REPORT_TYPE": "ON SCENE",
         "_deepnote_index_column": 27892
        },
        {
         "LIGHTING_CONDITION": "DAYLIGHT",
         "REPORT_TYPE": "NOT ON SCENE (DESK REPORT)",
         "_deepnote_index_column": 27893
        },
        {
         "LIGHTING_CONDITION": "DAYLIGHT",
         "REPORT_TYPE": "ON SCENE",
         "_deepnote_index_column": 27894
        },
        {
         "LIGHTING_CONDITION": "DAYLIGHT",
         "REPORT_TYPE": "NOT ON SCENE (DESK REPORT)",
         "_deepnote_index_column": 27895
        },
        {
         "LIGHTING_CONDITION": "DAYLIGHT",
         "REPORT_TYPE": "NOT ON SCENE (DESK REPORT)",
         "_deepnote_index_column": 27896
        },
        {
         "LIGHTING_CONDITION": "DARKNESS, LIGHTED ROAD",
         "REPORT_TYPE": "NOT ON SCENE (DESK REPORT)",
         "_deepnote_index_column": 27897
        },
        {
         "LIGHTING_CONDITION": "DAYLIGHT",
         "REPORT_TYPE": "ON SCENE",
         "_deepnote_index_column": 27898
        },
        {
         "LIGHTING_CONDITION": "DAYLIGHT",
         "REPORT_TYPE": "NOT ON SCENE (DESK REPORT)",
         "_deepnote_index_column": 27899
        },
        {
         "LIGHTING_CONDITION": "DAYLIGHT",
         "REPORT_TYPE": "ON SCENE",
         "_deepnote_index_column": 27900
        },
        {
         "LIGHTING_CONDITION": "DAYLIGHT",
         "REPORT_TYPE": "ON SCENE",
         "_deepnote_index_column": 27901
        },
        {
         "LIGHTING_CONDITION": "DAYLIGHT",
         "REPORT_TYPE": "ON SCENE",
         "_deepnote_index_column": 27902
        },
        {
         "LIGHTING_CONDITION": "DAYLIGHT",
         "REPORT_TYPE": "ON SCENE",
         "_deepnote_index_column": 27903
        },
        {
         "LIGHTING_CONDITION": "DAYLIGHT",
         "REPORT_TYPE": "NOT ON SCENE (DESK REPORT)",
         "_deepnote_index_column": 27904
        },
        {
         "LIGHTING_CONDITION": "DARKNESS",
         "REPORT_TYPE": "NOT ON SCENE (DESK REPORT)",
         "_deepnote_index_column": 27905
        },
        {
         "LIGHTING_CONDITION": "DARKNESS, LIGHTED ROAD",
         "REPORT_TYPE": "ON SCENE",
         "_deepnote_index_column": 27906
        },
        {
         "LIGHTING_CONDITION": "DAYLIGHT",
         "REPORT_TYPE": "ON SCENE",
         "_deepnote_index_column": 27907
        },
        {
         "LIGHTING_CONDITION": "DUSK",
         "REPORT_TYPE": "NOT ON SCENE (DESK REPORT)",
         "_deepnote_index_column": 27908
        },
        {
         "LIGHTING_CONDITION": "DAYLIGHT",
         "REPORT_TYPE": "ON SCENE",
         "_deepnote_index_column": 27909
        },
        {
         "LIGHTING_CONDITION": "DUSK",
         "REPORT_TYPE": "NOT ON SCENE (DESK REPORT)",
         "_deepnote_index_column": 27910
        },
        {
         "LIGHTING_CONDITION": "DARKNESS, LIGHTED ROAD",
         "REPORT_TYPE": "ON SCENE",
         "_deepnote_index_column": 27911
        },
        {
         "LIGHTING_CONDITION": "DAYLIGHT",
         "REPORT_TYPE": "ON SCENE",
         "_deepnote_index_column": 27912
        },
        {
         "LIGHTING_CONDITION": "DAYLIGHT",
         "REPORT_TYPE": "NOT ON SCENE (DESK REPORT)",
         "_deepnote_index_column": 27913
        },
        {
         "LIGHTING_CONDITION": "DAYLIGHT",
         "REPORT_TYPE": "nan",
         "_deepnote_index_column": 27914
        },
        {
         "LIGHTING_CONDITION": "DAYLIGHT",
         "REPORT_TYPE": "NOT ON SCENE (DESK REPORT)",
         "_deepnote_index_column": 27915
        },
        {
         "LIGHTING_CONDITION": "DAYLIGHT",
         "REPORT_TYPE": "nan",
         "_deepnote_index_column": 27916
        },
        {
         "LIGHTING_CONDITION": "DAYLIGHT",
         "REPORT_TYPE": "ON SCENE",
         "_deepnote_index_column": 27917
        },
        {
         "LIGHTING_CONDITION": "DAYLIGHT",
         "REPORT_TYPE": "NOT ON SCENE (DESK REPORT)",
         "_deepnote_index_column": 27918
        },
        {
         "LIGHTING_CONDITION": "DARKNESS",
         "REPORT_TYPE": "NOT ON SCENE (DESK REPORT)",
         "_deepnote_index_column": 27919
        },
        {
         "LIGHTING_CONDITION": "DAYLIGHT",
         "REPORT_TYPE": "NOT ON SCENE (DESK REPORT)",
         "_deepnote_index_column": 27920
        },
        {
         "LIGHTING_CONDITION": "DAYLIGHT",
         "REPORT_TYPE": "NOT ON SCENE (DESK REPORT)",
         "_deepnote_index_column": 27921
        },
        {
         "LIGHTING_CONDITION": "DARKNESS, LIGHTED ROAD",
         "REPORT_TYPE": "ON SCENE",
         "_deepnote_index_column": 27922
        },
        {
         "LIGHTING_CONDITION": "DAYLIGHT",
         "REPORT_TYPE": "NOT ON SCENE (DESK REPORT)",
         "_deepnote_index_column": 27923
        },
        {
         "LIGHTING_CONDITION": "DAYLIGHT",
         "REPORT_TYPE": "NOT ON SCENE (DESK REPORT)",
         "_deepnote_index_column": 27924
        },
        {
         "LIGHTING_CONDITION": "DARKNESS, LIGHTED ROAD",
         "REPORT_TYPE": "NOT ON SCENE (DESK REPORT)",
         "_deepnote_index_column": 27925
        },
        {
         "LIGHTING_CONDITION": "DAYLIGHT",
         "REPORT_TYPE": "NOT ON SCENE (DESK REPORT)",
         "_deepnote_index_column": 27926
        },
        {
         "LIGHTING_CONDITION": "DAYLIGHT",
         "REPORT_TYPE": "ON SCENE",
         "_deepnote_index_column": 27927
        },
        {
         "LIGHTING_CONDITION": "DARKNESS, LIGHTED ROAD",
         "REPORT_TYPE": "NOT ON SCENE (DESK REPORT)",
         "_deepnote_index_column": 27928
        },
        {
         "LIGHTING_CONDITION": "DARKNESS",
         "REPORT_TYPE": "NOT ON SCENE (DESK REPORT)",
         "_deepnote_index_column": 27929
        },
        {
         "LIGHTING_CONDITION": "DARKNESS, LIGHTED ROAD",
         "REPORT_TYPE": "ON SCENE",
         "_deepnote_index_column": 27930
        },
        {
         "LIGHTING_CONDITION": "DAYLIGHT",
         "REPORT_TYPE": "NOT ON SCENE (DESK REPORT)",
         "_deepnote_index_column": 27931
        },
        {
         "LIGHTING_CONDITION": "DARKNESS, LIGHTED ROAD",
         "REPORT_TYPE": "nan",
         "_deepnote_index_column": 27932
        },
        {
         "LIGHTING_CONDITION": "DAYLIGHT",
         "REPORT_TYPE": "NOT ON SCENE (DESK REPORT)",
         "_deepnote_index_column": 27933
        },
        {
         "LIGHTING_CONDITION": "DAYLIGHT",
         "REPORT_TYPE": "ON SCENE",
         "_deepnote_index_column": 27934
        },
        {
         "LIGHTING_CONDITION": "DAYLIGHT",
         "REPORT_TYPE": "ON SCENE",
         "_deepnote_index_column": 27935
        },
        {
         "LIGHTING_CONDITION": "DAYLIGHT",
         "REPORT_TYPE": "NOT ON SCENE (DESK REPORT)",
         "_deepnote_index_column": 27936
        },
        {
         "LIGHTING_CONDITION": "DARKNESS, LIGHTED ROAD",
         "REPORT_TYPE": "ON SCENE",
         "_deepnote_index_column": 27937
        },
        {
         "LIGHTING_CONDITION": "DAYLIGHT",
         "REPORT_TYPE": "NOT ON SCENE (DESK REPORT)",
         "_deepnote_index_column": 27938
        },
        {
         "LIGHTING_CONDITION": "DAYLIGHT",
         "REPORT_TYPE": "ON SCENE",
         "_deepnote_index_column": 27939
        },
        {
         "LIGHTING_CONDITION": "DAYLIGHT",
         "REPORT_TYPE": "NOT ON SCENE (DESK REPORT)",
         "_deepnote_index_column": 27940
        },
        {
         "LIGHTING_CONDITION": "DAYLIGHT",
         "REPORT_TYPE": "NOT ON SCENE (DESK REPORT)",
         "_deepnote_index_column": 27941
        },
        {
         "LIGHTING_CONDITION": "DAWN",
         "REPORT_TYPE": "ON SCENE",
         "_deepnote_index_column": 27942
        },
        {
         "LIGHTING_CONDITION": "DARKNESS",
         "REPORT_TYPE": "NOT ON SCENE (DESK REPORT)",
         "_deepnote_index_column": 27943
        },
        {
         "LIGHTING_CONDITION": "DAYLIGHT",
         "REPORT_TYPE": "ON SCENE",
         "_deepnote_index_column": 27944
        },
        {
         "LIGHTING_CONDITION": "DARKNESS, LIGHTED ROAD",
         "REPORT_TYPE": "NOT ON SCENE (DESK REPORT)",
         "_deepnote_index_column": 27945
        },
        {
         "LIGHTING_CONDITION": "DAYLIGHT",
         "REPORT_TYPE": "NOT ON SCENE (DESK REPORT)",
         "_deepnote_index_column": 27946
        },
        {
         "LIGHTING_CONDITION": "DAYLIGHT",
         "REPORT_TYPE": "NOT ON SCENE (DESK REPORT)",
         "_deepnote_index_column": 27947
        },
        {
         "LIGHTING_CONDITION": "DAYLIGHT",
         "REPORT_TYPE": "NOT ON SCENE (DESK REPORT)",
         "_deepnote_index_column": 27948
        },
        {
         "LIGHTING_CONDITION": "DUSK",
         "REPORT_TYPE": "nan",
         "_deepnote_index_column": 27949
        },
        {
         "LIGHTING_CONDITION": "DARKNESS, LIGHTED ROAD",
         "REPORT_TYPE": "ON SCENE",
         "_deepnote_index_column": 27950
        },
        {
         "LIGHTING_CONDITION": "DARKNESS, LIGHTED ROAD",
         "REPORT_TYPE": "NOT ON SCENE (DESK REPORT)",
         "_deepnote_index_column": 27951
        },
        {
         "LIGHTING_CONDITION": "DAYLIGHT",
         "REPORT_TYPE": "ON SCENE",
         "_deepnote_index_column": 27952
        },
        {
         "LIGHTING_CONDITION": "DAYLIGHT",
         "REPORT_TYPE": "ON SCENE",
         "_deepnote_index_column": 27953
        },
        {
         "LIGHTING_CONDITION": "DUSK",
         "REPORT_TYPE": "ON SCENE",
         "_deepnote_index_column": 27954
        },
        {
         "LIGHTING_CONDITION": "UNKNOWN",
         "REPORT_TYPE": "NOT ON SCENE (DESK REPORT)",
         "_deepnote_index_column": 27955
        },
        {
         "LIGHTING_CONDITION": "DAYLIGHT",
         "REPORT_TYPE": "ON SCENE",
         "_deepnote_index_column": 27956
        },
        {
         "LIGHTING_CONDITION": "DAYLIGHT",
         "REPORT_TYPE": "NOT ON SCENE (DESK REPORT)",
         "_deepnote_index_column": 27957
        },
        {
         "LIGHTING_CONDITION": "DAYLIGHT",
         "REPORT_TYPE": "ON SCENE",
         "_deepnote_index_column": 27958
        },
        {
         "LIGHTING_CONDITION": "DAYLIGHT",
         "REPORT_TYPE": "NOT ON SCENE (DESK REPORT)",
         "_deepnote_index_column": 27959
        },
        {
         "LIGHTING_CONDITION": "UNKNOWN",
         "REPORT_TYPE": "NOT ON SCENE (DESK REPORT)",
         "_deepnote_index_column": 27960
        }
       ]
      },
      "text/plain": "      LIGHTING_CONDITION                 REPORT_TYPE\n0               DAYLIGHT  NOT ON SCENE (DESK REPORT)\n1               DAYLIGHT                    ON SCENE\n2               DAYLIGHT                    ON SCENE\n3                UNKNOWN                    ON SCENE\n4               DAYLIGHT  NOT ON SCENE (DESK REPORT)\n...                  ...                         ...\n27956           DAYLIGHT                    ON SCENE\n27957           DAYLIGHT  NOT ON SCENE (DESK REPORT)\n27958           DAYLIGHT                    ON SCENE\n27959           DAYLIGHT  NOT ON SCENE (DESK REPORT)\n27960            UNKNOWN  NOT ON SCENE (DESK REPORT)\n\n[27961 rows x 2 columns]",
      "text/html": "<div>\n<style scoped>\n    .dataframe tbody tr th:only-of-type {\n        vertical-align: middle;\n    }\n\n    .dataframe tbody tr th {\n        vertical-align: top;\n    }\n\n    .dataframe thead th {\n        text-align: right;\n    }\n</style>\n<table border=\"1\" class=\"dataframe\">\n  <thead>\n    <tr style=\"text-align: right;\">\n      <th></th>\n      <th>LIGHTING_CONDITION</th>\n      <th>REPORT_TYPE</th>\n    </tr>\n  </thead>\n  <tbody>\n    <tr>\n      <th>0</th>\n      <td>DAYLIGHT</td>\n      <td>NOT ON SCENE (DESK REPORT)</td>\n    </tr>\n    <tr>\n      <th>1</th>\n      <td>DAYLIGHT</td>\n      <td>ON SCENE</td>\n    </tr>\n    <tr>\n      <th>2</th>\n      <td>DAYLIGHT</td>\n      <td>ON SCENE</td>\n    </tr>\n    <tr>\n      <th>3</th>\n      <td>UNKNOWN</td>\n      <td>ON SCENE</td>\n    </tr>\n    <tr>\n      <th>4</th>\n      <td>DAYLIGHT</td>\n      <td>NOT ON SCENE (DESK REPORT)</td>\n    </tr>\n    <tr>\n      <th>...</th>\n      <td>...</td>\n      <td>...</td>\n    </tr>\n    <tr>\n      <th>27956</th>\n      <td>DAYLIGHT</td>\n      <td>ON SCENE</td>\n    </tr>\n    <tr>\n      <th>27957</th>\n      <td>DAYLIGHT</td>\n      <td>NOT ON SCENE (DESK REPORT)</td>\n    </tr>\n    <tr>\n      <th>27958</th>\n      <td>DAYLIGHT</td>\n      <td>ON SCENE</td>\n    </tr>\n    <tr>\n      <th>27959</th>\n      <td>DAYLIGHT</td>\n      <td>NOT ON SCENE (DESK REPORT)</td>\n    </tr>\n    <tr>\n      <th>27960</th>\n      <td>UNKNOWN</td>\n      <td>NOT ON SCENE (DESK REPORT)</td>\n    </tr>\n  </tbody>\n</table>\n<p>27961 rows × 2 columns</p>\n</div>"
     },
     "metadata": {}
    }
   ],
   "execution_count": 6
  },
  {
   "cell_type": "markdown",
   "source": "## Crosstab\nEl comando de pandas $crosstab$ nos permite hacer una tabulación de la tabla entre varias variables, lo cual nos indica en el ejemplo el número de accidentes dependiendo de las condiciones de luz y la hora específica del accidente",
   "metadata": {
    "tags": [],
    "cell_id": "00008-e49ab813-da76-4107-91a2-afa8beb508df",
    "deepnote_cell_type": "markdown"
   }
  },
  {
   "cell_type": "code",
   "source": "pd.crosstab(df['LIGHTING_CONDITION'], df['CRASH_HOUR'])",
   "metadata": {
    "tags": [],
    "cell_id": "00005-43f49391-f13c-40f2-b752-e9d8ba9d2978",
    "deepnote_to_be_reexecuted": false,
    "source_hash": "f90aa588",
    "execution_start": 1635526697590,
    "execution_millis": 153,
    "deepnote_cell_type": "code"
   },
   "outputs": [
    {
     "output_type": "execute_result",
     "execution_count": 8,
     "data": {
      "application/vnd.deepnote.dataframe.v2+json": {
       "row_count": 6,
       "column_count": 24,
       "columns": [
        {
         "name": 0,
         "dtype": "int64",
         "stats": {
          "unique_count": 5,
          "nan_count": 0,
          "min": "5",
          "max": "449",
          "histogram": [
           {
            "bin_start": 5,
            "bin_end": 49.4,
            "count": 4
           },
           {
            "bin_start": 49.4,
            "bin_end": 93.8,
            "count": 1
           },
           {
            "bin_start": 93.8,
            "bin_end": 138.2,
            "count": 0
           },
           {
            "bin_start": 138.2,
            "bin_end": 182.6,
            "count": 0
           },
           {
            "bin_start": 182.6,
            "bin_end": 227,
            "count": 0
           },
           {
            "bin_start": 227,
            "bin_end": 271.4,
            "count": 0
           },
           {
            "bin_start": 271.4,
            "bin_end": 315.8,
            "count": 0
           },
           {
            "bin_start": 315.8,
            "bin_end": 360.2,
            "count": 0
           },
           {
            "bin_start": 360.2,
            "bin_end": 404.59999999999997,
            "count": 0
           },
           {
            "bin_start": 404.59999999999997,
            "bin_end": 449,
            "count": 1
           }
          ]
         }
        },
        {
         "name": 1,
         "dtype": "int64",
         "stats": {
          "unique_count": 6,
          "nan_count": 0,
          "min": "2",
          "max": "358",
          "histogram": [
           {
            "bin_start": 2,
            "bin_end": 37.6,
            "count": 4
           },
           {
            "bin_start": 37.6,
            "bin_end": 73.2,
            "count": 0
           },
           {
            "bin_start": 73.2,
            "bin_end": 108.80000000000001,
            "count": 1
           },
           {
            "bin_start": 108.80000000000001,
            "bin_end": 144.4,
            "count": 0
           },
           {
            "bin_start": 144.4,
            "bin_end": 180,
            "count": 0
           },
           {
            "bin_start": 180,
            "bin_end": 215.60000000000002,
            "count": 0
           },
           {
            "bin_start": 215.60000000000002,
            "bin_end": 251.20000000000002,
            "count": 0
           },
           {
            "bin_start": 251.20000000000002,
            "bin_end": 286.8,
            "count": 0
           },
           {
            "bin_start": 286.8,
            "bin_end": 322.40000000000003,
            "count": 0
           },
           {
            "bin_start": 322.40000000000003,
            "bin_end": 358,
            "count": 1
           }
          ]
         }
        },
        {
         "name": 2,
         "dtype": "int64",
         "stats": {
          "unique_count": 5,
          "nan_count": 0,
          "min": "3",
          "max": "343",
          "histogram": [
           {
            "bin_start": 3,
            "bin_end": 37,
            "count": 4
           },
           {
            "bin_start": 37,
            "bin_end": 71,
            "count": 1
           },
           {
            "bin_start": 71,
            "bin_end": 105,
            "count": 0
           },
           {
            "bin_start": 105,
            "bin_end": 139,
            "count": 0
           },
           {
            "bin_start": 139,
            "bin_end": 173,
            "count": 0
           },
           {
            "bin_start": 173,
            "bin_end": 207,
            "count": 0
           },
           {
            "bin_start": 207,
            "bin_end": 241,
            "count": 0
           },
           {
            "bin_start": 241,
            "bin_end": 275,
            "count": 0
           },
           {
            "bin_start": 275,
            "bin_end": 309,
            "count": 0
           },
           {
            "bin_start": 309,
            "bin_end": 343,
            "count": 1
           }
          ]
         }
        },
        {
         "name": 3,
         "dtype": "int64",
         "stats": {
          "unique_count": 6,
          "nan_count": 0,
          "min": "2",
          "max": "243",
          "histogram": [
           {
            "bin_start": 2,
            "bin_end": 26.1,
            "count": 4
           },
           {
            "bin_start": 26.1,
            "bin_end": 50.2,
            "count": 0
           },
           {
            "bin_start": 50.2,
            "bin_end": 74.30000000000001,
            "count": 1
           },
           {
            "bin_start": 74.30000000000001,
            "bin_end": 98.4,
            "count": 0
           },
           {
            "bin_start": 98.4,
            "bin_end": 122.5,
            "count": 0
           },
           {
            "bin_start": 122.5,
            "bin_end": 146.60000000000002,
            "count": 0
           },
           {
            "bin_start": 146.60000000000002,
            "bin_end": 170.70000000000002,
            "count": 0
           },
           {
            "bin_start": 170.70000000000002,
            "bin_end": 194.8,
            "count": 0
           },
           {
            "bin_start": 194.8,
            "bin_end": 218.9,
            "count": 0
           },
           {
            "bin_start": 218.9,
            "bin_end": 243,
            "count": 1
           }
          ]
         }
        },
        {
         "name": 4,
         "dtype": "int64",
         "stats": {
          "unique_count": 6,
          "nan_count": 0,
          "min": "7",
          "max": "184",
          "histogram": [
           {
            "bin_start": 7,
            "bin_end": 24.7,
            "count": 4
           },
           {
            "bin_start": 24.7,
            "bin_end": 42.4,
            "count": 0
           },
           {
            "bin_start": 42.4,
            "bin_end": 60.099999999999994,
            "count": 1
           },
           {
            "bin_start": 60.099999999999994,
            "bin_end": 77.8,
            "count": 0
           },
           {
            "bin_start": 77.8,
            "bin_end": 95.5,
            "count": 0
           },
           {
            "bin_start": 95.5,
            "bin_end": 113.19999999999999,
            "count": 0
           },
           {
            "bin_start": 113.19999999999999,
            "bin_end": 130.89999999999998,
            "count": 0
           },
           {
            "bin_start": 130.89999999999998,
            "bin_end": 148.6,
            "count": 0
           },
           {
            "bin_start": 148.6,
            "bin_end": 166.29999999999998,
            "count": 0
           },
           {
            "bin_start": 166.29999999999998,
            "bin_end": 184,
            "count": 1
           }
          ]
         }
        },
        {
         "name": 5,
         "dtype": "int64",
         "stats": {
          "unique_count": 6,
          "nan_count": 0,
          "min": "14",
          "max": "170",
          "histogram": [
           {
            "bin_start": 14,
            "bin_end": 29.6,
            "count": 2
           },
           {
            "bin_start": 29.6,
            "bin_end": 45.2,
            "count": 1
           },
           {
            "bin_start": 45.2,
            "bin_end": 60.8,
            "count": 0
           },
           {
            "bin_start": 60.8,
            "bin_end": 76.4,
            "count": 0
           },
           {
            "bin_start": 76.4,
            "bin_end": 92,
            "count": 2
           },
           {
            "bin_start": 92,
            "bin_end": 107.6,
            "count": 0
           },
           {
            "bin_start": 107.6,
            "bin_end": 123.2,
            "count": 0
           },
           {
            "bin_start": 123.2,
            "bin_end": 138.8,
            "count": 0
           },
           {
            "bin_start": 138.8,
            "bin_end": 154.4,
            "count": 0
           },
           {
            "bin_start": 154.4,
            "bin_end": 170,
            "count": 1
           }
          ]
         }
        },
        {
         "name": 6,
         "dtype": "int64",
         "stats": {
          "unique_count": 6,
          "nan_count": 0,
          "min": "10",
          "max": "367",
          "histogram": [
           {
            "bin_start": 10,
            "bin_end": 45.7,
            "count": 3
           },
           {
            "bin_start": 45.7,
            "bin_end": 81.4,
            "count": 0
           },
           {
            "bin_start": 81.4,
            "bin_end": 117.10000000000001,
            "count": 2
           },
           {
            "bin_start": 117.10000000000001,
            "bin_end": 152.8,
            "count": 0
           },
           {
            "bin_start": 152.8,
            "bin_end": 188.5,
            "count": 0
           },
           {
            "bin_start": 188.5,
            "bin_end": 224.20000000000002,
            "count": 0
           },
           {
            "bin_start": 224.20000000000002,
            "bin_end": 259.90000000000003,
            "count": 0
           },
           {
            "bin_start": 259.90000000000003,
            "bin_end": 295.6,
            "count": 0
           },
           {
            "bin_start": 295.6,
            "bin_end": 331.3,
            "count": 0
           },
           {
            "bin_start": 331.3,
            "bin_end": 367,
            "count": 1
           }
          ]
         }
        },
        {
         "name": 7,
         "dtype": "int64",
         "stats": {
          "unique_count": 6,
          "nan_count": 0,
          "min": "3",
          "max": "1150",
          "histogram": [
           {
            "bin_start": 3,
            "bin_end": 117.7,
            "count": 5
           },
           {
            "bin_start": 117.7,
            "bin_end": 232.4,
            "count": 0
           },
           {
            "bin_start": 232.4,
            "bin_end": 347.1,
            "count": 0
           },
           {
            "bin_start": 347.1,
            "bin_end": 461.8,
            "count": 0
           },
           {
            "bin_start": 461.8,
            "bin_end": 576.5,
            "count": 0
           },
           {
            "bin_start": 576.5,
            "bin_end": 691.2,
            "count": 0
           },
           {
            "bin_start": 691.2,
            "bin_end": 805.9,
            "count": 0
           },
           {
            "bin_start": 805.9,
            "bin_end": 920.6,
            "count": 0
           },
           {
            "bin_start": 920.6,
            "bin_end": 1035.3,
            "count": 0
           },
           {
            "bin_start": 1035.3,
            "bin_end": 1150,
            "count": 1
           }
          ]
         }
        },
        {
         "name": 8,
         "dtype": "int64",
         "stats": {
          "unique_count": 6,
          "nan_count": 0,
          "min": "1",
          "max": "1456",
          "histogram": [
           {
            "bin_start": 1,
            "bin_end": 146.5,
            "count": 5
           },
           {
            "bin_start": 146.5,
            "bin_end": 292,
            "count": 0
           },
           {
            "bin_start": 292,
            "bin_end": 437.5,
            "count": 0
           },
           {
            "bin_start": 437.5,
            "bin_end": 583,
            "count": 0
           },
           {
            "bin_start": 583,
            "bin_end": 728.5,
            "count": 0
           },
           {
            "bin_start": 728.5,
            "bin_end": 874,
            "count": 0
           },
           {
            "bin_start": 874,
            "bin_end": 1019.5,
            "count": 0
           },
           {
            "bin_start": 1019.5,
            "bin_end": 1165,
            "count": 0
           },
           {
            "bin_start": 1165,
            "bin_end": 1310.5,
            "count": 0
           },
           {
            "bin_start": 1310.5,
            "bin_end": 1456,
            "count": 1
           }
          ]
         }
        },
        {
         "name": 9,
         "dtype": "int64",
         "stats": {
          "unique_count": 5,
          "nan_count": 0,
          "min": "2",
          "max": "1268",
          "histogram": [
           {
            "bin_start": 2,
            "bin_end": 128.6,
            "count": 5
           },
           {
            "bin_start": 128.6,
            "bin_end": 255.2,
            "count": 0
           },
           {
            "bin_start": 255.2,
            "bin_end": 381.79999999999995,
            "count": 0
           },
           {
            "bin_start": 381.79999999999995,
            "bin_end": 508.4,
            "count": 0
           },
           {
            "bin_start": 508.4,
            "bin_end": 635,
            "count": 0
           },
           {
            "bin_start": 635,
            "bin_end": 761.5999999999999,
            "count": 0
           },
           {
            "bin_start": 761.5999999999999,
            "bin_end": 888.1999999999999,
            "count": 0
           },
           {
            "bin_start": 888.1999999999999,
            "bin_end": 1014.8,
            "count": 0
           },
           {
            "bin_start": 1014.8,
            "bin_end": 1141.3999999999999,
            "count": 0
           },
           {
            "bin_start": 1141.3999999999999,
            "bin_end": 1268,
            "count": 1
           }
          ]
         }
        },
        {
         "name": 10,
         "dtype": "int64",
         "stats": {
          "unique_count": 6,
          "nan_count": 0,
          "min": "0",
          "max": "1198",
          "histogram": [
           {
            "bin_start": 0,
            "bin_end": 119.8,
            "count": 5
           },
           {
            "bin_start": 119.8,
            "bin_end": 239.6,
            "count": 0
           },
           {
            "bin_start": 239.6,
            "bin_end": 359.4,
            "count": 0
           },
           {
            "bin_start": 359.4,
            "bin_end": 479.2,
            "count": 0
           },
           {
            "bin_start": 479.2,
            "bin_end": 599,
            "count": 0
           },
           {
            "bin_start": 599,
            "bin_end": 718.8,
            "count": 0
           },
           {
            "bin_start": 718.8,
            "bin_end": 838.6,
            "count": 0
           },
           {
            "bin_start": 838.6,
            "bin_end": 958.4,
            "count": 0
           },
           {
            "bin_start": 958.4,
            "bin_end": 1078.2,
            "count": 0
           },
           {
            "bin_start": 1078.2,
            "bin_end": 1198,
            "count": 1
           }
          ]
         }
        },
        {
         "name": 11,
         "dtype": "int64",
         "stats": {
          "unique_count": 5,
          "nan_count": 0,
          "min": "2",
          "max": "1377",
          "histogram": [
           {
            "bin_start": 2,
            "bin_end": 139.5,
            "count": 5
           },
           {
            "bin_start": 139.5,
            "bin_end": 277,
            "count": 0
           },
           {
            "bin_start": 277,
            "bin_end": 414.5,
            "count": 0
           },
           {
            "bin_start": 414.5,
            "bin_end": 552,
            "count": 0
           },
           {
            "bin_start": 552,
            "bin_end": 689.5,
            "count": 0
           },
           {
            "bin_start": 689.5,
            "bin_end": 827,
            "count": 0
           },
           {
            "bin_start": 827,
            "bin_end": 964.5,
            "count": 0
           },
           {
            "bin_start": 964.5,
            "bin_end": 1102,
            "count": 0
           },
           {
            "bin_start": 1102,
            "bin_end": 1239.5,
            "count": 0
           },
           {
            "bin_start": 1239.5,
            "bin_end": 1377,
            "count": 1
           }
          ]
         }
        },
        {
         "name": 12,
         "dtype": "int64",
         "stats": {
          "unique_count": 6,
          "nan_count": 0,
          "min": "2",
          "max": "1556",
          "histogram": [
           {
            "bin_start": 2,
            "bin_end": 157.4,
            "count": 5
           },
           {
            "bin_start": 157.4,
            "bin_end": 312.8,
            "count": 0
           },
           {
            "bin_start": 312.8,
            "bin_end": 468.20000000000005,
            "count": 0
           },
           {
            "bin_start": 468.20000000000005,
            "bin_end": 623.6,
            "count": 0
           },
           {
            "bin_start": 623.6,
            "bin_end": 779,
            "count": 0
           },
           {
            "bin_start": 779,
            "bin_end": 934.4000000000001,
            "count": 0
           },
           {
            "bin_start": 934.4000000000001,
            "bin_end": 1089.8,
            "count": 0
           },
           {
            "bin_start": 1089.8,
            "bin_end": 1245.2,
            "count": 0
           },
           {
            "bin_start": 1245.2,
            "bin_end": 1400.6000000000001,
            "count": 0
           },
           {
            "bin_start": 1400.6000000000001,
            "bin_end": 1556,
            "count": 1
           }
          ]
         }
        },
        {
         "name": 13,
         "dtype": "int64",
         "stats": {
          "unique_count": 6,
          "nan_count": 0,
          "min": "1",
          "max": "1659",
          "histogram": [
           {
            "bin_start": 1,
            "bin_end": 166.8,
            "count": 5
           },
           {
            "bin_start": 166.8,
            "bin_end": 332.6,
            "count": 0
           },
           {
            "bin_start": 332.6,
            "bin_end": 498.40000000000003,
            "count": 0
           },
           {
            "bin_start": 498.40000000000003,
            "bin_end": 664.2,
            "count": 0
           },
           {
            "bin_start": 664.2,
            "bin_end": 830,
            "count": 0
           },
           {
            "bin_start": 830,
            "bin_end": 995.8000000000001,
            "count": 0
           },
           {
            "bin_start": 995.8000000000001,
            "bin_end": 1161.6000000000001,
            "count": 0
           },
           {
            "bin_start": 1161.6000000000001,
            "bin_end": 1327.4,
            "count": 0
           },
           {
            "bin_start": 1327.4,
            "bin_end": 1493.2,
            "count": 0
           },
           {
            "bin_start": 1493.2,
            "bin_end": 1659,
            "count": 1
           }
          ]
         }
        },
        {
         "name": 14,
         "dtype": "int64",
         "stats": {
          "unique_count": 5,
          "nan_count": 0,
          "min": "5",
          "max": "1766",
          "histogram": [
           {
            "bin_start": 5,
            "bin_end": 181.1,
            "count": 5
           },
           {
            "bin_start": 181.1,
            "bin_end": 357.2,
            "count": 0
           },
           {
            "bin_start": 357.2,
            "bin_end": 533.3,
            "count": 0
           },
           {
            "bin_start": 533.3,
            "bin_end": 709.4,
            "count": 0
           },
           {
            "bin_start": 709.4,
            "bin_end": 885.5,
            "count": 0
           },
           {
            "bin_start": 885.5,
            "bin_end": 1061.6,
            "count": 0
           },
           {
            "bin_start": 1061.6,
            "bin_end": 1237.7,
            "count": 0
           },
           {
            "bin_start": 1237.7,
            "bin_end": 1413.8,
            "count": 0
           },
           {
            "bin_start": 1413.8,
            "bin_end": 1589.8999999999999,
            "count": 0
           },
           {
            "bin_start": 1589.8999999999999,
            "bin_end": 1766,
            "count": 1
           }
          ]
         }
        },
        {
         "name": 15,
         "dtype": "int64",
         "stats": {
          "unique_count": 6,
          "nan_count": 0,
          "min": "10",
          "max": "1955",
          "histogram": [
           {
            "bin_start": 10,
            "bin_end": 204.5,
            "count": 5
           },
           {
            "bin_start": 204.5,
            "bin_end": 399,
            "count": 0
           },
           {
            "bin_start": 399,
            "bin_end": 593.5,
            "count": 0
           },
           {
            "bin_start": 593.5,
            "bin_end": 788,
            "count": 0
           },
           {
            "bin_start": 788,
            "bin_end": 982.5,
            "count": 0
           },
           {
            "bin_start": 982.5,
            "bin_end": 1177,
            "count": 0
           },
           {
            "bin_start": 1177,
            "bin_end": 1371.5,
            "count": 0
           },
           {
            "bin_start": 1371.5,
            "bin_end": 1566,
            "count": 0
           },
           {
            "bin_start": 1566,
            "bin_end": 1760.5,
            "count": 0
           },
           {
            "bin_start": 1760.5,
            "bin_end": 1955,
            "count": 1
           }
          ]
         }
        },
        {
         "name": 16,
         "dtype": "int64",
         "stats": {
          "unique_count": 6,
          "nan_count": 0,
          "min": "27",
          "max": "1769",
          "histogram": [
           {
            "bin_start": 27,
            "bin_end": 201.2,
            "count": 5
           },
           {
            "bin_start": 201.2,
            "bin_end": 375.4,
            "count": 0
           },
           {
            "bin_start": 375.4,
            "bin_end": 549.5999999999999,
            "count": 0
           },
           {
            "bin_start": 549.5999999999999,
            "bin_end": 723.8,
            "count": 0
           },
           {
            "bin_start": 723.8,
            "bin_end": 898,
            "count": 0
           },
           {
            "bin_start": 898,
            "bin_end": 1072.1999999999998,
            "count": 0
           },
           {
            "bin_start": 1072.1999999999998,
            "bin_end": 1246.3999999999999,
            "count": 0
           },
           {
            "bin_start": 1246.3999999999999,
            "bin_end": 1420.6,
            "count": 0
           },
           {
            "bin_start": 1420.6,
            "bin_end": 1594.8,
            "count": 0
           },
           {
            "bin_start": 1594.8,
            "bin_end": 1769,
            "count": 1
           }
          ]
         }
        },
        {
         "name": 17,
         "dtype": "int64",
         "stats": {
          "unique_count": 6,
          "nan_count": 0,
          "min": "47",
          "max": "1375",
          "histogram": [
           {
            "bin_start": 47,
            "bin_end": 179.8,
            "count": 4
           },
           {
            "bin_start": 179.8,
            "bin_end": 312.6,
            "count": 0
           },
           {
            "bin_start": 312.6,
            "bin_end": 445.40000000000003,
            "count": 1
           },
           {
            "bin_start": 445.40000000000003,
            "bin_end": 578.2,
            "count": 0
           },
           {
            "bin_start": 578.2,
            "bin_end": 711,
            "count": 0
           },
           {
            "bin_start": 711,
            "bin_end": 843.8000000000001,
            "count": 0
           },
           {
            "bin_start": 843.8000000000001,
            "bin_end": 976.6000000000001,
            "count": 0
           },
           {
            "bin_start": 976.6000000000001,
            "bin_end": 1109.4,
            "count": 0
           },
           {
            "bin_start": 1109.4,
            "bin_end": 1242.2,
            "count": 0
           },
           {
            "bin_start": 1242.2,
            "bin_end": 1375,
            "count": 1
           }
          ]
         }
        },
        {
         "name": 18,
         "dtype": "int64",
         "stats": {
          "unique_count": 6,
          "nan_count": 0,
          "min": "38",
          "max": "819",
          "histogram": [
           {
            "bin_start": 38,
            "bin_end": 116.1,
            "count": 2
           },
           {
            "bin_start": 116.1,
            "bin_end": 194.2,
            "count": 2
           },
           {
            "bin_start": 194.2,
            "bin_end": 272.29999999999995,
            "count": 0
           },
           {
            "bin_start": 272.29999999999995,
            "bin_end": 350.4,
            "count": 0
           },
           {
            "bin_start": 350.4,
            "bin_end": 428.5,
            "count": 0
           },
           {
            "bin_start": 428.5,
            "bin_end": 506.59999999999997,
            "count": 1
           },
           {
            "bin_start": 506.59999999999997,
            "bin_end": 584.6999999999999,
            "count": 0
           },
           {
            "bin_start": 584.6999999999999,
            "bin_end": 662.8,
            "count": 0
           },
           {
            "bin_start": 662.8,
            "bin_end": 740.9,
            "count": 0
           },
           {
            "bin_start": 740.9,
            "bin_end": 819,
            "count": 1
           }
          ]
         }
        },
        {
         "name": 19,
         "dtype": "int64",
         "stats": {
          "unique_count": 6,
          "nan_count": 0,
          "min": "33",
          "max": "528",
          "histogram": [
           {
            "bin_start": 33,
            "bin_end": 82.5,
            "count": 2
           },
           {
            "bin_start": 82.5,
            "bin_end": 132,
            "count": 0
           },
           {
            "bin_start": 132,
            "bin_end": 181.5,
            "count": 2
           },
           {
            "bin_start": 181.5,
            "bin_end": 231,
            "count": 0
           },
           {
            "bin_start": 231,
            "bin_end": 280.5,
            "count": 0
           },
           {
            "bin_start": 280.5,
            "bin_end": 330,
            "count": 1
           },
           {
            "bin_start": 330,
            "bin_end": 379.5,
            "count": 0
           },
           {
            "bin_start": 379.5,
            "bin_end": 429,
            "count": 0
           },
           {
            "bin_start": 429,
            "bin_end": 478.5,
            "count": 0
           },
           {
            "bin_start": 478.5,
            "bin_end": 528,
            "count": 1
           }
          ]
         }
        },
        {
         "name": 20,
         "dtype": "int64",
         "stats": {
          "unique_count": 6,
          "nan_count": 0,
          "min": "13",
          "max": "607",
          "histogram": [
           {
            "bin_start": 13,
            "bin_end": 72.4,
            "count": 3
           },
           {
            "bin_start": 72.4,
            "bin_end": 131.8,
            "count": 1
           },
           {
            "bin_start": 131.8,
            "bin_end": 191.2,
            "count": 1
           },
           {
            "bin_start": 191.2,
            "bin_end": 250.6,
            "count": 0
           },
           {
            "bin_start": 250.6,
            "bin_end": 310,
            "count": 0
           },
           {
            "bin_start": 310,
            "bin_end": 369.4,
            "count": 0
           },
           {
            "bin_start": 369.4,
            "bin_end": 428.8,
            "count": 0
           },
           {
            "bin_start": 428.8,
            "bin_end": 488.2,
            "count": 0
           },
           {
            "bin_start": 488.2,
            "bin_end": 547.6,
            "count": 0
           },
           {
            "bin_start": 547.6,
            "bin_end": 607,
            "count": 1
           }
          ]
         }
        },
        {
         "name": 21,
         "dtype": "int64",
         "stats": {
          "unique_count": 6,
          "nan_count": 0,
          "min": "2",
          "max": "656",
          "histogram": [
           {
            "bin_start": 2,
            "bin_end": 67.4,
            "count": 4
           },
           {
            "bin_start": 67.4,
            "bin_end": 132.8,
            "count": 0
           },
           {
            "bin_start": 132.8,
            "bin_end": 198.20000000000002,
            "count": 1
           },
           {
            "bin_start": 198.20000000000002,
            "bin_end": 263.6,
            "count": 0
           },
           {
            "bin_start": 263.6,
            "bin_end": 329,
            "count": 0
           },
           {
            "bin_start": 329,
            "bin_end": 394.40000000000003,
            "count": 0
           },
           {
            "bin_start": 394.40000000000003,
            "bin_end": 459.80000000000007,
            "count": 0
           },
           {
            "bin_start": 459.80000000000007,
            "bin_end": 525.2,
            "count": 0
           },
           {
            "bin_start": 525.2,
            "bin_end": 590.6,
            "count": 0
           },
           {
            "bin_start": 590.6,
            "bin_end": 656,
            "count": 1
           }
          ]
         }
        },
        {
         "name": 22,
         "dtype": "int64",
         "stats": {
          "unique_count": 6,
          "nan_count": 0,
          "min": "4",
          "max": "648",
          "histogram": [
           {
            "bin_start": 4,
            "bin_end": 68.4,
            "count": 4
           },
           {
            "bin_start": 68.4,
            "bin_end": 132.8,
            "count": 1
           },
           {
            "bin_start": 132.8,
            "bin_end": 197.20000000000002,
            "count": 0
           },
           {
            "bin_start": 197.20000000000002,
            "bin_end": 261.6,
            "count": 0
           },
           {
            "bin_start": 261.6,
            "bin_end": 326,
            "count": 0
           },
           {
            "bin_start": 326,
            "bin_end": 390.40000000000003,
            "count": 0
           },
           {
            "bin_start": 390.40000000000003,
            "bin_end": 454.80000000000007,
            "count": 0
           },
           {
            "bin_start": 454.80000000000007,
            "bin_end": 519.2,
            "count": 0
           },
           {
            "bin_start": 519.2,
            "bin_end": 583.6,
            "count": 0
           },
           {
            "bin_start": 583.6,
            "bin_end": 648,
            "count": 1
           }
          ]
         }
        },
        {
         "name": 23,
         "dtype": "int64",
         "stats": {
          "unique_count": 6,
          "nan_count": 0,
          "min": "2",
          "max": "547",
          "histogram": [
           {
            "bin_start": 2,
            "bin_end": 56.5,
            "count": 4
           },
           {
            "bin_start": 56.5,
            "bin_end": 111,
            "count": 1
           },
           {
            "bin_start": 111,
            "bin_end": 165.5,
            "count": 0
           },
           {
            "bin_start": 165.5,
            "bin_end": 220,
            "count": 0
           },
           {
            "bin_start": 220,
            "bin_end": 274.5,
            "count": 0
           },
           {
            "bin_start": 274.5,
            "bin_end": 329,
            "count": 0
           },
           {
            "bin_start": 329,
            "bin_end": 383.5,
            "count": 0
           },
           {
            "bin_start": 383.5,
            "bin_end": 438,
            "count": 0
           },
           {
            "bin_start": 438,
            "bin_end": 492.5,
            "count": 0
           },
           {
            "bin_start": 492.5,
            "bin_end": 547,
            "count": 1
           }
          ]
         }
        },
        {
         "name": "_deepnote_index_column",
         "dtype": "object"
        }
       ],
       "rows_top": [
        {
         "0": 82,
         "1": 76,
         "2": 63,
         "3": 62,
         "4": 60,
         "5": 32,
         "6": 24,
         "7": 9,
         "8": 1,
         "9": 6,
         "10": 6,
         "11": 2,
         "12": 3,
         "13": 1,
         "14": 5,
         "15": 10,
         "16": 27,
         "17": 122,
         "18": 164,
         "19": 161,
         "20": 166,
         "21": 154,
         "22": 126,
         "23": 108,
         "_deepnote_index_column": "DARKNESS"
        },
        {
         "0": 449,
         "1": 358,
         "2": 343,
         "3": 243,
         "4": 184,
         "5": 170,
         "6": 103,
         "7": 13,
         "8": 11,
         "9": 17,
         "10": 15,
         "11": 16,
         "12": 12,
         "13": 5,
         "14": 11,
         "15": 15,
         "16": 105,
         "17": 371,
         "18": 456,
         "19": 528,
         "20": 607,
         "21": 656,
         "22": 648,
         "23": 547,
         "_deepnote_index_column": "DARKNESS, LIGHTED ROAD"
        },
        {
         "0": 5,
         "1": 2,
         "2": 3,
         "3": 2,
         "4": 16,
         "5": 80,
         "6": 109,
         "7": 42,
         "8": 9,
         "9": 6,
         "10": 4,
         "11": 2,
         "12": 4,
         "13": 6,
         "14": 10,
         "15": 16,
         "16": 34,
         "17": 47,
         "18": 38,
         "19": 33,
         "20": 13,
         "21": 2,
         "22": 4,
         "23": 2,
         "_deepnote_index_column": "DAWN"
        },
        {
         "0": 12,
         "1": 19,
         "2": 13,
         "3": 8,
         "4": 17,
         "5": 85,
         "6": 367,
         "7": 1150,
         "8": 1456,
         "9": 1268,
         "10": 1198,
         "11": 1377,
         "12": 1556,
         "13": 1659,
         "14": 1766,
         "15": 1955,
         "16": 1769,
         "17": 1375,
         "18": 819,
         "19": 315,
         "20": 70,
         "21": 19,
         "22": 14,
         "23": 9,
         "_deepnote_index_column": "DAYLIGHT"
        },
        {
         "0": 5,
         "1": 4,
         "2": 3,
         "3": 6,
         "4": 7,
         "5": 14,
         "6": 10,
         "7": 3,
         "8": 3,
         "9": 2,
         "10": 0,
         "11": 3,
         "12": 2,
         "13": 9,
         "14": 10,
         "15": 48,
         "16": 137,
         "17": 165,
         "18": 145,
         "19": 147,
         "20": 75,
         "21": 25,
         "22": 15,
         "23": 8,
         "_deepnote_index_column": "DUSK"
        },
        {
         "0": 40,
         "1": 29,
         "2": 23,
         "3": 20,
         "4": 15,
         "5": 16,
         "6": 39,
         "7": 44,
         "8": 60,
         "9": 52,
         "10": 56,
         "11": 37,
         "12": 55,
         "13": 38,
         "14": 39,
         "15": 52,
         "16": 61,
         "17": 55,
         "18": 66,
         "19": 41,
         "20": 42,
         "21": 41,
         "22": 32,
         "23": 24,
         "_deepnote_index_column": "UNKNOWN"
        }
       ],
       "rows_bottom": null
      },
      "text/plain": "CRASH_HOUR               0    1    2    3    4    5    6     7     8     9   \\\nLIGHTING_CONDITION                                                            \nDARKNESS                 82   76   63   62   60   32   24     9     1     6   \nDARKNESS, LIGHTED ROAD  449  358  343  243  184  170  103    13    11    17   \nDAWN                      5    2    3    2   16   80  109    42     9     6   \nDAYLIGHT                 12   19   13    8   17   85  367  1150  1456  1268   \nDUSK                      5    4    3    6    7   14   10     3     3     2   \nUNKNOWN                  40   29   23   20   15   16   39    44    60    52   \n\nCRASH_HOUR              ...    14    15    16    17   18   19   20   21   22  \\\nLIGHTING_CONDITION      ...                                                    \nDARKNESS                ...     5    10    27   122  164  161  166  154  126   \nDARKNESS, LIGHTED ROAD  ...    11    15   105   371  456  528  607  656  648   \nDAWN                    ...    10    16    34    47   38   33   13    2    4   \nDAYLIGHT                ...  1766  1955  1769  1375  819  315   70   19   14   \nDUSK                    ...    10    48   137   165  145  147   75   25   15   \nUNKNOWN                 ...    39    52    61    55   66   41   42   41   32   \n\nCRASH_HOUR               23  \nLIGHTING_CONDITION           \nDARKNESS                108  \nDARKNESS, LIGHTED ROAD  547  \nDAWN                      2  \nDAYLIGHT                  9  \nDUSK                      8  \nUNKNOWN                  24  \n\n[6 rows x 24 columns]",
      "text/html": "<div>\n<style scoped>\n    .dataframe tbody tr th:only-of-type {\n        vertical-align: middle;\n    }\n\n    .dataframe tbody tr th {\n        vertical-align: top;\n    }\n\n    .dataframe thead th {\n        text-align: right;\n    }\n</style>\n<table border=\"1\" class=\"dataframe\">\n  <thead>\n    <tr style=\"text-align: right;\">\n      <th>CRASH_HOUR</th>\n      <th>0</th>\n      <th>1</th>\n      <th>2</th>\n      <th>3</th>\n      <th>4</th>\n      <th>5</th>\n      <th>6</th>\n      <th>7</th>\n      <th>8</th>\n      <th>9</th>\n      <th>...</th>\n      <th>14</th>\n      <th>15</th>\n      <th>16</th>\n      <th>17</th>\n      <th>18</th>\n      <th>19</th>\n      <th>20</th>\n      <th>21</th>\n      <th>22</th>\n      <th>23</th>\n    </tr>\n    <tr>\n      <th>LIGHTING_CONDITION</th>\n      <th></th>\n      <th></th>\n      <th></th>\n      <th></th>\n      <th></th>\n      <th></th>\n      <th></th>\n      <th></th>\n      <th></th>\n      <th></th>\n      <th></th>\n      <th></th>\n      <th></th>\n      <th></th>\n      <th></th>\n      <th></th>\n      <th></th>\n      <th></th>\n      <th></th>\n      <th></th>\n      <th></th>\n    </tr>\n  </thead>\n  <tbody>\n    <tr>\n      <th>DARKNESS</th>\n      <td>82</td>\n      <td>76</td>\n      <td>63</td>\n      <td>62</td>\n      <td>60</td>\n      <td>32</td>\n      <td>24</td>\n      <td>9</td>\n      <td>1</td>\n      <td>6</td>\n      <td>...</td>\n      <td>5</td>\n      <td>10</td>\n      <td>27</td>\n      <td>122</td>\n      <td>164</td>\n      <td>161</td>\n      <td>166</td>\n      <td>154</td>\n      <td>126</td>\n      <td>108</td>\n    </tr>\n    <tr>\n      <th>DARKNESS, LIGHTED ROAD</th>\n      <td>449</td>\n      <td>358</td>\n      <td>343</td>\n      <td>243</td>\n      <td>184</td>\n      <td>170</td>\n      <td>103</td>\n      <td>13</td>\n      <td>11</td>\n      <td>17</td>\n      <td>...</td>\n      <td>11</td>\n      <td>15</td>\n      <td>105</td>\n      <td>371</td>\n      <td>456</td>\n      <td>528</td>\n      <td>607</td>\n      <td>656</td>\n      <td>648</td>\n      <td>547</td>\n    </tr>\n    <tr>\n      <th>DAWN</th>\n      <td>5</td>\n      <td>2</td>\n      <td>3</td>\n      <td>2</td>\n      <td>16</td>\n      <td>80</td>\n      <td>109</td>\n      <td>42</td>\n      <td>9</td>\n      <td>6</td>\n      <td>...</td>\n      <td>10</td>\n      <td>16</td>\n      <td>34</td>\n      <td>47</td>\n      <td>38</td>\n      <td>33</td>\n      <td>13</td>\n      <td>2</td>\n      <td>4</td>\n      <td>2</td>\n    </tr>\n    <tr>\n      <th>DAYLIGHT</th>\n      <td>12</td>\n      <td>19</td>\n      <td>13</td>\n      <td>8</td>\n      <td>17</td>\n      <td>85</td>\n      <td>367</td>\n      <td>1150</td>\n      <td>1456</td>\n      <td>1268</td>\n      <td>...</td>\n      <td>1766</td>\n      <td>1955</td>\n      <td>1769</td>\n      <td>1375</td>\n      <td>819</td>\n      <td>315</td>\n      <td>70</td>\n      <td>19</td>\n      <td>14</td>\n      <td>9</td>\n    </tr>\n    <tr>\n      <th>DUSK</th>\n      <td>5</td>\n      <td>4</td>\n      <td>3</td>\n      <td>6</td>\n      <td>7</td>\n      <td>14</td>\n      <td>10</td>\n      <td>3</td>\n      <td>3</td>\n      <td>2</td>\n      <td>...</td>\n      <td>10</td>\n      <td>48</td>\n      <td>137</td>\n      <td>165</td>\n      <td>145</td>\n      <td>147</td>\n      <td>75</td>\n      <td>25</td>\n      <td>15</td>\n      <td>8</td>\n    </tr>\n    <tr>\n      <th>UNKNOWN</th>\n      <td>40</td>\n      <td>29</td>\n      <td>23</td>\n      <td>20</td>\n      <td>15</td>\n      <td>16</td>\n      <td>39</td>\n      <td>44</td>\n      <td>60</td>\n      <td>52</td>\n      <td>...</td>\n      <td>39</td>\n      <td>52</td>\n      <td>61</td>\n      <td>55</td>\n      <td>66</td>\n      <td>41</td>\n      <td>42</td>\n      <td>41</td>\n      <td>32</td>\n      <td>24</td>\n    </tr>\n  </tbody>\n</table>\n<p>6 rows × 24 columns</p>\n</div>"
     },
     "metadata": {}
    }
   ],
   "execution_count": 8
  },
  {
   "cell_type": "markdown",
   "source": "<a style='text-decoration:none;line-height:16px;display:flex;color:#5B5B62;padding:10px;justify-content:end;' href='https://deepnote.com?utm_source=created-in-deepnote-cell&projectId=2fc7c785-41cd-4295-8d30-2962103ea22b' target=\"_blank\">\n<img alt='Created in deepnote.com' style='display:inline;max-height:16px;margin:0px;margin-right:7.5px;' src='data:image/svg+xml;base64,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' > </img>\nCreated in <span style='font-weight:600;margin-left:4px;'>Deepnote</span></a>",
   "metadata": {
    "tags": [],
    "created_in_deepnote_cell": true,
    "deepnote_cell_type": "markdown"
   }
  }
 ],
 "nbformat": 4,
 "nbformat_minor": 2,
 "metadata": {
  "orig_nbformat": 2,
  "deepnote": {
   "is_reactive": false
  },
  "deepnote_notebook_id": "b21c8c7a-9999-4982-913e-763ad809629d",
  "deepnote_execution_queue": []
 }
}