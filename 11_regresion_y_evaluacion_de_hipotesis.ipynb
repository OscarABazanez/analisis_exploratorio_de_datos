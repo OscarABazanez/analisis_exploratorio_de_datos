{
 "cells": [
  {
   "cell_type": "markdown",
   "id": "1936fe71-4779-4b5f-8f1f-703972d13030",
   "metadata": {},
   "source": [
    "# Regresión y evaluación de hipótesis\n",
    "---\n",
    "\n",
    "Regression es un tipo de  algoritmo de machine learning que se usa para predecir una categoria.\n",
    "* Neural network regression\n",
    "* Decision tree regression\n",
    "* LASSO regression\n",
    "* Ridge regression\n",
    "* ElasticNet regression"
   ]
  },
  {
   "cell_type": "code",
   "execution_count": 1,
   "id": "597ab099-b3f6-4288-b6a2-c353665a23aa",
   "metadata": {},
   "outputs": [],
   "source": [
    "import pandas as pd\n",
    "from sklearn import datasets\n",
    "import numpy as np\n",
    "iris = datasets.load_iris()"
   ]
  },
  {
   "cell_type": "code",
   "execution_count": 2,
   "id": "61f7151c-d446-4ece-8246-720ec6f66ae5",
   "metadata": {},
   "outputs": [
    {
     "data": {
      "text/plain": [
       "array(['setosa', 'versicolor', 'virginica'], dtype='<U10')"
      ]
     },
     "execution_count": 2,
     "metadata": {},
     "output_type": "execute_result"
    }
   ],
   "source": [
    "data = pd.DataFrame(iris.data)\n",
    "data.columns = iris.feature_names\n",
    "data['target'] = iris.target\n",
    "iris.target_names"
   ]
  },
  {
   "cell_type": "markdown",
   "id": "791f29a8-fd6f-46a3-8ce9-0d95b8b0aa83",
   "metadata": {},
   "source": [
    "## Asignando su respectivo nombre de acuerdo al target"
   ]
  },
  {
   "cell_type": "code",
   "execution_count": 7,
   "id": "da874a84-e077-4454-9b55-8359481efe0a",
   "metadata": {},
   "outputs": [
    {
     "data": {
      "text/html": [
       "<div>\n",
       "<style scoped>\n",
       "    .dataframe tbody tr th:only-of-type {\n",
       "        vertical-align: middle;\n",
       "    }\n",
       "\n",
       "    .dataframe tbody tr th {\n",
       "        vertical-align: top;\n",
       "    }\n",
       "\n",
       "    .dataframe thead th {\n",
       "        text-align: right;\n",
       "    }\n",
       "</style>\n",
       "<table border=\"1\" class=\"dataframe\">\n",
       "  <thead>\n",
       "    <tr style=\"text-align: right;\">\n",
       "      <th></th>\n",
       "      <th>sepal length (cm)</th>\n",
       "      <th>sepal width (cm)</th>\n",
       "      <th>petal length (cm)</th>\n",
       "      <th>petal width (cm)</th>\n",
       "      <th>target</th>\n",
       "      <th>names</th>\n",
       "    </tr>\n",
       "  </thead>\n",
       "  <tbody>\n",
       "    <tr>\n",
       "      <th>0</th>\n",
       "      <td>5.1</td>\n",
       "      <td>3.5</td>\n",
       "      <td>1.4</td>\n",
       "      <td>0.2</td>\n",
       "      <td>0</td>\n",
       "      <td>setosa</td>\n",
       "    </tr>\n",
       "    <tr>\n",
       "      <th>1</th>\n",
       "      <td>4.9</td>\n",
       "      <td>3.0</td>\n",
       "      <td>1.4</td>\n",
       "      <td>0.2</td>\n",
       "      <td>0</td>\n",
       "      <td>setosa</td>\n",
       "    </tr>\n",
       "    <tr>\n",
       "      <th>2</th>\n",
       "      <td>4.7</td>\n",
       "      <td>3.2</td>\n",
       "      <td>1.3</td>\n",
       "      <td>0.2</td>\n",
       "      <td>0</td>\n",
       "      <td>setosa</td>\n",
       "    </tr>\n",
       "    <tr>\n",
       "      <th>3</th>\n",
       "      <td>4.6</td>\n",
       "      <td>3.1</td>\n",
       "      <td>1.5</td>\n",
       "      <td>0.2</td>\n",
       "      <td>0</td>\n",
       "      <td>setosa</td>\n",
       "    </tr>\n",
       "  </tbody>\n",
       "</table>\n",
       "</div>"
      ],
      "text/plain": [
       "   sepal length (cm)  sepal width (cm)  petal length (cm)  petal width (cm)  \\\n",
       "0                5.1               3.5                1.4               0.2   \n",
       "1                4.9               3.0                1.4               0.2   \n",
       "2                4.7               3.2                1.3               0.2   \n",
       "3                4.6               3.1                1.5               0.2   \n",
       "\n",
       "   target   names  \n",
       "0       0  setosa  \n",
       "1       0  setosa  \n",
       "2       0  setosa  \n",
       "3       0  setosa  "
      ]
     },
     "execution_count": 7,
     "metadata": {},
     "output_type": "execute_result"
    }
   ],
   "source": [
    "data['names'] = data['target'].map(\n",
    "    {\n",
    "        0: 'setosa',\n",
    "        1: 'versicolor',\n",
    "        2: 'virginica'\n",
    "    }\n",
    ")\n",
    "data.head(4)"
   ]
  },
  {
   "cell_type": "code",
   "execution_count": 11,
   "id": "6853d6ab-9638-4cf4-b96b-6a9518cb75ad",
   "metadata": {},
   "outputs": [
    {
     "data": {
      "text/plain": [
       "['sepal length (cm)',\n",
       " 'sepal width (cm)',\n",
       " 'petal length (cm)',\n",
       " 'petal width (cm)']"
      ]
     },
     "execution_count": 11,
     "metadata": {},
     "output_type": "execute_result"
    }
   ],
   "source": [
    "from sklearn.model_selection import train_test_split\n",
    "\n",
    "target_column = ['target', 'names']\n",
    "descritores = list(set(list(data.columns))-set(target_column))\n",
    "descritores"
   ]
  },
  {
   "cell_type": "code",
   "execution_count": 17,
   "id": "66deb177-af5f-418c-8978-d2b896680241",
   "metadata": {},
   "outputs": [],
   "source": [
    "X = data[descritores].values\n",
    "Y = data['target'].values\n",
    "\n",
    "X_train, X_test, Y_train, Y_test = train_test_split(X, Y, test_size=0.30, random_state=40)\n"
   ]
  },
  {
   "cell_type": "code",
   "execution_count": 21,
   "id": "6630643d-f5b9-41bc-a426-75c553d6e32e",
   "metadata": {},
   "outputs": [],
   "source": [
    "from sklearn.tree import DecisionTreeRegressor\n",
    "\n",
    "# Escogemos el modelo\n",
    "regr_1 = DecisionTreeRegressor(max_depth=4)\n",
    "# Ajustar a los datos de entrenamiento\n",
    "regr_1.fit(X_train, Y_train)\n",
    "# Vamos a predecir que tanbien lo esta haciendo\n",
    "predict_train = regr_1.predict(X_train)\n",
    "predict_test = regr_1.predict(X_test)"
   ]
  },
  {
   "cell_type": "markdown",
   "id": "e98bdab5-e75f-40e6-9a60-0656c7c52da4",
   "metadata": {},
   "source": [
    "## Metricas de evaluacion\n",
    "- **recall**: es la sensibilidad\n",
    "- **f1-score**: El promedio ponderado entre la precision y la exactitud \n",
    "\n",
    "En este caso sale un puntaje perfecto, porque es un data set de entrenamiento, pero en la vida real siempre tendran un valor mas bajo."
   ]
  },
  {
   "cell_type": "code",
   "execution_count": 27,
   "id": "bd28e572-7389-4ae9-b932-b8d100cb811f",
   "metadata": {},
   "outputs": [
    {
     "name": "stdout",
     "output_type": "stream",
     "text": [
      "              precision    recall  f1-score   support\n",
      "\n",
      "           0       1.00      1.00      1.00        16\n",
      "           1       1.00      1.00      1.00        14\n",
      "           2       1.00      1.00      1.00        15\n",
      "\n",
      "    accuracy                           1.00        45\n",
      "   macro avg       1.00      1.00      1.00        45\n",
      "weighted avg       1.00      1.00      1.00        45\n",
      "\n"
     ]
    }
   ],
   "source": [
    "from sklearn.metrics import classification_report,confusion_matrix\n",
    "\n",
    "print(classification_report(Y_test, predict_test))"
   ]
  },
  {
   "cell_type": "markdown",
   "id": "7cc73ffe-b663-41c1-ac17-0931539727fa",
   "metadata": {},
   "source": [
    "0: 'setosa',\n",
    "1: 'versicolor',\n",
    "2: 'virginica'\n",
    "        \n",
    "Nos esta indicando cuantos positivos los esta haciendo bien. Cuando los valores que estan en la diagonal sus valores a costados son igual a cero lo esta haciendo muy bien. Pero Si observamos que tienen otros valores puede significar que tiene un falso positivo o un falso negativo. Y nos esta indicado en que variable lo esta haciendo mal."
   ]
  },
  {
   "cell_type": "code",
   "execution_count": 30,
   "id": "27ff19c0-ccd4-4f6b-8f49-25edeb99a38c",
   "metadata": {},
   "outputs": [
    {
     "name": "stdout",
     "output_type": "stream",
     "text": [
      "[[16  0  0]\n",
      " [ 0 14  0]\n",
      " [ 0  0 15]]\n"
     ]
    }
   ],
   "source": [
    "print(confusion_matrix(Y_test, predict_test))"
   ]
  },
  {
   "cell_type": "code",
   "execution_count": null,
   "id": "fbe905af-466d-43f8-8d72-dba5b2bd4e13",
   "metadata": {},
   "outputs": [],
   "source": []
  }
 ],
 "metadata": {
  "kernelspec": {
   "display_name": "Python 3",
   "language": "python",
   "name": "python3"
  },
  "language_info": {
   "codemirror_mode": {
    "name": "ipython",
    "version": 3
   },
   "file_extension": ".py",
   "mimetype": "text/x-python",
   "name": "python",
   "nbconvert_exporter": "python",
   "pygments_lexer": "ipython3",
   "version": "3.8.8"
  }
 },
 "nbformat": 4,
 "nbformat_minor": 5
}
