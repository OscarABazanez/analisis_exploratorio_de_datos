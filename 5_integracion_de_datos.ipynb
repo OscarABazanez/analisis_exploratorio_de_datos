{
 "cells": [
  {
   "cell_type": "markdown",
   "metadata": {
    "tags": [],
    "cell_id": "00000-d4701a2b-f75a-43a7-b24c-c290e5c22793",
    "deepnote_cell_type": "markdown"
   },
   "source": "# Integración de datos",
   "execution_count": null
  },
  {
   "cell_type": "code",
   "source": "import pandas as pd\n\nurl_wine_red = 'https://raw.githubusercontent.com/terranigmark/curso-analisis-exploratorio-datos-platzi/main/winequality-red.csv'\nurl_wine_white = 'https://raw.githubusercontent.com/terranigmark/curso-analisis-exploratorio-datos-platzi/main/winequality-white.csv'\n\nred = pd.read_csv(url_wine_red, delimiter=\";\")\nwhite = pd.read_csv(url_wine_white, delimiter=\";\")\nwhite",
   "metadata": {
    "tags": [],
    "cell_id": "00001-a8012fa2-a6e0-45c6-8451-f890bbb03c6d",
    "deepnote_to_be_reexecuted": false,
    "source_hash": "83b526db",
    "execution_start": 1635525673810,
    "execution_millis": 448,
    "deepnote_cell_type": "code"
   },
   "outputs": [
    {
     "output_type": "execute_result",
     "execution_count": 1,
     "data": {
      "application/vnd.deepnote.dataframe.v2+json": {
       "row_count": 4898,
       "column_count": 12,
       "columns": [
        {
         "name": "fixed acidity",
         "dtype": "float64",
         "stats": {
          "unique_count": 68,
          "nan_count": 0,
          "min": "3.8",
          "max": "14.2",
          "histogram": [
           {
            "bin_start": 3.8,
            "bin_end": 4.84,
            "count": 23
           },
           {
            "bin_start": 4.84,
            "bin_end": 5.879999999999999,
            "count": 448
           },
           {
            "bin_start": 5.879999999999999,
            "bin_end": 6.919999999999999,
            "count": 2405
           },
           {
            "bin_start": 6.919999999999999,
            "bin_end": 7.959999999999999,
            "count": 1548
           },
           {
            "bin_start": 7.959999999999999,
            "bin_end": 9,
            "count": 385
           },
           {
            "bin_start": 9,
            "bin_end": 10.04,
            "count": 82
           },
           {
            "bin_start": 10.04,
            "bin_end": 11.079999999999998,
            "count": 5
           },
           {
            "bin_start": 11.079999999999998,
            "bin_end": 12.119999999999997,
            "count": 1
           },
           {
            "bin_start": 12.119999999999997,
            "bin_end": 13.159999999999997,
            "count": 0
           },
           {
            "bin_start": 13.159999999999997,
            "bin_end": 14.2,
            "count": 1
           }
          ]
         }
        },
        {
         "name": "volatile acidity",
         "dtype": "float64",
         "stats": {
          "unique_count": 125,
          "nan_count": 0,
          "min": "0.08",
          "max": "1.1",
          "histogram": [
           {
            "bin_start": 0.08,
            "bin_end": 0.182,
            "count": 730
           },
           {
            "bin_start": 0.182,
            "bin_end": 0.28400000000000003,
            "count": 2265
           },
           {
            "bin_start": 0.28400000000000003,
            "bin_end": 0.38600000000000007,
            "count": 1316
           },
           {
            "bin_start": 0.38600000000000007,
            "bin_end": 0.48800000000000004,
            "count": 401
           },
           {
            "bin_start": 0.48800000000000004,
            "bin_end": 0.59,
            "count": 107
           },
           {
            "bin_start": 0.59,
            "bin_end": 0.6920000000000001,
            "count": 58
           },
           {
            "bin_start": 0.6920000000000001,
            "bin_end": 0.794,
            "count": 13
           },
           {
            "bin_start": 0.794,
            "bin_end": 0.896,
            "count": 2
           },
           {
            "bin_start": 0.896,
            "bin_end": 0.998,
            "count": 4
           },
           {
            "bin_start": 0.998,
            "bin_end": 1.1,
            "count": 2
           }
          ]
         }
        },
        {
         "name": "citric acid",
         "dtype": "float64",
         "stats": {
          "unique_count": 87,
          "nan_count": 0,
          "min": "0.0",
          "max": "1.66",
          "histogram": [
           {
            "bin_start": 0,
            "bin_end": 0.16599999999999998,
            "count": 219
           },
           {
            "bin_start": 0.16599999999999998,
            "bin_end": 0.33199999999999996,
            "count": 2651
           },
           {
            "bin_start": 0.33199999999999996,
            "bin_end": 0.49799999999999994,
            "count": 1679
           },
           {
            "bin_start": 0.49799999999999994,
            "bin_end": 0.6639999999999999,
            "count": 245
           },
           {
            "bin_start": 0.6639999999999999,
            "bin_end": 0.8299999999999998,
            "count": 92
           },
           {
            "bin_start": 0.8299999999999998,
            "bin_end": 0.9959999999999999,
            "count": 5
           },
           {
            "bin_start": 0.9959999999999999,
            "bin_end": 1.162,
            "count": 5
           },
           {
            "bin_start": 1.162,
            "bin_end": 1.3279999999999998,
            "count": 1
           },
           {
            "bin_start": 1.3279999999999998,
            "bin_end": 1.4939999999999998,
            "count": 0
           },
           {
            "bin_start": 1.4939999999999998,
            "bin_end": 1.66,
            "count": 1
           }
          ]
         }
        },
        {
         "name": "residual sugar",
         "dtype": "float64",
         "stats": {
          "unique_count": 310,
          "nan_count": 0,
          "min": "0.6",
          "max": "65.8",
          "histogram": [
           {
            "bin_start": 0.6,
            "bin_end": 7.12,
            "count": 2981
           },
           {
            "bin_start": 7.12,
            "bin_end": 13.64,
            "count": 1373
           },
           {
            "bin_start": 13.64,
            "bin_end": 20.160000000000004,
            "count": 527
           },
           {
            "bin_start": 20.160000000000004,
            "bin_end": 26.680000000000003,
            "count": 14
           },
           {
            "bin_start": 26.680000000000003,
            "bin_end": 33.2,
            "count": 2
           },
           {
            "bin_start": 33.2,
            "bin_end": 39.720000000000006,
            "count": 0
           },
           {
            "bin_start": 39.720000000000006,
            "bin_end": 46.24,
            "count": 0
           },
           {
            "bin_start": 46.24,
            "bin_end": 52.760000000000005,
            "count": 0
           },
           {
            "bin_start": 52.760000000000005,
            "bin_end": 59.28000000000001,
            "count": 0
           },
           {
            "bin_start": 59.28000000000001,
            "bin_end": 65.8,
            "count": 1
           }
          ]
         }
        },
        {
         "name": "chlorides",
         "dtype": "float64",
         "stats": {
          "unique_count": 160,
          "nan_count": 0,
          "min": "0.009",
          "max": "0.346",
          "histogram": [
           {
            "bin_start": 0.009,
            "bin_end": 0.042699999999999995,
            "count": 2394
           },
           {
            "bin_start": 0.042699999999999995,
            "bin_end": 0.07639999999999998,
            "count": 2329
           },
           {
            "bin_start": 0.07639999999999998,
            "bin_end": 0.11009999999999998,
            "count": 73
           },
           {
            "bin_start": 0.11009999999999998,
            "bin_end": 0.14379999999999998,
            "count": 35
           },
           {
            "bin_start": 0.14379999999999998,
            "bin_end": 0.1775,
            "count": 39
           },
           {
            "bin_start": 0.1775,
            "bin_end": 0.21119999999999997,
            "count": 18
           },
           {
            "bin_start": 0.21119999999999997,
            "bin_end": 0.24489999999999995,
            "count": 5
           },
           {
            "bin_start": 0.24489999999999995,
            "bin_end": 0.27859999999999996,
            "count": 2
           },
           {
            "bin_start": 0.27859999999999996,
            "bin_end": 0.31229999999999997,
            "count": 2
           },
           {
            "bin_start": 0.31229999999999997,
            "bin_end": 0.346,
            "count": 1
           }
          ]
         }
        },
        {
         "name": "free sulfur dioxide",
         "dtype": "float64",
         "stats": {
          "unique_count": 132,
          "nan_count": 0,
          "min": "2.0",
          "max": "289.0",
          "histogram": [
           {
            "bin_start": 2,
            "bin_end": 30.7,
            "count": 2072
           },
           {
            "bin_start": 30.7,
            "bin_end": 59.4,
            "count": 2440
           },
           {
            "bin_start": 59.4,
            "bin_end": 88.1,
            "count": 359
           },
           {
            "bin_start": 88.1,
            "bin_end": 116.8,
            "count": 19
           },
           {
            "bin_start": 116.8,
            "bin_end": 145.5,
            "count": 6
           },
           {
            "bin_start": 145.5,
            "bin_end": 174.2,
            "count": 1
           },
           {
            "bin_start": 174.2,
            "bin_end": 202.9,
            "count": 0
           },
           {
            "bin_start": 202.9,
            "bin_end": 231.6,
            "count": 0
           },
           {
            "bin_start": 231.6,
            "bin_end": 260.3,
            "count": 0
           },
           {
            "bin_start": 260.3,
            "bin_end": 289,
            "count": 1
           }
          ]
         }
        },
        {
         "name": "total sulfur dioxide",
         "dtype": "float64",
         "stats": {
          "unique_count": 251,
          "nan_count": 0,
          "min": "9.0",
          "max": "440.0",
          "histogram": [
           {
            "bin_start": 9,
            "bin_end": 52.1,
            "count": 52
           },
           {
            "bin_start": 52.1,
            "bin_end": 95.2,
            "count": 682
           },
           {
            "bin_start": 95.2,
            "bin_end": 138.3,
            "count": 1884
           },
           {
            "bin_start": 138.3,
            "bin_end": 181.4,
            "count": 1470
           },
           {
            "bin_start": 181.4,
            "bin_end": 224.5,
            "count": 684
           },
           {
            "bin_start": 224.5,
            "bin_end": 267.6,
            "count": 116
           },
           {
            "bin_start": 267.6,
            "bin_end": 310.7,
            "count": 6
           },
           {
            "bin_start": 310.7,
            "bin_end": 353.8,
            "count": 2
           },
           {
            "bin_start": 353.8,
            "bin_end": 396.90000000000003,
            "count": 1
           },
           {
            "bin_start": 396.90000000000003,
            "bin_end": 440,
            "count": 1
           }
          ]
         }
        },
        {
         "name": "density",
         "dtype": "float64",
         "stats": {
          "unique_count": 890,
          "nan_count": 0,
          "min": "0.98711",
          "max": "1.03898",
          "histogram": [
           {
            "bin_start": 0.98711,
            "bin_end": 0.992297,
            "count": 1578
           },
           {
            "bin_start": 0.992297,
            "bin_end": 0.997484,
            "count": 2562
           },
           {
            "bin_start": 0.997484,
            "bin_end": 1.002671,
            "count": 753
           },
           {
            "bin_start": 1.002671,
            "bin_end": 1.0078580000000001,
            "count": 2
           },
           {
            "bin_start": 1.0078580000000001,
            "bin_end": 1.013045,
            "count": 2
           },
           {
            "bin_start": 1.013045,
            "bin_end": 1.018232,
            "count": 0
           },
           {
            "bin_start": 1.018232,
            "bin_end": 1.023419,
            "count": 0
           },
           {
            "bin_start": 1.023419,
            "bin_end": 1.028606,
            "count": 0
           },
           {
            "bin_start": 1.028606,
            "bin_end": 1.033793,
            "count": 0
           },
           {
            "bin_start": 1.033793,
            "bin_end": 1.03898,
            "count": 1
           }
          ]
         }
        },
        {
         "name": "pH",
         "dtype": "float64",
         "stats": {
          "unique_count": 103,
          "nan_count": 0,
          "min": "2.72",
          "max": "3.82",
          "histogram": [
           {
            "bin_start": 2.72,
            "bin_end": 2.83,
            "count": 10
           },
           {
            "bin_start": 2.83,
            "bin_end": 2.94,
            "count": 162
           },
           {
            "bin_start": 2.94,
            "bin_end": 3.05,
            "count": 631
           },
           {
            "bin_start": 3.05,
            "bin_end": 3.16,
            "count": 1331
           },
           {
            "bin_start": 3.16,
            "bin_end": 3.27,
            "count": 1407
           },
           {
            "bin_start": 3.27,
            "bin_end": 3.38,
            "count": 823
           },
           {
            "bin_start": 3.38,
            "bin_end": 3.4899999999999998,
            "count": 355
           },
           {
            "bin_start": 3.4899999999999998,
            "bin_end": 3.5999999999999996,
            "count": 129
           },
           {
            "bin_start": 3.5999999999999996,
            "bin_end": 3.71,
            "count": 34
           },
           {
            "bin_start": 3.71,
            "bin_end": 3.82,
            "count": 16
           }
          ]
         }
        },
        {
         "name": "sulphates",
         "dtype": "float64",
         "stats": {
          "unique_count": 79,
          "nan_count": 0,
          "min": "0.22",
          "max": "1.08",
          "histogram": [
           {
            "bin_start": 0.22,
            "bin_end": 0.306,
            "count": 83
           },
           {
            "bin_start": 0.306,
            "bin_end": 0.392,
            "count": 931
           },
           {
            "bin_start": 0.392,
            "bin_end": 0.478,
            "count": 1440
           },
           {
            "bin_start": 0.478,
            "bin_end": 0.5640000000000001,
            "count": 1402
           },
           {
            "bin_start": 0.5640000000000001,
            "bin_end": 0.65,
            "count": 595
           },
           {
            "bin_start": 0.65,
            "bin_end": 0.736,
            "count": 263
           },
           {
            "bin_start": 0.736,
            "bin_end": 0.8220000000000001,
            "count": 134
           },
           {
            "bin_start": 0.8220000000000001,
            "bin_end": 0.908,
            "count": 26
           },
           {
            "bin_start": 0.908,
            "bin_end": 0.994,
            "count": 20
           },
           {
            "bin_start": 0.994,
            "bin_end": 1.08,
            "count": 4
           }
          ]
         }
        },
        {
         "name": "alcohol",
         "dtype": "float64",
         "stats": {
          "unique_count": 103,
          "nan_count": 0,
          "min": "8.0",
          "max": "14.2",
          "histogram": [
           {
            "bin_start": 8,
            "bin_end": 8.62,
            "count": 37
           },
           {
            "bin_start": 8.62,
            "bin_end": 9.24,
            "count": 808
           },
           {
            "bin_start": 9.24,
            "bin_end": 9.86,
            "count": 969
           },
           {
            "bin_start": 9.86,
            "bin_end": 10.48,
            "count": 761
           },
           {
            "bin_start": 10.48,
            "bin_end": 11.1,
            "count": 765
           },
           {
            "bin_start": 11.1,
            "bin_end": 11.719999999999999,
            "count": 625
           },
           {
            "bin_start": 11.719999999999999,
            "bin_end": 12.34,
            "count": 427
           },
           {
            "bin_start": 12.34,
            "bin_end": 12.959999999999999,
            "count": 368
           },
           {
            "bin_start": 12.959999999999999,
            "bin_end": 13.579999999999998,
            "count": 110
           },
           {
            "bin_start": 13.579999999999998,
            "bin_end": 14.2,
            "count": 28
           }
          ]
         }
        },
        {
         "name": "quality",
         "dtype": "int64",
         "stats": {
          "unique_count": 7,
          "nan_count": 0,
          "min": "3",
          "max": "9",
          "histogram": [
           {
            "bin_start": 3,
            "bin_end": 3.6,
            "count": 20
           },
           {
            "bin_start": 3.6,
            "bin_end": 4.2,
            "count": 163
           },
           {
            "bin_start": 4.2,
            "bin_end": 4.8,
            "count": 0
           },
           {
            "bin_start": 4.8,
            "bin_end": 5.4,
            "count": 1457
           },
           {
            "bin_start": 5.4,
            "bin_end": 6,
            "count": 0
           },
           {
            "bin_start": 6,
            "bin_end": 6.6,
            "count": 2198
           },
           {
            "bin_start": 6.6,
            "bin_end": 7.2,
            "count": 880
           },
           {
            "bin_start": 7.2,
            "bin_end": 7.8,
            "count": 0
           },
           {
            "bin_start": 7.8,
            "bin_end": 8.399999999999999,
            "count": 175
           },
           {
            "bin_start": 8.399999999999999,
            "bin_end": 9,
            "count": 5
           }
          ]
         }
        },
        {
         "name": "_deepnote_index_column",
         "dtype": "int64"
        }
       ],
       "rows_top": [
        {
         "fixed acidity": 7,
         "volatile acidity": 0.27,
         "citric acid": 0.36,
         "residual sugar": 20.7,
         "chlorides": 0.045,
         "free sulfur dioxide": 45,
         "total sulfur dioxide": 170,
         "density": 1.001,
         "pH": 3,
         "sulphates": 0.45,
         "alcohol": 8.8,
         "quality": 6,
         "_deepnote_index_column": 0
        },
        {
         "fixed acidity": 6.3,
         "volatile acidity": 0.3,
         "citric acid": 0.34,
         "residual sugar": 1.6,
         "chlorides": 0.049,
         "free sulfur dioxide": 14,
         "total sulfur dioxide": 132,
         "density": 0.994,
         "pH": 3.3,
         "sulphates": 0.49,
         "alcohol": 9.5,
         "quality": 6,
         "_deepnote_index_column": 1
        },
        {
         "fixed acidity": 8.1,
         "volatile acidity": 0.28,
         "citric acid": 0.4,
         "residual sugar": 6.9,
         "chlorides": 0.05,
         "free sulfur dioxide": 30,
         "total sulfur dioxide": 97,
         "density": 0.9951,
         "pH": 3.26,
         "sulphates": 0.44,
         "alcohol": 10.1,
         "quality": 6,
         "_deepnote_index_column": 2
        },
        {
         "fixed acidity": 7.2,
         "volatile acidity": 0.23,
         "citric acid": 0.32,
         "residual sugar": 8.5,
         "chlorides": 0.058,
         "free sulfur dioxide": 47,
         "total sulfur dioxide": 186,
         "density": 0.9956,
         "pH": 3.19,
         "sulphates": 0.4,
         "alcohol": 9.9,
         "quality": 6,
         "_deepnote_index_column": 3
        },
        {
         "fixed acidity": 7.2,
         "volatile acidity": 0.23,
         "citric acid": 0.32,
         "residual sugar": 8.5,
         "chlorides": 0.058,
         "free sulfur dioxide": 47,
         "total sulfur dioxide": 186,
         "density": 0.9956,
         "pH": 3.19,
         "sulphates": 0.4,
         "alcohol": 9.9,
         "quality": 6,
         "_deepnote_index_column": 4
        },
        {
         "fixed acidity": 8.1,
         "volatile acidity": 0.28,
         "citric acid": 0.4,
         "residual sugar": 6.9,
         "chlorides": 0.05,
         "free sulfur dioxide": 30,
         "total sulfur dioxide": 97,
         "density": 0.9951,
         "pH": 3.26,
         "sulphates": 0.44,
         "alcohol": 10.1,
         "quality": 6,
         "_deepnote_index_column": 5
        },
        {
         "fixed acidity": 6.2,
         "volatile acidity": 0.32,
         "citric acid": 0.16,
         "residual sugar": 7,
         "chlorides": 0.045,
         "free sulfur dioxide": 30,
         "total sulfur dioxide": 136,
         "density": 0.9949,
         "pH": 3.18,
         "sulphates": 0.47,
         "alcohol": 9.6,
         "quality": 6,
         "_deepnote_index_column": 6
        },
        {
         "fixed acidity": 7,
         "volatile acidity": 0.27,
         "citric acid": 0.36,
         "residual sugar": 20.7,
         "chlorides": 0.045,
         "free sulfur dioxide": 45,
         "total sulfur dioxide": 170,
         "density": 1.001,
         "pH": 3,
         "sulphates": 0.45,
         "alcohol": 8.8,
         "quality": 6,
         "_deepnote_index_column": 7
        },
        {
         "fixed acidity": 6.3,
         "volatile acidity": 0.3,
         "citric acid": 0.34,
         "residual sugar": 1.6,
         "chlorides": 0.049,
         "free sulfur dioxide": 14,
         "total sulfur dioxide": 132,
         "density": 0.994,
         "pH": 3.3,
         "sulphates": 0.49,
         "alcohol": 9.5,
         "quality": 6,
         "_deepnote_index_column": 8
        },
        {
         "fixed acidity": 8.1,
         "volatile acidity": 0.22,
         "citric acid": 0.43,
         "residual sugar": 1.5,
         "chlorides": 0.044,
         "free sulfur dioxide": 28,
         "total sulfur dioxide": 129,
         "density": 0.9938,
         "pH": 3.22,
         "sulphates": 0.45,
         "alcohol": 11,
         "quality": 6,
         "_deepnote_index_column": 9
        },
        {
         "fixed acidity": 8.1,
         "volatile acidity": 0.27,
         "citric acid": 0.41,
         "residual sugar": 1.45,
         "chlorides": 0.033,
         "free sulfur dioxide": 11,
         "total sulfur dioxide": 63,
         "density": 0.9908,
         "pH": 2.99,
         "sulphates": 0.56,
         "alcohol": 12,
         "quality": 5,
         "_deepnote_index_column": 10
        },
        {
         "fixed acidity": 8.6,
         "volatile acidity": 0.23,
         "citric acid": 0.4,
         "residual sugar": 4.2,
         "chlorides": 0.035,
         "free sulfur dioxide": 17,
         "total sulfur dioxide": 109,
         "density": 0.9947,
         "pH": 3.14,
         "sulphates": 0.53,
         "alcohol": 9.7,
         "quality": 5,
         "_deepnote_index_column": 11
        },
        {
         "fixed acidity": 7.9,
         "volatile acidity": 0.18,
         "citric acid": 0.37,
         "residual sugar": 1.2,
         "chlorides": 0.04,
         "free sulfur dioxide": 16,
         "total sulfur dioxide": 75,
         "density": 0.992,
         "pH": 3.18,
         "sulphates": 0.63,
         "alcohol": 10.8,
         "quality": 5,
         "_deepnote_index_column": 12
        },
        {
         "fixed acidity": 6.6,
         "volatile acidity": 0.16,
         "citric acid": 0.4,
         "residual sugar": 1.5,
         "chlorides": 0.044,
         "free sulfur dioxide": 48,
         "total sulfur dioxide": 143,
         "density": 0.9912,
         "pH": 3.54,
         "sulphates": 0.52,
         "alcohol": 12.4,
         "quality": 7,
         "_deepnote_index_column": 13
        },
        {
         "fixed acidity": 8.3,
         "volatile acidity": 0.42,
         "citric acid": 0.62,
         "residual sugar": 19.25,
         "chlorides": 0.04,
         "free sulfur dioxide": 41,
         "total sulfur dioxide": 172,
         "density": 1.0002,
         "pH": 2.98,
         "sulphates": 0.67,
         "alcohol": 9.7,
         "quality": 5,
         "_deepnote_index_column": 14
        },
        {
         "fixed acidity": 6.6,
         "volatile acidity": 0.17,
         "citric acid": 0.38,
         "residual sugar": 1.5,
         "chlorides": 0.032,
         "free sulfur dioxide": 28,
         "total sulfur dioxide": 112,
         "density": 0.9914,
         "pH": 3.25,
         "sulphates": 0.55,
         "alcohol": 11.4,
         "quality": 7,
         "_deepnote_index_column": 15
        },
        {
         "fixed acidity": 6.3,
         "volatile acidity": 0.48,
         "citric acid": 0.04,
         "residual sugar": 1.1,
         "chlorides": 0.046,
         "free sulfur dioxide": 30,
         "total sulfur dioxide": 99,
         "density": 0.9928,
         "pH": 3.24,
         "sulphates": 0.36,
         "alcohol": 9.6,
         "quality": 6,
         "_deepnote_index_column": 16
        },
        {
         "fixed acidity": 6.2,
         "volatile acidity": 0.66,
         "citric acid": 0.48,
         "residual sugar": 1.2,
         "chlorides": 0.029,
         "free sulfur dioxide": 29,
         "total sulfur dioxide": 75,
         "density": 0.9892,
         "pH": 3.33,
         "sulphates": 0.39,
         "alcohol": 12.8,
         "quality": 8,
         "_deepnote_index_column": 17
        },
        {
         "fixed acidity": 7.4,
         "volatile acidity": 0.34,
         "citric acid": 0.42,
         "residual sugar": 1.1,
         "chlorides": 0.033,
         "free sulfur dioxide": 17,
         "total sulfur dioxide": 171,
         "density": 0.9917,
         "pH": 3.12,
         "sulphates": 0.53,
         "alcohol": 11.3,
         "quality": 6,
         "_deepnote_index_column": 18
        },
        {
         "fixed acidity": 6.5,
         "volatile acidity": 0.31,
         "citric acid": 0.14,
         "residual sugar": 7.5,
         "chlorides": 0.044,
         "free sulfur dioxide": 34,
         "total sulfur dioxide": 133,
         "density": 0.9955,
         "pH": 3.22,
         "sulphates": 0.5,
         "alcohol": 9.5,
         "quality": 5,
         "_deepnote_index_column": 19
        },
        {
         "fixed acidity": 6.2,
         "volatile acidity": 0.66,
         "citric acid": 0.48,
         "residual sugar": 1.2,
         "chlorides": 0.029,
         "free sulfur dioxide": 29,
         "total sulfur dioxide": 75,
         "density": 0.9892,
         "pH": 3.33,
         "sulphates": 0.39,
         "alcohol": 12.8,
         "quality": 8,
         "_deepnote_index_column": 20
        },
        {
         "fixed acidity": 6.4,
         "volatile acidity": 0.31,
         "citric acid": 0.38,
         "residual sugar": 2.9,
         "chlorides": 0.038,
         "free sulfur dioxide": 19,
         "total sulfur dioxide": 102,
         "density": 0.9912,
         "pH": 3.17,
         "sulphates": 0.35,
         "alcohol": 11,
         "quality": 7,
         "_deepnote_index_column": 21
        },
        {
         "fixed acidity": 6.8,
         "volatile acidity": 0.26,
         "citric acid": 0.42,
         "residual sugar": 1.7,
         "chlorides": 0.049,
         "free sulfur dioxide": 41,
         "total sulfur dioxide": 122,
         "density": 0.993,
         "pH": 3.47,
         "sulphates": 0.48,
         "alcohol": 10.5,
         "quality": 8,
         "_deepnote_index_column": 22
        },
        {
         "fixed acidity": 7.6,
         "volatile acidity": 0.67,
         "citric acid": 0.14,
         "residual sugar": 1.5,
         "chlorides": 0.074,
         "free sulfur dioxide": 25,
         "total sulfur dioxide": 168,
         "density": 0.9937,
         "pH": 3.05,
         "sulphates": 0.51,
         "alcohol": 9.3,
         "quality": 5,
         "_deepnote_index_column": 23
        },
        {
         "fixed acidity": 6.6,
         "volatile acidity": 0.27,
         "citric acid": 0.41,
         "residual sugar": 1.3,
         "chlorides": 0.052,
         "free sulfur dioxide": 16,
         "total sulfur dioxide": 142,
         "density": 0.9951,
         "pH": 3.42,
         "sulphates": 0.47,
         "alcohol": 10,
         "quality": 6,
         "_deepnote_index_column": 24
        },
        {
         "fixed acidity": 7,
         "volatile acidity": 0.25,
         "citric acid": 0.32,
         "residual sugar": 9,
         "chlorides": 0.046,
         "free sulfur dioxide": 56,
         "total sulfur dioxide": 245,
         "density": 0.9955,
         "pH": 3.25,
         "sulphates": 0.5,
         "alcohol": 10.4,
         "quality": 6,
         "_deepnote_index_column": 25
        },
        {
         "fixed acidity": 6.9,
         "volatile acidity": 0.24,
         "citric acid": 0.35,
         "residual sugar": 1,
         "chlorides": 0.052,
         "free sulfur dioxide": 35,
         "total sulfur dioxide": 146,
         "density": 0.993,
         "pH": 3.45,
         "sulphates": 0.44,
         "alcohol": 10,
         "quality": 6,
         "_deepnote_index_column": 26
        },
        {
         "fixed acidity": 7,
         "volatile acidity": 0.28,
         "citric acid": 0.39,
         "residual sugar": 8.7,
         "chlorides": 0.051,
         "free sulfur dioxide": 32,
         "total sulfur dioxide": 141,
         "density": 0.9961,
         "pH": 3.38,
         "sulphates": 0.53,
         "alcohol": 10.5,
         "quality": 6,
         "_deepnote_index_column": 27
        },
        {
         "fixed acidity": 7.4,
         "volatile acidity": 0.27,
         "citric acid": 0.48,
         "residual sugar": 1.1,
         "chlorides": 0.047,
         "free sulfur dioxide": 17,
         "total sulfur dioxide": 132,
         "density": 0.9914,
         "pH": 3.19,
         "sulphates": 0.49,
         "alcohol": 11.6,
         "quality": 6,
         "_deepnote_index_column": 28
        },
        {
         "fixed acidity": 7.2,
         "volatile acidity": 0.32,
         "citric acid": 0.36,
         "residual sugar": 2,
         "chlorides": 0.033,
         "free sulfur dioxide": 37,
         "total sulfur dioxide": 114,
         "density": 0.9906,
         "pH": 3.1,
         "sulphates": 0.71,
         "alcohol": 12.3,
         "quality": 7,
         "_deepnote_index_column": 29
        },
        {
         "fixed acidity": 8.5,
         "volatile acidity": 0.24,
         "citric acid": 0.39,
         "residual sugar": 10.4,
         "chlorides": 0.044,
         "free sulfur dioxide": 20,
         "total sulfur dioxide": 142,
         "density": 0.9974,
         "pH": 3.2,
         "sulphates": 0.53,
         "alcohol": 10,
         "quality": 6,
         "_deepnote_index_column": 30
        },
        {
         "fixed acidity": 8.3,
         "volatile acidity": 0.14,
         "citric acid": 0.34,
         "residual sugar": 1.1,
         "chlorides": 0.042,
         "free sulfur dioxide": 7,
         "total sulfur dioxide": 47,
         "density": 0.9934,
         "pH": 3.47,
         "sulphates": 0.4,
         "alcohol": 10.2,
         "quality": 6,
         "_deepnote_index_column": 31
        },
        {
         "fixed acidity": 7.4,
         "volatile acidity": 0.25,
         "citric acid": 0.36,
         "residual sugar": 2.05,
         "chlorides": 0.05,
         "free sulfur dioxide": 31,
         "total sulfur dioxide": 100,
         "density": 0.992,
         "pH": 3.19,
         "sulphates": 0.44,
         "alcohol": 10.8,
         "quality": 6,
         "_deepnote_index_column": 32
        },
        {
         "fixed acidity": 6.2,
         "volatile acidity": 0.12,
         "citric acid": 0.34,
         "residual sugar": 1.5,
         "chlorides": 0.045,
         "free sulfur dioxide": 43,
         "total sulfur dioxide": 117,
         "density": 0.9939,
         "pH": 3.42,
         "sulphates": 0.51,
         "alcohol": 9,
         "quality": 6,
         "_deepnote_index_column": 33
        },
        {
         "fixed acidity": 5.8,
         "volatile acidity": 0.27,
         "citric acid": 0.2,
         "residual sugar": 14.95,
         "chlorides": 0.044,
         "free sulfur dioxide": 22,
         "total sulfur dioxide": 179,
         "density": 0.9962,
         "pH": 3.37,
         "sulphates": 0.37,
         "alcohol": 10.2,
         "quality": 5,
         "_deepnote_index_column": 34
        },
        {
         "fixed acidity": 7.3,
         "volatile acidity": 0.28,
         "citric acid": 0.43,
         "residual sugar": 1.7,
         "chlorides": 0.08,
         "free sulfur dioxide": 21,
         "total sulfur dioxide": 123,
         "density": 0.9905,
         "pH": 3.19,
         "sulphates": 0.42,
         "alcohol": 12.8,
         "quality": 5,
         "_deepnote_index_column": 35
        },
        {
         "fixed acidity": 6.5,
         "volatile acidity": 0.39,
         "citric acid": 0.23,
         "residual sugar": 5.4,
         "chlorides": 0.051,
         "free sulfur dioxide": 25,
         "total sulfur dioxide": 149,
         "density": 0.9934,
         "pH": 3.24,
         "sulphates": 0.35,
         "alcohol": 10,
         "quality": 5,
         "_deepnote_index_column": 36
        },
        {
         "fixed acidity": 7,
         "volatile acidity": 0.33,
         "citric acid": 0.32,
         "residual sugar": 1.2,
         "chlorides": 0.053,
         "free sulfur dioxide": 38,
         "total sulfur dioxide": 138,
         "density": 0.9906,
         "pH": 3.13,
         "sulphates": 0.28,
         "alcohol": 11.2,
         "quality": 6,
         "_deepnote_index_column": 37
        },
        {
         "fixed acidity": 7.3,
         "volatile acidity": 0.24,
         "citric acid": 0.39,
         "residual sugar": 17.95,
         "chlorides": 0.057,
         "free sulfur dioxide": 45,
         "total sulfur dioxide": 149,
         "density": 0.9999,
         "pH": 3.21,
         "sulphates": 0.36,
         "alcohol": 8.6,
         "quality": 5,
         "_deepnote_index_column": 38
        },
        {
         "fixed acidity": 7.3,
         "volatile acidity": 0.24,
         "citric acid": 0.39,
         "residual sugar": 17.95,
         "chlorides": 0.057,
         "free sulfur dioxide": 45,
         "total sulfur dioxide": 149,
         "density": 0.9999,
         "pH": 3.21,
         "sulphates": 0.36,
         "alcohol": 8.6,
         "quality": 5,
         "_deepnote_index_column": 39
        },
        {
         "fixed acidity": 6.7,
         "volatile acidity": 0.23,
         "citric acid": 0.39,
         "residual sugar": 2.5,
         "chlorides": 0.172,
         "free sulfur dioxide": 63,
         "total sulfur dioxide": 158,
         "density": 0.9937,
         "pH": 3.11,
         "sulphates": 0.36,
         "alcohol": 9.4,
         "quality": 6,
         "_deepnote_index_column": 40
        }
       ],
       "rows_bottom": [
        {
         "fixed acidity": 7.1,
         "volatile acidity": 0.23,
         "citric acid": 0.39,
         "residual sugar": 13.7,
         "chlorides": 0.058,
         "free sulfur dioxide": 26,
         "total sulfur dioxide": 172,
         "density": 0.99755,
         "pH": 2.9,
         "sulphates": 0.46,
         "alcohol": 9,
         "quality": 6,
         "_deepnote_index_column": 4856
        },
        {
         "fixed acidity": 7.5,
         "volatile acidity": 0.38,
         "citric acid": 0.33,
         "residual sugar": 9.2,
         "chlorides": 0.043,
         "free sulfur dioxide": 19,
         "total sulfur dioxide": 116,
         "density": 0.99444,
         "pH": 3.08,
         "sulphates": 0.42,
         "alcohol": 11.4,
         "quality": 6,
         "_deepnote_index_column": 4857
        },
        {
         "fixed acidity": 6.4,
         "volatile acidity": 0.35,
         "citric acid": 0.51,
         "residual sugar": 7.8,
         "chlorides": 0.055,
         "free sulfur dioxide": 53,
         "total sulfur dioxide": 177,
         "density": 0.99502,
         "pH": 3.12,
         "sulphates": 0.45,
         "alcohol": 9.6,
         "quality": 5,
         "_deepnote_index_column": 4858
        },
        {
         "fixed acidity": 6,
         "volatile acidity": 0.43,
         "citric acid": 0.34,
         "residual sugar": 7.6,
         "chlorides": 0.045,
         "free sulfur dioxide": 25,
         "total sulfur dioxide": 118,
         "density": 0.99222,
         "pH": 3.03,
         "sulphates": 0.37,
         "alcohol": 11,
         "quality": 6,
         "_deepnote_index_column": 4859
        },
        {
         "fixed acidity": 6,
         "volatile acidity": 0.52,
         "citric acid": 0.33,
         "residual sugar": 7.7,
         "chlorides": 0.046,
         "free sulfur dioxide": 24,
         "total sulfur dioxide": 119,
         "density": 0.99224,
         "pH": 3.04,
         "sulphates": 0.38,
         "alcohol": 11,
         "quality": 6,
         "_deepnote_index_column": 4860
        },
        {
         "fixed acidity": 5.5,
         "volatile acidity": 0.31,
         "citric acid": 0.29,
         "residual sugar": 3,
         "chlorides": 0.027,
         "free sulfur dioxide": 16,
         "total sulfur dioxide": 102,
         "density": 0.99067,
         "pH": 3.23,
         "sulphates": 0.56,
         "alcohol": 11.2,
         "quality": 6,
         "_deepnote_index_column": 4861
        },
        {
         "fixed acidity": 5.9,
         "volatile acidity": 0.22,
         "citric acid": 0.3,
         "residual sugar": 1.3,
         "chlorides": 0.052,
         "free sulfur dioxide": 42,
         "total sulfur dioxide": 86,
         "density": 0.99069,
         "pH": 3.31,
         "sulphates": 0.47,
         "alcohol": 11.55,
         "quality": 6,
         "_deepnote_index_column": 4862
        },
        {
         "fixed acidity": 6.2,
         "volatile acidity": 0.36,
         "citric acid": 0.32,
         "residual sugar": 4,
         "chlorides": 0.036,
         "free sulfur dioxide": 44,
         "total sulfur dioxide": 92,
         "density": 0.98936,
         "pH": 3.2,
         "sulphates": 0.5,
         "alcohol": 13.3,
         "quality": 7,
         "_deepnote_index_column": 4863
        },
        {
         "fixed acidity": 6,
         "volatile acidity": 0.41,
         "citric acid": 0.23,
         "residual sugar": 1.1,
         "chlorides": 0.066,
         "free sulfur dioxide": 22,
         "total sulfur dioxide": 148,
         "density": 0.99266,
         "pH": 3.3,
         "sulphates": 0.47,
         "alcohol": 9.63333333333333,
         "quality": 5,
         "_deepnote_index_column": 4864
        },
        {
         "fixed acidity": 6.2,
         "volatile acidity": 0.355,
         "citric acid": 0.35,
         "residual sugar": 2,
         "chlorides": 0.046,
         "free sulfur dioxide": 31,
         "total sulfur dioxide": 95,
         "density": 0.98822,
         "pH": 3.06,
         "sulphates": 0.46,
         "alcohol": 13.6,
         "quality": 6,
         "_deepnote_index_column": 4865
        },
        {
         "fixed acidity": 5.7,
         "volatile acidity": 0.41,
         "citric acid": 0.21,
         "residual sugar": 1.9,
         "chlorides": 0.048,
         "free sulfur dioxide": 30,
         "total sulfur dioxide": 112,
         "density": 0.99138,
         "pH": 3.29,
         "sulphates": 0.55,
         "alcohol": 11.2,
         "quality": 6,
         "_deepnote_index_column": 4866
        },
        {
         "fixed acidity": 5.3,
         "volatile acidity": 0.6,
         "citric acid": 0.34,
         "residual sugar": 1.4,
         "chlorides": 0.031,
         "free sulfur dioxide": 3,
         "total sulfur dioxide": 60,
         "density": 0.98854,
         "pH": 3.27,
         "sulphates": 0.38,
         "alcohol": 13,
         "quality": 6,
         "_deepnote_index_column": 4867
        },
        {
         "fixed acidity": 5.8,
         "volatile acidity": 0.23,
         "citric acid": 0.31,
         "residual sugar": 4.5,
         "chlorides": 0.046,
         "free sulfur dioxide": 42,
         "total sulfur dioxide": 124,
         "density": 0.99324,
         "pH": 3.31,
         "sulphates": 0.64,
         "alcohol": 10.8,
         "quality": 6,
         "_deepnote_index_column": 4868
        },
        {
         "fixed acidity": 6.6,
         "volatile acidity": 0.24,
         "citric acid": 0.33,
         "residual sugar": 10.1,
         "chlorides": 0.032,
         "free sulfur dioxide": 8,
         "total sulfur dioxide": 81,
         "density": 0.99626,
         "pH": 3.19,
         "sulphates": 0.51,
         "alcohol": 9.8,
         "quality": 6,
         "_deepnote_index_column": 4869
        },
        {
         "fixed acidity": 6.1,
         "volatile acidity": 0.32,
         "citric acid": 0.28,
         "residual sugar": 6.6,
         "chlorides": 0.021,
         "free sulfur dioxide": 29,
         "total sulfur dioxide": 132,
         "density": 0.99188,
         "pH": 3.15,
         "sulphates": 0.36,
         "alcohol": 11.45,
         "quality": 7,
         "_deepnote_index_column": 4870
        },
        {
         "fixed acidity": 5,
         "volatile acidity": 0.2,
         "citric acid": 0.4,
         "residual sugar": 1.9,
         "chlorides": 0.015,
         "free sulfur dioxide": 20,
         "total sulfur dioxide": 98,
         "density": 0.9897,
         "pH": 3.37,
         "sulphates": 0.55,
         "alcohol": 12.05,
         "quality": 6,
         "_deepnote_index_column": 4871
        },
        {
         "fixed acidity": 6,
         "volatile acidity": 0.42,
         "citric acid": 0.41,
         "residual sugar": 12.4,
         "chlorides": 0.032,
         "free sulfur dioxide": 50,
         "total sulfur dioxide": 179,
         "density": 0.99622,
         "pH": 3.14,
         "sulphates": 0.6,
         "alcohol": 9.7,
         "quality": 5,
         "_deepnote_index_column": 4872
        },
        {
         "fixed acidity": 5.7,
         "volatile acidity": 0.21,
         "citric acid": 0.32,
         "residual sugar": 1.6,
         "chlorides": 0.03,
         "free sulfur dioxide": 33,
         "total sulfur dioxide": 122,
         "density": 0.99044,
         "pH": 3.33,
         "sulphates": 0.52,
         "alcohol": 11.9,
         "quality": 6,
         "_deepnote_index_column": 4873
        },
        {
         "fixed acidity": 5.6,
         "volatile acidity": 0.2,
         "citric acid": 0.36,
         "residual sugar": 2.5,
         "chlorides": 0.048,
         "free sulfur dioxide": 16,
         "total sulfur dioxide": 125,
         "density": 0.99282,
         "pH": 3.49,
         "sulphates": 0.49,
         "alcohol": 10,
         "quality": 6,
         "_deepnote_index_column": 4874
        },
        {
         "fixed acidity": 7.4,
         "volatile acidity": 0.22,
         "citric acid": 0.26,
         "residual sugar": 1.2,
         "chlorides": 0.035,
         "free sulfur dioxide": 18,
         "total sulfur dioxide": 97,
         "density": 0.99245,
         "pH": 3.12,
         "sulphates": 0.41,
         "alcohol": 9.7,
         "quality": 6,
         "_deepnote_index_column": 4875
        },
        {
         "fixed acidity": 6.2,
         "volatile acidity": 0.38,
         "citric acid": 0.42,
         "residual sugar": 2.5,
         "chlorides": 0.038,
         "free sulfur dioxide": 34,
         "total sulfur dioxide": 117,
         "density": 0.99132,
         "pH": 3.36,
         "sulphates": 0.59,
         "alcohol": 11.6,
         "quality": 7,
         "_deepnote_index_column": 4876
        },
        {
         "fixed acidity": 5.9,
         "volatile acidity": 0.54,
         "citric acid": 0,
         "residual sugar": 0.8,
         "chlorides": 0.032,
         "free sulfur dioxide": 12,
         "total sulfur dioxide": 82,
         "density": 0.99286,
         "pH": 3.25,
         "sulphates": 0.36,
         "alcohol": 8.8,
         "quality": 5,
         "_deepnote_index_column": 4877
        },
        {
         "fixed acidity": 6.2,
         "volatile acidity": 0.53,
         "citric acid": 0.02,
         "residual sugar": 0.9,
         "chlorides": 0.035,
         "free sulfur dioxide": 6,
         "total sulfur dioxide": 81,
         "density": 0.99234,
         "pH": 3.24,
         "sulphates": 0.35,
         "alcohol": 9.5,
         "quality": 4,
         "_deepnote_index_column": 4878
        },
        {
         "fixed acidity": 6.6,
         "volatile acidity": 0.34,
         "citric acid": 0.4,
         "residual sugar": 8.1,
         "chlorides": 0.046,
         "free sulfur dioxide": 68,
         "total sulfur dioxide": 170,
         "density": 0.99494,
         "pH": 3.15,
         "sulphates": 0.5,
         "alcohol": 9.53333333333333,
         "quality": 6,
         "_deepnote_index_column": 4879
        },
        {
         "fixed acidity": 6.6,
         "volatile acidity": 0.34,
         "citric acid": 0.4,
         "residual sugar": 8.1,
         "chlorides": 0.046,
         "free sulfur dioxide": 68,
         "total sulfur dioxide": 170,
         "density": 0.99494,
         "pH": 3.15,
         "sulphates": 0.5,
         "alcohol": 9.53333333333333,
         "quality": 6,
         "_deepnote_index_column": 4880
        },
        {
         "fixed acidity": 5,
         "volatile acidity": 0.235,
         "citric acid": 0.27,
         "residual sugar": 11.75,
         "chlorides": 0.03,
         "free sulfur dioxide": 34,
         "total sulfur dioxide": 118,
         "density": 0.9954,
         "pH": 3.07,
         "sulphates": 0.5,
         "alcohol": 9.4,
         "quality": 6,
         "_deepnote_index_column": 4881
        },
        {
         "fixed acidity": 5.5,
         "volatile acidity": 0.32,
         "citric acid": 0.13,
         "residual sugar": 1.3,
         "chlorides": 0.037,
         "free sulfur dioxide": 45,
         "total sulfur dioxide": 156,
         "density": 0.99184,
         "pH": 3.26,
         "sulphates": 0.38,
         "alcohol": 10.7,
         "quality": 5,
         "_deepnote_index_column": 4882
        },
        {
         "fixed acidity": 4.9,
         "volatile acidity": 0.47,
         "citric acid": 0.17,
         "residual sugar": 1.9,
         "chlorides": 0.035,
         "free sulfur dioxide": 60,
         "total sulfur dioxide": 148,
         "density": 0.98964,
         "pH": 3.27,
         "sulphates": 0.35,
         "alcohol": 11.5,
         "quality": 6,
         "_deepnote_index_column": 4883
        },
        {
         "fixed acidity": 6.5,
         "volatile acidity": 0.33,
         "citric acid": 0.38,
         "residual sugar": 8.3,
         "chlorides": 0.048,
         "free sulfur dioxide": 68,
         "total sulfur dioxide": 174,
         "density": 0.99492,
         "pH": 3.14,
         "sulphates": 0.5,
         "alcohol": 9.6,
         "quality": 5,
         "_deepnote_index_column": 4884
        },
        {
         "fixed acidity": 6.6,
         "volatile acidity": 0.34,
         "citric acid": 0.4,
         "residual sugar": 8.1,
         "chlorides": 0.046,
         "free sulfur dioxide": 68,
         "total sulfur dioxide": 170,
         "density": 0.99494,
         "pH": 3.15,
         "sulphates": 0.5,
         "alcohol": 9.55,
         "quality": 6,
         "_deepnote_index_column": 4885
        },
        {
         "fixed acidity": 6.2,
         "volatile acidity": 0.21,
         "citric acid": 0.28,
         "residual sugar": 5.7,
         "chlorides": 0.028,
         "free sulfur dioxide": 45,
         "total sulfur dioxide": 121,
         "density": 0.99168,
         "pH": 3.21,
         "sulphates": 1.08,
         "alcohol": 12.15,
         "quality": 7,
         "_deepnote_index_column": 4886
        },
        {
         "fixed acidity": 6.2,
         "volatile acidity": 0.41,
         "citric acid": 0.22,
         "residual sugar": 1.9,
         "chlorides": 0.023,
         "free sulfur dioxide": 5,
         "total sulfur dioxide": 56,
         "density": 0.98928,
         "pH": 3.04,
         "sulphates": 0.79,
         "alcohol": 13,
         "quality": 7,
         "_deepnote_index_column": 4887
        },
        {
         "fixed acidity": 6.8,
         "volatile acidity": 0.22,
         "citric acid": 0.36,
         "residual sugar": 1.2,
         "chlorides": 0.052,
         "free sulfur dioxide": 38,
         "total sulfur dioxide": 127,
         "density": 0.9933,
         "pH": 3.04,
         "sulphates": 0.54,
         "alcohol": 9.2,
         "quality": 5,
         "_deepnote_index_column": 4888
        },
        {
         "fixed acidity": 4.9,
         "volatile acidity": 0.235,
         "citric acid": 0.27,
         "residual sugar": 11.75,
         "chlorides": 0.03,
         "free sulfur dioxide": 34,
         "total sulfur dioxide": 118,
         "density": 0.9954,
         "pH": 3.07,
         "sulphates": 0.5,
         "alcohol": 9.4,
         "quality": 6,
         "_deepnote_index_column": 4889
        },
        {
         "fixed acidity": 6.1,
         "volatile acidity": 0.34,
         "citric acid": 0.29,
         "residual sugar": 2.2,
         "chlorides": 0.036,
         "free sulfur dioxide": 25,
         "total sulfur dioxide": 100,
         "density": 0.98938,
         "pH": 3.06,
         "sulphates": 0.44,
         "alcohol": 11.8,
         "quality": 6,
         "_deepnote_index_column": 4890
        },
        {
         "fixed acidity": 5.7,
         "volatile acidity": 0.21,
         "citric acid": 0.32,
         "residual sugar": 0.9,
         "chlorides": 0.038,
         "free sulfur dioxide": 38,
         "total sulfur dioxide": 121,
         "density": 0.99074,
         "pH": 3.24,
         "sulphates": 0.46,
         "alcohol": 10.6,
         "quality": 6,
         "_deepnote_index_column": 4891
        },
        {
         "fixed acidity": 6.5,
         "volatile acidity": 0.23,
         "citric acid": 0.38,
         "residual sugar": 1.3,
         "chlorides": 0.032,
         "free sulfur dioxide": 29,
         "total sulfur dioxide": 112,
         "density": 0.99298,
         "pH": 3.29,
         "sulphates": 0.54,
         "alcohol": 9.7,
         "quality": 5,
         "_deepnote_index_column": 4892
        },
        {
         "fixed acidity": 6.2,
         "volatile acidity": 0.21,
         "citric acid": 0.29,
         "residual sugar": 1.6,
         "chlorides": 0.039,
         "free sulfur dioxide": 24,
         "total sulfur dioxide": 92,
         "density": 0.99114,
         "pH": 3.27,
         "sulphates": 0.5,
         "alcohol": 11.2,
         "quality": 6,
         "_deepnote_index_column": 4893
        },
        {
         "fixed acidity": 6.6,
         "volatile acidity": 0.32,
         "citric acid": 0.36,
         "residual sugar": 8,
         "chlorides": 0.047,
         "free sulfur dioxide": 57,
         "total sulfur dioxide": 168,
         "density": 0.9949,
         "pH": 3.15,
         "sulphates": 0.46,
         "alcohol": 9.6,
         "quality": 5,
         "_deepnote_index_column": 4894
        },
        {
         "fixed acidity": 6.5,
         "volatile acidity": 0.24,
         "citric acid": 0.19,
         "residual sugar": 1.2,
         "chlorides": 0.041,
         "free sulfur dioxide": 30,
         "total sulfur dioxide": 111,
         "density": 0.99254,
         "pH": 2.99,
         "sulphates": 0.46,
         "alcohol": 9.4,
         "quality": 6,
         "_deepnote_index_column": 4895
        },
        {
         "fixed acidity": 5.5,
         "volatile acidity": 0.29,
         "citric acid": 0.3,
         "residual sugar": 1.1,
         "chlorides": 0.022,
         "free sulfur dioxide": 20,
         "total sulfur dioxide": 110,
         "density": 0.98869,
         "pH": 3.34,
         "sulphates": 0.38,
         "alcohol": 12.8,
         "quality": 7,
         "_deepnote_index_column": 4896
        },
        {
         "fixed acidity": 6,
         "volatile acidity": 0.21,
         "citric acid": 0.38,
         "residual sugar": 0.8,
         "chlorides": 0.02,
         "free sulfur dioxide": 22,
         "total sulfur dioxide": 98,
         "density": 0.98941,
         "pH": 3.26,
         "sulphates": 0.32,
         "alcohol": 11.8,
         "quality": 6,
         "_deepnote_index_column": 4897
        }
       ]
      },
      "text/plain": "      fixed acidity  volatile acidity  citric acid  residual sugar  chlorides  \\\n0               7.0              0.27         0.36            20.7      0.045   \n1               6.3              0.30         0.34             1.6      0.049   \n2               8.1              0.28         0.40             6.9      0.050   \n3               7.2              0.23         0.32             8.5      0.058   \n4               7.2              0.23         0.32             8.5      0.058   \n...             ...               ...          ...             ...        ...   \n4893            6.2              0.21         0.29             1.6      0.039   \n4894            6.6              0.32         0.36             8.0      0.047   \n4895            6.5              0.24         0.19             1.2      0.041   \n4896            5.5              0.29         0.30             1.1      0.022   \n4897            6.0              0.21         0.38             0.8      0.020   \n\n      free sulfur dioxide  total sulfur dioxide  density    pH  sulphates  \\\n0                    45.0                 170.0  1.00100  3.00       0.45   \n1                    14.0                 132.0  0.99400  3.30       0.49   \n2                    30.0                  97.0  0.99510  3.26       0.44   \n3                    47.0                 186.0  0.99560  3.19       0.40   \n4                    47.0                 186.0  0.99560  3.19       0.40   \n...                   ...                   ...      ...   ...        ...   \n4893                 24.0                  92.0  0.99114  3.27       0.50   \n4894                 57.0                 168.0  0.99490  3.15       0.46   \n4895                 30.0                 111.0  0.99254  2.99       0.46   \n4896                 20.0                 110.0  0.98869  3.34       0.38   \n4897                 22.0                  98.0  0.98941  3.26       0.32   \n\n      alcohol  quality  \n0         8.8        6  \n1         9.5        6  \n2        10.1        6  \n3         9.9        6  \n4         9.9        6  \n...       ...      ...  \n4893     11.2        6  \n4894      9.6        5  \n4895      9.4        6  \n4896     12.8        7  \n4897     11.8        6  \n\n[4898 rows x 12 columns]",
      "text/html": "<div>\n<style scoped>\n    .dataframe tbody tr th:only-of-type {\n        vertical-align: middle;\n    }\n\n    .dataframe tbody tr th {\n        vertical-align: top;\n    }\n\n    .dataframe thead th {\n        text-align: right;\n    }\n</style>\n<table border=\"1\" class=\"dataframe\">\n  <thead>\n    <tr style=\"text-align: right;\">\n      <th></th>\n      <th>fixed acidity</th>\n      <th>volatile acidity</th>\n      <th>citric acid</th>\n      <th>residual sugar</th>\n      <th>chlorides</th>\n      <th>free sulfur dioxide</th>\n      <th>total sulfur dioxide</th>\n      <th>density</th>\n      <th>pH</th>\n      <th>sulphates</th>\n      <th>alcohol</th>\n      <th>quality</th>\n    </tr>\n  </thead>\n  <tbody>\n    <tr>\n      <th>0</th>\n      <td>7.0</td>\n      <td>0.27</td>\n      <td>0.36</td>\n      <td>20.7</td>\n      <td>0.045</td>\n      <td>45.0</td>\n      <td>170.0</td>\n      <td>1.00100</td>\n      <td>3.00</td>\n      <td>0.45</td>\n      <td>8.8</td>\n      <td>6</td>\n    </tr>\n    <tr>\n      <th>1</th>\n      <td>6.3</td>\n      <td>0.30</td>\n      <td>0.34</td>\n      <td>1.6</td>\n      <td>0.049</td>\n      <td>14.0</td>\n      <td>132.0</td>\n      <td>0.99400</td>\n      <td>3.30</td>\n      <td>0.49</td>\n      <td>9.5</td>\n      <td>6</td>\n    </tr>\n    <tr>\n      <th>2</th>\n      <td>8.1</td>\n      <td>0.28</td>\n      <td>0.40</td>\n      <td>6.9</td>\n      <td>0.050</td>\n      <td>30.0</td>\n      <td>97.0</td>\n      <td>0.99510</td>\n      <td>3.26</td>\n      <td>0.44</td>\n      <td>10.1</td>\n      <td>6</td>\n    </tr>\n    <tr>\n      <th>3</th>\n      <td>7.2</td>\n      <td>0.23</td>\n      <td>0.32</td>\n      <td>8.5</td>\n      <td>0.058</td>\n      <td>47.0</td>\n      <td>186.0</td>\n      <td>0.99560</td>\n      <td>3.19</td>\n      <td>0.40</td>\n      <td>9.9</td>\n      <td>6</td>\n    </tr>\n    <tr>\n      <th>4</th>\n      <td>7.2</td>\n      <td>0.23</td>\n      <td>0.32</td>\n      <td>8.5</td>\n      <td>0.058</td>\n      <td>47.0</td>\n      <td>186.0</td>\n      <td>0.99560</td>\n      <td>3.19</td>\n      <td>0.40</td>\n      <td>9.9</td>\n      <td>6</td>\n    </tr>\n    <tr>\n      <th>...</th>\n      <td>...</td>\n      <td>...</td>\n      <td>...</td>\n      <td>...</td>\n      <td>...</td>\n      <td>...</td>\n      <td>...</td>\n      <td>...</td>\n      <td>...</td>\n      <td>...</td>\n      <td>...</td>\n      <td>...</td>\n    </tr>\n    <tr>\n      <th>4893</th>\n      <td>6.2</td>\n      <td>0.21</td>\n      <td>0.29</td>\n      <td>1.6</td>\n      <td>0.039</td>\n      <td>24.0</td>\n      <td>92.0</td>\n      <td>0.99114</td>\n      <td>3.27</td>\n      <td>0.50</td>\n      <td>11.2</td>\n      <td>6</td>\n    </tr>\n    <tr>\n      <th>4894</th>\n      <td>6.6</td>\n      <td>0.32</td>\n      <td>0.36</td>\n      <td>8.0</td>\n      <td>0.047</td>\n      <td>57.0</td>\n      <td>168.0</td>\n      <td>0.99490</td>\n      <td>3.15</td>\n      <td>0.46</td>\n      <td>9.6</td>\n      <td>5</td>\n    </tr>\n    <tr>\n      <th>4895</th>\n      <td>6.5</td>\n      <td>0.24</td>\n      <td>0.19</td>\n      <td>1.2</td>\n      <td>0.041</td>\n      <td>30.0</td>\n      <td>111.0</td>\n      <td>0.99254</td>\n      <td>2.99</td>\n      <td>0.46</td>\n      <td>9.4</td>\n      <td>6</td>\n    </tr>\n    <tr>\n      <th>4896</th>\n      <td>5.5</td>\n      <td>0.29</td>\n      <td>0.30</td>\n      <td>1.1</td>\n      <td>0.022</td>\n      <td>20.0</td>\n      <td>110.0</td>\n      <td>0.98869</td>\n      <td>3.34</td>\n      <td>0.38</td>\n      <td>12.8</td>\n      <td>7</td>\n    </tr>\n    <tr>\n      <th>4897</th>\n      <td>6.0</td>\n      <td>0.21</td>\n      <td>0.38</td>\n      <td>0.8</td>\n      <td>0.020</td>\n      <td>22.0</td>\n      <td>98.0</td>\n      <td>0.98941</td>\n      <td>3.26</td>\n      <td>0.32</td>\n      <td>11.8</td>\n      <td>6</td>\n    </tr>\n  </tbody>\n</table>\n<p>4898 rows × 12 columns</p>\n</div>"
     },
     "metadata": {}
    }
   ],
   "execution_count": 1
  },
  {
   "cell_type": "markdown",
   "source": "## Union de datasets",
   "metadata": {
    "tags": [],
    "cell_id": "00002-f9f15cae-a847-46a6-a926-0d749a3b4aeb",
    "deepnote_cell_type": "markdown"
   }
  },
  {
   "cell_type": "code",
   "source": "red['color'] = 'red'\nwhite['color'] = 'white'\nred.append(white)",
   "metadata": {
    "tags": [],
    "cell_id": "00003-1daba465-18a5-44b0-87d6-ec5c7e07e0b7",
    "deepnote_to_be_reexecuted": false,
    "source_hash": "2f425feb",
    "execution_start": 1635525674312,
    "execution_millis": 188,
    "deepnote_cell_type": "code"
   },
   "outputs": [
    {
     "output_type": "execute_result",
     "execution_count": 2,
     "data": {
      "application/vnd.deepnote.dataframe.v2+json": {
       "row_count": 6497,
       "column_count": 13,
       "columns": [
        {
         "name": "fixed acidity",
         "dtype": "float64",
         "stats": {
          "unique_count": 106,
          "nan_count": 0,
          "min": "3.8",
          "max": "15.9",
          "histogram": [
           {
            "bin_start": 3.8,
            "bin_end": 5.01,
            "count": 63
           },
           {
            "bin_start": 5.01,
            "bin_end": 6.220000000000001,
            "count": 1151
           },
           {
            "bin_start": 6.220000000000001,
            "bin_end": 7.430000000000001,
            "count": 3248
           },
           {
            "bin_start": 7.430000000000001,
            "bin_end": 8.64,
            "count": 1339
           },
           {
            "bin_start": 8.64,
            "bin_end": 9.850000000000001,
            "count": 382
           },
           {
            "bin_start": 9.850000000000001,
            "bin_end": 11.060000000000002,
            "count": 177
           },
           {
            "bin_start": 11.060000000000002,
            "bin_end": 12.27,
            "count": 82
           },
           {
            "bin_start": 12.27,
            "bin_end": 13.48,
            "count": 41
           },
           {
            "bin_start": 13.48,
            "bin_end": 14.690000000000001,
            "count": 7
           },
           {
            "bin_start": 14.690000000000001,
            "bin_end": 15.9,
            "count": 7
           }
          ]
         }
        },
        {
         "name": "volatile acidity",
         "dtype": "float64",
         "stats": {
          "unique_count": 187,
          "nan_count": 0,
          "min": "0.08",
          "max": "1.58",
          "histogram": [
           {
            "bin_start": 0.08,
            "bin_end": 0.22999999999999998,
            "count": 1580
           },
           {
            "bin_start": 0.22999999999999998,
            "bin_end": 0.38,
            "count": 3002
           },
           {
            "bin_start": 0.38,
            "bin_end": 0.5299999999999999,
            "count": 996
           },
           {
            "bin_start": 0.5299999999999999,
            "bin_end": 0.6799999999999999,
            "count": 606
           },
           {
            "bin_start": 0.6799999999999999,
            "bin_end": 0.83,
            "count": 214
           },
           {
            "bin_start": 0.83,
            "bin_end": 0.9799999999999999,
            "count": 70
           },
           {
            "bin_start": 0.9799999999999999,
            "bin_end": 1.1300000000000001,
            "count": 23
           },
           {
            "bin_start": 1.1300000000000001,
            "bin_end": 1.28,
            "count": 3
           },
           {
            "bin_start": 1.28,
            "bin_end": 1.43,
            "count": 2
           },
           {
            "bin_start": 1.43,
            "bin_end": 1.58,
            "count": 1
           }
          ]
         }
        },
        {
         "name": "citric acid",
         "dtype": "float64",
         "stats": {
          "unique_count": 89,
          "nan_count": 0,
          "min": "0.0",
          "max": "1.66",
          "histogram": [
           {
            "bin_start": 0,
            "bin_end": 0.16599999999999998,
            "count": 766
           },
           {
            "bin_start": 0.16599999999999998,
            "bin_end": 0.33199999999999996,
            "count": 3113
           },
           {
            "bin_start": 0.33199999999999996,
            "bin_end": 0.49799999999999994,
            "count": 2059
           },
           {
            "bin_start": 0.49799999999999994,
            "bin_end": 0.6639999999999999,
            "count": 420
           },
           {
            "bin_start": 0.6639999999999999,
            "bin_end": 0.8299999999999998,
            "count": 126
           },
           {
            "bin_start": 0.8299999999999998,
            "bin_end": 0.9959999999999999,
            "count": 5
           },
           {
            "bin_start": 0.9959999999999999,
            "bin_end": 1.162,
            "count": 6
           },
           {
            "bin_start": 1.162,
            "bin_end": 1.3279999999999998,
            "count": 1
           },
           {
            "bin_start": 1.3279999999999998,
            "bin_end": 1.4939999999999998,
            "count": 0
           },
           {
            "bin_start": 1.4939999999999998,
            "bin_end": 1.66,
            "count": 1
           }
          ]
         }
        },
        {
         "name": "residual sugar",
         "dtype": "float64",
         "stats": {
          "unique_count": 316,
          "nan_count": 0,
          "min": "0.6",
          "max": "65.8",
          "histogram": [
           {
            "bin_start": 0.6,
            "bin_end": 7.12,
            "count": 4551
           },
           {
            "bin_start": 7.12,
            "bin_end": 13.64,
            "count": 1396
           },
           {
            "bin_start": 13.64,
            "bin_end": 20.160000000000004,
            "count": 533
           },
           {
            "bin_start": 20.160000000000004,
            "bin_end": 26.680000000000003,
            "count": 14
           },
           {
            "bin_start": 26.680000000000003,
            "bin_end": 33.2,
            "count": 2
           },
           {
            "bin_start": 33.2,
            "bin_end": 39.720000000000006,
            "count": 0
           },
           {
            "bin_start": 39.720000000000006,
            "bin_end": 46.24,
            "count": 0
           },
           {
            "bin_start": 46.24,
            "bin_end": 52.760000000000005,
            "count": 0
           },
           {
            "bin_start": 52.760000000000005,
            "bin_end": 59.28000000000001,
            "count": 0
           },
           {
            "bin_start": 59.28000000000001,
            "bin_end": 65.8,
            "count": 1
           }
          ]
         }
        },
        {
         "name": "chlorides",
         "dtype": "float64",
         "stats": {
          "unique_count": 214,
          "nan_count": 0,
          "min": "0.009",
          "max": "0.611",
          "histogram": [
           {
            "bin_start": 0.009,
            "bin_end": 0.0692,
            "count": 5061
           },
           {
            "bin_start": 0.0692,
            "bin_end": 0.1294,
            "count": 1279
           },
           {
            "bin_start": 0.1294,
            "bin_end": 0.1896,
            "count": 92
           },
           {
            "bin_start": 0.1896,
            "bin_end": 0.2498,
            "count": 34
           },
           {
            "bin_start": 0.2498,
            "bin_end": 0.31,
            "count": 8
           },
           {
            "bin_start": 0.31,
            "bin_end": 0.3702,
            "count": 9
           },
           {
            "bin_start": 0.3702,
            "bin_end": 0.4304,
            "count": 10
           },
           {
            "bin_start": 0.4304,
            "bin_end": 0.4906,
            "count": 2
           },
           {
            "bin_start": 0.4906,
            "bin_end": 0.5508,
            "count": 0
           },
           {
            "bin_start": 0.5508,
            "bin_end": 0.611,
            "count": 2
           }
          ]
         }
        },
        {
         "name": "free sulfur dioxide",
         "dtype": "float64",
         "stats": {
          "unique_count": 135,
          "nan_count": 0,
          "min": "1.0",
          "max": "289.0",
          "histogram": [
           {
            "bin_start": 1,
            "bin_end": 29.8,
            "count": 3392
           },
           {
            "bin_start": 29.8,
            "bin_end": 58.6,
            "count": 2676
           },
           {
            "bin_start": 58.6,
            "bin_end": 87.4,
            "count": 401
           },
           {
            "bin_start": 87.4,
            "bin_end": 116.2,
            "count": 20
           },
           {
            "bin_start": 116.2,
            "bin_end": 145,
            "count": 6
           },
           {
            "bin_start": 145,
            "bin_end": 173.8,
            "count": 1
           },
           {
            "bin_start": 173.8,
            "bin_end": 202.6,
            "count": 0
           },
           {
            "bin_start": 202.6,
            "bin_end": 231.4,
            "count": 0
           },
           {
            "bin_start": 231.4,
            "bin_end": 260.2,
            "count": 0
           },
           {
            "bin_start": 260.2,
            "bin_end": 289,
            "count": 1
           }
          ]
         }
        },
        {
         "name": "total sulfur dioxide",
         "dtype": "float64",
         "stats": {
          "unique_count": 276,
          "nan_count": 0,
          "min": "6.0",
          "max": "440.0",
          "histogram": [
           {
            "bin_start": 6,
            "bin_end": 49.4,
            "count": 1088
           },
           {
            "bin_start": 49.4,
            "bin_end": 92.8,
            "count": 979
           },
           {
            "bin_start": 92.8,
            "bin_end": 136.2,
            "count": 2049
           },
           {
            "bin_start": 136.2,
            "bin_end": 179.6,
            "count": 1514
           },
           {
            "bin_start": 179.6,
            "bin_end": 223,
            "count": 721
           },
           {
            "bin_start": 223,
            "bin_end": 266.4,
            "count": 134
           },
           {
            "bin_start": 266.4,
            "bin_end": 309.8,
            "count": 8
           },
           {
            "bin_start": 309.8,
            "bin_end": 353.2,
            "count": 2
           },
           {
            "bin_start": 353.2,
            "bin_end": 396.59999999999997,
            "count": 1
           },
           {
            "bin_start": 396.59999999999997,
            "bin_end": 440,
            "count": 1
           }
          ]
         }
        },
        {
         "name": "density",
         "dtype": "float64",
         "stats": {
          "unique_count": 998,
          "nan_count": 0,
          "min": "0.98711",
          "max": "1.03898",
          "histogram": [
           {
            "bin_start": 0.98711,
            "bin_end": 0.992297,
            "count": 1599
           },
           {
            "bin_start": 0.992297,
            "bin_end": 0.997484,
            "count": 3645
           },
           {
            "bin_start": 0.997484,
            "bin_end": 1.002671,
            "count": 1241
           },
           {
            "bin_start": 1.002671,
            "bin_end": 1.0078580000000001,
            "count": 9
           },
           {
            "bin_start": 1.0078580000000001,
            "bin_end": 1.013045,
            "count": 2
           },
           {
            "bin_start": 1.013045,
            "bin_end": 1.018232,
            "count": 0
           },
           {
            "bin_start": 1.018232,
            "bin_end": 1.023419,
            "count": 0
           },
           {
            "bin_start": 1.023419,
            "bin_end": 1.028606,
            "count": 0
           },
           {
            "bin_start": 1.028606,
            "bin_end": 1.033793,
            "count": 0
           },
           {
            "bin_start": 1.033793,
            "bin_end": 1.03898,
            "count": 1
           }
          ]
         }
        },
        {
         "name": "pH",
         "dtype": "float64",
         "stats": {
          "unique_count": 108,
          "nan_count": 0,
          "min": "2.72",
          "max": "4.01",
          "histogram": [
           {
            "bin_start": 2.72,
            "bin_end": 2.849,
            "count": 16
           },
           {
            "bin_start": 2.849,
            "bin_end": 2.978,
            "count": 334
           },
           {
            "bin_start": 2.978,
            "bin_end": 3.107,
            "count": 1233
           },
           {
            "bin_start": 3.107,
            "bin_end": 3.2359999999999998,
            "count": 2111
           },
           {
            "bin_start": 3.2359999999999998,
            "bin_end": 3.365,
            "count": 1663
           },
           {
            "bin_start": 3.365,
            "bin_end": 3.4939999999999998,
            "count": 802
           },
           {
            "bin_start": 3.4939999999999998,
            "bin_end": 3.6229999999999998,
            "count": 263
           },
           {
            "bin_start": 3.6229999999999998,
            "bin_end": 3.752,
            "count": 59
           },
           {
            "bin_start": 3.752,
            "bin_end": 3.881,
            "count": 12
           },
           {
            "bin_start": 3.881,
            "bin_end": 4.01,
            "count": 4
           }
          ]
         }
        },
        {
         "name": "sulphates",
         "dtype": "float64",
         "stats": {
          "unique_count": 111,
          "nan_count": 0,
          "min": "0.22",
          "max": "2.0",
          "histogram": [
           {
            "bin_start": 0.22,
            "bin_end": 0.398,
            "count": 1023
           },
           {
            "bin_start": 0.398,
            "bin_end": 0.576,
            "count": 3451
           },
           {
            "bin_start": 0.576,
            "bin_end": 0.754,
            "count": 1540
           },
           {
            "bin_start": 0.754,
            "bin_end": 0.9319999999999999,
            "count": 382
           },
           {
            "bin_start": 0.9319999999999999,
            "bin_end": 1.1099999999999999,
            "count": 66
           },
           {
            "bin_start": 1.1099999999999999,
            "bin_end": 1.288,
            "count": 21
           },
           {
            "bin_start": 1.288,
            "bin_end": 1.466,
            "count": 6
           },
           {
            "bin_start": 1.466,
            "bin_end": 1.644,
            "count": 4
           },
           {
            "bin_start": 1.644,
            "bin_end": 1.8219999999999998,
            "count": 0
           },
           {
            "bin_start": 1.8219999999999998,
            "bin_end": 2,
            "count": 4
           }
          ]
         }
        },
        {
         "name": "alcohol",
         "dtype": "float64",
         "stats": {
          "unique_count": 111,
          "nan_count": 0,
          "min": "8.0",
          "max": "14.9",
          "histogram": [
           {
            "bin_start": 8,
            "bin_end": 8.69,
            "count": 40
           },
           {
            "bin_start": 8.69,
            "bin_end": 9.38,
            "count": 1133
           },
           {
            "bin_start": 9.38,
            "bin_end": 10.07,
            "count": 1662
           },
           {
            "bin_start": 10.07,
            "bin_end": 10.76,
            "count": 1156
           },
           {
            "bin_start": 10.76,
            "bin_end": 11.45,
            "count": 1092
           },
           {
            "bin_start": 11.45,
            "bin_end": 12.14,
            "count": 628
           },
           {
            "bin_start": 12.14,
            "bin_end": 12.83,
            "count": 569
           },
           {
            "bin_start": 12.83,
            "bin_end": 13.52,
            "count": 175
           },
           {
            "bin_start": 13.52,
            "bin_end": 14.21,
            "count": 41
           },
           {
            "bin_start": 14.21,
            "bin_end": 14.9,
            "count": 1
           }
          ]
         }
        },
        {
         "name": "quality",
         "dtype": "int64",
         "stats": {
          "unique_count": 7,
          "nan_count": 0,
          "min": "3",
          "max": "9",
          "histogram": [
           {
            "bin_start": 3,
            "bin_end": 3.6,
            "count": 30
           },
           {
            "bin_start": 3.6,
            "bin_end": 4.2,
            "count": 216
           },
           {
            "bin_start": 4.2,
            "bin_end": 4.8,
            "count": 0
           },
           {
            "bin_start": 4.8,
            "bin_end": 5.4,
            "count": 2138
           },
           {
            "bin_start": 5.4,
            "bin_end": 6,
            "count": 0
           },
           {
            "bin_start": 6,
            "bin_end": 6.6,
            "count": 2836
           },
           {
            "bin_start": 6.6,
            "bin_end": 7.2,
            "count": 1079
           },
           {
            "bin_start": 7.2,
            "bin_end": 7.8,
            "count": 0
           },
           {
            "bin_start": 7.8,
            "bin_end": 8.399999999999999,
            "count": 193
           },
           {
            "bin_start": 8.399999999999999,
            "bin_end": 9,
            "count": 5
           }
          ]
         }
        },
        {
         "name": "color",
         "dtype": "object",
         "stats": {
          "unique_count": 2,
          "nan_count": 0,
          "categories": [
           {
            "name": "white",
            "count": 4898
           },
           {
            "name": "red",
            "count": 1599
           }
          ]
         }
        },
        {
         "name": "_deepnote_index_column",
         "dtype": "int64"
        }
       ],
       "rows_top": [
        {
         "fixed acidity": 7.4,
         "volatile acidity": 0.7,
         "citric acid": 0,
         "residual sugar": 1.9,
         "chlorides": 0.076,
         "free sulfur dioxide": 11,
         "total sulfur dioxide": 34,
         "density": 0.9978,
         "pH": 3.51,
         "sulphates": 0.56,
         "alcohol": 9.4,
         "quality": 5,
         "color": "red",
         "_deepnote_index_column": 0
        },
        {
         "fixed acidity": 7.8,
         "volatile acidity": 0.88,
         "citric acid": 0,
         "residual sugar": 2.6,
         "chlorides": 0.098,
         "free sulfur dioxide": 25,
         "total sulfur dioxide": 67,
         "density": 0.9968,
         "pH": 3.2,
         "sulphates": 0.68,
         "alcohol": 9.8,
         "quality": 5,
         "color": "red",
         "_deepnote_index_column": 1
        },
        {
         "fixed acidity": 7.8,
         "volatile acidity": 0.76,
         "citric acid": 0.04,
         "residual sugar": 2.3,
         "chlorides": 0.092,
         "free sulfur dioxide": 15,
         "total sulfur dioxide": 54,
         "density": 0.997,
         "pH": 3.26,
         "sulphates": 0.65,
         "alcohol": 9.8,
         "quality": 5,
         "color": "red",
         "_deepnote_index_column": 2
        },
        {
         "fixed acidity": 11.2,
         "volatile acidity": 0.28,
         "citric acid": 0.56,
         "residual sugar": 1.9,
         "chlorides": 0.075,
         "free sulfur dioxide": 17,
         "total sulfur dioxide": 60,
         "density": 0.998,
         "pH": 3.16,
         "sulphates": 0.58,
         "alcohol": 9.8,
         "quality": 6,
         "color": "red",
         "_deepnote_index_column": 3
        },
        {
         "fixed acidity": 7.4,
         "volatile acidity": 0.7,
         "citric acid": 0,
         "residual sugar": 1.9,
         "chlorides": 0.076,
         "free sulfur dioxide": 11,
         "total sulfur dioxide": 34,
         "density": 0.9978,
         "pH": 3.51,
         "sulphates": 0.56,
         "alcohol": 9.4,
         "quality": 5,
         "color": "red",
         "_deepnote_index_column": 4
        },
        {
         "fixed acidity": 7.4,
         "volatile acidity": 0.66,
         "citric acid": 0,
         "residual sugar": 1.8,
         "chlorides": 0.075,
         "free sulfur dioxide": 13,
         "total sulfur dioxide": 40,
         "density": 0.9978,
         "pH": 3.51,
         "sulphates": 0.56,
         "alcohol": 9.4,
         "quality": 5,
         "color": "red",
         "_deepnote_index_column": 5
        },
        {
         "fixed acidity": 7.9,
         "volatile acidity": 0.6,
         "citric acid": 0.06,
         "residual sugar": 1.6,
         "chlorides": 0.069,
         "free sulfur dioxide": 15,
         "total sulfur dioxide": 59,
         "density": 0.9964,
         "pH": 3.3,
         "sulphates": 0.46,
         "alcohol": 9.4,
         "quality": 5,
         "color": "red",
         "_deepnote_index_column": 6
        },
        {
         "fixed acidity": 7.3,
         "volatile acidity": 0.65,
         "citric acid": 0,
         "residual sugar": 1.2,
         "chlorides": 0.065,
         "free sulfur dioxide": 15,
         "total sulfur dioxide": 21,
         "density": 0.9946,
         "pH": 3.39,
         "sulphates": 0.47,
         "alcohol": 10,
         "quality": 7,
         "color": "red",
         "_deepnote_index_column": 7
        },
        {
         "fixed acidity": 7.8,
         "volatile acidity": 0.58,
         "citric acid": 0.02,
         "residual sugar": 2,
         "chlorides": 0.073,
         "free sulfur dioxide": 9,
         "total sulfur dioxide": 18,
         "density": 0.9968,
         "pH": 3.36,
         "sulphates": 0.57,
         "alcohol": 9.5,
         "quality": 7,
         "color": "red",
         "_deepnote_index_column": 8
        },
        {
         "fixed acidity": 7.5,
         "volatile acidity": 0.5,
         "citric acid": 0.36,
         "residual sugar": 6.1,
         "chlorides": 0.071,
         "free sulfur dioxide": 17,
         "total sulfur dioxide": 102,
         "density": 0.9978,
         "pH": 3.35,
         "sulphates": 0.8,
         "alcohol": 10.5,
         "quality": 5,
         "color": "red",
         "_deepnote_index_column": 9
        },
        {
         "fixed acidity": 6.7,
         "volatile acidity": 0.58,
         "citric acid": 0.08,
         "residual sugar": 1.8,
         "chlorides": 0.097,
         "free sulfur dioxide": 15,
         "total sulfur dioxide": 65,
         "density": 0.9959,
         "pH": 3.28,
         "sulphates": 0.54,
         "alcohol": 9.2,
         "quality": 5,
         "color": "red",
         "_deepnote_index_column": 10
        },
        {
         "fixed acidity": 7.5,
         "volatile acidity": 0.5,
         "citric acid": 0.36,
         "residual sugar": 6.1,
         "chlorides": 0.071,
         "free sulfur dioxide": 17,
         "total sulfur dioxide": 102,
         "density": 0.9978,
         "pH": 3.35,
         "sulphates": 0.8,
         "alcohol": 10.5,
         "quality": 5,
         "color": "red",
         "_deepnote_index_column": 11
        },
        {
         "fixed acidity": 5.6,
         "volatile acidity": 0.615,
         "citric acid": 0,
         "residual sugar": 1.6,
         "chlorides": 0.089,
         "free sulfur dioxide": 16,
         "total sulfur dioxide": 59,
         "density": 0.9943,
         "pH": 3.58,
         "sulphates": 0.52,
         "alcohol": 9.9,
         "quality": 5,
         "color": "red",
         "_deepnote_index_column": 12
        },
        {
         "fixed acidity": 7.8,
         "volatile acidity": 0.61,
         "citric acid": 0.29,
         "residual sugar": 1.6,
         "chlorides": 0.114,
         "free sulfur dioxide": 9,
         "total sulfur dioxide": 29,
         "density": 0.9974,
         "pH": 3.26,
         "sulphates": 1.56,
         "alcohol": 9.1,
         "quality": 5,
         "color": "red",
         "_deepnote_index_column": 13
        },
        {
         "fixed acidity": 8.9,
         "volatile acidity": 0.62,
         "citric acid": 0.18,
         "residual sugar": 3.8,
         "chlorides": 0.176,
         "free sulfur dioxide": 52,
         "total sulfur dioxide": 145,
         "density": 0.9986,
         "pH": 3.16,
         "sulphates": 0.88,
         "alcohol": 9.2,
         "quality": 5,
         "color": "red",
         "_deepnote_index_column": 14
        },
        {
         "fixed acidity": 8.9,
         "volatile acidity": 0.62,
         "citric acid": 0.19,
         "residual sugar": 3.9,
         "chlorides": 0.17,
         "free sulfur dioxide": 51,
         "total sulfur dioxide": 148,
         "density": 0.9986,
         "pH": 3.17,
         "sulphates": 0.93,
         "alcohol": 9.2,
         "quality": 5,
         "color": "red",
         "_deepnote_index_column": 15
        },
        {
         "fixed acidity": 8.5,
         "volatile acidity": 0.28,
         "citric acid": 0.56,
         "residual sugar": 1.8,
         "chlorides": 0.092,
         "free sulfur dioxide": 35,
         "total sulfur dioxide": 103,
         "density": 0.9969,
         "pH": 3.3,
         "sulphates": 0.75,
         "alcohol": 10.5,
         "quality": 7,
         "color": "red",
         "_deepnote_index_column": 16
        },
        {
         "fixed acidity": 8.1,
         "volatile acidity": 0.56,
         "citric acid": 0.28,
         "residual sugar": 1.7,
         "chlorides": 0.368,
         "free sulfur dioxide": 16,
         "total sulfur dioxide": 56,
         "density": 0.9968,
         "pH": 3.11,
         "sulphates": 1.28,
         "alcohol": 9.3,
         "quality": 5,
         "color": "red",
         "_deepnote_index_column": 17
        },
        {
         "fixed acidity": 7.4,
         "volatile acidity": 0.59,
         "citric acid": 0.08,
         "residual sugar": 4.4,
         "chlorides": 0.086,
         "free sulfur dioxide": 6,
         "total sulfur dioxide": 29,
         "density": 0.9974,
         "pH": 3.38,
         "sulphates": 0.5,
         "alcohol": 9,
         "quality": 4,
         "color": "red",
         "_deepnote_index_column": 18
        },
        {
         "fixed acidity": 7.9,
         "volatile acidity": 0.32,
         "citric acid": 0.51,
         "residual sugar": 1.8,
         "chlorides": 0.341,
         "free sulfur dioxide": 17,
         "total sulfur dioxide": 56,
         "density": 0.9969,
         "pH": 3.04,
         "sulphates": 1.08,
         "alcohol": 9.2,
         "quality": 6,
         "color": "red",
         "_deepnote_index_column": 19
        },
        {
         "fixed acidity": 8.9,
         "volatile acidity": 0.22,
         "citric acid": 0.48,
         "residual sugar": 1.8,
         "chlorides": 0.077,
         "free sulfur dioxide": 29,
         "total sulfur dioxide": 60,
         "density": 0.9968,
         "pH": 3.39,
         "sulphates": 0.53,
         "alcohol": 9.4,
         "quality": 6,
         "color": "red",
         "_deepnote_index_column": 20
        },
        {
         "fixed acidity": 7.6,
         "volatile acidity": 0.39,
         "citric acid": 0.31,
         "residual sugar": 2.3,
         "chlorides": 0.082,
         "free sulfur dioxide": 23,
         "total sulfur dioxide": 71,
         "density": 0.9982,
         "pH": 3.52,
         "sulphates": 0.65,
         "alcohol": 9.7,
         "quality": 5,
         "color": "red",
         "_deepnote_index_column": 21
        },
        {
         "fixed acidity": 7.9,
         "volatile acidity": 0.43,
         "citric acid": 0.21,
         "residual sugar": 1.6,
         "chlorides": 0.106,
         "free sulfur dioxide": 10,
         "total sulfur dioxide": 37,
         "density": 0.9966,
         "pH": 3.17,
         "sulphates": 0.91,
         "alcohol": 9.5,
         "quality": 5,
         "color": "red",
         "_deepnote_index_column": 22
        },
        {
         "fixed acidity": 8.5,
         "volatile acidity": 0.49,
         "citric acid": 0.11,
         "residual sugar": 2.3,
         "chlorides": 0.084,
         "free sulfur dioxide": 9,
         "total sulfur dioxide": 67,
         "density": 0.9968,
         "pH": 3.17,
         "sulphates": 0.53,
         "alcohol": 9.4,
         "quality": 5,
         "color": "red",
         "_deepnote_index_column": 23
        },
        {
         "fixed acidity": 6.9,
         "volatile acidity": 0.4,
         "citric acid": 0.14,
         "residual sugar": 2.4,
         "chlorides": 0.085,
         "free sulfur dioxide": 21,
         "total sulfur dioxide": 40,
         "density": 0.9968,
         "pH": 3.43,
         "sulphates": 0.63,
         "alcohol": 9.7,
         "quality": 6,
         "color": "red",
         "_deepnote_index_column": 24
        },
        {
         "fixed acidity": 6.3,
         "volatile acidity": 0.39,
         "citric acid": 0.16,
         "residual sugar": 1.4,
         "chlorides": 0.08,
         "free sulfur dioxide": 11,
         "total sulfur dioxide": 23,
         "density": 0.9955,
         "pH": 3.34,
         "sulphates": 0.56,
         "alcohol": 9.3,
         "quality": 5,
         "color": "red",
         "_deepnote_index_column": 25
        },
        {
         "fixed acidity": 7.6,
         "volatile acidity": 0.41,
         "citric acid": 0.24,
         "residual sugar": 1.8,
         "chlorides": 0.08,
         "free sulfur dioxide": 4,
         "total sulfur dioxide": 11,
         "density": 0.9962,
         "pH": 3.28,
         "sulphates": 0.59,
         "alcohol": 9.5,
         "quality": 5,
         "color": "red",
         "_deepnote_index_column": 26
        },
        {
         "fixed acidity": 7.9,
         "volatile acidity": 0.43,
         "citric acid": 0.21,
         "residual sugar": 1.6,
         "chlorides": 0.106,
         "free sulfur dioxide": 10,
         "total sulfur dioxide": 37,
         "density": 0.9966,
         "pH": 3.17,
         "sulphates": 0.91,
         "alcohol": 9.5,
         "quality": 5,
         "color": "red",
         "_deepnote_index_column": 27
        },
        {
         "fixed acidity": 7.1,
         "volatile acidity": 0.71,
         "citric acid": 0,
         "residual sugar": 1.9,
         "chlorides": 0.08,
         "free sulfur dioxide": 14,
         "total sulfur dioxide": 35,
         "density": 0.9972,
         "pH": 3.47,
         "sulphates": 0.55,
         "alcohol": 9.4,
         "quality": 5,
         "color": "red",
         "_deepnote_index_column": 28
        },
        {
         "fixed acidity": 7.8,
         "volatile acidity": 0.645,
         "citric acid": 0,
         "residual sugar": 2,
         "chlorides": 0.082,
         "free sulfur dioxide": 8,
         "total sulfur dioxide": 16,
         "density": 0.9964,
         "pH": 3.38,
         "sulphates": 0.59,
         "alcohol": 9.8,
         "quality": 6,
         "color": "red",
         "_deepnote_index_column": 29
        },
        {
         "fixed acidity": 6.7,
         "volatile acidity": 0.675,
         "citric acid": 0.07,
         "residual sugar": 2.4,
         "chlorides": 0.089,
         "free sulfur dioxide": 17,
         "total sulfur dioxide": 82,
         "density": 0.9958,
         "pH": 3.35,
         "sulphates": 0.54,
         "alcohol": 10.1,
         "quality": 5,
         "color": "red",
         "_deepnote_index_column": 30
        },
        {
         "fixed acidity": 6.9,
         "volatile acidity": 0.685,
         "citric acid": 0,
         "residual sugar": 2.5,
         "chlorides": 0.105,
         "free sulfur dioxide": 22,
         "total sulfur dioxide": 37,
         "density": 0.9966,
         "pH": 3.46,
         "sulphates": 0.57,
         "alcohol": 10.6,
         "quality": 6,
         "color": "red",
         "_deepnote_index_column": 31
        },
        {
         "fixed acidity": 8.3,
         "volatile acidity": 0.655,
         "citric acid": 0.12,
         "residual sugar": 2.3,
         "chlorides": 0.083,
         "free sulfur dioxide": 15,
         "total sulfur dioxide": 113,
         "density": 0.9966,
         "pH": 3.17,
         "sulphates": 0.66,
         "alcohol": 9.8,
         "quality": 5,
         "color": "red",
         "_deepnote_index_column": 32
        },
        {
         "fixed acidity": 6.9,
         "volatile acidity": 0.605,
         "citric acid": 0.12,
         "residual sugar": 10.7,
         "chlorides": 0.073,
         "free sulfur dioxide": 40,
         "total sulfur dioxide": 83,
         "density": 0.9993,
         "pH": 3.45,
         "sulphates": 0.52,
         "alcohol": 9.4,
         "quality": 6,
         "color": "red",
         "_deepnote_index_column": 33
        },
        {
         "fixed acidity": 5.2,
         "volatile acidity": 0.32,
         "citric acid": 0.25,
         "residual sugar": 1.8,
         "chlorides": 0.103,
         "free sulfur dioxide": 13,
         "total sulfur dioxide": 50,
         "density": 0.9957,
         "pH": 3.38,
         "sulphates": 0.55,
         "alcohol": 9.2,
         "quality": 5,
         "color": "red",
         "_deepnote_index_column": 34
        },
        {
         "fixed acidity": 7.8,
         "volatile acidity": 0.645,
         "citric acid": 0,
         "residual sugar": 5.5,
         "chlorides": 0.086,
         "free sulfur dioxide": 5,
         "total sulfur dioxide": 18,
         "density": 0.9986,
         "pH": 3.4,
         "sulphates": 0.55,
         "alcohol": 9.6,
         "quality": 6,
         "color": "red",
         "_deepnote_index_column": 35
        },
        {
         "fixed acidity": 7.8,
         "volatile acidity": 0.6,
         "citric acid": 0.14,
         "residual sugar": 2.4,
         "chlorides": 0.086,
         "free sulfur dioxide": 3,
         "total sulfur dioxide": 15,
         "density": 0.9975,
         "pH": 3.42,
         "sulphates": 0.6,
         "alcohol": 10.8,
         "quality": 6,
         "color": "red",
         "_deepnote_index_column": 36
        },
        {
         "fixed acidity": 8.1,
         "volatile acidity": 0.38,
         "citric acid": 0.28,
         "residual sugar": 2.1,
         "chlorides": 0.066,
         "free sulfur dioxide": 13,
         "total sulfur dioxide": 30,
         "density": 0.9968,
         "pH": 3.23,
         "sulphates": 0.73,
         "alcohol": 9.7,
         "quality": 7,
         "color": "red",
         "_deepnote_index_column": 37
        }
       ],
       "rows_bottom": [
        {
         "fixed acidity": 6,
         "volatile acidity": 0.52,
         "citric acid": 0.33,
         "residual sugar": 7.7,
         "chlorides": 0.046,
         "free sulfur dioxide": 24,
         "total sulfur dioxide": 119,
         "density": 0.99224,
         "pH": 3.04,
         "sulphates": 0.38,
         "alcohol": 11,
         "quality": 6,
         "color": "white",
         "_deepnote_index_column": 4860
        },
        {
         "fixed acidity": 5.5,
         "volatile acidity": 0.31,
         "citric acid": 0.29,
         "residual sugar": 3,
         "chlorides": 0.027,
         "free sulfur dioxide": 16,
         "total sulfur dioxide": 102,
         "density": 0.99067,
         "pH": 3.23,
         "sulphates": 0.56,
         "alcohol": 11.2,
         "quality": 6,
         "color": "white",
         "_deepnote_index_column": 4861
        },
        {
         "fixed acidity": 5.9,
         "volatile acidity": 0.22,
         "citric acid": 0.3,
         "residual sugar": 1.3,
         "chlorides": 0.052,
         "free sulfur dioxide": 42,
         "total sulfur dioxide": 86,
         "density": 0.99069,
         "pH": 3.31,
         "sulphates": 0.47,
         "alcohol": 11.55,
         "quality": 6,
         "color": "white",
         "_deepnote_index_column": 4862
        },
        {
         "fixed acidity": 6.2,
         "volatile acidity": 0.36,
         "citric acid": 0.32,
         "residual sugar": 4,
         "chlorides": 0.036,
         "free sulfur dioxide": 44,
         "total sulfur dioxide": 92,
         "density": 0.98936,
         "pH": 3.2,
         "sulphates": 0.5,
         "alcohol": 13.3,
         "quality": 7,
         "color": "white",
         "_deepnote_index_column": 4863
        },
        {
         "fixed acidity": 6,
         "volatile acidity": 0.41,
         "citric acid": 0.23,
         "residual sugar": 1.1,
         "chlorides": 0.066,
         "free sulfur dioxide": 22,
         "total sulfur dioxide": 148,
         "density": 0.99266,
         "pH": 3.3,
         "sulphates": 0.47,
         "alcohol": 9.63333333333333,
         "quality": 5,
         "color": "white",
         "_deepnote_index_column": 4864
        },
        {
         "fixed acidity": 6.2,
         "volatile acidity": 0.355,
         "citric acid": 0.35,
         "residual sugar": 2,
         "chlorides": 0.046,
         "free sulfur dioxide": 31,
         "total sulfur dioxide": 95,
         "density": 0.98822,
         "pH": 3.06,
         "sulphates": 0.46,
         "alcohol": 13.6,
         "quality": 6,
         "color": "white",
         "_deepnote_index_column": 4865
        },
        {
         "fixed acidity": 5.7,
         "volatile acidity": 0.41,
         "citric acid": 0.21,
         "residual sugar": 1.9,
         "chlorides": 0.048,
         "free sulfur dioxide": 30,
         "total sulfur dioxide": 112,
         "density": 0.99138,
         "pH": 3.29,
         "sulphates": 0.55,
         "alcohol": 11.2,
         "quality": 6,
         "color": "white",
         "_deepnote_index_column": 4866
        },
        {
         "fixed acidity": 5.3,
         "volatile acidity": 0.6,
         "citric acid": 0.34,
         "residual sugar": 1.4,
         "chlorides": 0.031,
         "free sulfur dioxide": 3,
         "total sulfur dioxide": 60,
         "density": 0.98854,
         "pH": 3.27,
         "sulphates": 0.38,
         "alcohol": 13,
         "quality": 6,
         "color": "white",
         "_deepnote_index_column": 4867
        },
        {
         "fixed acidity": 5.8,
         "volatile acidity": 0.23,
         "citric acid": 0.31,
         "residual sugar": 4.5,
         "chlorides": 0.046,
         "free sulfur dioxide": 42,
         "total sulfur dioxide": 124,
         "density": 0.99324,
         "pH": 3.31,
         "sulphates": 0.64,
         "alcohol": 10.8,
         "quality": 6,
         "color": "white",
         "_deepnote_index_column": 4868
        },
        {
         "fixed acidity": 6.6,
         "volatile acidity": 0.24,
         "citric acid": 0.33,
         "residual sugar": 10.1,
         "chlorides": 0.032,
         "free sulfur dioxide": 8,
         "total sulfur dioxide": 81,
         "density": 0.99626,
         "pH": 3.19,
         "sulphates": 0.51,
         "alcohol": 9.8,
         "quality": 6,
         "color": "white",
         "_deepnote_index_column": 4869
        },
        {
         "fixed acidity": 6.1,
         "volatile acidity": 0.32,
         "citric acid": 0.28,
         "residual sugar": 6.6,
         "chlorides": 0.021,
         "free sulfur dioxide": 29,
         "total sulfur dioxide": 132,
         "density": 0.99188,
         "pH": 3.15,
         "sulphates": 0.36,
         "alcohol": 11.45,
         "quality": 7,
         "color": "white",
         "_deepnote_index_column": 4870
        },
        {
         "fixed acidity": 5,
         "volatile acidity": 0.2,
         "citric acid": 0.4,
         "residual sugar": 1.9,
         "chlorides": 0.015,
         "free sulfur dioxide": 20,
         "total sulfur dioxide": 98,
         "density": 0.9897,
         "pH": 3.37,
         "sulphates": 0.55,
         "alcohol": 12.05,
         "quality": 6,
         "color": "white",
         "_deepnote_index_column": 4871
        },
        {
         "fixed acidity": 6,
         "volatile acidity": 0.42,
         "citric acid": 0.41,
         "residual sugar": 12.4,
         "chlorides": 0.032,
         "free sulfur dioxide": 50,
         "total sulfur dioxide": 179,
         "density": 0.99622,
         "pH": 3.14,
         "sulphates": 0.6,
         "alcohol": 9.7,
         "quality": 5,
         "color": "white",
         "_deepnote_index_column": 4872
        },
        {
         "fixed acidity": 5.7,
         "volatile acidity": 0.21,
         "citric acid": 0.32,
         "residual sugar": 1.6,
         "chlorides": 0.03,
         "free sulfur dioxide": 33,
         "total sulfur dioxide": 122,
         "density": 0.99044,
         "pH": 3.33,
         "sulphates": 0.52,
         "alcohol": 11.9,
         "quality": 6,
         "color": "white",
         "_deepnote_index_column": 4873
        },
        {
         "fixed acidity": 5.6,
         "volatile acidity": 0.2,
         "citric acid": 0.36,
         "residual sugar": 2.5,
         "chlorides": 0.048,
         "free sulfur dioxide": 16,
         "total sulfur dioxide": 125,
         "density": 0.99282,
         "pH": 3.49,
         "sulphates": 0.49,
         "alcohol": 10,
         "quality": 6,
         "color": "white",
         "_deepnote_index_column": 4874
        },
        {
         "fixed acidity": 7.4,
         "volatile acidity": 0.22,
         "citric acid": 0.26,
         "residual sugar": 1.2,
         "chlorides": 0.035,
         "free sulfur dioxide": 18,
         "total sulfur dioxide": 97,
         "density": 0.99245,
         "pH": 3.12,
         "sulphates": 0.41,
         "alcohol": 9.7,
         "quality": 6,
         "color": "white",
         "_deepnote_index_column": 4875
        },
        {
         "fixed acidity": 6.2,
         "volatile acidity": 0.38,
         "citric acid": 0.42,
         "residual sugar": 2.5,
         "chlorides": 0.038,
         "free sulfur dioxide": 34,
         "total sulfur dioxide": 117,
         "density": 0.99132,
         "pH": 3.36,
         "sulphates": 0.59,
         "alcohol": 11.6,
         "quality": 7,
         "color": "white",
         "_deepnote_index_column": 4876
        },
        {
         "fixed acidity": 5.9,
         "volatile acidity": 0.54,
         "citric acid": 0,
         "residual sugar": 0.8,
         "chlorides": 0.032,
         "free sulfur dioxide": 12,
         "total sulfur dioxide": 82,
         "density": 0.99286,
         "pH": 3.25,
         "sulphates": 0.36,
         "alcohol": 8.8,
         "quality": 5,
         "color": "white",
         "_deepnote_index_column": 4877
        },
        {
         "fixed acidity": 6.2,
         "volatile acidity": 0.53,
         "citric acid": 0.02,
         "residual sugar": 0.9,
         "chlorides": 0.035,
         "free sulfur dioxide": 6,
         "total sulfur dioxide": 81,
         "density": 0.99234,
         "pH": 3.24,
         "sulphates": 0.35,
         "alcohol": 9.5,
         "quality": 4,
         "color": "white",
         "_deepnote_index_column": 4878
        },
        {
         "fixed acidity": 6.6,
         "volatile acidity": 0.34,
         "citric acid": 0.4,
         "residual sugar": 8.1,
         "chlorides": 0.046,
         "free sulfur dioxide": 68,
         "total sulfur dioxide": 170,
         "density": 0.99494,
         "pH": 3.15,
         "sulphates": 0.5,
         "alcohol": 9.53333333333333,
         "quality": 6,
         "color": "white",
         "_deepnote_index_column": 4879
        },
        {
         "fixed acidity": 6.6,
         "volatile acidity": 0.34,
         "citric acid": 0.4,
         "residual sugar": 8.1,
         "chlorides": 0.046,
         "free sulfur dioxide": 68,
         "total sulfur dioxide": 170,
         "density": 0.99494,
         "pH": 3.15,
         "sulphates": 0.5,
         "alcohol": 9.53333333333333,
         "quality": 6,
         "color": "white",
         "_deepnote_index_column": 4880
        },
        {
         "fixed acidity": 5,
         "volatile acidity": 0.235,
         "citric acid": 0.27,
         "residual sugar": 11.75,
         "chlorides": 0.03,
         "free sulfur dioxide": 34,
         "total sulfur dioxide": 118,
         "density": 0.9954,
         "pH": 3.07,
         "sulphates": 0.5,
         "alcohol": 9.4,
         "quality": 6,
         "color": "white",
         "_deepnote_index_column": 4881
        },
        {
         "fixed acidity": 5.5,
         "volatile acidity": 0.32,
         "citric acid": 0.13,
         "residual sugar": 1.3,
         "chlorides": 0.037,
         "free sulfur dioxide": 45,
         "total sulfur dioxide": 156,
         "density": 0.99184,
         "pH": 3.26,
         "sulphates": 0.38,
         "alcohol": 10.7,
         "quality": 5,
         "color": "white",
         "_deepnote_index_column": 4882
        },
        {
         "fixed acidity": 4.9,
         "volatile acidity": 0.47,
         "citric acid": 0.17,
         "residual sugar": 1.9,
         "chlorides": 0.035,
         "free sulfur dioxide": 60,
         "total sulfur dioxide": 148,
         "density": 0.98964,
         "pH": 3.27,
         "sulphates": 0.35,
         "alcohol": 11.5,
         "quality": 6,
         "color": "white",
         "_deepnote_index_column": 4883
        },
        {
         "fixed acidity": 6.5,
         "volatile acidity": 0.33,
         "citric acid": 0.38,
         "residual sugar": 8.3,
         "chlorides": 0.048,
         "free sulfur dioxide": 68,
         "total sulfur dioxide": 174,
         "density": 0.99492,
         "pH": 3.14,
         "sulphates": 0.5,
         "alcohol": 9.6,
         "quality": 5,
         "color": "white",
         "_deepnote_index_column": 4884
        },
        {
         "fixed acidity": 6.6,
         "volatile acidity": 0.34,
         "citric acid": 0.4,
         "residual sugar": 8.1,
         "chlorides": 0.046,
         "free sulfur dioxide": 68,
         "total sulfur dioxide": 170,
         "density": 0.99494,
         "pH": 3.15,
         "sulphates": 0.5,
         "alcohol": 9.55,
         "quality": 6,
         "color": "white",
         "_deepnote_index_column": 4885
        },
        {
         "fixed acidity": 6.2,
         "volatile acidity": 0.21,
         "citric acid": 0.28,
         "residual sugar": 5.7,
         "chlorides": 0.028,
         "free sulfur dioxide": 45,
         "total sulfur dioxide": 121,
         "density": 0.99168,
         "pH": 3.21,
         "sulphates": 1.08,
         "alcohol": 12.15,
         "quality": 7,
         "color": "white",
         "_deepnote_index_column": 4886
        },
        {
         "fixed acidity": 6.2,
         "volatile acidity": 0.41,
         "citric acid": 0.22,
         "residual sugar": 1.9,
         "chlorides": 0.023,
         "free sulfur dioxide": 5,
         "total sulfur dioxide": 56,
         "density": 0.98928,
         "pH": 3.04,
         "sulphates": 0.79,
         "alcohol": 13,
         "quality": 7,
         "color": "white",
         "_deepnote_index_column": 4887
        },
        {
         "fixed acidity": 6.8,
         "volatile acidity": 0.22,
         "citric acid": 0.36,
         "residual sugar": 1.2,
         "chlorides": 0.052,
         "free sulfur dioxide": 38,
         "total sulfur dioxide": 127,
         "density": 0.9933,
         "pH": 3.04,
         "sulphates": 0.54,
         "alcohol": 9.2,
         "quality": 5,
         "color": "white",
         "_deepnote_index_column": 4888
        },
        {
         "fixed acidity": 4.9,
         "volatile acidity": 0.235,
         "citric acid": 0.27,
         "residual sugar": 11.75,
         "chlorides": 0.03,
         "free sulfur dioxide": 34,
         "total sulfur dioxide": 118,
         "density": 0.9954,
         "pH": 3.07,
         "sulphates": 0.5,
         "alcohol": 9.4,
         "quality": 6,
         "color": "white",
         "_deepnote_index_column": 4889
        },
        {
         "fixed acidity": 6.1,
         "volatile acidity": 0.34,
         "citric acid": 0.29,
         "residual sugar": 2.2,
         "chlorides": 0.036,
         "free sulfur dioxide": 25,
         "total sulfur dioxide": 100,
         "density": 0.98938,
         "pH": 3.06,
         "sulphates": 0.44,
         "alcohol": 11.8,
         "quality": 6,
         "color": "white",
         "_deepnote_index_column": 4890
        },
        {
         "fixed acidity": 5.7,
         "volatile acidity": 0.21,
         "citric acid": 0.32,
         "residual sugar": 0.9,
         "chlorides": 0.038,
         "free sulfur dioxide": 38,
         "total sulfur dioxide": 121,
         "density": 0.99074,
         "pH": 3.24,
         "sulphates": 0.46,
         "alcohol": 10.6,
         "quality": 6,
         "color": "white",
         "_deepnote_index_column": 4891
        },
        {
         "fixed acidity": 6.5,
         "volatile acidity": 0.23,
         "citric acid": 0.38,
         "residual sugar": 1.3,
         "chlorides": 0.032,
         "free sulfur dioxide": 29,
         "total sulfur dioxide": 112,
         "density": 0.99298,
         "pH": 3.29,
         "sulphates": 0.54,
         "alcohol": 9.7,
         "quality": 5,
         "color": "white",
         "_deepnote_index_column": 4892
        },
        {
         "fixed acidity": 6.2,
         "volatile acidity": 0.21,
         "citric acid": 0.29,
         "residual sugar": 1.6,
         "chlorides": 0.039,
         "free sulfur dioxide": 24,
         "total sulfur dioxide": 92,
         "density": 0.99114,
         "pH": 3.27,
         "sulphates": 0.5,
         "alcohol": 11.2,
         "quality": 6,
         "color": "white",
         "_deepnote_index_column": 4893
        },
        {
         "fixed acidity": 6.6,
         "volatile acidity": 0.32,
         "citric acid": 0.36,
         "residual sugar": 8,
         "chlorides": 0.047,
         "free sulfur dioxide": 57,
         "total sulfur dioxide": 168,
         "density": 0.9949,
         "pH": 3.15,
         "sulphates": 0.46,
         "alcohol": 9.6,
         "quality": 5,
         "color": "white",
         "_deepnote_index_column": 4894
        },
        {
         "fixed acidity": 6.5,
         "volatile acidity": 0.24,
         "citric acid": 0.19,
         "residual sugar": 1.2,
         "chlorides": 0.041,
         "free sulfur dioxide": 30,
         "total sulfur dioxide": 111,
         "density": 0.99254,
         "pH": 2.99,
         "sulphates": 0.46,
         "alcohol": 9.4,
         "quality": 6,
         "color": "white",
         "_deepnote_index_column": 4895
        },
        {
         "fixed acidity": 5.5,
         "volatile acidity": 0.29,
         "citric acid": 0.3,
         "residual sugar": 1.1,
         "chlorides": 0.022,
         "free sulfur dioxide": 20,
         "total sulfur dioxide": 110,
         "density": 0.98869,
         "pH": 3.34,
         "sulphates": 0.38,
         "alcohol": 12.8,
         "quality": 7,
         "color": "white",
         "_deepnote_index_column": 4896
        },
        {
         "fixed acidity": 6,
         "volatile acidity": 0.21,
         "citric acid": 0.38,
         "residual sugar": 0.8,
         "chlorides": 0.02,
         "free sulfur dioxide": 22,
         "total sulfur dioxide": 98,
         "density": 0.98941,
         "pH": 3.26,
         "sulphates": 0.32,
         "alcohol": 11.8,
         "quality": 6,
         "color": "white",
         "_deepnote_index_column": 4897
        }
       ]
      },
      "text/plain": "      fixed acidity  volatile acidity  citric acid  residual sugar  chlorides  \\\n0               7.4              0.70         0.00             1.9      0.076   \n1               7.8              0.88         0.00             2.6      0.098   \n2               7.8              0.76         0.04             2.3      0.092   \n3              11.2              0.28         0.56             1.9      0.075   \n4               7.4              0.70         0.00             1.9      0.076   \n...             ...               ...          ...             ...        ...   \n4893            6.2              0.21         0.29             1.6      0.039   \n4894            6.6              0.32         0.36             8.0      0.047   \n4895            6.5              0.24         0.19             1.2      0.041   \n4896            5.5              0.29         0.30             1.1      0.022   \n4897            6.0              0.21         0.38             0.8      0.020   \n\n      free sulfur dioxide  total sulfur dioxide  density    pH  sulphates  \\\n0                    11.0                  34.0  0.99780  3.51       0.56   \n1                    25.0                  67.0  0.99680  3.20       0.68   \n2                    15.0                  54.0  0.99700  3.26       0.65   \n3                    17.0                  60.0  0.99800  3.16       0.58   \n4                    11.0                  34.0  0.99780  3.51       0.56   \n...                   ...                   ...      ...   ...        ...   \n4893                 24.0                  92.0  0.99114  3.27       0.50   \n4894                 57.0                 168.0  0.99490  3.15       0.46   \n4895                 30.0                 111.0  0.99254  2.99       0.46   \n4896                 20.0                 110.0  0.98869  3.34       0.38   \n4897                 22.0                  98.0  0.98941  3.26       0.32   \n\n      alcohol  quality  color  \n0         9.4        5    red  \n1         9.8        5    red  \n2         9.8        5    red  \n3         9.8        6    red  \n4         9.4        5    red  \n...       ...      ...    ...  \n4893     11.2        6  white  \n4894      9.6        5  white  \n4895      9.4        6  white  \n4896     12.8        7  white  \n4897     11.8        6  white  \n\n[6497 rows x 13 columns]",
      "text/html": "<div>\n<style scoped>\n    .dataframe tbody tr th:only-of-type {\n        vertical-align: middle;\n    }\n\n    .dataframe tbody tr th {\n        vertical-align: top;\n    }\n\n    .dataframe thead th {\n        text-align: right;\n    }\n</style>\n<table border=\"1\" class=\"dataframe\">\n  <thead>\n    <tr style=\"text-align: right;\">\n      <th></th>\n      <th>fixed acidity</th>\n      <th>volatile acidity</th>\n      <th>citric acid</th>\n      <th>residual sugar</th>\n      <th>chlorides</th>\n      <th>free sulfur dioxide</th>\n      <th>total sulfur dioxide</th>\n      <th>density</th>\n      <th>pH</th>\n      <th>sulphates</th>\n      <th>alcohol</th>\n      <th>quality</th>\n      <th>color</th>\n    </tr>\n  </thead>\n  <tbody>\n    <tr>\n      <th>0</th>\n      <td>7.4</td>\n      <td>0.70</td>\n      <td>0.00</td>\n      <td>1.9</td>\n      <td>0.076</td>\n      <td>11.0</td>\n      <td>34.0</td>\n      <td>0.99780</td>\n      <td>3.51</td>\n      <td>0.56</td>\n      <td>9.4</td>\n      <td>5</td>\n      <td>red</td>\n    </tr>\n    <tr>\n      <th>1</th>\n      <td>7.8</td>\n      <td>0.88</td>\n      <td>0.00</td>\n      <td>2.6</td>\n      <td>0.098</td>\n      <td>25.0</td>\n      <td>67.0</td>\n      <td>0.99680</td>\n      <td>3.20</td>\n      <td>0.68</td>\n      <td>9.8</td>\n      <td>5</td>\n      <td>red</td>\n    </tr>\n    <tr>\n      <th>2</th>\n      <td>7.8</td>\n      <td>0.76</td>\n      <td>0.04</td>\n      <td>2.3</td>\n      <td>0.092</td>\n      <td>15.0</td>\n      <td>54.0</td>\n      <td>0.99700</td>\n      <td>3.26</td>\n      <td>0.65</td>\n      <td>9.8</td>\n      <td>5</td>\n      <td>red</td>\n    </tr>\n    <tr>\n      <th>3</th>\n      <td>11.2</td>\n      <td>0.28</td>\n      <td>0.56</td>\n      <td>1.9</td>\n      <td>0.075</td>\n      <td>17.0</td>\n      <td>60.0</td>\n      <td>0.99800</td>\n      <td>3.16</td>\n      <td>0.58</td>\n      <td>9.8</td>\n      <td>6</td>\n      <td>red</td>\n    </tr>\n    <tr>\n      <th>4</th>\n      <td>7.4</td>\n      <td>0.70</td>\n      <td>0.00</td>\n      <td>1.9</td>\n      <td>0.076</td>\n      <td>11.0</td>\n      <td>34.0</td>\n      <td>0.99780</td>\n      <td>3.51</td>\n      <td>0.56</td>\n      <td>9.4</td>\n      <td>5</td>\n      <td>red</td>\n    </tr>\n    <tr>\n      <th>...</th>\n      <td>...</td>\n      <td>...</td>\n      <td>...</td>\n      <td>...</td>\n      <td>...</td>\n      <td>...</td>\n      <td>...</td>\n      <td>...</td>\n      <td>...</td>\n      <td>...</td>\n      <td>...</td>\n      <td>...</td>\n      <td>...</td>\n    </tr>\n    <tr>\n      <th>4893</th>\n      <td>6.2</td>\n      <td>0.21</td>\n      <td>0.29</td>\n      <td>1.6</td>\n      <td>0.039</td>\n      <td>24.0</td>\n      <td>92.0</td>\n      <td>0.99114</td>\n      <td>3.27</td>\n      <td>0.50</td>\n      <td>11.2</td>\n      <td>6</td>\n      <td>white</td>\n    </tr>\n    <tr>\n      <th>4894</th>\n      <td>6.6</td>\n      <td>0.32</td>\n      <td>0.36</td>\n      <td>8.0</td>\n      <td>0.047</td>\n      <td>57.0</td>\n      <td>168.0</td>\n      <td>0.99490</td>\n      <td>3.15</td>\n      <td>0.46</td>\n      <td>9.6</td>\n      <td>5</td>\n      <td>white</td>\n    </tr>\n    <tr>\n      <th>4895</th>\n      <td>6.5</td>\n      <td>0.24</td>\n      <td>0.19</td>\n      <td>1.2</td>\n      <td>0.041</td>\n      <td>30.0</td>\n      <td>111.0</td>\n      <td>0.99254</td>\n      <td>2.99</td>\n      <td>0.46</td>\n      <td>9.4</td>\n      <td>6</td>\n      <td>white</td>\n    </tr>\n    <tr>\n      <th>4896</th>\n      <td>5.5</td>\n      <td>0.29</td>\n      <td>0.30</td>\n      <td>1.1</td>\n      <td>0.022</td>\n      <td>20.0</td>\n      <td>110.0</td>\n      <td>0.98869</td>\n      <td>3.34</td>\n      <td>0.38</td>\n      <td>12.8</td>\n      <td>7</td>\n      <td>white</td>\n    </tr>\n    <tr>\n      <th>4897</th>\n      <td>6.0</td>\n      <td>0.21</td>\n      <td>0.38</td>\n      <td>0.8</td>\n      <td>0.020</td>\n      <td>22.0</td>\n      <td>98.0</td>\n      <td>0.98941</td>\n      <td>3.26</td>\n      <td>0.32</td>\n      <td>11.8</td>\n      <td>6</td>\n      <td>white</td>\n    </tr>\n  </tbody>\n</table>\n<p>6497 rows × 13 columns</p>\n</div>"
     },
     "metadata": {}
    }
   ],
   "execution_count": 2
  },
  {
   "cell_type": "code",
   "source": "pd.concat([red,white])",
   "metadata": {
    "tags": [],
    "cell_id": "00003-21d2782b-8e3c-4c05-aee6-63494d738817",
    "deepnote_to_be_reexecuted": false,
    "source_hash": "d6d0b6b3",
    "execution_start": 1635525674509,
    "execution_millis": 249,
    "deepnote_cell_type": "code"
   },
   "outputs": [
    {
     "output_type": "execute_result",
     "execution_count": 3,
     "data": {
      "application/vnd.deepnote.dataframe.v2+json": {
       "row_count": 6497,
       "column_count": 13,
       "columns": [
        {
         "name": "fixed acidity",
         "dtype": "float64",
         "stats": {
          "unique_count": 106,
          "nan_count": 0,
          "min": "3.8",
          "max": "15.9",
          "histogram": [
           {
            "bin_start": 3.8,
            "bin_end": 5.01,
            "count": 63
           },
           {
            "bin_start": 5.01,
            "bin_end": 6.220000000000001,
            "count": 1151
           },
           {
            "bin_start": 6.220000000000001,
            "bin_end": 7.430000000000001,
            "count": 3248
           },
           {
            "bin_start": 7.430000000000001,
            "bin_end": 8.64,
            "count": 1339
           },
           {
            "bin_start": 8.64,
            "bin_end": 9.850000000000001,
            "count": 382
           },
           {
            "bin_start": 9.850000000000001,
            "bin_end": 11.060000000000002,
            "count": 177
           },
           {
            "bin_start": 11.060000000000002,
            "bin_end": 12.27,
            "count": 82
           },
           {
            "bin_start": 12.27,
            "bin_end": 13.48,
            "count": 41
           },
           {
            "bin_start": 13.48,
            "bin_end": 14.690000000000001,
            "count": 7
           },
           {
            "bin_start": 14.690000000000001,
            "bin_end": 15.9,
            "count": 7
           }
          ]
         }
        },
        {
         "name": "volatile acidity",
         "dtype": "float64",
         "stats": {
          "unique_count": 187,
          "nan_count": 0,
          "min": "0.08",
          "max": "1.58",
          "histogram": [
           {
            "bin_start": 0.08,
            "bin_end": 0.22999999999999998,
            "count": 1580
           },
           {
            "bin_start": 0.22999999999999998,
            "bin_end": 0.38,
            "count": 3002
           },
           {
            "bin_start": 0.38,
            "bin_end": 0.5299999999999999,
            "count": 996
           },
           {
            "bin_start": 0.5299999999999999,
            "bin_end": 0.6799999999999999,
            "count": 606
           },
           {
            "bin_start": 0.6799999999999999,
            "bin_end": 0.83,
            "count": 214
           },
           {
            "bin_start": 0.83,
            "bin_end": 0.9799999999999999,
            "count": 70
           },
           {
            "bin_start": 0.9799999999999999,
            "bin_end": 1.1300000000000001,
            "count": 23
           },
           {
            "bin_start": 1.1300000000000001,
            "bin_end": 1.28,
            "count": 3
           },
           {
            "bin_start": 1.28,
            "bin_end": 1.43,
            "count": 2
           },
           {
            "bin_start": 1.43,
            "bin_end": 1.58,
            "count": 1
           }
          ]
         }
        },
        {
         "name": "citric acid",
         "dtype": "float64",
         "stats": {
          "unique_count": 89,
          "nan_count": 0,
          "min": "0.0",
          "max": "1.66",
          "histogram": [
           {
            "bin_start": 0,
            "bin_end": 0.16599999999999998,
            "count": 766
           },
           {
            "bin_start": 0.16599999999999998,
            "bin_end": 0.33199999999999996,
            "count": 3113
           },
           {
            "bin_start": 0.33199999999999996,
            "bin_end": 0.49799999999999994,
            "count": 2059
           },
           {
            "bin_start": 0.49799999999999994,
            "bin_end": 0.6639999999999999,
            "count": 420
           },
           {
            "bin_start": 0.6639999999999999,
            "bin_end": 0.8299999999999998,
            "count": 126
           },
           {
            "bin_start": 0.8299999999999998,
            "bin_end": 0.9959999999999999,
            "count": 5
           },
           {
            "bin_start": 0.9959999999999999,
            "bin_end": 1.162,
            "count": 6
           },
           {
            "bin_start": 1.162,
            "bin_end": 1.3279999999999998,
            "count": 1
           },
           {
            "bin_start": 1.3279999999999998,
            "bin_end": 1.4939999999999998,
            "count": 0
           },
           {
            "bin_start": 1.4939999999999998,
            "bin_end": 1.66,
            "count": 1
           }
          ]
         }
        },
        {
         "name": "residual sugar",
         "dtype": "float64",
         "stats": {
          "unique_count": 316,
          "nan_count": 0,
          "min": "0.6",
          "max": "65.8",
          "histogram": [
           {
            "bin_start": 0.6,
            "bin_end": 7.12,
            "count": 4551
           },
           {
            "bin_start": 7.12,
            "bin_end": 13.64,
            "count": 1396
           },
           {
            "bin_start": 13.64,
            "bin_end": 20.160000000000004,
            "count": 533
           },
           {
            "bin_start": 20.160000000000004,
            "bin_end": 26.680000000000003,
            "count": 14
           },
           {
            "bin_start": 26.680000000000003,
            "bin_end": 33.2,
            "count": 2
           },
           {
            "bin_start": 33.2,
            "bin_end": 39.720000000000006,
            "count": 0
           },
           {
            "bin_start": 39.720000000000006,
            "bin_end": 46.24,
            "count": 0
           },
           {
            "bin_start": 46.24,
            "bin_end": 52.760000000000005,
            "count": 0
           },
           {
            "bin_start": 52.760000000000005,
            "bin_end": 59.28000000000001,
            "count": 0
           },
           {
            "bin_start": 59.28000000000001,
            "bin_end": 65.8,
            "count": 1
           }
          ]
         }
        },
        {
         "name": "chlorides",
         "dtype": "float64",
         "stats": {
          "unique_count": 214,
          "nan_count": 0,
          "min": "0.009",
          "max": "0.611",
          "histogram": [
           {
            "bin_start": 0.009,
            "bin_end": 0.0692,
            "count": 5061
           },
           {
            "bin_start": 0.0692,
            "bin_end": 0.1294,
            "count": 1279
           },
           {
            "bin_start": 0.1294,
            "bin_end": 0.1896,
            "count": 92
           },
           {
            "bin_start": 0.1896,
            "bin_end": 0.2498,
            "count": 34
           },
           {
            "bin_start": 0.2498,
            "bin_end": 0.31,
            "count": 8
           },
           {
            "bin_start": 0.31,
            "bin_end": 0.3702,
            "count": 9
           },
           {
            "bin_start": 0.3702,
            "bin_end": 0.4304,
            "count": 10
           },
           {
            "bin_start": 0.4304,
            "bin_end": 0.4906,
            "count": 2
           },
           {
            "bin_start": 0.4906,
            "bin_end": 0.5508,
            "count": 0
           },
           {
            "bin_start": 0.5508,
            "bin_end": 0.611,
            "count": 2
           }
          ]
         }
        },
        {
         "name": "free sulfur dioxide",
         "dtype": "float64",
         "stats": {
          "unique_count": 135,
          "nan_count": 0,
          "min": "1.0",
          "max": "289.0",
          "histogram": [
           {
            "bin_start": 1,
            "bin_end": 29.8,
            "count": 3392
           },
           {
            "bin_start": 29.8,
            "bin_end": 58.6,
            "count": 2676
           },
           {
            "bin_start": 58.6,
            "bin_end": 87.4,
            "count": 401
           },
           {
            "bin_start": 87.4,
            "bin_end": 116.2,
            "count": 20
           },
           {
            "bin_start": 116.2,
            "bin_end": 145,
            "count": 6
           },
           {
            "bin_start": 145,
            "bin_end": 173.8,
            "count": 1
           },
           {
            "bin_start": 173.8,
            "bin_end": 202.6,
            "count": 0
           },
           {
            "bin_start": 202.6,
            "bin_end": 231.4,
            "count": 0
           },
           {
            "bin_start": 231.4,
            "bin_end": 260.2,
            "count": 0
           },
           {
            "bin_start": 260.2,
            "bin_end": 289,
            "count": 1
           }
          ]
         }
        },
        {
         "name": "total sulfur dioxide",
         "dtype": "float64",
         "stats": {
          "unique_count": 276,
          "nan_count": 0,
          "min": "6.0",
          "max": "440.0",
          "histogram": [
           {
            "bin_start": 6,
            "bin_end": 49.4,
            "count": 1088
           },
           {
            "bin_start": 49.4,
            "bin_end": 92.8,
            "count": 979
           },
           {
            "bin_start": 92.8,
            "bin_end": 136.2,
            "count": 2049
           },
           {
            "bin_start": 136.2,
            "bin_end": 179.6,
            "count": 1514
           },
           {
            "bin_start": 179.6,
            "bin_end": 223,
            "count": 721
           },
           {
            "bin_start": 223,
            "bin_end": 266.4,
            "count": 134
           },
           {
            "bin_start": 266.4,
            "bin_end": 309.8,
            "count": 8
           },
           {
            "bin_start": 309.8,
            "bin_end": 353.2,
            "count": 2
           },
           {
            "bin_start": 353.2,
            "bin_end": 396.59999999999997,
            "count": 1
           },
           {
            "bin_start": 396.59999999999997,
            "bin_end": 440,
            "count": 1
           }
          ]
         }
        },
        {
         "name": "density",
         "dtype": "float64",
         "stats": {
          "unique_count": 998,
          "nan_count": 0,
          "min": "0.98711",
          "max": "1.03898",
          "histogram": [
           {
            "bin_start": 0.98711,
            "bin_end": 0.992297,
            "count": 1599
           },
           {
            "bin_start": 0.992297,
            "bin_end": 0.997484,
            "count": 3645
           },
           {
            "bin_start": 0.997484,
            "bin_end": 1.002671,
            "count": 1241
           },
           {
            "bin_start": 1.002671,
            "bin_end": 1.0078580000000001,
            "count": 9
           },
           {
            "bin_start": 1.0078580000000001,
            "bin_end": 1.013045,
            "count": 2
           },
           {
            "bin_start": 1.013045,
            "bin_end": 1.018232,
            "count": 0
           },
           {
            "bin_start": 1.018232,
            "bin_end": 1.023419,
            "count": 0
           },
           {
            "bin_start": 1.023419,
            "bin_end": 1.028606,
            "count": 0
           },
           {
            "bin_start": 1.028606,
            "bin_end": 1.033793,
            "count": 0
           },
           {
            "bin_start": 1.033793,
            "bin_end": 1.03898,
            "count": 1
           }
          ]
         }
        },
        {
         "name": "pH",
         "dtype": "float64",
         "stats": {
          "unique_count": 108,
          "nan_count": 0,
          "min": "2.72",
          "max": "4.01",
          "histogram": [
           {
            "bin_start": 2.72,
            "bin_end": 2.849,
            "count": 16
           },
           {
            "bin_start": 2.849,
            "bin_end": 2.978,
            "count": 334
           },
           {
            "bin_start": 2.978,
            "bin_end": 3.107,
            "count": 1233
           },
           {
            "bin_start": 3.107,
            "bin_end": 3.2359999999999998,
            "count": 2111
           },
           {
            "bin_start": 3.2359999999999998,
            "bin_end": 3.365,
            "count": 1663
           },
           {
            "bin_start": 3.365,
            "bin_end": 3.4939999999999998,
            "count": 802
           },
           {
            "bin_start": 3.4939999999999998,
            "bin_end": 3.6229999999999998,
            "count": 263
           },
           {
            "bin_start": 3.6229999999999998,
            "bin_end": 3.752,
            "count": 59
           },
           {
            "bin_start": 3.752,
            "bin_end": 3.881,
            "count": 12
           },
           {
            "bin_start": 3.881,
            "bin_end": 4.01,
            "count": 4
           }
          ]
         }
        },
        {
         "name": "sulphates",
         "dtype": "float64",
         "stats": {
          "unique_count": 111,
          "nan_count": 0,
          "min": "0.22",
          "max": "2.0",
          "histogram": [
           {
            "bin_start": 0.22,
            "bin_end": 0.398,
            "count": 1023
           },
           {
            "bin_start": 0.398,
            "bin_end": 0.576,
            "count": 3451
           },
           {
            "bin_start": 0.576,
            "bin_end": 0.754,
            "count": 1540
           },
           {
            "bin_start": 0.754,
            "bin_end": 0.9319999999999999,
            "count": 382
           },
           {
            "bin_start": 0.9319999999999999,
            "bin_end": 1.1099999999999999,
            "count": 66
           },
           {
            "bin_start": 1.1099999999999999,
            "bin_end": 1.288,
            "count": 21
           },
           {
            "bin_start": 1.288,
            "bin_end": 1.466,
            "count": 6
           },
           {
            "bin_start": 1.466,
            "bin_end": 1.644,
            "count": 4
           },
           {
            "bin_start": 1.644,
            "bin_end": 1.8219999999999998,
            "count": 0
           },
           {
            "bin_start": 1.8219999999999998,
            "bin_end": 2,
            "count": 4
           }
          ]
         }
        },
        {
         "name": "alcohol",
         "dtype": "float64",
         "stats": {
          "unique_count": 111,
          "nan_count": 0,
          "min": "8.0",
          "max": "14.9",
          "histogram": [
           {
            "bin_start": 8,
            "bin_end": 8.69,
            "count": 40
           },
           {
            "bin_start": 8.69,
            "bin_end": 9.38,
            "count": 1133
           },
           {
            "bin_start": 9.38,
            "bin_end": 10.07,
            "count": 1662
           },
           {
            "bin_start": 10.07,
            "bin_end": 10.76,
            "count": 1156
           },
           {
            "bin_start": 10.76,
            "bin_end": 11.45,
            "count": 1092
           },
           {
            "bin_start": 11.45,
            "bin_end": 12.14,
            "count": 628
           },
           {
            "bin_start": 12.14,
            "bin_end": 12.83,
            "count": 569
           },
           {
            "bin_start": 12.83,
            "bin_end": 13.52,
            "count": 175
           },
           {
            "bin_start": 13.52,
            "bin_end": 14.21,
            "count": 41
           },
           {
            "bin_start": 14.21,
            "bin_end": 14.9,
            "count": 1
           }
          ]
         }
        },
        {
         "name": "quality",
         "dtype": "int64",
         "stats": {
          "unique_count": 7,
          "nan_count": 0,
          "min": "3",
          "max": "9",
          "histogram": [
           {
            "bin_start": 3,
            "bin_end": 3.6,
            "count": 30
           },
           {
            "bin_start": 3.6,
            "bin_end": 4.2,
            "count": 216
           },
           {
            "bin_start": 4.2,
            "bin_end": 4.8,
            "count": 0
           },
           {
            "bin_start": 4.8,
            "bin_end": 5.4,
            "count": 2138
           },
           {
            "bin_start": 5.4,
            "bin_end": 6,
            "count": 0
           },
           {
            "bin_start": 6,
            "bin_end": 6.6,
            "count": 2836
           },
           {
            "bin_start": 6.6,
            "bin_end": 7.2,
            "count": 1079
           },
           {
            "bin_start": 7.2,
            "bin_end": 7.8,
            "count": 0
           },
           {
            "bin_start": 7.8,
            "bin_end": 8.399999999999999,
            "count": 193
           },
           {
            "bin_start": 8.399999999999999,
            "bin_end": 9,
            "count": 5
           }
          ]
         }
        },
        {
         "name": "color",
         "dtype": "object",
         "stats": {
          "unique_count": 2,
          "nan_count": 0,
          "categories": [
           {
            "name": "white",
            "count": 4898
           },
           {
            "name": "red",
            "count": 1599
           }
          ]
         }
        },
        {
         "name": "_deepnote_index_column",
         "dtype": "int64"
        }
       ],
       "rows_top": [
        {
         "fixed acidity": 7.4,
         "volatile acidity": 0.7,
         "citric acid": 0,
         "residual sugar": 1.9,
         "chlorides": 0.076,
         "free sulfur dioxide": 11,
         "total sulfur dioxide": 34,
         "density": 0.9978,
         "pH": 3.51,
         "sulphates": 0.56,
         "alcohol": 9.4,
         "quality": 5,
         "color": "red",
         "_deepnote_index_column": 0
        },
        {
         "fixed acidity": 7.8,
         "volatile acidity": 0.88,
         "citric acid": 0,
         "residual sugar": 2.6,
         "chlorides": 0.098,
         "free sulfur dioxide": 25,
         "total sulfur dioxide": 67,
         "density": 0.9968,
         "pH": 3.2,
         "sulphates": 0.68,
         "alcohol": 9.8,
         "quality": 5,
         "color": "red",
         "_deepnote_index_column": 1
        },
        {
         "fixed acidity": 7.8,
         "volatile acidity": 0.76,
         "citric acid": 0.04,
         "residual sugar": 2.3,
         "chlorides": 0.092,
         "free sulfur dioxide": 15,
         "total sulfur dioxide": 54,
         "density": 0.997,
         "pH": 3.26,
         "sulphates": 0.65,
         "alcohol": 9.8,
         "quality": 5,
         "color": "red",
         "_deepnote_index_column": 2
        },
        {
         "fixed acidity": 11.2,
         "volatile acidity": 0.28,
         "citric acid": 0.56,
         "residual sugar": 1.9,
         "chlorides": 0.075,
         "free sulfur dioxide": 17,
         "total sulfur dioxide": 60,
         "density": 0.998,
         "pH": 3.16,
         "sulphates": 0.58,
         "alcohol": 9.8,
         "quality": 6,
         "color": "red",
         "_deepnote_index_column": 3
        },
        {
         "fixed acidity": 7.4,
         "volatile acidity": 0.7,
         "citric acid": 0,
         "residual sugar": 1.9,
         "chlorides": 0.076,
         "free sulfur dioxide": 11,
         "total sulfur dioxide": 34,
         "density": 0.9978,
         "pH": 3.51,
         "sulphates": 0.56,
         "alcohol": 9.4,
         "quality": 5,
         "color": "red",
         "_deepnote_index_column": 4
        },
        {
         "fixed acidity": 7.4,
         "volatile acidity": 0.66,
         "citric acid": 0,
         "residual sugar": 1.8,
         "chlorides": 0.075,
         "free sulfur dioxide": 13,
         "total sulfur dioxide": 40,
         "density": 0.9978,
         "pH": 3.51,
         "sulphates": 0.56,
         "alcohol": 9.4,
         "quality": 5,
         "color": "red",
         "_deepnote_index_column": 5
        },
        {
         "fixed acidity": 7.9,
         "volatile acidity": 0.6,
         "citric acid": 0.06,
         "residual sugar": 1.6,
         "chlorides": 0.069,
         "free sulfur dioxide": 15,
         "total sulfur dioxide": 59,
         "density": 0.9964,
         "pH": 3.3,
         "sulphates": 0.46,
         "alcohol": 9.4,
         "quality": 5,
         "color": "red",
         "_deepnote_index_column": 6
        },
        {
         "fixed acidity": 7.3,
         "volatile acidity": 0.65,
         "citric acid": 0,
         "residual sugar": 1.2,
         "chlorides": 0.065,
         "free sulfur dioxide": 15,
         "total sulfur dioxide": 21,
         "density": 0.9946,
         "pH": 3.39,
         "sulphates": 0.47,
         "alcohol": 10,
         "quality": 7,
         "color": "red",
         "_deepnote_index_column": 7
        },
        {
         "fixed acidity": 7.8,
         "volatile acidity": 0.58,
         "citric acid": 0.02,
         "residual sugar": 2,
         "chlorides": 0.073,
         "free sulfur dioxide": 9,
         "total sulfur dioxide": 18,
         "density": 0.9968,
         "pH": 3.36,
         "sulphates": 0.57,
         "alcohol": 9.5,
         "quality": 7,
         "color": "red",
         "_deepnote_index_column": 8
        },
        {
         "fixed acidity": 7.5,
         "volatile acidity": 0.5,
         "citric acid": 0.36,
         "residual sugar": 6.1,
         "chlorides": 0.071,
         "free sulfur dioxide": 17,
         "total sulfur dioxide": 102,
         "density": 0.9978,
         "pH": 3.35,
         "sulphates": 0.8,
         "alcohol": 10.5,
         "quality": 5,
         "color": "red",
         "_deepnote_index_column": 9
        },
        {
         "fixed acidity": 6.7,
         "volatile acidity": 0.58,
         "citric acid": 0.08,
         "residual sugar": 1.8,
         "chlorides": 0.097,
         "free sulfur dioxide": 15,
         "total sulfur dioxide": 65,
         "density": 0.9959,
         "pH": 3.28,
         "sulphates": 0.54,
         "alcohol": 9.2,
         "quality": 5,
         "color": "red",
         "_deepnote_index_column": 10
        },
        {
         "fixed acidity": 7.5,
         "volatile acidity": 0.5,
         "citric acid": 0.36,
         "residual sugar": 6.1,
         "chlorides": 0.071,
         "free sulfur dioxide": 17,
         "total sulfur dioxide": 102,
         "density": 0.9978,
         "pH": 3.35,
         "sulphates": 0.8,
         "alcohol": 10.5,
         "quality": 5,
         "color": "red",
         "_deepnote_index_column": 11
        },
        {
         "fixed acidity": 5.6,
         "volatile acidity": 0.615,
         "citric acid": 0,
         "residual sugar": 1.6,
         "chlorides": 0.089,
         "free sulfur dioxide": 16,
         "total sulfur dioxide": 59,
         "density": 0.9943,
         "pH": 3.58,
         "sulphates": 0.52,
         "alcohol": 9.9,
         "quality": 5,
         "color": "red",
         "_deepnote_index_column": 12
        },
        {
         "fixed acidity": 7.8,
         "volatile acidity": 0.61,
         "citric acid": 0.29,
         "residual sugar": 1.6,
         "chlorides": 0.114,
         "free sulfur dioxide": 9,
         "total sulfur dioxide": 29,
         "density": 0.9974,
         "pH": 3.26,
         "sulphates": 1.56,
         "alcohol": 9.1,
         "quality": 5,
         "color": "red",
         "_deepnote_index_column": 13
        },
        {
         "fixed acidity": 8.9,
         "volatile acidity": 0.62,
         "citric acid": 0.18,
         "residual sugar": 3.8,
         "chlorides": 0.176,
         "free sulfur dioxide": 52,
         "total sulfur dioxide": 145,
         "density": 0.9986,
         "pH": 3.16,
         "sulphates": 0.88,
         "alcohol": 9.2,
         "quality": 5,
         "color": "red",
         "_deepnote_index_column": 14
        },
        {
         "fixed acidity": 8.9,
         "volatile acidity": 0.62,
         "citric acid": 0.19,
         "residual sugar": 3.9,
         "chlorides": 0.17,
         "free sulfur dioxide": 51,
         "total sulfur dioxide": 148,
         "density": 0.9986,
         "pH": 3.17,
         "sulphates": 0.93,
         "alcohol": 9.2,
         "quality": 5,
         "color": "red",
         "_deepnote_index_column": 15
        },
        {
         "fixed acidity": 8.5,
         "volatile acidity": 0.28,
         "citric acid": 0.56,
         "residual sugar": 1.8,
         "chlorides": 0.092,
         "free sulfur dioxide": 35,
         "total sulfur dioxide": 103,
         "density": 0.9969,
         "pH": 3.3,
         "sulphates": 0.75,
         "alcohol": 10.5,
         "quality": 7,
         "color": "red",
         "_deepnote_index_column": 16
        },
        {
         "fixed acidity": 8.1,
         "volatile acidity": 0.56,
         "citric acid": 0.28,
         "residual sugar": 1.7,
         "chlorides": 0.368,
         "free sulfur dioxide": 16,
         "total sulfur dioxide": 56,
         "density": 0.9968,
         "pH": 3.11,
         "sulphates": 1.28,
         "alcohol": 9.3,
         "quality": 5,
         "color": "red",
         "_deepnote_index_column": 17
        },
        {
         "fixed acidity": 7.4,
         "volatile acidity": 0.59,
         "citric acid": 0.08,
         "residual sugar": 4.4,
         "chlorides": 0.086,
         "free sulfur dioxide": 6,
         "total sulfur dioxide": 29,
         "density": 0.9974,
         "pH": 3.38,
         "sulphates": 0.5,
         "alcohol": 9,
         "quality": 4,
         "color": "red",
         "_deepnote_index_column": 18
        },
        {
         "fixed acidity": 7.9,
         "volatile acidity": 0.32,
         "citric acid": 0.51,
         "residual sugar": 1.8,
         "chlorides": 0.341,
         "free sulfur dioxide": 17,
         "total sulfur dioxide": 56,
         "density": 0.9969,
         "pH": 3.04,
         "sulphates": 1.08,
         "alcohol": 9.2,
         "quality": 6,
         "color": "red",
         "_deepnote_index_column": 19
        },
        {
         "fixed acidity": 8.9,
         "volatile acidity": 0.22,
         "citric acid": 0.48,
         "residual sugar": 1.8,
         "chlorides": 0.077,
         "free sulfur dioxide": 29,
         "total sulfur dioxide": 60,
         "density": 0.9968,
         "pH": 3.39,
         "sulphates": 0.53,
         "alcohol": 9.4,
         "quality": 6,
         "color": "red",
         "_deepnote_index_column": 20
        },
        {
         "fixed acidity": 7.6,
         "volatile acidity": 0.39,
         "citric acid": 0.31,
         "residual sugar": 2.3,
         "chlorides": 0.082,
         "free sulfur dioxide": 23,
         "total sulfur dioxide": 71,
         "density": 0.9982,
         "pH": 3.52,
         "sulphates": 0.65,
         "alcohol": 9.7,
         "quality": 5,
         "color": "red",
         "_deepnote_index_column": 21
        },
        {
         "fixed acidity": 7.9,
         "volatile acidity": 0.43,
         "citric acid": 0.21,
         "residual sugar": 1.6,
         "chlorides": 0.106,
         "free sulfur dioxide": 10,
         "total sulfur dioxide": 37,
         "density": 0.9966,
         "pH": 3.17,
         "sulphates": 0.91,
         "alcohol": 9.5,
         "quality": 5,
         "color": "red",
         "_deepnote_index_column": 22
        },
        {
         "fixed acidity": 8.5,
         "volatile acidity": 0.49,
         "citric acid": 0.11,
         "residual sugar": 2.3,
         "chlorides": 0.084,
         "free sulfur dioxide": 9,
         "total sulfur dioxide": 67,
         "density": 0.9968,
         "pH": 3.17,
         "sulphates": 0.53,
         "alcohol": 9.4,
         "quality": 5,
         "color": "red",
         "_deepnote_index_column": 23
        },
        {
         "fixed acidity": 6.9,
         "volatile acidity": 0.4,
         "citric acid": 0.14,
         "residual sugar": 2.4,
         "chlorides": 0.085,
         "free sulfur dioxide": 21,
         "total sulfur dioxide": 40,
         "density": 0.9968,
         "pH": 3.43,
         "sulphates": 0.63,
         "alcohol": 9.7,
         "quality": 6,
         "color": "red",
         "_deepnote_index_column": 24
        },
        {
         "fixed acidity": 6.3,
         "volatile acidity": 0.39,
         "citric acid": 0.16,
         "residual sugar": 1.4,
         "chlorides": 0.08,
         "free sulfur dioxide": 11,
         "total sulfur dioxide": 23,
         "density": 0.9955,
         "pH": 3.34,
         "sulphates": 0.56,
         "alcohol": 9.3,
         "quality": 5,
         "color": "red",
         "_deepnote_index_column": 25
        },
        {
         "fixed acidity": 7.6,
         "volatile acidity": 0.41,
         "citric acid": 0.24,
         "residual sugar": 1.8,
         "chlorides": 0.08,
         "free sulfur dioxide": 4,
         "total sulfur dioxide": 11,
         "density": 0.9962,
         "pH": 3.28,
         "sulphates": 0.59,
         "alcohol": 9.5,
         "quality": 5,
         "color": "red",
         "_deepnote_index_column": 26
        },
        {
         "fixed acidity": 7.9,
         "volatile acidity": 0.43,
         "citric acid": 0.21,
         "residual sugar": 1.6,
         "chlorides": 0.106,
         "free sulfur dioxide": 10,
         "total sulfur dioxide": 37,
         "density": 0.9966,
         "pH": 3.17,
         "sulphates": 0.91,
         "alcohol": 9.5,
         "quality": 5,
         "color": "red",
         "_deepnote_index_column": 27
        },
        {
         "fixed acidity": 7.1,
         "volatile acidity": 0.71,
         "citric acid": 0,
         "residual sugar": 1.9,
         "chlorides": 0.08,
         "free sulfur dioxide": 14,
         "total sulfur dioxide": 35,
         "density": 0.9972,
         "pH": 3.47,
         "sulphates": 0.55,
         "alcohol": 9.4,
         "quality": 5,
         "color": "red",
         "_deepnote_index_column": 28
        },
        {
         "fixed acidity": 7.8,
         "volatile acidity": 0.645,
         "citric acid": 0,
         "residual sugar": 2,
         "chlorides": 0.082,
         "free sulfur dioxide": 8,
         "total sulfur dioxide": 16,
         "density": 0.9964,
         "pH": 3.38,
         "sulphates": 0.59,
         "alcohol": 9.8,
         "quality": 6,
         "color": "red",
         "_deepnote_index_column": 29
        },
        {
         "fixed acidity": 6.7,
         "volatile acidity": 0.675,
         "citric acid": 0.07,
         "residual sugar": 2.4,
         "chlorides": 0.089,
         "free sulfur dioxide": 17,
         "total sulfur dioxide": 82,
         "density": 0.9958,
         "pH": 3.35,
         "sulphates": 0.54,
         "alcohol": 10.1,
         "quality": 5,
         "color": "red",
         "_deepnote_index_column": 30
        },
        {
         "fixed acidity": 6.9,
         "volatile acidity": 0.685,
         "citric acid": 0,
         "residual sugar": 2.5,
         "chlorides": 0.105,
         "free sulfur dioxide": 22,
         "total sulfur dioxide": 37,
         "density": 0.9966,
         "pH": 3.46,
         "sulphates": 0.57,
         "alcohol": 10.6,
         "quality": 6,
         "color": "red",
         "_deepnote_index_column": 31
        },
        {
         "fixed acidity": 8.3,
         "volatile acidity": 0.655,
         "citric acid": 0.12,
         "residual sugar": 2.3,
         "chlorides": 0.083,
         "free sulfur dioxide": 15,
         "total sulfur dioxide": 113,
         "density": 0.9966,
         "pH": 3.17,
         "sulphates": 0.66,
         "alcohol": 9.8,
         "quality": 5,
         "color": "red",
         "_deepnote_index_column": 32
        },
        {
         "fixed acidity": 6.9,
         "volatile acidity": 0.605,
         "citric acid": 0.12,
         "residual sugar": 10.7,
         "chlorides": 0.073,
         "free sulfur dioxide": 40,
         "total sulfur dioxide": 83,
         "density": 0.9993,
         "pH": 3.45,
         "sulphates": 0.52,
         "alcohol": 9.4,
         "quality": 6,
         "color": "red",
         "_deepnote_index_column": 33
        },
        {
         "fixed acidity": 5.2,
         "volatile acidity": 0.32,
         "citric acid": 0.25,
         "residual sugar": 1.8,
         "chlorides": 0.103,
         "free sulfur dioxide": 13,
         "total sulfur dioxide": 50,
         "density": 0.9957,
         "pH": 3.38,
         "sulphates": 0.55,
         "alcohol": 9.2,
         "quality": 5,
         "color": "red",
         "_deepnote_index_column": 34
        },
        {
         "fixed acidity": 7.8,
         "volatile acidity": 0.645,
         "citric acid": 0,
         "residual sugar": 5.5,
         "chlorides": 0.086,
         "free sulfur dioxide": 5,
         "total sulfur dioxide": 18,
         "density": 0.9986,
         "pH": 3.4,
         "sulphates": 0.55,
         "alcohol": 9.6,
         "quality": 6,
         "color": "red",
         "_deepnote_index_column": 35
        },
        {
         "fixed acidity": 7.8,
         "volatile acidity": 0.6,
         "citric acid": 0.14,
         "residual sugar": 2.4,
         "chlorides": 0.086,
         "free sulfur dioxide": 3,
         "total sulfur dioxide": 15,
         "density": 0.9975,
         "pH": 3.42,
         "sulphates": 0.6,
         "alcohol": 10.8,
         "quality": 6,
         "color": "red",
         "_deepnote_index_column": 36
        },
        {
         "fixed acidity": 8.1,
         "volatile acidity": 0.38,
         "citric acid": 0.28,
         "residual sugar": 2.1,
         "chlorides": 0.066,
         "free sulfur dioxide": 13,
         "total sulfur dioxide": 30,
         "density": 0.9968,
         "pH": 3.23,
         "sulphates": 0.73,
         "alcohol": 9.7,
         "quality": 7,
         "color": "red",
         "_deepnote_index_column": 37
        }
       ],
       "rows_bottom": [
        {
         "fixed acidity": 6,
         "volatile acidity": 0.52,
         "citric acid": 0.33,
         "residual sugar": 7.7,
         "chlorides": 0.046,
         "free sulfur dioxide": 24,
         "total sulfur dioxide": 119,
         "density": 0.99224,
         "pH": 3.04,
         "sulphates": 0.38,
         "alcohol": 11,
         "quality": 6,
         "color": "white",
         "_deepnote_index_column": 4860
        },
        {
         "fixed acidity": 5.5,
         "volatile acidity": 0.31,
         "citric acid": 0.29,
         "residual sugar": 3,
         "chlorides": 0.027,
         "free sulfur dioxide": 16,
         "total sulfur dioxide": 102,
         "density": 0.99067,
         "pH": 3.23,
         "sulphates": 0.56,
         "alcohol": 11.2,
         "quality": 6,
         "color": "white",
         "_deepnote_index_column": 4861
        },
        {
         "fixed acidity": 5.9,
         "volatile acidity": 0.22,
         "citric acid": 0.3,
         "residual sugar": 1.3,
         "chlorides": 0.052,
         "free sulfur dioxide": 42,
         "total sulfur dioxide": 86,
         "density": 0.99069,
         "pH": 3.31,
         "sulphates": 0.47,
         "alcohol": 11.55,
         "quality": 6,
         "color": "white",
         "_deepnote_index_column": 4862
        },
        {
         "fixed acidity": 6.2,
         "volatile acidity": 0.36,
         "citric acid": 0.32,
         "residual sugar": 4,
         "chlorides": 0.036,
         "free sulfur dioxide": 44,
         "total sulfur dioxide": 92,
         "density": 0.98936,
         "pH": 3.2,
         "sulphates": 0.5,
         "alcohol": 13.3,
         "quality": 7,
         "color": "white",
         "_deepnote_index_column": 4863
        },
        {
         "fixed acidity": 6,
         "volatile acidity": 0.41,
         "citric acid": 0.23,
         "residual sugar": 1.1,
         "chlorides": 0.066,
         "free sulfur dioxide": 22,
         "total sulfur dioxide": 148,
         "density": 0.99266,
         "pH": 3.3,
         "sulphates": 0.47,
         "alcohol": 9.63333333333333,
         "quality": 5,
         "color": "white",
         "_deepnote_index_column": 4864
        },
        {
         "fixed acidity": 6.2,
         "volatile acidity": 0.355,
         "citric acid": 0.35,
         "residual sugar": 2,
         "chlorides": 0.046,
         "free sulfur dioxide": 31,
         "total sulfur dioxide": 95,
         "density": 0.98822,
         "pH": 3.06,
         "sulphates": 0.46,
         "alcohol": 13.6,
         "quality": 6,
         "color": "white",
         "_deepnote_index_column": 4865
        },
        {
         "fixed acidity": 5.7,
         "volatile acidity": 0.41,
         "citric acid": 0.21,
         "residual sugar": 1.9,
         "chlorides": 0.048,
         "free sulfur dioxide": 30,
         "total sulfur dioxide": 112,
         "density": 0.99138,
         "pH": 3.29,
         "sulphates": 0.55,
         "alcohol": 11.2,
         "quality": 6,
         "color": "white",
         "_deepnote_index_column": 4866
        },
        {
         "fixed acidity": 5.3,
         "volatile acidity": 0.6,
         "citric acid": 0.34,
         "residual sugar": 1.4,
         "chlorides": 0.031,
         "free sulfur dioxide": 3,
         "total sulfur dioxide": 60,
         "density": 0.98854,
         "pH": 3.27,
         "sulphates": 0.38,
         "alcohol": 13,
         "quality": 6,
         "color": "white",
         "_deepnote_index_column": 4867
        },
        {
         "fixed acidity": 5.8,
         "volatile acidity": 0.23,
         "citric acid": 0.31,
         "residual sugar": 4.5,
         "chlorides": 0.046,
         "free sulfur dioxide": 42,
         "total sulfur dioxide": 124,
         "density": 0.99324,
         "pH": 3.31,
         "sulphates": 0.64,
         "alcohol": 10.8,
         "quality": 6,
         "color": "white",
         "_deepnote_index_column": 4868
        },
        {
         "fixed acidity": 6.6,
         "volatile acidity": 0.24,
         "citric acid": 0.33,
         "residual sugar": 10.1,
         "chlorides": 0.032,
         "free sulfur dioxide": 8,
         "total sulfur dioxide": 81,
         "density": 0.99626,
         "pH": 3.19,
         "sulphates": 0.51,
         "alcohol": 9.8,
         "quality": 6,
         "color": "white",
         "_deepnote_index_column": 4869
        },
        {
         "fixed acidity": 6.1,
         "volatile acidity": 0.32,
         "citric acid": 0.28,
         "residual sugar": 6.6,
         "chlorides": 0.021,
         "free sulfur dioxide": 29,
         "total sulfur dioxide": 132,
         "density": 0.99188,
         "pH": 3.15,
         "sulphates": 0.36,
         "alcohol": 11.45,
         "quality": 7,
         "color": "white",
         "_deepnote_index_column": 4870
        },
        {
         "fixed acidity": 5,
         "volatile acidity": 0.2,
         "citric acid": 0.4,
         "residual sugar": 1.9,
         "chlorides": 0.015,
         "free sulfur dioxide": 20,
         "total sulfur dioxide": 98,
         "density": 0.9897,
         "pH": 3.37,
         "sulphates": 0.55,
         "alcohol": 12.05,
         "quality": 6,
         "color": "white",
         "_deepnote_index_column": 4871
        },
        {
         "fixed acidity": 6,
         "volatile acidity": 0.42,
         "citric acid": 0.41,
         "residual sugar": 12.4,
         "chlorides": 0.032,
         "free sulfur dioxide": 50,
         "total sulfur dioxide": 179,
         "density": 0.99622,
         "pH": 3.14,
         "sulphates": 0.6,
         "alcohol": 9.7,
         "quality": 5,
         "color": "white",
         "_deepnote_index_column": 4872
        },
        {
         "fixed acidity": 5.7,
         "volatile acidity": 0.21,
         "citric acid": 0.32,
         "residual sugar": 1.6,
         "chlorides": 0.03,
         "free sulfur dioxide": 33,
         "total sulfur dioxide": 122,
         "density": 0.99044,
         "pH": 3.33,
         "sulphates": 0.52,
         "alcohol": 11.9,
         "quality": 6,
         "color": "white",
         "_deepnote_index_column": 4873
        },
        {
         "fixed acidity": 5.6,
         "volatile acidity": 0.2,
         "citric acid": 0.36,
         "residual sugar": 2.5,
         "chlorides": 0.048,
         "free sulfur dioxide": 16,
         "total sulfur dioxide": 125,
         "density": 0.99282,
         "pH": 3.49,
         "sulphates": 0.49,
         "alcohol": 10,
         "quality": 6,
         "color": "white",
         "_deepnote_index_column": 4874
        },
        {
         "fixed acidity": 7.4,
         "volatile acidity": 0.22,
         "citric acid": 0.26,
         "residual sugar": 1.2,
         "chlorides": 0.035,
         "free sulfur dioxide": 18,
         "total sulfur dioxide": 97,
         "density": 0.99245,
         "pH": 3.12,
         "sulphates": 0.41,
         "alcohol": 9.7,
         "quality": 6,
         "color": "white",
         "_deepnote_index_column": 4875
        },
        {
         "fixed acidity": 6.2,
         "volatile acidity": 0.38,
         "citric acid": 0.42,
         "residual sugar": 2.5,
         "chlorides": 0.038,
         "free sulfur dioxide": 34,
         "total sulfur dioxide": 117,
         "density": 0.99132,
         "pH": 3.36,
         "sulphates": 0.59,
         "alcohol": 11.6,
         "quality": 7,
         "color": "white",
         "_deepnote_index_column": 4876
        },
        {
         "fixed acidity": 5.9,
         "volatile acidity": 0.54,
         "citric acid": 0,
         "residual sugar": 0.8,
         "chlorides": 0.032,
         "free sulfur dioxide": 12,
         "total sulfur dioxide": 82,
         "density": 0.99286,
         "pH": 3.25,
         "sulphates": 0.36,
         "alcohol": 8.8,
         "quality": 5,
         "color": "white",
         "_deepnote_index_column": 4877
        },
        {
         "fixed acidity": 6.2,
         "volatile acidity": 0.53,
         "citric acid": 0.02,
         "residual sugar": 0.9,
         "chlorides": 0.035,
         "free sulfur dioxide": 6,
         "total sulfur dioxide": 81,
         "density": 0.99234,
         "pH": 3.24,
         "sulphates": 0.35,
         "alcohol": 9.5,
         "quality": 4,
         "color": "white",
         "_deepnote_index_column": 4878
        },
        {
         "fixed acidity": 6.6,
         "volatile acidity": 0.34,
         "citric acid": 0.4,
         "residual sugar": 8.1,
         "chlorides": 0.046,
         "free sulfur dioxide": 68,
         "total sulfur dioxide": 170,
         "density": 0.99494,
         "pH": 3.15,
         "sulphates": 0.5,
         "alcohol": 9.53333333333333,
         "quality": 6,
         "color": "white",
         "_deepnote_index_column": 4879
        },
        {
         "fixed acidity": 6.6,
         "volatile acidity": 0.34,
         "citric acid": 0.4,
         "residual sugar": 8.1,
         "chlorides": 0.046,
         "free sulfur dioxide": 68,
         "total sulfur dioxide": 170,
         "density": 0.99494,
         "pH": 3.15,
         "sulphates": 0.5,
         "alcohol": 9.53333333333333,
         "quality": 6,
         "color": "white",
         "_deepnote_index_column": 4880
        },
        {
         "fixed acidity": 5,
         "volatile acidity": 0.235,
         "citric acid": 0.27,
         "residual sugar": 11.75,
         "chlorides": 0.03,
         "free sulfur dioxide": 34,
         "total sulfur dioxide": 118,
         "density": 0.9954,
         "pH": 3.07,
         "sulphates": 0.5,
         "alcohol": 9.4,
         "quality": 6,
         "color": "white",
         "_deepnote_index_column": 4881
        },
        {
         "fixed acidity": 5.5,
         "volatile acidity": 0.32,
         "citric acid": 0.13,
         "residual sugar": 1.3,
         "chlorides": 0.037,
         "free sulfur dioxide": 45,
         "total sulfur dioxide": 156,
         "density": 0.99184,
         "pH": 3.26,
         "sulphates": 0.38,
         "alcohol": 10.7,
         "quality": 5,
         "color": "white",
         "_deepnote_index_column": 4882
        },
        {
         "fixed acidity": 4.9,
         "volatile acidity": 0.47,
         "citric acid": 0.17,
         "residual sugar": 1.9,
         "chlorides": 0.035,
         "free sulfur dioxide": 60,
         "total sulfur dioxide": 148,
         "density": 0.98964,
         "pH": 3.27,
         "sulphates": 0.35,
         "alcohol": 11.5,
         "quality": 6,
         "color": "white",
         "_deepnote_index_column": 4883
        },
        {
         "fixed acidity": 6.5,
         "volatile acidity": 0.33,
         "citric acid": 0.38,
         "residual sugar": 8.3,
         "chlorides": 0.048,
         "free sulfur dioxide": 68,
         "total sulfur dioxide": 174,
         "density": 0.99492,
         "pH": 3.14,
         "sulphates": 0.5,
         "alcohol": 9.6,
         "quality": 5,
         "color": "white",
         "_deepnote_index_column": 4884
        },
        {
         "fixed acidity": 6.6,
         "volatile acidity": 0.34,
         "citric acid": 0.4,
         "residual sugar": 8.1,
         "chlorides": 0.046,
         "free sulfur dioxide": 68,
         "total sulfur dioxide": 170,
         "density": 0.99494,
         "pH": 3.15,
         "sulphates": 0.5,
         "alcohol": 9.55,
         "quality": 6,
         "color": "white",
         "_deepnote_index_column": 4885
        },
        {
         "fixed acidity": 6.2,
         "volatile acidity": 0.21,
         "citric acid": 0.28,
         "residual sugar": 5.7,
         "chlorides": 0.028,
         "free sulfur dioxide": 45,
         "total sulfur dioxide": 121,
         "density": 0.99168,
         "pH": 3.21,
         "sulphates": 1.08,
         "alcohol": 12.15,
         "quality": 7,
         "color": "white",
         "_deepnote_index_column": 4886
        },
        {
         "fixed acidity": 6.2,
         "volatile acidity": 0.41,
         "citric acid": 0.22,
         "residual sugar": 1.9,
         "chlorides": 0.023,
         "free sulfur dioxide": 5,
         "total sulfur dioxide": 56,
         "density": 0.98928,
         "pH": 3.04,
         "sulphates": 0.79,
         "alcohol": 13,
         "quality": 7,
         "color": "white",
         "_deepnote_index_column": 4887
        },
        {
         "fixed acidity": 6.8,
         "volatile acidity": 0.22,
         "citric acid": 0.36,
         "residual sugar": 1.2,
         "chlorides": 0.052,
         "free sulfur dioxide": 38,
         "total sulfur dioxide": 127,
         "density": 0.9933,
         "pH": 3.04,
         "sulphates": 0.54,
         "alcohol": 9.2,
         "quality": 5,
         "color": "white",
         "_deepnote_index_column": 4888
        },
        {
         "fixed acidity": 4.9,
         "volatile acidity": 0.235,
         "citric acid": 0.27,
         "residual sugar": 11.75,
         "chlorides": 0.03,
         "free sulfur dioxide": 34,
         "total sulfur dioxide": 118,
         "density": 0.9954,
         "pH": 3.07,
         "sulphates": 0.5,
         "alcohol": 9.4,
         "quality": 6,
         "color": "white",
         "_deepnote_index_column": 4889
        },
        {
         "fixed acidity": 6.1,
         "volatile acidity": 0.34,
         "citric acid": 0.29,
         "residual sugar": 2.2,
         "chlorides": 0.036,
         "free sulfur dioxide": 25,
         "total sulfur dioxide": 100,
         "density": 0.98938,
         "pH": 3.06,
         "sulphates": 0.44,
         "alcohol": 11.8,
         "quality": 6,
         "color": "white",
         "_deepnote_index_column": 4890
        },
        {
         "fixed acidity": 5.7,
         "volatile acidity": 0.21,
         "citric acid": 0.32,
         "residual sugar": 0.9,
         "chlorides": 0.038,
         "free sulfur dioxide": 38,
         "total sulfur dioxide": 121,
         "density": 0.99074,
         "pH": 3.24,
         "sulphates": 0.46,
         "alcohol": 10.6,
         "quality": 6,
         "color": "white",
         "_deepnote_index_column": 4891
        },
        {
         "fixed acidity": 6.5,
         "volatile acidity": 0.23,
         "citric acid": 0.38,
         "residual sugar": 1.3,
         "chlorides": 0.032,
         "free sulfur dioxide": 29,
         "total sulfur dioxide": 112,
         "density": 0.99298,
         "pH": 3.29,
         "sulphates": 0.54,
         "alcohol": 9.7,
         "quality": 5,
         "color": "white",
         "_deepnote_index_column": 4892
        },
        {
         "fixed acidity": 6.2,
         "volatile acidity": 0.21,
         "citric acid": 0.29,
         "residual sugar": 1.6,
         "chlorides": 0.039,
         "free sulfur dioxide": 24,
         "total sulfur dioxide": 92,
         "density": 0.99114,
         "pH": 3.27,
         "sulphates": 0.5,
         "alcohol": 11.2,
         "quality": 6,
         "color": "white",
         "_deepnote_index_column": 4893
        },
        {
         "fixed acidity": 6.6,
         "volatile acidity": 0.32,
         "citric acid": 0.36,
         "residual sugar": 8,
         "chlorides": 0.047,
         "free sulfur dioxide": 57,
         "total sulfur dioxide": 168,
         "density": 0.9949,
         "pH": 3.15,
         "sulphates": 0.46,
         "alcohol": 9.6,
         "quality": 5,
         "color": "white",
         "_deepnote_index_column": 4894
        },
        {
         "fixed acidity": 6.5,
         "volatile acidity": 0.24,
         "citric acid": 0.19,
         "residual sugar": 1.2,
         "chlorides": 0.041,
         "free sulfur dioxide": 30,
         "total sulfur dioxide": 111,
         "density": 0.99254,
         "pH": 2.99,
         "sulphates": 0.46,
         "alcohol": 9.4,
         "quality": 6,
         "color": "white",
         "_deepnote_index_column": 4895
        },
        {
         "fixed acidity": 5.5,
         "volatile acidity": 0.29,
         "citric acid": 0.3,
         "residual sugar": 1.1,
         "chlorides": 0.022,
         "free sulfur dioxide": 20,
         "total sulfur dioxide": 110,
         "density": 0.98869,
         "pH": 3.34,
         "sulphates": 0.38,
         "alcohol": 12.8,
         "quality": 7,
         "color": "white",
         "_deepnote_index_column": 4896
        },
        {
         "fixed acidity": 6,
         "volatile acidity": 0.21,
         "citric acid": 0.38,
         "residual sugar": 0.8,
         "chlorides": 0.02,
         "free sulfur dioxide": 22,
         "total sulfur dioxide": 98,
         "density": 0.98941,
         "pH": 3.26,
         "sulphates": 0.32,
         "alcohol": 11.8,
         "quality": 6,
         "color": "white",
         "_deepnote_index_column": 4897
        }
       ]
      },
      "text/plain": "      fixed acidity  volatile acidity  citric acid  residual sugar  chlorides  \\\n0               7.4              0.70         0.00             1.9      0.076   \n1               7.8              0.88         0.00             2.6      0.098   \n2               7.8              0.76         0.04             2.3      0.092   \n3              11.2              0.28         0.56             1.9      0.075   \n4               7.4              0.70         0.00             1.9      0.076   \n...             ...               ...          ...             ...        ...   \n4893            6.2              0.21         0.29             1.6      0.039   \n4894            6.6              0.32         0.36             8.0      0.047   \n4895            6.5              0.24         0.19             1.2      0.041   \n4896            5.5              0.29         0.30             1.1      0.022   \n4897            6.0              0.21         0.38             0.8      0.020   \n\n      free sulfur dioxide  total sulfur dioxide  density    pH  sulphates  \\\n0                    11.0                  34.0  0.99780  3.51       0.56   \n1                    25.0                  67.0  0.99680  3.20       0.68   \n2                    15.0                  54.0  0.99700  3.26       0.65   \n3                    17.0                  60.0  0.99800  3.16       0.58   \n4                    11.0                  34.0  0.99780  3.51       0.56   \n...                   ...                   ...      ...   ...        ...   \n4893                 24.0                  92.0  0.99114  3.27       0.50   \n4894                 57.0                 168.0  0.99490  3.15       0.46   \n4895                 30.0                 111.0  0.99254  2.99       0.46   \n4896                 20.0                 110.0  0.98869  3.34       0.38   \n4897                 22.0                  98.0  0.98941  3.26       0.32   \n\n      alcohol  quality  color  \n0         9.4        5    red  \n1         9.8        5    red  \n2         9.8        5    red  \n3         9.8        6    red  \n4         9.4        5    red  \n...       ...      ...    ...  \n4893     11.2        6  white  \n4894      9.6        5  white  \n4895      9.4        6  white  \n4896     12.8        7  white  \n4897     11.8        6  white  \n\n[6497 rows x 13 columns]",
      "text/html": "<div>\n<style scoped>\n    .dataframe tbody tr th:only-of-type {\n        vertical-align: middle;\n    }\n\n    .dataframe tbody tr th {\n        vertical-align: top;\n    }\n\n    .dataframe thead th {\n        text-align: right;\n    }\n</style>\n<table border=\"1\" class=\"dataframe\">\n  <thead>\n    <tr style=\"text-align: right;\">\n      <th></th>\n      <th>fixed acidity</th>\n      <th>volatile acidity</th>\n      <th>citric acid</th>\n      <th>residual sugar</th>\n      <th>chlorides</th>\n      <th>free sulfur dioxide</th>\n      <th>total sulfur dioxide</th>\n      <th>density</th>\n      <th>pH</th>\n      <th>sulphates</th>\n      <th>alcohol</th>\n      <th>quality</th>\n      <th>color</th>\n    </tr>\n  </thead>\n  <tbody>\n    <tr>\n      <th>0</th>\n      <td>7.4</td>\n      <td>0.70</td>\n      <td>0.00</td>\n      <td>1.9</td>\n      <td>0.076</td>\n      <td>11.0</td>\n      <td>34.0</td>\n      <td>0.99780</td>\n      <td>3.51</td>\n      <td>0.56</td>\n      <td>9.4</td>\n      <td>5</td>\n      <td>red</td>\n    </tr>\n    <tr>\n      <th>1</th>\n      <td>7.8</td>\n      <td>0.88</td>\n      <td>0.00</td>\n      <td>2.6</td>\n      <td>0.098</td>\n      <td>25.0</td>\n      <td>67.0</td>\n      <td>0.99680</td>\n      <td>3.20</td>\n      <td>0.68</td>\n      <td>9.8</td>\n      <td>5</td>\n      <td>red</td>\n    </tr>\n    <tr>\n      <th>2</th>\n      <td>7.8</td>\n      <td>0.76</td>\n      <td>0.04</td>\n      <td>2.3</td>\n      <td>0.092</td>\n      <td>15.0</td>\n      <td>54.0</td>\n      <td>0.99700</td>\n      <td>3.26</td>\n      <td>0.65</td>\n      <td>9.8</td>\n      <td>5</td>\n      <td>red</td>\n    </tr>\n    <tr>\n      <th>3</th>\n      <td>11.2</td>\n      <td>0.28</td>\n      <td>0.56</td>\n      <td>1.9</td>\n      <td>0.075</td>\n      <td>17.0</td>\n      <td>60.0</td>\n      <td>0.99800</td>\n      <td>3.16</td>\n      <td>0.58</td>\n      <td>9.8</td>\n      <td>6</td>\n      <td>red</td>\n    </tr>\n    <tr>\n      <th>4</th>\n      <td>7.4</td>\n      <td>0.70</td>\n      <td>0.00</td>\n      <td>1.9</td>\n      <td>0.076</td>\n      <td>11.0</td>\n      <td>34.0</td>\n      <td>0.99780</td>\n      <td>3.51</td>\n      <td>0.56</td>\n      <td>9.4</td>\n      <td>5</td>\n      <td>red</td>\n    </tr>\n    <tr>\n      <th>...</th>\n      <td>...</td>\n      <td>...</td>\n      <td>...</td>\n      <td>...</td>\n      <td>...</td>\n      <td>...</td>\n      <td>...</td>\n      <td>...</td>\n      <td>...</td>\n      <td>...</td>\n      <td>...</td>\n      <td>...</td>\n      <td>...</td>\n    </tr>\n    <tr>\n      <th>4893</th>\n      <td>6.2</td>\n      <td>0.21</td>\n      <td>0.29</td>\n      <td>1.6</td>\n      <td>0.039</td>\n      <td>24.0</td>\n      <td>92.0</td>\n      <td>0.99114</td>\n      <td>3.27</td>\n      <td>0.50</td>\n      <td>11.2</td>\n      <td>6</td>\n      <td>white</td>\n    </tr>\n    <tr>\n      <th>4894</th>\n      <td>6.6</td>\n      <td>0.32</td>\n      <td>0.36</td>\n      <td>8.0</td>\n      <td>0.047</td>\n      <td>57.0</td>\n      <td>168.0</td>\n      <td>0.99490</td>\n      <td>3.15</td>\n      <td>0.46</td>\n      <td>9.6</td>\n      <td>5</td>\n      <td>white</td>\n    </tr>\n    <tr>\n      <th>4895</th>\n      <td>6.5</td>\n      <td>0.24</td>\n      <td>0.19</td>\n      <td>1.2</td>\n      <td>0.041</td>\n      <td>30.0</td>\n      <td>111.0</td>\n      <td>0.99254</td>\n      <td>2.99</td>\n      <td>0.46</td>\n      <td>9.4</td>\n      <td>6</td>\n      <td>white</td>\n    </tr>\n    <tr>\n      <th>4896</th>\n      <td>5.5</td>\n      <td>0.29</td>\n      <td>0.30</td>\n      <td>1.1</td>\n      <td>0.022</td>\n      <td>20.0</td>\n      <td>110.0</td>\n      <td>0.98869</td>\n      <td>3.34</td>\n      <td>0.38</td>\n      <td>12.8</td>\n      <td>7</td>\n      <td>white</td>\n    </tr>\n    <tr>\n      <th>4897</th>\n      <td>6.0</td>\n      <td>0.21</td>\n      <td>0.38</td>\n      <td>0.8</td>\n      <td>0.020</td>\n      <td>22.0</td>\n      <td>98.0</td>\n      <td>0.98941</td>\n      <td>3.26</td>\n      <td>0.32</td>\n      <td>11.8</td>\n      <td>6</td>\n      <td>white</td>\n    </tr>\n  </tbody>\n</table>\n<p>6497 rows × 13 columns</p>\n</div>"
     },
     "metadata": {}
    }
   ],
   "execution_count": 3
  },
  {
   "cell_type": "markdown",
   "source": "## Union con JOINS",
   "metadata": {
    "tags": [],
    "cell_id": "00005-75aa5e24-5b17-4907-afa9-e9ed918c6831",
    "deepnote_cell_type": "markdown"
   }
  },
  {
   "cell_type": "code",
   "source": "left=pd.DataFrame({\n    'Key':['key1', 'key2', 'key3']\n    ,'A':['a1', 'a2', 'a3']\n})\nright=pd.DataFrame({\n    'Key':['key3', 'key4', 'key5']\n    ,'B':['b1', 'b2', 'b3']\n})\npd.merge(left, right,on='Key')",
   "metadata": {
    "tags": [],
    "cell_id": "00005-0fdf9539-7312-43ae-8a92-586eea8e2ffd",
    "deepnote_to_be_reexecuted": false,
    "source_hash": "38b2fa46",
    "execution_start": 1635525736333,
    "execution_millis": 30,
    "deepnote_cell_type": "code"
   },
   "outputs": [
    {
     "output_type": "execute_result",
     "execution_count": 5,
     "data": {
      "application/vnd.deepnote.dataframe.v2+json": {
       "row_count": 1,
       "column_count": 3,
       "columns": [
        {
         "name": "Key",
         "dtype": "object",
         "stats": {
          "unique_count": 1,
          "nan_count": 0,
          "categories": [
           {
            "name": "key3",
            "count": 1
           }
          ]
         }
        },
        {
         "name": "A",
         "dtype": "object",
         "stats": {
          "unique_count": 1,
          "nan_count": 0,
          "categories": [
           {
            "name": "a3",
            "count": 1
           }
          ]
         }
        },
        {
         "name": "B",
         "dtype": "object",
         "stats": {
          "unique_count": 1,
          "nan_count": 0,
          "categories": [
           {
            "name": "b1",
            "count": 1
           }
          ]
         }
        },
        {
         "name": "_deepnote_index_column",
         "dtype": "int64"
        }
       ],
       "rows_top": [
        {
         "Key": "key3",
         "A": "a3",
         "B": "b1",
         "_deepnote_index_column": 0
        }
       ],
       "rows_bottom": null
      },
      "text/plain": "    Key   A   B\n0  key3  a3  b1",
      "text/html": "<div>\n<style scoped>\n    .dataframe tbody tr th:only-of-type {\n        vertical-align: middle;\n    }\n\n    .dataframe tbody tr th {\n        vertical-align: top;\n    }\n\n    .dataframe thead th {\n        text-align: right;\n    }\n</style>\n<table border=\"1\" class=\"dataframe\">\n  <thead>\n    <tr style=\"text-align: right;\">\n      <th></th>\n      <th>Key</th>\n      <th>A</th>\n      <th>B</th>\n    </tr>\n  </thead>\n  <tbody>\n    <tr>\n      <th>0</th>\n      <td>key3</td>\n      <td>a3</td>\n      <td>b1</td>\n    </tr>\n  </tbody>\n</table>\n</div>"
     },
     "metadata": {}
    }
   ],
   "execution_count": 5
  },
  {
   "cell_type": "code",
   "source": "pd.merge(left, right,on='Key',how='left')",
   "metadata": {
    "tags": [],
    "cell_id": "00006-1a19195d-3b57-4514-9730-851ff3423d7a",
    "deepnote_to_be_reexecuted": false,
    "source_hash": "7c22e25b",
    "execution_start": 1635525743416,
    "execution_millis": 45,
    "deepnote_cell_type": "code"
   },
   "outputs": [
    {
     "output_type": "execute_result",
     "execution_count": 6,
     "data": {
      "application/vnd.deepnote.dataframe.v2+json": {
       "row_count": 3,
       "column_count": 3,
       "columns": [
        {
         "name": "Key",
         "dtype": "object",
         "stats": {
          "unique_count": 3,
          "nan_count": 0,
          "categories": [
           {
            "name": "key1",
            "count": 1
           },
           {
            "name": "key2",
            "count": 1
           },
           {
            "name": "key3",
            "count": 1
           }
          ]
         }
        },
        {
         "name": "A",
         "dtype": "object",
         "stats": {
          "unique_count": 3,
          "nan_count": 0,
          "categories": [
           {
            "name": "a1",
            "count": 1
           },
           {
            "name": "a2",
            "count": 1
           },
           {
            "name": "a3",
            "count": 1
           }
          ]
         }
        },
        {
         "name": "B",
         "dtype": "object",
         "stats": {
          "unique_count": 1,
          "nan_count": 2,
          "categories": [
           {
            "name": "b1",
            "count": 1
           },
           {
            "name": "Missing",
            "count": 2
           }
          ]
         }
        },
        {
         "name": "_deepnote_index_column",
         "dtype": "int64"
        }
       ],
       "rows_top": [
        {
         "Key": "key1",
         "A": "a1",
         "B": "nan",
         "_deepnote_index_column": 0
        },
        {
         "Key": "key2",
         "A": "a2",
         "B": "nan",
         "_deepnote_index_column": 1
        },
        {
         "Key": "key3",
         "A": "a3",
         "B": "b1",
         "_deepnote_index_column": 2
        }
       ],
       "rows_bottom": null
      },
      "text/plain": "    Key   A    B\n0  key1  a1  NaN\n1  key2  a2  NaN\n2  key3  a3   b1",
      "text/html": "<div>\n<style scoped>\n    .dataframe tbody tr th:only-of-type {\n        vertical-align: middle;\n    }\n\n    .dataframe tbody tr th {\n        vertical-align: top;\n    }\n\n    .dataframe thead th {\n        text-align: right;\n    }\n</style>\n<table border=\"1\" class=\"dataframe\">\n  <thead>\n    <tr style=\"text-align: right;\">\n      <th></th>\n      <th>Key</th>\n      <th>A</th>\n      <th>B</th>\n    </tr>\n  </thead>\n  <tbody>\n    <tr>\n      <th>0</th>\n      <td>key1</td>\n      <td>a1</td>\n      <td>NaN</td>\n    </tr>\n    <tr>\n      <th>1</th>\n      <td>key2</td>\n      <td>a2</td>\n      <td>NaN</td>\n    </tr>\n    <tr>\n      <th>2</th>\n      <td>key3</td>\n      <td>a3</td>\n      <td>b1</td>\n    </tr>\n  </tbody>\n</table>\n</div>"
     },
     "metadata": {}
    }
   ],
   "execution_count": 6
  },
  {
   "cell_type": "markdown",
   "source": "<a style='text-decoration:none;line-height:16px;display:flex;color:#5B5B62;padding:10px;justify-content:end;' href='https://deepnote.com?utm_source=created-in-deepnote-cell&projectId=2fc7c785-41cd-4295-8d30-2962103ea22b' target=\"_blank\">\n<img alt='Created in deepnote.com' style='display:inline;max-height:16px;margin:0px;margin-right:7.5px;' src='data:image/svg+xml;base64,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' > </img>\nCreated in <span style='font-weight:600;margin-left:4px;'>Deepnote</span></a>",
   "metadata": {
    "tags": [],
    "created_in_deepnote_cell": true,
    "deepnote_cell_type": "markdown"
   }
  }
 ],
 "nbformat": 4,
 "nbformat_minor": 2,
 "metadata": {
  "orig_nbformat": 2,
  "deepnote": {
   "is_reactive": false
  },
  "deepnote_notebook_id": "d71da7cc-0b18-4eba-8426-52563b8b9ab6",
  "deepnote_execution_queue": []
 }
}