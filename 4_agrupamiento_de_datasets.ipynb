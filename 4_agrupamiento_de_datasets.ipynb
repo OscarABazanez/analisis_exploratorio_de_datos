{
 "cells": [
  {
   "cell_type": "markdown",
   "source": "# Agrupamiento de datasets",
   "metadata": {
    "tags": [],
    "cell_id": "00000-c434d843-c49d-4752-a5ae-efb9fe60dadb",
    "deepnote_cell_type": "markdown"
   }
  },
  {
   "cell_type": "code",
   "metadata": {
    "tags": [],
    "cell_id": "00001-59bf6630-81d7-4eb1-96b3-cef2fc6c2daf",
    "deepnote_to_be_reexecuted": false,
    "source_hash": "3382b643",
    "execution_start": 1635520912195,
    "execution_millis": 1257,
    "deepnote_cell_type": "code"
   },
   "source": "import pandas as pd\nimport altair as alt \n\nChicago_data = 'https://raw.githubusercontent.com/terranigmark/curso-analisis-exploratorio-datos-platzi/main/Traffic_Crashes1.csv'\nChicago_df = pd.read_csv(Chicago_data)",
   "outputs": [],
   "execution_count": 1
  },
  {
   "cell_type": "markdown",
   "source": "## Transformación básica",
   "metadata": {
    "tags": [],
    "cell_id": "00002-e6917611-cd2b-4812-8b34-616730416963",
    "deepnote_cell_type": "markdown"
   }
  },
  {
   "cell_type": "code",
   "source": "Chicago_df['CRASH_DATE'] = Chicago_df['CRASH_DATE'].apply(lambda x: pd.to_datetime(x,errors='coerce', utc=True))\nChicago_df.head(2)",
   "metadata": {
    "tags": [],
    "cell_id": "00003-406b7e99-ef4b-48a7-865e-2f1bc27225e9",
    "deepnote_to_be_reexecuted": false,
    "source_hash": "3897131d",
    "execution_start": 1635520913483,
    "execution_millis": 7547,
    "deepnote_cell_type": "code"
   },
   "outputs": [
    {
     "output_type": "execute_result",
     "execution_count": 2,
     "data": {
      "application/vnd.deepnote.dataframe.v2+json": {
       "row_count": 2,
       "column_count": 51,
       "columns": [
        {
         "name": "Unnamed: 0",
         "dtype": "int64",
         "stats": {
          "unique_count": 2,
          "nan_count": 0,
          "min": "290702",
          "max": "405524",
          "histogram": [
           {
            "bin_start": 290702,
            "bin_end": 302184.2,
            "count": 1
           },
           {
            "bin_start": 302184.2,
            "bin_end": 313666.4,
            "count": 0
           },
           {
            "bin_start": 313666.4,
            "bin_end": 325148.6,
            "count": 0
           },
           {
            "bin_start": 325148.6,
            "bin_end": 336630.8,
            "count": 0
           },
           {
            "bin_start": 336630.8,
            "bin_end": 348113,
            "count": 0
           },
           {
            "bin_start": 348113,
            "bin_end": 359595.2,
            "count": 0
           },
           {
            "bin_start": 359595.2,
            "bin_end": 371077.4,
            "count": 0
           },
           {
            "bin_start": 371077.4,
            "bin_end": 382559.6,
            "count": 0
           },
           {
            "bin_start": 382559.6,
            "bin_end": 394041.8,
            "count": 0
           },
           {
            "bin_start": 394041.8,
            "bin_end": 405524,
            "count": 1
           }
          ]
         }
        },
        {
         "name": "CRASH_RECORD_ID",
         "dtype": "object",
         "stats": {
          "unique_count": 2,
          "nan_count": 0,
          "categories": [
           {
            "name": "9e97e92753166de921a0e87199513aa841142c6fbb3a1ea166f4e3ec5f919e4002ef990a54b8c540c17fc2316727ee19b30019c881cbabb5502feccb8fed0f91",
            "count": 1
           },
           {
            "name": "e5fe82ab7757d630a7f79927113bc63b5bede0cda7466568034102305859bac13dde19a66a69fcca588fda8e54f05f2dba7b8f3c49f28b48025deca7232188cb",
            "count": 1
           }
          ]
         }
        },
        {
         "name": "RD_NO",
         "dtype": "object",
         "stats": {
          "unique_count": 2,
          "nan_count": 0,
          "categories": [
           {
            "name": "JA154528",
            "count": 1
           },
           {
            "name": "JC391213",
            "count": 1
           }
          ]
         }
        },
        {
         "name": "CRASH_DATE_EST_I",
         "dtype": "object",
         "stats": {
          "unique_count": 0,
          "nan_count": 2,
          "categories": [
           {
            "name": "Missing",
            "count": 2
           }
          ]
         }
        },
        {
         "name": "CRASH_DATE",
         "dtype": "datetime64[ns, UTC]",
         "stats": {
          "unique_count": 2,
          "nan_count": 0,
          "min": "2017-02-14 10:00:00+00:00",
          "max": "2019-08-13 19:12:00+00:00",
          "histogram": [
           {
            "bin_start": 1487066400000000000,
            "bin_end": 1494932112000000000,
            "count": 1
           },
           {
            "bin_start": 1494932112000000000,
            "bin_end": 1502797824000000000,
            "count": 0
           },
           {
            "bin_start": 1502797824000000000,
            "bin_end": 1510663536000000000,
            "count": 0
           },
           {
            "bin_start": 1510663536000000000,
            "bin_end": 1518529248000000000,
            "count": 0
           },
           {
            "bin_start": 1518529248000000000,
            "bin_end": 1526394960000000000,
            "count": 0
           },
           {
            "bin_start": 1526394960000000000,
            "bin_end": 1534260672000000000,
            "count": 0
           },
           {
            "bin_start": 1534260672000000000,
            "bin_end": 1542126384000000000,
            "count": 0
           },
           {
            "bin_start": 1542126384000000000,
            "bin_end": 1549992096000000000,
            "count": 0
           },
           {
            "bin_start": 1549992096000000000,
            "bin_end": 1557857808000000000,
            "count": 0
           },
           {
            "bin_start": 1557857808000000000,
            "bin_end": 1565723520000000000,
            "count": 1
           }
          ]
         }
        },
        {
         "name": "POSTED_SPEED_LIMIT",
         "dtype": "int64",
         "stats": {
          "unique_count": 2,
          "nan_count": 0,
          "min": "30",
          "max": "35",
          "histogram": [
           {
            "bin_start": 30,
            "bin_end": 30.5,
            "count": 1
           },
           {
            "bin_start": 30.5,
            "bin_end": 31,
            "count": 0
           },
           {
            "bin_start": 31,
            "bin_end": 31.5,
            "count": 0
           },
           {
            "bin_start": 31.5,
            "bin_end": 32,
            "count": 0
           },
           {
            "bin_start": 32,
            "bin_end": 32.5,
            "count": 0
           },
           {
            "bin_start": 32.5,
            "bin_end": 33,
            "count": 0
           },
           {
            "bin_start": 33,
            "bin_end": 33.5,
            "count": 0
           },
           {
            "bin_start": 33.5,
            "bin_end": 34,
            "count": 0
           },
           {
            "bin_start": 34,
            "bin_end": 34.5,
            "count": 0
           },
           {
            "bin_start": 34.5,
            "bin_end": 35,
            "count": 1
           }
          ]
         }
        },
        {
         "name": "TRAFFIC_CONTROL_DEVICE",
         "dtype": "object",
         "stats": {
          "unique_count": 2,
          "nan_count": 0,
          "categories": [
           {
            "name": "NO CONTROLS",
            "count": 1
           },
           {
            "name": "TRAFFIC SIGNAL",
            "count": 1
           }
          ]
         }
        },
        {
         "name": "DEVICE_CONDITION",
         "dtype": "object",
         "stats": {
          "unique_count": 2,
          "nan_count": 0,
          "categories": [
           {
            "name": "NO CONTROLS",
            "count": 1
           },
           {
            "name": "FUNCTIONING PROPERLY",
            "count": 1
           }
          ]
         }
        },
        {
         "name": "WEATHER_CONDITION",
         "dtype": "object",
         "stats": {
          "unique_count": 1,
          "nan_count": 0,
          "categories": [
           {
            "name": "CLEAR",
            "count": 2
           }
          ]
         }
        },
        {
         "name": "LIGHTING_CONDITION",
         "dtype": "object",
         "stats": {
          "unique_count": 1,
          "nan_count": 0,
          "categories": [
           {
            "name": "DAYLIGHT",
            "count": 2
           }
          ]
         }
        },
        {
         "name": "FIRST_CRASH_TYPE",
         "dtype": "object",
         "stats": {
          "unique_count": 2,
          "nan_count": 0,
          "categories": [
           {
            "name": "PARKED MOTOR VEHICLE",
            "count": 1
           },
           {
            "name": "SIDESWIPE SAME DIRECTION",
            "count": 1
           }
          ]
         }
        },
        {
         "name": "TRAFFICWAY_TYPE",
         "dtype": "object",
         "stats": {
          "unique_count": 2,
          "nan_count": 0,
          "categories": [
           {
            "name": "ONE-WAY",
            "count": 1
           },
           {
            "name": "DIVIDED - W/MEDIAN (NOT RAISED)",
            "count": 1
           }
          ]
         }
        },
        {
         "name": "LANE_CNT",
         "dtype": "float64",
         "stats": {
          "unique_count": 0,
          "nan_count": 2,
          "min": null,
          "max": null,
          "histogram": [
           {
            "bin_start": 0,
            "bin_end": 0.1,
            "count": 0
           },
           {
            "bin_start": 0.1,
            "bin_end": 0.2,
            "count": 0
           },
           {
            "bin_start": 0.2,
            "bin_end": 0.30000000000000004,
            "count": 0
           },
           {
            "bin_start": 0.30000000000000004,
            "bin_end": 0.4,
            "count": 0
           },
           {
            "bin_start": 0.4,
            "bin_end": 0.5,
            "count": 0
           },
           {
            "bin_start": 0.5,
            "bin_end": 0.6000000000000001,
            "count": 0
           },
           {
            "bin_start": 0.6000000000000001,
            "bin_end": 0.7000000000000001,
            "count": 0
           },
           {
            "bin_start": 0.7000000000000001,
            "bin_end": 0.8,
            "count": 0
           },
           {
            "bin_start": 0.8,
            "bin_end": 0.9,
            "count": 0
           },
           {
            "bin_start": 0.9,
            "bin_end": 1,
            "count": 0
           }
          ]
         }
        },
        {
         "name": "ALIGNMENT",
         "dtype": "object",
         "stats": {
          "unique_count": 1,
          "nan_count": 0,
          "categories": [
           {
            "name": "STRAIGHT AND LEVEL",
            "count": 2
           }
          ]
         }
        },
        {
         "name": "ROADWAY_SURFACE_COND",
         "dtype": "object",
         "stats": {
          "unique_count": 1,
          "nan_count": 0,
          "categories": [
           {
            "name": "DRY",
            "count": 2
           }
          ]
         }
        },
        {
         "name": "ROAD_DEFECT",
         "dtype": "object",
         "stats": {
          "unique_count": 1,
          "nan_count": 0,
          "categories": [
           {
            "name": "NO DEFECTS",
            "count": 2
           }
          ]
         }
        },
        {
         "name": "REPORT_TYPE",
         "dtype": "object",
         "stats": {
          "unique_count": 2,
          "nan_count": 0,
          "categories": [
           {
            "name": "NOT ON SCENE (DESK REPORT)",
            "count": 1
           },
           {
            "name": "ON SCENE",
            "count": 1
           }
          ]
         }
        },
        {
         "name": "CRASH_TYPE",
         "dtype": "object",
         "stats": {
          "unique_count": 1,
          "nan_count": 0,
          "categories": [
           {
            "name": "NO INJURY / DRIVE AWAY",
            "count": 2
           }
          ]
         }
        },
        {
         "name": "INTERSECTION_RELATED_I",
         "dtype": "object",
         "stats": {
          "unique_count": 0,
          "nan_count": 2,
          "categories": [
           {
            "name": "Missing",
            "count": 2
           }
          ]
         }
        },
        {
         "name": "NOT_RIGHT_OF_WAY_I",
         "dtype": "object",
         "stats": {
          "unique_count": 0,
          "nan_count": 2,
          "categories": [
           {
            "name": "Missing",
            "count": 2
           }
          ]
         }
        },
        {
         "name": "HIT_AND_RUN_I",
         "dtype": "object",
         "stats": {
          "unique_count": 1,
          "nan_count": 1,
          "categories": [
           {
            "name": "Y",
            "count": 1
           },
           {
            "name": "Missing",
            "count": 1
           }
          ]
         }
        },
        {
         "name": "DAMAGE",
         "dtype": "object",
         "stats": {
          "unique_count": 1,
          "nan_count": 0,
          "categories": [
           {
            "name": "$500 OR LESS",
            "count": 2
           }
          ]
         }
        },
        {
         "name": "DATE_POLICE_NOTIFIED",
         "dtype": "object",
         "stats": {
          "unique_count": 2,
          "nan_count": 0,
          "categories": [
           {
            "name": "02/15/2017 11:22:00 AM",
            "count": 1
           },
           {
            "name": "08/13/2019 07:13:00 PM",
            "count": 1
           }
          ]
         }
        },
        {
         "name": "PRIM_CONTRIBUTORY_CAUSE",
         "dtype": "object",
         "stats": {
          "unique_count": 2,
          "nan_count": 0,
          "categories": [
           {
            "name": "UNABLE TO DETERMINE",
            "count": 1
           },
           {
            "name": "IMPROPER OVERTAKING/PASSING",
            "count": 1
           }
          ]
         }
        },
        {
         "name": "SEC_CONTRIBUTORY_CAUSE",
         "dtype": "object",
         "stats": {
          "unique_count": 2,
          "nan_count": 0,
          "categories": [
           {
            "name": "UNABLE TO DETERMINE",
            "count": 1
           },
           {
            "name": "NOT APPLICABLE",
            "count": 1
           }
          ]
         }
        },
        {
         "name": "STREET_NO",
         "dtype": "int64",
         "stats": {
          "unique_count": 2,
          "nan_count": 0,
          "min": "1417",
          "max": "3202",
          "histogram": [
           {
            "bin_start": 1417,
            "bin_end": 1595.5,
            "count": 1
           },
           {
            "bin_start": 1595.5,
            "bin_end": 1774,
            "count": 0
           },
           {
            "bin_start": 1774,
            "bin_end": 1952.5,
            "count": 0
           },
           {
            "bin_start": 1952.5,
            "bin_end": 2131,
            "count": 0
           },
           {
            "bin_start": 2131,
            "bin_end": 2309.5,
            "count": 0
           },
           {
            "bin_start": 2309.5,
            "bin_end": 2488,
            "count": 0
           },
           {
            "bin_start": 2488,
            "bin_end": 2666.5,
            "count": 0
           },
           {
            "bin_start": 2666.5,
            "bin_end": 2845,
            "count": 0
           },
           {
            "bin_start": 2845,
            "bin_end": 3023.5,
            "count": 0
           },
           {
            "bin_start": 3023.5,
            "bin_end": 3202,
            "count": 1
           }
          ]
         }
        },
        {
         "name": "STREET_DIRECTION",
         "dtype": "object",
         "stats": {
          "unique_count": 2,
          "nan_count": 0,
          "categories": [
           {
            "name": "W",
            "count": 1
           },
           {
            "name": "N",
            "count": 1
           }
          ]
         }
        },
        {
         "name": "STREET_NAME",
         "dtype": "object",
         "stats": {
          "unique_count": 2,
          "nan_count": 0,
          "categories": [
           {
            "name": "ALBION AVE",
            "count": 1
           },
           {
            "name": "CLARK ST",
            "count": 1
           }
          ]
         }
        },
        {
         "name": "BEAT_OF_OCCURRENCE",
         "dtype": "float64",
         "stats": {
          "unique_count": 2,
          "nan_count": 0,
          "min": "1924.0",
          "max": "2432.0",
          "histogram": [
           {
            "bin_start": 1924,
            "bin_end": 1974.8,
            "count": 1
           },
           {
            "bin_start": 1974.8,
            "bin_end": 2025.6,
            "count": 0
           },
           {
            "bin_start": 2025.6,
            "bin_end": 2076.4,
            "count": 0
           },
           {
            "bin_start": 2076.4,
            "bin_end": 2127.2,
            "count": 0
           },
           {
            "bin_start": 2127.2,
            "bin_end": 2178,
            "count": 0
           },
           {
            "bin_start": 2178,
            "bin_end": 2228.8,
            "count": 0
           },
           {
            "bin_start": 2228.8,
            "bin_end": 2279.6,
            "count": 0
           },
           {
            "bin_start": 2279.6,
            "bin_end": 2330.4,
            "count": 0
           },
           {
            "bin_start": 2330.4,
            "bin_end": 2381.2,
            "count": 0
           },
           {
            "bin_start": 2381.2,
            "bin_end": 2432,
            "count": 1
           }
          ]
         }
        },
        {
         "name": "PHOTOS_TAKEN_I",
         "dtype": "object",
         "stats": {
          "unique_count": 0,
          "nan_count": 2,
          "categories": [
           {
            "name": "Missing",
            "count": 2
           }
          ]
         }
        },
        {
         "name": "STATEMENTS_TAKEN_I",
         "dtype": "object",
         "stats": {
          "unique_count": 0,
          "nan_count": 2,
          "categories": [
           {
            "name": "Missing",
            "count": 2
           }
          ]
         }
        },
        {
         "name": "DOORING_I",
         "dtype": "object",
         "stats": {
          "unique_count": 0,
          "nan_count": 2,
          "categories": [
           {
            "name": "Missing",
            "count": 2
           }
          ]
         }
        },
        {
         "name": "WORK_ZONE_I",
         "dtype": "object",
         "stats": {
          "unique_count": 0,
          "nan_count": 2,
          "categories": [
           {
            "name": "Missing",
            "count": 2
           }
          ]
         }
        },
        {
         "name": "WORK_ZONE_TYPE",
         "dtype": "object",
         "stats": {
          "unique_count": 0,
          "nan_count": 2,
          "categories": [
           {
            "name": "Missing",
            "count": 2
           }
          ]
         }
        },
        {
         "name": "WORKERS_PRESENT_I",
         "dtype": "object",
         "stats": {
          "unique_count": 0,
          "nan_count": 2,
          "categories": [
           {
            "name": "Missing",
            "count": 2
           }
          ]
         }
        },
        {
         "name": "NUM_UNITS",
         "dtype": "int64",
         "stats": {
          "unique_count": 1,
          "nan_count": 0,
          "min": "2",
          "max": "2",
          "histogram": [
           {
            "bin_start": 1.5,
            "bin_end": 1.6,
            "count": 0
           },
           {
            "bin_start": 1.6,
            "bin_end": 1.7,
            "count": 0
           },
           {
            "bin_start": 1.7,
            "bin_end": 1.8,
            "count": 0
           },
           {
            "bin_start": 1.8,
            "bin_end": 1.9,
            "count": 0
           },
           {
            "bin_start": 1.9,
            "bin_end": 2,
            "count": 0
           },
           {
            "bin_start": 2,
            "bin_end": 2.1,
            "count": 2
           },
           {
            "bin_start": 2.1,
            "bin_end": 2.2,
            "count": 0
           },
           {
            "bin_start": 2.2,
            "bin_end": 2.3,
            "count": 0
           },
           {
            "bin_start": 2.3,
            "bin_end": 2.4,
            "count": 0
           },
           {
            "bin_start": 2.4,
            "bin_end": 2.5,
            "count": 0
           }
          ]
         }
        },
        {
         "name": "MOST_SEVERE_INJURY",
         "dtype": "object",
         "stats": {
          "unique_count": 1,
          "nan_count": 0,
          "categories": [
           {
            "name": "NO INDICATION OF INJURY",
            "count": 2
           }
          ]
         }
        },
        {
         "name": "INJURIES_TOTAL",
         "dtype": "float64",
         "stats": {
          "unique_count": 1,
          "nan_count": 0,
          "min": "0.0",
          "max": "0.0",
          "histogram": [
           {
            "bin_start": -0.5,
            "bin_end": -0.4,
            "count": 0
           },
           {
            "bin_start": -0.4,
            "bin_end": -0.3,
            "count": 0
           },
           {
            "bin_start": -0.3,
            "bin_end": -0.19999999999999996,
            "count": 0
           },
           {
            "bin_start": -0.19999999999999996,
            "bin_end": -0.09999999999999998,
            "count": 0
           },
           {
            "bin_start": -0.09999999999999998,
            "bin_end": 0,
            "count": 0
           },
           {
            "bin_start": 0,
            "bin_end": 0.10000000000000009,
            "count": 2
           },
           {
            "bin_start": 0.10000000000000009,
            "bin_end": 0.20000000000000007,
            "count": 0
           },
           {
            "bin_start": 0.20000000000000007,
            "bin_end": 0.30000000000000004,
            "count": 0
           },
           {
            "bin_start": 0.30000000000000004,
            "bin_end": 0.4,
            "count": 0
           },
           {
            "bin_start": 0.4,
            "bin_end": 0.5,
            "count": 0
           }
          ]
         }
        },
        {
         "name": "INJURIES_FATAL",
         "dtype": "float64",
         "stats": {
          "unique_count": 1,
          "nan_count": 0,
          "min": "0.0",
          "max": "0.0",
          "histogram": [
           {
            "bin_start": -0.5,
            "bin_end": -0.4,
            "count": 0
           },
           {
            "bin_start": -0.4,
            "bin_end": -0.3,
            "count": 0
           },
           {
            "bin_start": -0.3,
            "bin_end": -0.19999999999999996,
            "count": 0
           },
           {
            "bin_start": -0.19999999999999996,
            "bin_end": -0.09999999999999998,
            "count": 0
           },
           {
            "bin_start": -0.09999999999999998,
            "bin_end": 0,
            "count": 0
           },
           {
            "bin_start": 0,
            "bin_end": 0.10000000000000009,
            "count": 2
           },
           {
            "bin_start": 0.10000000000000009,
            "bin_end": 0.20000000000000007,
            "count": 0
           },
           {
            "bin_start": 0.20000000000000007,
            "bin_end": 0.30000000000000004,
            "count": 0
           },
           {
            "bin_start": 0.30000000000000004,
            "bin_end": 0.4,
            "count": 0
           },
           {
            "bin_start": 0.4,
            "bin_end": 0.5,
            "count": 0
           }
          ]
         }
        },
        {
         "name": "INJURIES_INCAPACITATING",
         "dtype": "float64",
         "stats": {
          "unique_count": 1,
          "nan_count": 0,
          "min": "0.0",
          "max": "0.0",
          "histogram": [
           {
            "bin_start": -0.5,
            "bin_end": -0.4,
            "count": 0
           },
           {
            "bin_start": -0.4,
            "bin_end": -0.3,
            "count": 0
           },
           {
            "bin_start": -0.3,
            "bin_end": -0.19999999999999996,
            "count": 0
           },
           {
            "bin_start": -0.19999999999999996,
            "bin_end": -0.09999999999999998,
            "count": 0
           },
           {
            "bin_start": -0.09999999999999998,
            "bin_end": 0,
            "count": 0
           },
           {
            "bin_start": 0,
            "bin_end": 0.10000000000000009,
            "count": 2
           },
           {
            "bin_start": 0.10000000000000009,
            "bin_end": 0.20000000000000007,
            "count": 0
           },
           {
            "bin_start": 0.20000000000000007,
            "bin_end": 0.30000000000000004,
            "count": 0
           },
           {
            "bin_start": 0.30000000000000004,
            "bin_end": 0.4,
            "count": 0
           },
           {
            "bin_start": 0.4,
            "bin_end": 0.5,
            "count": 0
           }
          ]
         }
        },
        {
         "name": "INJURIES_NON_INCAPACITATING",
         "dtype": "float64",
         "stats": {
          "unique_count": 1,
          "nan_count": 0,
          "min": "0.0",
          "max": "0.0",
          "histogram": [
           {
            "bin_start": -0.5,
            "bin_end": -0.4,
            "count": 0
           },
           {
            "bin_start": -0.4,
            "bin_end": -0.3,
            "count": 0
           },
           {
            "bin_start": -0.3,
            "bin_end": -0.19999999999999996,
            "count": 0
           },
           {
            "bin_start": -0.19999999999999996,
            "bin_end": -0.09999999999999998,
            "count": 0
           },
           {
            "bin_start": -0.09999999999999998,
            "bin_end": 0,
            "count": 0
           },
           {
            "bin_start": 0,
            "bin_end": 0.10000000000000009,
            "count": 2
           },
           {
            "bin_start": 0.10000000000000009,
            "bin_end": 0.20000000000000007,
            "count": 0
           },
           {
            "bin_start": 0.20000000000000007,
            "bin_end": 0.30000000000000004,
            "count": 0
           },
           {
            "bin_start": 0.30000000000000004,
            "bin_end": 0.4,
            "count": 0
           },
           {
            "bin_start": 0.4,
            "bin_end": 0.5,
            "count": 0
           }
          ]
         }
        },
        {
         "name": "INJURIES_REPORTED_NOT_EVIDENT",
         "dtype": "float64",
         "stats": {
          "unique_count": 1,
          "nan_count": 0,
          "min": "0.0",
          "max": "0.0",
          "histogram": [
           {
            "bin_start": -0.5,
            "bin_end": -0.4,
            "count": 0
           },
           {
            "bin_start": -0.4,
            "bin_end": -0.3,
            "count": 0
           },
           {
            "bin_start": -0.3,
            "bin_end": -0.19999999999999996,
            "count": 0
           },
           {
            "bin_start": -0.19999999999999996,
            "bin_end": -0.09999999999999998,
            "count": 0
           },
           {
            "bin_start": -0.09999999999999998,
            "bin_end": 0,
            "count": 0
           },
           {
            "bin_start": 0,
            "bin_end": 0.10000000000000009,
            "count": 2
           },
           {
            "bin_start": 0.10000000000000009,
            "bin_end": 0.20000000000000007,
            "count": 0
           },
           {
            "bin_start": 0.20000000000000007,
            "bin_end": 0.30000000000000004,
            "count": 0
           },
           {
            "bin_start": 0.30000000000000004,
            "bin_end": 0.4,
            "count": 0
           },
           {
            "bin_start": 0.4,
            "bin_end": 0.5,
            "count": 0
           }
          ]
         }
        },
        {
         "name": "INJURIES_NO_INDICATION",
         "dtype": "float64",
         "stats": {
          "unique_count": 2,
          "nan_count": 0,
          "min": "1.0",
          "max": "8.0",
          "histogram": [
           {
            "bin_start": 1,
            "bin_end": 1.7,
            "count": 1
           },
           {
            "bin_start": 1.7,
            "bin_end": 2.4,
            "count": 0
           },
           {
            "bin_start": 2.4,
            "bin_end": 3.0999999999999996,
            "count": 0
           },
           {
            "bin_start": 3.0999999999999996,
            "bin_end": 3.8,
            "count": 0
           },
           {
            "bin_start": 3.8,
            "bin_end": 4.5,
            "count": 0
           },
           {
            "bin_start": 4.5,
            "bin_end": 5.199999999999999,
            "count": 0
           },
           {
            "bin_start": 5.199999999999999,
            "bin_end": 5.8999999999999995,
            "count": 0
           },
           {
            "bin_start": 5.8999999999999995,
            "bin_end": 6.6,
            "count": 0
           },
           {
            "bin_start": 6.6,
            "bin_end": 7.3,
            "count": 0
           },
           {
            "bin_start": 7.3,
            "bin_end": 8,
            "count": 1
           }
          ]
         }
        },
        {
         "name": "INJURIES_UNKNOWN",
         "dtype": "float64",
         "stats": {
          "unique_count": 1,
          "nan_count": 0,
          "min": "0.0",
          "max": "0.0",
          "histogram": [
           {
            "bin_start": -0.5,
            "bin_end": -0.4,
            "count": 0
           },
           {
            "bin_start": -0.4,
            "bin_end": -0.3,
            "count": 0
           },
           {
            "bin_start": -0.3,
            "bin_end": -0.19999999999999996,
            "count": 0
           },
           {
            "bin_start": -0.19999999999999996,
            "bin_end": -0.09999999999999998,
            "count": 0
           },
           {
            "bin_start": -0.09999999999999998,
            "bin_end": 0,
            "count": 0
           },
           {
            "bin_start": 0,
            "bin_end": 0.10000000000000009,
            "count": 2
           },
           {
            "bin_start": 0.10000000000000009,
            "bin_end": 0.20000000000000007,
            "count": 0
           },
           {
            "bin_start": 0.20000000000000007,
            "bin_end": 0.30000000000000004,
            "count": 0
           },
           {
            "bin_start": 0.30000000000000004,
            "bin_end": 0.4,
            "count": 0
           },
           {
            "bin_start": 0.4,
            "bin_end": 0.5,
            "count": 0
           }
          ]
         }
        },
        {
         "name": "CRASH_HOUR",
         "dtype": "int64",
         "stats": {
          "unique_count": 2,
          "nan_count": 0,
          "min": "10",
          "max": "19",
          "histogram": [
           {
            "bin_start": 10,
            "bin_end": 10.9,
            "count": 1
           },
           {
            "bin_start": 10.9,
            "bin_end": 11.8,
            "count": 0
           },
           {
            "bin_start": 11.8,
            "bin_end": 12.7,
            "count": 0
           },
           {
            "bin_start": 12.7,
            "bin_end": 13.6,
            "count": 0
           },
           {
            "bin_start": 13.6,
            "bin_end": 14.5,
            "count": 0
           },
           {
            "bin_start": 14.5,
            "bin_end": 15.4,
            "count": 0
           },
           {
            "bin_start": 15.4,
            "bin_end": 16.3,
            "count": 0
           },
           {
            "bin_start": 16.3,
            "bin_end": 17.2,
            "count": 0
           },
           {
            "bin_start": 17.2,
            "bin_end": 18.1,
            "count": 0
           },
           {
            "bin_start": 18.1,
            "bin_end": 19,
            "count": 1
           }
          ]
         }
        },
        {
         "name": "CRASH_DAY_OF_WEEK",
         "dtype": "int64",
         "stats": {
          "unique_count": 1,
          "nan_count": 0,
          "min": "3",
          "max": "3",
          "histogram": [
           {
            "bin_start": 2.5,
            "bin_end": 2.6,
            "count": 0
           },
           {
            "bin_start": 2.6,
            "bin_end": 2.7,
            "count": 0
           },
           {
            "bin_start": 2.7,
            "bin_end": 2.8,
            "count": 0
           },
           {
            "bin_start": 2.8,
            "bin_end": 2.9,
            "count": 0
           },
           {
            "bin_start": 2.9,
            "bin_end": 3,
            "count": 0
           },
           {
            "bin_start": 3,
            "bin_end": 3.1,
            "count": 2
           },
           {
            "bin_start": 3.1,
            "bin_end": 3.2,
            "count": 0
           },
           {
            "bin_start": 3.2,
            "bin_end": 3.3,
            "count": 0
           },
           {
            "bin_start": 3.3,
            "bin_end": 3.4,
            "count": 0
           },
           {
            "bin_start": 3.4,
            "bin_end": 3.5,
            "count": 0
           }
          ]
         }
        },
        {
         "name": "CRASH_MONTH",
         "dtype": "int64",
         "stats": {
          "unique_count": 2,
          "nan_count": 0,
          "min": "2",
          "max": "8",
          "histogram": [
           {
            "bin_start": 2,
            "bin_end": 2.6,
            "count": 1
           },
           {
            "bin_start": 2.6,
            "bin_end": 3.2,
            "count": 0
           },
           {
            "bin_start": 3.2,
            "bin_end": 3.8,
            "count": 0
           },
           {
            "bin_start": 3.8,
            "bin_end": 4.4,
            "count": 0
           },
           {
            "bin_start": 4.4,
            "bin_end": 5,
            "count": 0
           },
           {
            "bin_start": 5,
            "bin_end": 5.6,
            "count": 0
           },
           {
            "bin_start": 5.6,
            "bin_end": 6.2,
            "count": 0
           },
           {
            "bin_start": 6.2,
            "bin_end": 6.8,
            "count": 0
           },
           {
            "bin_start": 6.8,
            "bin_end": 7.3999999999999995,
            "count": 0
           },
           {
            "bin_start": 7.3999999999999995,
            "bin_end": 8,
            "count": 1
           }
          ]
         }
        },
        {
         "name": "LATITUDE",
         "dtype": "float64",
         "stats": {
          "unique_count": 2,
          "nan_count": 0,
          "min": "41.940040917",
          "max": "42.001675862",
          "histogram": [
           {
            "bin_start": 41.940040917,
            "bin_end": 41.9462044115,
            "count": 1
           },
           {
            "bin_start": 41.9462044115,
            "bin_end": 41.952367906,
            "count": 0
           },
           {
            "bin_start": 41.952367906,
            "bin_end": 41.9585314005,
            "count": 0
           },
           {
            "bin_start": 41.9585314005,
            "bin_end": 41.964694895,
            "count": 0
           },
           {
            "bin_start": 41.964694895,
            "bin_end": 41.970858389499995,
            "count": 0
           },
           {
            "bin_start": 41.970858389499995,
            "bin_end": 41.977021883999996,
            "count": 0
           },
           {
            "bin_start": 41.977021883999996,
            "bin_end": 41.983185378499996,
            "count": 0
           },
           {
            "bin_start": 41.983185378499996,
            "bin_end": 41.989348873,
            "count": 0
           },
           {
            "bin_start": 41.989348873,
            "bin_end": 41.9955123675,
            "count": 0
           },
           {
            "bin_start": 41.9955123675,
            "bin_end": 42.001675862,
            "count": 1
           }
          ]
         }
        },
        {
         "name": "LONGITUDE",
         "dtype": "float64",
         "stats": {
          "unique_count": 2,
          "nan_count": 0,
          "min": "-87.666364005",
          "max": "-87.65092322299999",
          "histogram": [
           {
            "bin_start": -87.666364005,
            "bin_end": -87.6648199268,
            "count": 1
           },
           {
            "bin_start": -87.6648199268,
            "bin_end": -87.66327584860001,
            "count": 0
           },
           {
            "bin_start": -87.66327584860001,
            "bin_end": -87.6617317704,
            "count": 0
           },
           {
            "bin_start": -87.6617317704,
            "bin_end": -87.6601876922,
            "count": 0
           },
           {
            "bin_start": -87.6601876922,
            "bin_end": -87.658643614,
            "count": 0
           },
           {
            "bin_start": -87.658643614,
            "bin_end": -87.6570995358,
            "count": 0
           },
           {
            "bin_start": -87.6570995358,
            "bin_end": -87.6555554576,
            "count": 0
           },
           {
            "bin_start": -87.6555554576,
            "bin_end": -87.65401137939999,
            "count": 0
           },
           {
            "bin_start": -87.65401137939999,
            "bin_end": -87.65246730119999,
            "count": 0
           },
           {
            "bin_start": -87.65246730119999,
            "bin_end": -87.65092322299999,
            "count": 1
           }
          ]
         }
        },
        {
         "name": "LOCATION",
         "dtype": "object",
         "stats": {
          "unique_count": 2,
          "nan_count": 0,
          "categories": [
           {
            "name": "POINT (-87.666364005301 42.001675862416)",
            "count": 1
           },
           {
            "name": "POINT (-87.650923222567 41.940040917032)",
            "count": 1
           }
          ]
         }
        },
        {
         "name": "date_real",
         "dtype": "object",
         "stats": {
          "unique_count": 2,
          "nan_count": 0,
          "categories": [
           {
            "name": "2017-02-14",
            "count": 1
           },
           {
            "name": "2019-08-13",
            "count": 1
           }
          ]
         }
        },
        {
         "name": "_deepnote_index_column",
         "dtype": "int64"
        }
       ],
       "rows_top": [
        {
         "Unnamed: 0": 290702,
         "CRASH_RECORD_ID": "9e97e92753166de921a0e87199513aa841142c6fbb3a1ea166f4e3ec5f919e4002ef990a54b8c540c17fc2316727ee19b30…",
         "RD_NO": "JA154528",
         "CRASH_DATE_EST_I": "nan",
         "CRASH_DATE": "2017-02-14T10:00:00.000000",
         "POSTED_SPEED_LIMIT": 30,
         "TRAFFIC_CONTROL_DEVICE": "NO CONTROLS",
         "DEVICE_CONDITION": "NO CONTROLS",
         "WEATHER_CONDITION": "CLEAR",
         "LIGHTING_CONDITION": "DAYLIGHT",
         "FIRST_CRASH_TYPE": "PARKED MOTOR VEHICLE",
         "TRAFFICWAY_TYPE": "ONE-WAY",
         "LANE_CNT": "nan",
         "ALIGNMENT": "STRAIGHT AND LEVEL",
         "ROADWAY_SURFACE_COND": "DRY",
         "ROAD_DEFECT": "NO DEFECTS",
         "REPORT_TYPE": "NOT ON SCENE (DESK REPORT)",
         "CRASH_TYPE": "NO INJURY / DRIVE AWAY",
         "INTERSECTION_RELATED_I": "nan",
         "NOT_RIGHT_OF_WAY_I": "nan",
         "HIT_AND_RUN_I": "Y",
         "DAMAGE": "$500 OR LESS",
         "DATE_POLICE_NOTIFIED": "02/15/2017 11:22:00 AM",
         "PRIM_CONTRIBUTORY_CAUSE": "UNABLE TO DETERMINE",
         "SEC_CONTRIBUTORY_CAUSE": "UNABLE TO DETERMINE",
         "STREET_NO": 1417,
         "STREET_DIRECTION": "W",
         "STREET_NAME": "ALBION AVE",
         "BEAT_OF_OCCURRENCE": 2432,
         "PHOTOS_TAKEN_I": "nan",
         "STATEMENTS_TAKEN_I": "nan",
         "DOORING_I": "nan",
         "WORK_ZONE_I": "nan",
         "WORK_ZONE_TYPE": "nan",
         "WORKERS_PRESENT_I": "nan",
         "NUM_UNITS": 2,
         "MOST_SEVERE_INJURY": "NO INDICATION OF INJURY",
         "INJURIES_TOTAL": 0,
         "INJURIES_FATAL": 0,
         "INJURIES_INCAPACITATING": 0,
         "INJURIES_NON_INCAPACITATING": 0,
         "INJURIES_REPORTED_NOT_EVIDENT": 0,
         "INJURIES_NO_INDICATION": 1,
         "INJURIES_UNKNOWN": 0,
         "CRASH_HOUR": 10,
         "CRASH_DAY_OF_WEEK": 3,
         "CRASH_MONTH": 2,
         "LATITUDE": 42.001675862,
         "LONGITUDE": -87.666364005,
         "LOCATION": "POINT (-87.666364005301 42.001675862416)",
         "date_real": "2017-02-14",
         "_deepnote_index_column": 0
        },
        {
         "Unnamed: 0": 405524,
         "CRASH_RECORD_ID": "e5fe82ab7757d630a7f79927113bc63b5bede0cda7466568034102305859bac13dde19a66a69fcca588fda8e54f05f2dba7…",
         "RD_NO": "JC391213",
         "CRASH_DATE_EST_I": "nan",
         "CRASH_DATE": "2019-08-13T19:12:00.000000",
         "POSTED_SPEED_LIMIT": 35,
         "TRAFFIC_CONTROL_DEVICE": "TRAFFIC SIGNAL",
         "DEVICE_CONDITION": "FUNCTIONING PROPERLY",
         "WEATHER_CONDITION": "CLEAR",
         "LIGHTING_CONDITION": "DAYLIGHT",
         "FIRST_CRASH_TYPE": "SIDESWIPE SAME DIRECTION",
         "TRAFFICWAY_TYPE": "DIVIDED - W/MEDIAN (NOT RAISED)",
         "LANE_CNT": "nan",
         "ALIGNMENT": "STRAIGHT AND LEVEL",
         "ROADWAY_SURFACE_COND": "DRY",
         "ROAD_DEFECT": "NO DEFECTS",
         "REPORT_TYPE": "ON SCENE",
         "CRASH_TYPE": "NO INJURY / DRIVE AWAY",
         "INTERSECTION_RELATED_I": "nan",
         "NOT_RIGHT_OF_WAY_I": "nan",
         "HIT_AND_RUN_I": "nan",
         "DAMAGE": "$500 OR LESS",
         "DATE_POLICE_NOTIFIED": "08/13/2019 07:13:00 PM",
         "PRIM_CONTRIBUTORY_CAUSE": "IMPROPER OVERTAKING/PASSING",
         "SEC_CONTRIBUTORY_CAUSE": "NOT APPLICABLE",
         "STREET_NO": 3202,
         "STREET_DIRECTION": "N",
         "STREET_NAME": "CLARK ST",
         "BEAT_OF_OCCURRENCE": 1924,
         "PHOTOS_TAKEN_I": "nan",
         "STATEMENTS_TAKEN_I": "nan",
         "DOORING_I": "nan",
         "WORK_ZONE_I": "nan",
         "WORK_ZONE_TYPE": "nan",
         "WORKERS_PRESENT_I": "nan",
         "NUM_UNITS": 2,
         "MOST_SEVERE_INJURY": "NO INDICATION OF INJURY",
         "INJURIES_TOTAL": 0,
         "INJURIES_FATAL": 0,
         "INJURIES_INCAPACITATING": 0,
         "INJURIES_NON_INCAPACITATING": 0,
         "INJURIES_REPORTED_NOT_EVIDENT": 0,
         "INJURIES_NO_INDICATION": 8,
         "INJURIES_UNKNOWN": 0,
         "CRASH_HOUR": 19,
         "CRASH_DAY_OF_WEEK": 3,
         "CRASH_MONTH": 8,
         "LATITUDE": 41.940040917,
         "LONGITUDE": -87.65092322299999,
         "LOCATION": "POINT (-87.650923222567 41.940040917032)",
         "date_real": "2019-08-13",
         "_deepnote_index_column": 1
        }
       ],
       "rows_bottom": null
      },
      "text/plain": "   Unnamed: 0                                    CRASH_RECORD_ID     RD_NO  \\\n0      290702  9e97e92753166de921a0e87199513aa841142c6fbb3a1e...  JA154528   \n1      405524  e5fe82ab7757d630a7f79927113bc63b5bede0cda74665...  JC391213   \n\n  CRASH_DATE_EST_I                CRASH_DATE  POSTED_SPEED_LIMIT  \\\n0              NaN 2017-02-14 10:00:00+00:00                  30   \n1              NaN 2019-08-13 19:12:00+00:00                  35   \n\n  TRAFFIC_CONTROL_DEVICE      DEVICE_CONDITION WEATHER_CONDITION  \\\n0            NO CONTROLS           NO CONTROLS             CLEAR   \n1         TRAFFIC SIGNAL  FUNCTIONING PROPERLY             CLEAR   \n\n  LIGHTING_CONDITION  ... INJURIES_REPORTED_NOT_EVIDENT  \\\n0           DAYLIGHT  ...                           0.0   \n1           DAYLIGHT  ...                           0.0   \n\n  INJURIES_NO_INDICATION  INJURIES_UNKNOWN CRASH_HOUR CRASH_DAY_OF_WEEK  \\\n0                    1.0               0.0         10                 3   \n1                    8.0               0.0         19                 3   \n\n  CRASH_MONTH   LATITUDE  LONGITUDE                                  LOCATION  \\\n0           2  42.001676 -87.666364  POINT (-87.666364005301 42.001675862416)   \n1           8  41.940041 -87.650923  POINT (-87.650923222567 41.940040917032)   \n\n    date_real  \n0  2017-02-14  \n1  2019-08-13  \n\n[2 rows x 51 columns]",
      "text/html": "<div>\n<style scoped>\n    .dataframe tbody tr th:only-of-type {\n        vertical-align: middle;\n    }\n\n    .dataframe tbody tr th {\n        vertical-align: top;\n    }\n\n    .dataframe thead th {\n        text-align: right;\n    }\n</style>\n<table border=\"1\" class=\"dataframe\">\n  <thead>\n    <tr style=\"text-align: right;\">\n      <th></th>\n      <th>Unnamed: 0</th>\n      <th>CRASH_RECORD_ID</th>\n      <th>RD_NO</th>\n      <th>CRASH_DATE_EST_I</th>\n      <th>CRASH_DATE</th>\n      <th>POSTED_SPEED_LIMIT</th>\n      <th>TRAFFIC_CONTROL_DEVICE</th>\n      <th>DEVICE_CONDITION</th>\n      <th>WEATHER_CONDITION</th>\n      <th>LIGHTING_CONDITION</th>\n      <th>...</th>\n      <th>INJURIES_REPORTED_NOT_EVIDENT</th>\n      <th>INJURIES_NO_INDICATION</th>\n      <th>INJURIES_UNKNOWN</th>\n      <th>CRASH_HOUR</th>\n      <th>CRASH_DAY_OF_WEEK</th>\n      <th>CRASH_MONTH</th>\n      <th>LATITUDE</th>\n      <th>LONGITUDE</th>\n      <th>LOCATION</th>\n      <th>date_real</th>\n    </tr>\n  </thead>\n  <tbody>\n    <tr>\n      <th>0</th>\n      <td>290702</td>\n      <td>9e97e92753166de921a0e87199513aa841142c6fbb3a1e...</td>\n      <td>JA154528</td>\n      <td>NaN</td>\n      <td>2017-02-14 10:00:00+00:00</td>\n      <td>30</td>\n      <td>NO CONTROLS</td>\n      <td>NO CONTROLS</td>\n      <td>CLEAR</td>\n      <td>DAYLIGHT</td>\n      <td>...</td>\n      <td>0.0</td>\n      <td>1.0</td>\n      <td>0.0</td>\n      <td>10</td>\n      <td>3</td>\n      <td>2</td>\n      <td>42.001676</td>\n      <td>-87.666364</td>\n      <td>POINT (-87.666364005301 42.001675862416)</td>\n      <td>2017-02-14</td>\n    </tr>\n    <tr>\n      <th>1</th>\n      <td>405524</td>\n      <td>e5fe82ab7757d630a7f79927113bc63b5bede0cda74665...</td>\n      <td>JC391213</td>\n      <td>NaN</td>\n      <td>2019-08-13 19:12:00+00:00</td>\n      <td>35</td>\n      <td>TRAFFIC SIGNAL</td>\n      <td>FUNCTIONING PROPERLY</td>\n      <td>CLEAR</td>\n      <td>DAYLIGHT</td>\n      <td>...</td>\n      <td>0.0</td>\n      <td>8.0</td>\n      <td>0.0</td>\n      <td>19</td>\n      <td>3</td>\n      <td>8</td>\n      <td>41.940041</td>\n      <td>-87.650923</td>\n      <td>POINT (-87.650923222567 41.940040917032)</td>\n      <td>2019-08-13</td>\n    </tr>\n  </tbody>\n</table>\n<p>2 rows × 51 columns</p>\n</div>"
     },
     "metadata": {}
    }
   ],
   "execution_count": 2
  },
  {
   "cell_type": "markdown",
   "source": "## Tipo de reporte de acuerdo con la condición de la luz.",
   "metadata": {
    "tags": [],
    "cell_id": "00004-63f79280-8e4a-4752-a626-a39a539d1ab3",
    "deepnote_cell_type": "markdown"
   }
  },
  {
   "cell_type": "code",
   "source": "reporte_1 = Chicago_df.groupby(['LIGHTING_CONDITION','REPORT_TYPE','CRASH_HOUR']).agg({'NUM_UNITS':'sum',})\nreporte_1 = reporte_1.reset_index()\nreporte_1",
   "metadata": {
    "tags": [],
    "cell_id": "00005-7a0e0700-5fac-4ac9-86c6-7e7237031e04",
    "deepnote_to_be_reexecuted": false,
    "source_hash": "19ac5471",
    "execution_start": 1635520921066,
    "execution_millis": 98,
    "deepnote_cell_type": "code"
   },
   "outputs": [
    {
     "output_type": "execute_result",
     "execution_count": 3,
     "data": {
      "application/vnd.deepnote.dataframe.v2+json": {
       "row_count": 291,
       "column_count": 4,
       "columns": [
        {
         "name": "LIGHTING_CONDITION",
         "dtype": "object",
         "stats": {
          "unique_count": 6,
          "nan_count": 0,
          "categories": [
           {
            "name": "DAYLIGHT",
            "count": 57
           },
           {
            "name": "DARKNESS, LIGHTED ROAD",
            "count": 51
           },
           {
            "name": "4 others",
            "count": 183
           }
          ]
         }
        },
        {
         "name": "REPORT_TYPE",
         "dtype": "object",
         "stats": {
          "unique_count": 3,
          "nan_count": 0,
          "categories": [
           {
            "name": "NOT ON SCENE (DESK REPORT)",
            "count": 139
           },
           {
            "name": "ON SCENE",
            "count": 137
           },
           {
            "name": "AMENDED",
            "count": 15
           }
          ]
         }
        },
        {
         "name": "CRASH_HOUR",
         "dtype": "int64",
         "stats": {
          "unique_count": 24,
          "nan_count": 0,
          "min": "0",
          "max": "23",
          "histogram": [
           {
            "bin_start": 0,
            "bin_end": 2.3,
            "count": 36
           },
           {
            "bin_start": 2.3,
            "bin_end": 4.6,
            "count": 23
           },
           {
            "bin_start": 4.6,
            "bin_end": 6.8999999999999995,
            "count": 25
           },
           {
            "bin_start": 6.8999999999999995,
            "bin_end": 9.2,
            "count": 35
           },
           {
            "bin_start": 9.2,
            "bin_end": 11.5,
            "count": 23
           },
           {
            "bin_start": 11.5,
            "bin_end": 13.799999999999999,
            "count": 23
           },
           {
            "bin_start": 13.799999999999999,
            "bin_end": 16.099999999999998,
            "count": 38
           },
           {
            "bin_start": 16.099999999999998,
            "bin_end": 18.4,
            "count": 25
           },
           {
            "bin_start": 18.4,
            "bin_end": 20.7,
            "count": 27
           },
           {
            "bin_start": 20.7,
            "bin_end": 23,
            "count": 36
           }
          ]
         }
        },
        {
         "name": "NUM_UNITS",
         "dtype": "int64",
         "stats": {
          "unique_count": 134,
          "nan_count": 0,
          "min": "1",
          "max": "2546",
          "histogram": [
           {
            "bin_start": 1,
            "bin_end": 255.5,
            "count": 245
           },
           {
            "bin_start": 255.5,
            "bin_end": 510,
            "count": 13
           },
           {
            "bin_start": 510,
            "bin_end": 764.5,
            "count": 10
           },
           {
            "bin_start": 764.5,
            "bin_end": 1019,
            "count": 2
           },
           {
            "bin_start": 1019,
            "bin_end": 1273.5,
            "count": 8
           },
           {
            "bin_start": 1273.5,
            "bin_end": 1528,
            "count": 6
           },
           {
            "bin_start": 1528,
            "bin_end": 1782.5,
            "count": 2
           },
           {
            "bin_start": 1782.5,
            "bin_end": 2037,
            "count": 1
           },
           {
            "bin_start": 2037,
            "bin_end": 2291.5,
            "count": 2
           },
           {
            "bin_start": 2291.5,
            "bin_end": 2546,
            "count": 2
           }
          ]
         }
        },
        {
         "name": "_deepnote_index_column",
         "dtype": "int64"
        }
       ],
       "rows_top": [
        {
         "LIGHTING_CONDITION": "DARKNESS",
         "REPORT_TYPE": "AMENDED",
         "CRASH_HOUR": 20,
         "NUM_UNITS": 2,
         "_deepnote_index_column": 0
        },
        {
         "LIGHTING_CONDITION": "DARKNESS",
         "REPORT_TYPE": "NOT ON SCENE (DESK REPORT)",
         "CRASH_HOUR": 0,
         "NUM_UNITS": 97,
         "_deepnote_index_column": 1
        },
        {
         "LIGHTING_CONDITION": "DARKNESS",
         "REPORT_TYPE": "NOT ON SCENE (DESK REPORT)",
         "CRASH_HOUR": 1,
         "NUM_UNITS": 86,
         "_deepnote_index_column": 2
        },
        {
         "LIGHTING_CONDITION": "DARKNESS",
         "REPORT_TYPE": "NOT ON SCENE (DESK REPORT)",
         "CRASH_HOUR": 2,
         "NUM_UNITS": 64,
         "_deepnote_index_column": 3
        },
        {
         "LIGHTING_CONDITION": "DARKNESS",
         "REPORT_TYPE": "NOT ON SCENE (DESK REPORT)",
         "CRASH_HOUR": 3,
         "NUM_UNITS": 57,
         "_deepnote_index_column": 4
        },
        {
         "LIGHTING_CONDITION": "DARKNESS",
         "REPORT_TYPE": "NOT ON SCENE (DESK REPORT)",
         "CRASH_HOUR": 4,
         "NUM_UNITS": 46,
         "_deepnote_index_column": 5
        },
        {
         "LIGHTING_CONDITION": "DARKNESS",
         "REPORT_TYPE": "NOT ON SCENE (DESK REPORT)",
         "CRASH_HOUR": 5,
         "NUM_UNITS": 40,
         "_deepnote_index_column": 6
        },
        {
         "LIGHTING_CONDITION": "DARKNESS",
         "REPORT_TYPE": "NOT ON SCENE (DESK REPORT)",
         "CRASH_HOUR": 6,
         "NUM_UNITS": 29,
         "_deepnote_index_column": 7
        },
        {
         "LIGHTING_CONDITION": "DARKNESS",
         "REPORT_TYPE": "NOT ON SCENE (DESK REPORT)",
         "CRASH_HOUR": 7,
         "NUM_UNITS": 11,
         "_deepnote_index_column": 8
        },
        {
         "LIGHTING_CONDITION": "DARKNESS",
         "REPORT_TYPE": "NOT ON SCENE (DESK REPORT)",
         "CRASH_HOUR": 8,
         "NUM_UNITS": 2,
         "_deepnote_index_column": 9
        },
        {
         "LIGHTING_CONDITION": "DARKNESS",
         "REPORT_TYPE": "NOT ON SCENE (DESK REPORT)",
         "CRASH_HOUR": 9,
         "NUM_UNITS": 9,
         "_deepnote_index_column": 10
        },
        {
         "LIGHTING_CONDITION": "DARKNESS",
         "REPORT_TYPE": "NOT ON SCENE (DESK REPORT)",
         "CRASH_HOUR": 10,
         "NUM_UNITS": 12,
         "_deepnote_index_column": 11
        },
        {
         "LIGHTING_CONDITION": "DARKNESS",
         "REPORT_TYPE": "NOT ON SCENE (DESK REPORT)",
         "CRASH_HOUR": 11,
         "NUM_UNITS": 2,
         "_deepnote_index_column": 12
        },
        {
         "LIGHTING_CONDITION": "DARKNESS",
         "REPORT_TYPE": "NOT ON SCENE (DESK REPORT)",
         "CRASH_HOUR": 12,
         "NUM_UNITS": 4,
         "_deepnote_index_column": 13
        },
        {
         "LIGHTING_CONDITION": "DARKNESS",
         "REPORT_TYPE": "NOT ON SCENE (DESK REPORT)",
         "CRASH_HOUR": 14,
         "NUM_UNITS": 9,
         "_deepnote_index_column": 14
        },
        {
         "LIGHTING_CONDITION": "DARKNESS",
         "REPORT_TYPE": "NOT ON SCENE (DESK REPORT)",
         "CRASH_HOUR": 15,
         "NUM_UNITS": 16,
         "_deepnote_index_column": 15
        },
        {
         "LIGHTING_CONDITION": "DARKNESS",
         "REPORT_TYPE": "NOT ON SCENE (DESK REPORT)",
         "CRASH_HOUR": 16,
         "NUM_UNITS": 38,
         "_deepnote_index_column": 16
        },
        {
         "LIGHTING_CONDITION": "DARKNESS",
         "REPORT_TYPE": "NOT ON SCENE (DESK REPORT)",
         "CRASH_HOUR": 17,
         "NUM_UNITS": 182,
         "_deepnote_index_column": 17
        },
        {
         "LIGHTING_CONDITION": "DARKNESS",
         "REPORT_TYPE": "NOT ON SCENE (DESK REPORT)",
         "CRASH_HOUR": 18,
         "NUM_UNITS": 214,
         "_deepnote_index_column": 18
        },
        {
         "LIGHTING_CONDITION": "DARKNESS",
         "REPORT_TYPE": "NOT ON SCENE (DESK REPORT)",
         "CRASH_HOUR": 19,
         "NUM_UNITS": 214,
         "_deepnote_index_column": 19
        },
        {
         "LIGHTING_CONDITION": "DARKNESS",
         "REPORT_TYPE": "NOT ON SCENE (DESK REPORT)",
         "CRASH_HOUR": 20,
         "NUM_UNITS": 189,
         "_deepnote_index_column": 20
        },
        {
         "LIGHTING_CONDITION": "DARKNESS",
         "REPORT_TYPE": "NOT ON SCENE (DESK REPORT)",
         "CRASH_HOUR": 21,
         "NUM_UNITS": 201,
         "_deepnote_index_column": 21
        },
        {
         "LIGHTING_CONDITION": "DARKNESS",
         "REPORT_TYPE": "NOT ON SCENE (DESK REPORT)",
         "CRASH_HOUR": 22,
         "NUM_UNITS": 162,
         "_deepnote_index_column": 22
        },
        {
         "LIGHTING_CONDITION": "DARKNESS",
         "REPORT_TYPE": "NOT ON SCENE (DESK REPORT)",
         "CRASH_HOUR": 23,
         "NUM_UNITS": 138,
         "_deepnote_index_column": 23
        },
        {
         "LIGHTING_CONDITION": "DARKNESS",
         "REPORT_TYPE": "ON SCENE",
         "CRASH_HOUR": 0,
         "NUM_UNITS": 51,
         "_deepnote_index_column": 24
        },
        {
         "LIGHTING_CONDITION": "DARKNESS",
         "REPORT_TYPE": "ON SCENE",
         "CRASH_HOUR": 1,
         "NUM_UNITS": 66,
         "_deepnote_index_column": 25
        },
        {
         "LIGHTING_CONDITION": "DARKNESS",
         "REPORT_TYPE": "ON SCENE",
         "CRASH_HOUR": 2,
         "NUM_UNITS": 67,
         "_deepnote_index_column": 26
        },
        {
         "LIGHTING_CONDITION": "DARKNESS",
         "REPORT_TYPE": "ON SCENE",
         "CRASH_HOUR": 3,
         "NUM_UNITS": 56,
         "_deepnote_index_column": 27
        },
        {
         "LIGHTING_CONDITION": "DARKNESS",
         "REPORT_TYPE": "ON SCENE",
         "CRASH_HOUR": 4,
         "NUM_UNITS": 89,
         "_deepnote_index_column": 28
        },
        {
         "LIGHTING_CONDITION": "DARKNESS",
         "REPORT_TYPE": "ON SCENE",
         "CRASH_HOUR": 5,
         "NUM_UNITS": 27,
         "_deepnote_index_column": 29
        },
        {
         "LIGHTING_CONDITION": "DARKNESS",
         "REPORT_TYPE": "ON SCENE",
         "CRASH_HOUR": 6,
         "NUM_UNITS": 19,
         "_deepnote_index_column": 30
        },
        {
         "LIGHTING_CONDITION": "DARKNESS",
         "REPORT_TYPE": "ON SCENE",
         "CRASH_HOUR": 7,
         "NUM_UNITS": 6,
         "_deepnote_index_column": 31
        },
        {
         "LIGHTING_CONDITION": "DARKNESS",
         "REPORT_TYPE": "ON SCENE",
         "CRASH_HOUR": 9,
         "NUM_UNITS": 2,
         "_deepnote_index_column": 32
        },
        {
         "LIGHTING_CONDITION": "DARKNESS",
         "REPORT_TYPE": "ON SCENE",
         "CRASH_HOUR": 11,
         "NUM_UNITS": 2,
         "_deepnote_index_column": 33
        },
        {
         "LIGHTING_CONDITION": "DARKNESS",
         "REPORT_TYPE": "ON SCENE",
         "CRASH_HOUR": 12,
         "NUM_UNITS": 2,
         "_deepnote_index_column": 34
        },
        {
         "LIGHTING_CONDITION": "DARKNESS",
         "REPORT_TYPE": "ON SCENE",
         "CRASH_HOUR": 14,
         "NUM_UNITS": 2,
         "_deepnote_index_column": 35
        },
        {
         "LIGHTING_CONDITION": "DARKNESS",
         "REPORT_TYPE": "ON SCENE",
         "CRASH_HOUR": 15,
         "NUM_UNITS": 4,
         "_deepnote_index_column": 36
        },
        {
         "LIGHTING_CONDITION": "DARKNESS",
         "REPORT_TYPE": "ON SCENE",
         "CRASH_HOUR": 16,
         "NUM_UNITS": 16,
         "_deepnote_index_column": 37
        },
        {
         "LIGHTING_CONDITION": "DARKNESS",
         "REPORT_TYPE": "ON SCENE",
         "CRASH_HOUR": 17,
         "NUM_UNITS": 57,
         "_deepnote_index_column": 38
        },
        {
         "LIGHTING_CONDITION": "DARKNESS",
         "REPORT_TYPE": "ON SCENE",
         "CRASH_HOUR": 18,
         "NUM_UNITS": 113,
         "_deepnote_index_column": 39
        },
        {
         "LIGHTING_CONDITION": "DARKNESS",
         "REPORT_TYPE": "ON SCENE",
         "CRASH_HOUR": 19,
         "NUM_UNITS": 99,
         "_deepnote_index_column": 40
        },
        {
         "LIGHTING_CONDITION": "DARKNESS",
         "REPORT_TYPE": "ON SCENE",
         "CRASH_HOUR": 20,
         "NUM_UNITS": 141,
         "_deepnote_index_column": 41
        },
        {
         "LIGHTING_CONDITION": "DARKNESS",
         "REPORT_TYPE": "ON SCENE",
         "CRASH_HOUR": 21,
         "NUM_UNITS": 92,
         "_deepnote_index_column": 42
        },
        {
         "LIGHTING_CONDITION": "DARKNESS",
         "REPORT_TYPE": "ON SCENE",
         "CRASH_HOUR": 22,
         "NUM_UNITS": 73,
         "_deepnote_index_column": 43
        },
        {
         "LIGHTING_CONDITION": "DARKNESS",
         "REPORT_TYPE": "ON SCENE",
         "CRASH_HOUR": 23,
         "NUM_UNITS": 74,
         "_deepnote_index_column": 44
        },
        {
         "LIGHTING_CONDITION": "DARKNESS, LIGHTED ROAD",
         "REPORT_TYPE": "AMENDED",
         "CRASH_HOUR": 21,
         "NUM_UNITS": 2,
         "_deepnote_index_column": 45
        },
        {
         "LIGHTING_CONDITION": "DARKNESS, LIGHTED ROAD",
         "REPORT_TYPE": "AMENDED",
         "CRASH_HOUR": 22,
         "NUM_UNITS": 1,
         "_deepnote_index_column": 46
        },
        {
         "LIGHTING_CONDITION": "DARKNESS, LIGHTED ROAD",
         "REPORT_TYPE": "AMENDED",
         "CRASH_HOUR": 23,
         "NUM_UNITS": 2,
         "_deepnote_index_column": 47
        },
        {
         "LIGHTING_CONDITION": "DARKNESS, LIGHTED ROAD",
         "REPORT_TYPE": "NOT ON SCENE (DESK REPORT)",
         "CRASH_HOUR": 0,
         "NUM_UNITS": 286,
         "_deepnote_index_column": 48
        },
        {
         "LIGHTING_CONDITION": "DARKNESS, LIGHTED ROAD",
         "REPORT_TYPE": "NOT ON SCENE (DESK REPORT)",
         "CRASH_HOUR": 1,
         "NUM_UNITS": 247,
         "_deepnote_index_column": 49
        },
        {
         "LIGHTING_CONDITION": "DARKNESS, LIGHTED ROAD",
         "REPORT_TYPE": "NOT ON SCENE (DESK REPORT)",
         "CRASH_HOUR": 2,
         "NUM_UNITS": 213,
         "_deepnote_index_column": 50
        },
        {
         "LIGHTING_CONDITION": "DARKNESS, LIGHTED ROAD",
         "REPORT_TYPE": "NOT ON SCENE (DESK REPORT)",
         "CRASH_HOUR": 3,
         "NUM_UNITS": 140,
         "_deepnote_index_column": 51
        },
        {
         "LIGHTING_CONDITION": "DARKNESS, LIGHTED ROAD",
         "REPORT_TYPE": "NOT ON SCENE (DESK REPORT)",
         "CRASH_HOUR": 4,
         "NUM_UNITS": 127,
         "_deepnote_index_column": 52
        },
        {
         "LIGHTING_CONDITION": "DARKNESS, LIGHTED ROAD",
         "REPORT_TYPE": "NOT ON SCENE (DESK REPORT)",
         "CRASH_HOUR": 5,
         "NUM_UNITS": 124,
         "_deepnote_index_column": 53
        },
        {
         "LIGHTING_CONDITION": "DARKNESS, LIGHTED ROAD",
         "REPORT_TYPE": "NOT ON SCENE (DESK REPORT)",
         "CRASH_HOUR": 6,
         "NUM_UNITS": 82,
         "_deepnote_index_column": 54
        },
        {
         "LIGHTING_CONDITION": "DARKNESS, LIGHTED ROAD",
         "REPORT_TYPE": "NOT ON SCENE (DESK REPORT)",
         "CRASH_HOUR": 7,
         "NUM_UNITS": 16,
         "_deepnote_index_column": 55
        },
        {
         "LIGHTING_CONDITION": "DARKNESS, LIGHTED ROAD",
         "REPORT_TYPE": "NOT ON SCENE (DESK REPORT)",
         "CRASH_HOUR": 8,
         "NUM_UNITS": 18,
         "_deepnote_index_column": 56
        },
        {
         "LIGHTING_CONDITION": "DARKNESS, LIGHTED ROAD",
         "REPORT_TYPE": "NOT ON SCENE (DESK REPORT)",
         "CRASH_HOUR": 9,
         "NUM_UNITS": 23,
         "_deepnote_index_column": 57
        },
        {
         "LIGHTING_CONDITION": "DARKNESS, LIGHTED ROAD",
         "REPORT_TYPE": "NOT ON SCENE (DESK REPORT)",
         "CRASH_HOUR": 10,
         "NUM_UNITS": 19,
         "_deepnote_index_column": 58
        },
        {
         "LIGHTING_CONDITION": "DARKNESS, LIGHTED ROAD",
         "REPORT_TYPE": "NOT ON SCENE (DESK REPORT)",
         "CRASH_HOUR": 11,
         "NUM_UNITS": 20,
         "_deepnote_index_column": 59
        },
        {
         "LIGHTING_CONDITION": "DARKNESS, LIGHTED ROAD",
         "REPORT_TYPE": "NOT ON SCENE (DESK REPORT)",
         "CRASH_HOUR": 12,
         "NUM_UNITS": 22,
         "_deepnote_index_column": 60
        },
        {
         "LIGHTING_CONDITION": "DARKNESS, LIGHTED ROAD",
         "REPORT_TYPE": "NOT ON SCENE (DESK REPORT)",
         "CRASH_HOUR": 13,
         "NUM_UNITS": 6,
         "_deepnote_index_column": 61
        },
        {
         "LIGHTING_CONDITION": "DARKNESS, LIGHTED ROAD",
         "REPORT_TYPE": "NOT ON SCENE (DESK REPORT)",
         "CRASH_HOUR": 14,
         "NUM_UNITS": 14,
         "_deepnote_index_column": 62
        },
        {
         "LIGHTING_CONDITION": "DARKNESS, LIGHTED ROAD",
         "REPORT_TYPE": "NOT ON SCENE (DESK REPORT)",
         "CRASH_HOUR": 15,
         "NUM_UNITS": 18,
         "_deepnote_index_column": 63
        },
        {
         "LIGHTING_CONDITION": "DARKNESS, LIGHTED ROAD",
         "REPORT_TYPE": "NOT ON SCENE (DESK REPORT)",
         "CRASH_HOUR": 16,
         "NUM_UNITS": 112,
         "_deepnote_index_column": 64
        },
        {
         "LIGHTING_CONDITION": "DARKNESS, LIGHTED ROAD",
         "REPORT_TYPE": "NOT ON SCENE (DESK REPORT)",
         "CRASH_HOUR": 17,
         "NUM_UNITS": 399,
         "_deepnote_index_column": 65
        },
        {
         "LIGHTING_CONDITION": "DARKNESS, LIGHTED ROAD",
         "REPORT_TYPE": "NOT ON SCENE (DESK REPORT)",
         "CRASH_HOUR": 18,
         "NUM_UNITS": 502,
         "_deepnote_index_column": 66
        },
        {
         "LIGHTING_CONDITION": "DARKNESS, LIGHTED ROAD",
         "REPORT_TYPE": "NOT ON SCENE (DESK REPORT)",
         "CRASH_HOUR": 19,
         "NUM_UNITS": 606,
         "_deepnote_index_column": 67
        },
        {
         "LIGHTING_CONDITION": "DARKNESS, LIGHTED ROAD",
         "REPORT_TYPE": "NOT ON SCENE (DESK REPORT)",
         "CRASH_HOUR": 20,
         "NUM_UNITS": 677,
         "_deepnote_index_column": 68
        },
        {
         "LIGHTING_CONDITION": "DARKNESS, LIGHTED ROAD",
         "REPORT_TYPE": "NOT ON SCENE (DESK REPORT)",
         "CRASH_HOUR": 21,
         "NUM_UNITS": 672,
         "_deepnote_index_column": 69
        },
        {
         "LIGHTING_CONDITION": "DARKNESS, LIGHTED ROAD",
         "REPORT_TYPE": "NOT ON SCENE (DESK REPORT)",
         "CRASH_HOUR": 22,
         "NUM_UNITS": 613,
         "_deepnote_index_column": 70
        },
        {
         "LIGHTING_CONDITION": "DARKNESS, LIGHTED ROAD",
         "REPORT_TYPE": "NOT ON SCENE (DESK REPORT)",
         "CRASH_HOUR": 23,
         "NUM_UNITS": 424,
         "_deepnote_index_column": 71
        },
        {
         "LIGHTING_CONDITION": "DARKNESS, LIGHTED ROAD",
         "REPORT_TYPE": "ON SCENE",
         "CRASH_HOUR": 0,
         "NUM_UNITS": 618,
         "_deepnote_index_column": 72
        },
        {
         "LIGHTING_CONDITION": "DARKNESS, LIGHTED ROAD",
         "REPORT_TYPE": "ON SCENE",
         "CRASH_HOUR": 1,
         "NUM_UNITS": 475,
         "_deepnote_index_column": 73
        },
        {
         "LIGHTING_CONDITION": "DARKNESS, LIGHTED ROAD",
         "REPORT_TYPE": "ON SCENE",
         "CRASH_HOUR": 2,
         "NUM_UNITS": 509,
         "_deepnote_index_column": 74
        },
        {
         "LIGHTING_CONDITION": "DARKNESS, LIGHTED ROAD",
         "REPORT_TYPE": "ON SCENE",
         "CRASH_HOUR": 3,
         "NUM_UNITS": 356,
         "_deepnote_index_column": 75
        },
        {
         "LIGHTING_CONDITION": "DARKNESS, LIGHTED ROAD",
         "REPORT_TYPE": "ON SCENE",
         "CRASH_HOUR": 4,
         "NUM_UNITS": 246,
         "_deepnote_index_column": 76
        },
        {
         "LIGHTING_CONDITION": "DARKNESS, LIGHTED ROAD",
         "REPORT_TYPE": "ON SCENE",
         "CRASH_HOUR": 5,
         "NUM_UNITS": 221,
         "_deepnote_index_column": 77
        },
        {
         "LIGHTING_CONDITION": "DARKNESS, LIGHTED ROAD",
         "REPORT_TYPE": "ON SCENE",
         "CRASH_HOUR": 6,
         "NUM_UNITS": 120,
         "_deepnote_index_column": 78
        },
        {
         "LIGHTING_CONDITION": "DARKNESS, LIGHTED ROAD",
         "REPORT_TYPE": "ON SCENE",
         "CRASH_HOUR": 7,
         "NUM_UNITS": 10,
         "_deepnote_index_column": 79
        },
        {
         "LIGHTING_CONDITION": "DARKNESS, LIGHTED ROAD",
         "REPORT_TYPE": "ON SCENE",
         "CRASH_HOUR": 8,
         "NUM_UNITS": 5,
         "_deepnote_index_column": 80
        },
        {
         "LIGHTING_CONDITION": "DARKNESS, LIGHTED ROAD",
         "REPORT_TYPE": "ON SCENE",
         "CRASH_HOUR": 9,
         "NUM_UNITS": 11,
         "_deepnote_index_column": 81
        },
        {
         "LIGHTING_CONDITION": "DARKNESS, LIGHTED ROAD",
         "REPORT_TYPE": "ON SCENE",
         "CRASH_HOUR": 10,
         "NUM_UNITS": 9,
         "_deepnote_index_column": 82
        },
        {
         "LIGHTING_CONDITION": "DARKNESS, LIGHTED ROAD",
         "REPORT_TYPE": "ON SCENE",
         "CRASH_HOUR": 11,
         "NUM_UNITS": 11,
         "_deepnote_index_column": 83
        },
        {
         "LIGHTING_CONDITION": "DARKNESS, LIGHTED ROAD",
         "REPORT_TYPE": "ON SCENE",
         "CRASH_HOUR": 12,
         "NUM_UNITS": 2,
         "_deepnote_index_column": 84
        },
        {
         "LIGHTING_CONDITION": "DARKNESS, LIGHTED ROAD",
         "REPORT_TYPE": "ON SCENE",
         "CRASH_HOUR": 13,
         "NUM_UNITS": 1,
         "_deepnote_index_column": 85
        },
        {
         "LIGHTING_CONDITION": "DARKNESS, LIGHTED ROAD",
         "REPORT_TYPE": "ON SCENE",
         "CRASH_HOUR": 14,
         "NUM_UNITS": 6,
         "_deepnote_index_column": 86
        },
        {
         "LIGHTING_CONDITION": "DARKNESS, LIGHTED ROAD",
         "REPORT_TYPE": "ON SCENE",
         "CRASH_HOUR": 15,
         "NUM_UNITS": 10,
         "_deepnote_index_column": 87
        },
        {
         "LIGHTING_CONDITION": "DARKNESS, LIGHTED ROAD",
         "REPORT_TYPE": "ON SCENE",
         "CRASH_HOUR": 16,
         "NUM_UNITS": 99,
         "_deepnote_index_column": 88
        },
        {
         "LIGHTING_CONDITION": "DARKNESS, LIGHTED ROAD",
         "REPORT_TYPE": "ON SCENE",
         "CRASH_HOUR": 17,
         "NUM_UNITS": 347,
         "_deepnote_index_column": 89
        },
        {
         "LIGHTING_CONDITION": "DARKNESS, LIGHTED ROAD",
         "REPORT_TYPE": "ON SCENE",
         "CRASH_HOUR": 18,
         "NUM_UNITS": 385,
         "_deepnote_index_column": 90
        },
        {
         "LIGHTING_CONDITION": "DARKNESS, LIGHTED ROAD",
         "REPORT_TYPE": "ON SCENE",
         "CRASH_HOUR": 19,
         "NUM_UNITS": 429,
         "_deepnote_index_column": 91
        },
        {
         "LIGHTING_CONDITION": "DARKNESS, LIGHTED ROAD",
         "REPORT_TYPE": "ON SCENE",
         "CRASH_HOUR": 20,
         "NUM_UNITS": 512,
         "_deepnote_index_column": 92
        },
        {
         "LIGHTING_CONDITION": "DARKNESS, LIGHTED ROAD",
         "REPORT_TYPE": "ON SCENE",
         "CRASH_HOUR": 21,
         "NUM_UNITS": 612,
         "_deepnote_index_column": 93
        },
        {
         "LIGHTING_CONDITION": "DARKNESS, LIGHTED ROAD",
         "REPORT_TYPE": "ON SCENE",
         "CRASH_HOUR": 22,
         "NUM_UNITS": 688,
         "_deepnote_index_column": 94
        },
        {
         "LIGHTING_CONDITION": "DARKNESS, LIGHTED ROAD",
         "REPORT_TYPE": "ON SCENE",
         "CRASH_HOUR": 23,
         "NUM_UNITS": 649,
         "_deepnote_index_column": 95
        },
        {
         "LIGHTING_CONDITION": "DAWN",
         "REPORT_TYPE": "NOT ON SCENE (DESK REPORT)",
         "CRASH_HOUR": 0,
         "NUM_UNITS": 2,
         "_deepnote_index_column": 96
        },
        {
         "LIGHTING_CONDITION": "DAWN",
         "REPORT_TYPE": "NOT ON SCENE (DESK REPORT)",
         "CRASH_HOUR": 1,
         "NUM_UNITS": 2,
         "_deepnote_index_column": 97
        },
        {
         "LIGHTING_CONDITION": "DAWN",
         "REPORT_TYPE": "NOT ON SCENE (DESK REPORT)",
         "CRASH_HOUR": 2,
         "NUM_UNITS": 2,
         "_deepnote_index_column": 98
        },
        {
         "LIGHTING_CONDITION": "DAWN",
         "REPORT_TYPE": "NOT ON SCENE (DESK REPORT)",
         "CRASH_HOUR": 3,
         "NUM_UNITS": 4,
         "_deepnote_index_column": 99
        },
        {
         "LIGHTING_CONDITION": "DAWN",
         "REPORT_TYPE": "NOT ON SCENE (DESK REPORT)",
         "CRASH_HOUR": 4,
         "NUM_UNITS": 9,
         "_deepnote_index_column": 100
        },
        {
         "LIGHTING_CONDITION": "DAWN",
         "REPORT_TYPE": "NOT ON SCENE (DESK REPORT)",
         "CRASH_HOUR": 5,
         "NUM_UNITS": 74,
         "_deepnote_index_column": 101
        },
        {
         "LIGHTING_CONDITION": "DAWN",
         "REPORT_TYPE": "NOT ON SCENE (DESK REPORT)",
         "CRASH_HOUR": 6,
         "NUM_UNITS": 74,
         "_deepnote_index_column": 102
        },
        {
         "LIGHTING_CONDITION": "DAWN",
         "REPORT_TYPE": "NOT ON SCENE (DESK REPORT)",
         "CRASH_HOUR": 7,
         "NUM_UNITS": 41,
         "_deepnote_index_column": 103
        },
        {
         "LIGHTING_CONDITION": "DAWN",
         "REPORT_TYPE": "NOT ON SCENE (DESK REPORT)",
         "CRASH_HOUR": 8,
         "NUM_UNITS": 8,
         "_deepnote_index_column": 104
        },
        {
         "LIGHTING_CONDITION": "DAWN",
         "REPORT_TYPE": "NOT ON SCENE (DESK REPORT)",
         "CRASH_HOUR": 9,
         "NUM_UNITS": 8,
         "_deepnote_index_column": 105
        },
        {
         "LIGHTING_CONDITION": "DAWN",
         "REPORT_TYPE": "NOT ON SCENE (DESK REPORT)",
         "CRASH_HOUR": 10,
         "NUM_UNITS": 6,
         "_deepnote_index_column": 106
        },
        {
         "LIGHTING_CONDITION": "DAWN",
         "REPORT_TYPE": "NOT ON SCENE (DESK REPORT)",
         "CRASH_HOUR": 11,
         "NUM_UNITS": 2,
         "_deepnote_index_column": 107
        },
        {
         "LIGHTING_CONDITION": "DAWN",
         "REPORT_TYPE": "NOT ON SCENE (DESK REPORT)",
         "CRASH_HOUR": 12,
         "NUM_UNITS": 6,
         "_deepnote_index_column": 108
        },
        {
         "LIGHTING_CONDITION": "DAWN",
         "REPORT_TYPE": "NOT ON SCENE (DESK REPORT)",
         "CRASH_HOUR": 13,
         "NUM_UNITS": 8,
         "_deepnote_index_column": 109
        },
        {
         "LIGHTING_CONDITION": "DAWN",
         "REPORT_TYPE": "NOT ON SCENE (DESK REPORT)",
         "CRASH_HOUR": 14,
         "NUM_UNITS": 14,
         "_deepnote_index_column": 110
        },
        {
         "LIGHTING_CONDITION": "DAWN",
         "REPORT_TYPE": "NOT ON SCENE (DESK REPORT)",
         "CRASH_HOUR": 15,
         "NUM_UNITS": 16,
         "_deepnote_index_column": 111
        },
        {
         "LIGHTING_CONDITION": "DAWN",
         "REPORT_TYPE": "NOT ON SCENE (DESK REPORT)",
         "CRASH_HOUR": 16,
         "NUM_UNITS": 29,
         "_deepnote_index_column": 112
        },
        {
         "LIGHTING_CONDITION": "DAWN",
         "REPORT_TYPE": "NOT ON SCENE (DESK REPORT)",
         "CRASH_HOUR": 17,
         "NUM_UNITS": 66,
         "_deepnote_index_column": 113
        },
        {
         "LIGHTING_CONDITION": "DAWN",
         "REPORT_TYPE": "NOT ON SCENE (DESK REPORT)",
         "CRASH_HOUR": 18,
         "NUM_UNITS": 51,
         "_deepnote_index_column": 114
        },
        {
         "LIGHTING_CONDITION": "DAWN",
         "REPORT_TYPE": "NOT ON SCENE (DESK REPORT)",
         "CRASH_HOUR": 19,
         "NUM_UNITS": 53,
         "_deepnote_index_column": 115
        },
        {
         "LIGHTING_CONDITION": "DAWN",
         "REPORT_TYPE": "NOT ON SCENE (DESK REPORT)",
         "CRASH_HOUR": 20,
         "NUM_UNITS": 16,
         "_deepnote_index_column": 116
        },
        {
         "LIGHTING_CONDITION": "DAWN",
         "REPORT_TYPE": "NOT ON SCENE (DESK REPORT)",
         "CRASH_HOUR": 22,
         "NUM_UNITS": 4,
         "_deepnote_index_column": 117
        },
        {
         "LIGHTING_CONDITION": "DAWN",
         "REPORT_TYPE": "ON SCENE",
         "CRASH_HOUR": 0,
         "NUM_UNITS": 6,
         "_deepnote_index_column": 118
        },
        {
         "LIGHTING_CONDITION": "DAWN",
         "REPORT_TYPE": "ON SCENE",
         "CRASH_HOUR": 1,
         "NUM_UNITS": 2,
         "_deepnote_index_column": 119
        },
        {
         "LIGHTING_CONDITION": "DAWN",
         "REPORT_TYPE": "ON SCENE",
         "CRASH_HOUR": 2,
         "NUM_UNITS": 4,
         "_deepnote_index_column": 120
        },
        {
         "LIGHTING_CONDITION": "DAWN",
         "REPORT_TYPE": "ON SCENE",
         "CRASH_HOUR": 4,
         "NUM_UNITS": 18,
         "_deepnote_index_column": 121
        },
        {
         "LIGHTING_CONDITION": "DAWN",
         "REPORT_TYPE": "ON SCENE",
         "CRASH_HOUR": 5,
         "NUM_UNITS": 83,
         "_deepnote_index_column": 122
        },
        {
         "LIGHTING_CONDITION": "DAWN",
         "REPORT_TYPE": "ON SCENE",
         "CRASH_HOUR": 6,
         "NUM_UNITS": 134,
         "_deepnote_index_column": 123
        },
        {
         "LIGHTING_CONDITION": "DAWN",
         "REPORT_TYPE": "ON SCENE",
         "CRASH_HOUR": 7,
         "NUM_UNITS": 38,
         "_deepnote_index_column": 124
        }
       ],
       "rows_bottom": [
        {
         "LIGHTING_CONDITION": "DAYLIGHT",
         "REPORT_TYPE": "NOT ON SCENE (DESK REPORT)",
         "CRASH_HOUR": 15,
         "NUM_UNITS": 2546,
         "_deepnote_index_column": 166
        },
        {
         "LIGHTING_CONDITION": "DAYLIGHT",
         "REPORT_TYPE": "NOT ON SCENE (DESK REPORT)",
         "CRASH_HOUR": 16,
         "NUM_UNITS": 2206,
         "_deepnote_index_column": 167
        },
        {
         "LIGHTING_CONDITION": "DAYLIGHT",
         "REPORT_TYPE": "NOT ON SCENE (DESK REPORT)",
         "CRASH_HOUR": 17,
         "NUM_UNITS": 1735,
         "_deepnote_index_column": 168
        },
        {
         "LIGHTING_CONDITION": "DAYLIGHT",
         "REPORT_TYPE": "NOT ON SCENE (DESK REPORT)",
         "CRASH_HOUR": 18,
         "NUM_UNITS": 1024,
         "_deepnote_index_column": 169
        },
        {
         "LIGHTING_CONDITION": "DAYLIGHT",
         "REPORT_TYPE": "NOT ON SCENE (DESK REPORT)",
         "CRASH_HOUR": 19,
         "NUM_UNITS": 395,
         "_deepnote_index_column": 170
        },
        {
         "LIGHTING_CONDITION": "DAYLIGHT",
         "REPORT_TYPE": "NOT ON SCENE (DESK REPORT)",
         "CRASH_HOUR": 20,
         "NUM_UNITS": 103,
         "_deepnote_index_column": 171
        },
        {
         "LIGHTING_CONDITION": "DAYLIGHT",
         "REPORT_TYPE": "NOT ON SCENE (DESK REPORT)",
         "CRASH_HOUR": 21,
         "NUM_UNITS": 32,
         "_deepnote_index_column": 172
        },
        {
         "LIGHTING_CONDITION": "DAYLIGHT",
         "REPORT_TYPE": "NOT ON SCENE (DESK REPORT)",
         "CRASH_HOUR": 22,
         "NUM_UNITS": 22,
         "_deepnote_index_column": 173
        },
        {
         "LIGHTING_CONDITION": "DAYLIGHT",
         "REPORT_TYPE": "NOT ON SCENE (DESK REPORT)",
         "CRASH_HOUR": 23,
         "NUM_UNITS": 18,
         "_deepnote_index_column": 174
        },
        {
         "LIGHTING_CONDITION": "DAYLIGHT",
         "REPORT_TYPE": "ON SCENE",
         "CRASH_HOUR": 0,
         "NUM_UNITS": 11,
         "_deepnote_index_column": 175
        },
        {
         "LIGHTING_CONDITION": "DAYLIGHT",
         "REPORT_TYPE": "ON SCENE",
         "CRASH_HOUR": 1,
         "NUM_UNITS": 10,
         "_deepnote_index_column": 176
        },
        {
         "LIGHTING_CONDITION": "DAYLIGHT",
         "REPORT_TYPE": "ON SCENE",
         "CRASH_HOUR": 2,
         "NUM_UNITS": 4,
         "_deepnote_index_column": 177
        },
        {
         "LIGHTING_CONDITION": "DAYLIGHT",
         "REPORT_TYPE": "ON SCENE",
         "CRASH_HOUR": 3,
         "NUM_UNITS": 3,
         "_deepnote_index_column": 178
        },
        {
         "LIGHTING_CONDITION": "DAYLIGHT",
         "REPORT_TYPE": "ON SCENE",
         "CRASH_HOUR": 4,
         "NUM_UNITS": 19,
         "_deepnote_index_column": 179
        },
        {
         "LIGHTING_CONDITION": "DAYLIGHT",
         "REPORT_TYPE": "ON SCENE",
         "CRASH_HOUR": 5,
         "NUM_UNITS": 80,
         "_deepnote_index_column": 180
        },
        {
         "LIGHTING_CONDITION": "DAYLIGHT",
         "REPORT_TYPE": "ON SCENE",
         "CRASH_HOUR": 6,
         "NUM_UNITS": 320,
         "_deepnote_index_column": 181
        },
        {
         "LIGHTING_CONDITION": "DAYLIGHT",
         "REPORT_TYPE": "ON SCENE",
         "CRASH_HOUR": 7,
         "NUM_UNITS": 954,
         "_deepnote_index_column": 182
        },
        {
         "LIGHTING_CONDITION": "DAYLIGHT",
         "REPORT_TYPE": "ON SCENE",
         "CRASH_HOUR": 8,
         "NUM_UNITS": 1255,
         "_deepnote_index_column": 183
        },
        {
         "LIGHTING_CONDITION": "DAYLIGHT",
         "REPORT_TYPE": "ON SCENE",
         "CRASH_HOUR": 9,
         "NUM_UNITS": 1095,
         "_deepnote_index_column": 184
        },
        {
         "LIGHTING_CONDITION": "DAYLIGHT",
         "REPORT_TYPE": "ON SCENE",
         "CRASH_HOUR": 10,
         "NUM_UNITS": 989,
         "_deepnote_index_column": 185
        },
        {
         "LIGHTING_CONDITION": "DAYLIGHT",
         "REPORT_TYPE": "ON SCENE",
         "CRASH_HOUR": 11,
         "NUM_UNITS": 1170,
         "_deepnote_index_column": 186
        },
        {
         "LIGHTING_CONDITION": "DAYLIGHT",
         "REPORT_TYPE": "ON SCENE",
         "CRASH_HOUR": 12,
         "NUM_UNITS": 1245,
         "_deepnote_index_column": 187
        },
        {
         "LIGHTING_CONDITION": "DAYLIGHT",
         "REPORT_TYPE": "ON SCENE",
         "CRASH_HOUR": 13,
         "NUM_UNITS": 1088,
         "_deepnote_index_column": 188
        },
        {
         "LIGHTING_CONDITION": "DAYLIGHT",
         "REPORT_TYPE": "ON SCENE",
         "CRASH_HOUR": 14,
         "NUM_UNITS": 1177,
         "_deepnote_index_column": 189
        },
        {
         "LIGHTING_CONDITION": "DAYLIGHT",
         "REPORT_TYPE": "ON SCENE",
         "CRASH_HOUR": 15,
         "NUM_UNITS": 1332,
         "_deepnote_index_column": 190
        },
        {
         "LIGHTING_CONDITION": "DAYLIGHT",
         "REPORT_TYPE": "ON SCENE",
         "CRASH_HOUR": 16,
         "NUM_UNITS": 1287,
         "_deepnote_index_column": 191
        },
        {
         "LIGHTING_CONDITION": "DAYLIGHT",
         "REPORT_TYPE": "ON SCENE",
         "CRASH_HOUR": 17,
         "NUM_UNITS": 1027,
         "_deepnote_index_column": 192
        },
        {
         "LIGHTING_CONDITION": "DAYLIGHT",
         "REPORT_TYPE": "ON SCENE",
         "CRASH_HOUR": 18,
         "NUM_UNITS": 618,
         "_deepnote_index_column": 193
        },
        {
         "LIGHTING_CONDITION": "DAYLIGHT",
         "REPORT_TYPE": "ON SCENE",
         "CRASH_HOUR": 19,
         "NUM_UNITS": 233,
         "_deepnote_index_column": 194
        },
        {
         "LIGHTING_CONDITION": "DAYLIGHT",
         "REPORT_TYPE": "ON SCENE",
         "CRASH_HOUR": 20,
         "NUM_UNITS": 24,
         "_deepnote_index_column": 195
        },
        {
         "LIGHTING_CONDITION": "DAYLIGHT",
         "REPORT_TYPE": "ON SCENE",
         "CRASH_HOUR": 21,
         "NUM_UNITS": 6,
         "_deepnote_index_column": 196
        },
        {
         "LIGHTING_CONDITION": "DAYLIGHT",
         "REPORT_TYPE": "ON SCENE",
         "CRASH_HOUR": 22,
         "NUM_UNITS": 6,
         "_deepnote_index_column": 197
        },
        {
         "LIGHTING_CONDITION": "DUSK",
         "REPORT_TYPE": "AMENDED",
         "CRASH_HOUR": 20,
         "NUM_UNITS": 5,
         "_deepnote_index_column": 198
        },
        {
         "LIGHTING_CONDITION": "DUSK",
         "REPORT_TYPE": "NOT ON SCENE (DESK REPORT)",
         "CRASH_HOUR": 0,
         "NUM_UNITS": 6,
         "_deepnote_index_column": 199
        },
        {
         "LIGHTING_CONDITION": "DUSK",
         "REPORT_TYPE": "NOT ON SCENE (DESK REPORT)",
         "CRASH_HOUR": 1,
         "NUM_UNITS": 6,
         "_deepnote_index_column": 200
        },
        {
         "LIGHTING_CONDITION": "DUSK",
         "REPORT_TYPE": "NOT ON SCENE (DESK REPORT)",
         "CRASH_HOUR": 2,
         "NUM_UNITS": 2,
         "_deepnote_index_column": 201
        },
        {
         "LIGHTING_CONDITION": "DUSK",
         "REPORT_TYPE": "NOT ON SCENE (DESK REPORT)",
         "CRASH_HOUR": 3,
         "NUM_UNITS": 8,
         "_deepnote_index_column": 202
        },
        {
         "LIGHTING_CONDITION": "DUSK",
         "REPORT_TYPE": "NOT ON SCENE (DESK REPORT)",
         "CRASH_HOUR": 4,
         "NUM_UNITS": 2,
         "_deepnote_index_column": 203
        },
        {
         "LIGHTING_CONDITION": "DUSK",
         "REPORT_TYPE": "NOT ON SCENE (DESK REPORT)",
         "CRASH_HOUR": 5,
         "NUM_UNITS": 13,
         "_deepnote_index_column": 204
        },
        {
         "LIGHTING_CONDITION": "DUSK",
         "REPORT_TYPE": "NOT ON SCENE (DESK REPORT)",
         "CRASH_HOUR": 6,
         "NUM_UNITS": 16,
         "_deepnote_index_column": 205
        },
        {
         "LIGHTING_CONDITION": "DUSK",
         "REPORT_TYPE": "NOT ON SCENE (DESK REPORT)",
         "CRASH_HOUR": 7,
         "NUM_UNITS": 6,
         "_deepnote_index_column": 206
        },
        {
         "LIGHTING_CONDITION": "DUSK",
         "REPORT_TYPE": "NOT ON SCENE (DESK REPORT)",
         "CRASH_HOUR": 8,
         "NUM_UNITS": 2,
         "_deepnote_index_column": 207
        },
        {
         "LIGHTING_CONDITION": "DUSK",
         "REPORT_TYPE": "NOT ON SCENE (DESK REPORT)",
         "CRASH_HOUR": 11,
         "NUM_UNITS": 2,
         "_deepnote_index_column": 208
        },
        {
         "LIGHTING_CONDITION": "DUSK",
         "REPORT_TYPE": "NOT ON SCENE (DESK REPORT)",
         "CRASH_HOUR": 12,
         "NUM_UNITS": 2,
         "_deepnote_index_column": 209
        },
        {
         "LIGHTING_CONDITION": "DUSK",
         "REPORT_TYPE": "NOT ON SCENE (DESK REPORT)",
         "CRASH_HOUR": 13,
         "NUM_UNITS": 12,
         "_deepnote_index_column": 210
        },
        {
         "LIGHTING_CONDITION": "DUSK",
         "REPORT_TYPE": "NOT ON SCENE (DESK REPORT)",
         "CRASH_HOUR": 14,
         "NUM_UNITS": 13,
         "_deepnote_index_column": 211
        },
        {
         "LIGHTING_CONDITION": "DUSK",
         "REPORT_TYPE": "NOT ON SCENE (DESK REPORT)",
         "CRASH_HOUR": 15,
         "NUM_UNITS": 50,
         "_deepnote_index_column": 212
        },
        {
         "LIGHTING_CONDITION": "DUSK",
         "REPORT_TYPE": "NOT ON SCENE (DESK REPORT)",
         "CRASH_HOUR": 16,
         "NUM_UNITS": 171,
         "_deepnote_index_column": 213
        },
        {
         "LIGHTING_CONDITION": "DUSK",
         "REPORT_TYPE": "NOT ON SCENE (DESK REPORT)",
         "CRASH_HOUR": 17,
         "NUM_UNITS": 211,
         "_deepnote_index_column": 214
        },
        {
         "LIGHTING_CONDITION": "DUSK",
         "REPORT_TYPE": "NOT ON SCENE (DESK REPORT)",
         "CRASH_HOUR": 18,
         "NUM_UNITS": 173,
         "_deepnote_index_column": 215
        },
        {
         "LIGHTING_CONDITION": "DUSK",
         "REPORT_TYPE": "NOT ON SCENE (DESK REPORT)",
         "CRASH_HOUR": 19,
         "NUM_UNITS": 154,
         "_deepnote_index_column": 216
        },
        {
         "LIGHTING_CONDITION": "DUSK",
         "REPORT_TYPE": "NOT ON SCENE (DESK REPORT)",
         "CRASH_HOUR": 20,
         "NUM_UNITS": 72,
         "_deepnote_index_column": 217
        },
        {
         "LIGHTING_CONDITION": "DUSK",
         "REPORT_TYPE": "NOT ON SCENE (DESK REPORT)",
         "CRASH_HOUR": 21,
         "NUM_UNITS": 26,
         "_deepnote_index_column": 218
        },
        {
         "LIGHTING_CONDITION": "DUSK",
         "REPORT_TYPE": "NOT ON SCENE (DESK REPORT)",
         "CRASH_HOUR": 22,
         "NUM_UNITS": 24,
         "_deepnote_index_column": 219
        },
        {
         "LIGHTING_CONDITION": "DUSK",
         "REPORT_TYPE": "NOT ON SCENE (DESK REPORT)",
         "CRASH_HOUR": 23,
         "NUM_UNITS": 4,
         "_deepnote_index_column": 220
        },
        {
         "LIGHTING_CONDITION": "DUSK",
         "REPORT_TYPE": "ON SCENE",
         "CRASH_HOUR": 0,
         "NUM_UNITS": 7,
         "_deepnote_index_column": 221
        },
        {
         "LIGHTING_CONDITION": "DUSK",
         "REPORT_TYPE": "ON SCENE",
         "CRASH_HOUR": 1,
         "NUM_UNITS": 1,
         "_deepnote_index_column": 222
        },
        {
         "LIGHTING_CONDITION": "DUSK",
         "REPORT_TYPE": "ON SCENE",
         "CRASH_HOUR": 2,
         "NUM_UNITS": 3,
         "_deepnote_index_column": 223
        },
        {
         "LIGHTING_CONDITION": "DUSK",
         "REPORT_TYPE": "ON SCENE",
         "CRASH_HOUR": 3,
         "NUM_UNITS": 3,
         "_deepnote_index_column": 224
        },
        {
         "LIGHTING_CONDITION": "DUSK",
         "REPORT_TYPE": "ON SCENE",
         "CRASH_HOUR": 4,
         "NUM_UNITS": 6,
         "_deepnote_index_column": 225
        },
        {
         "LIGHTING_CONDITION": "DUSK",
         "REPORT_TYPE": "ON SCENE",
         "CRASH_HOUR": 5,
         "NUM_UNITS": 14,
         "_deepnote_index_column": 226
        },
        {
         "LIGHTING_CONDITION": "DUSK",
         "REPORT_TYPE": "ON SCENE",
         "CRASH_HOUR": 6,
         "NUM_UNITS": 5,
         "_deepnote_index_column": 227
        },
        {
         "LIGHTING_CONDITION": "DUSK",
         "REPORT_TYPE": "ON SCENE",
         "CRASH_HOUR": 8,
         "NUM_UNITS": 6,
         "_deepnote_index_column": 228
        },
        {
         "LIGHTING_CONDITION": "DUSK",
         "REPORT_TYPE": "ON SCENE",
         "CRASH_HOUR": 9,
         "NUM_UNITS": 6,
         "_deepnote_index_column": 229
        },
        {
         "LIGHTING_CONDITION": "DUSK",
         "REPORT_TYPE": "ON SCENE",
         "CRASH_HOUR": 11,
         "NUM_UNITS": 6,
         "_deepnote_index_column": 230
        },
        {
         "LIGHTING_CONDITION": "DUSK",
         "REPORT_TYPE": "ON SCENE",
         "CRASH_HOUR": 12,
         "NUM_UNITS": 2,
         "_deepnote_index_column": 231
        },
        {
         "LIGHTING_CONDITION": "DUSK",
         "REPORT_TYPE": "ON SCENE",
         "CRASH_HOUR": 13,
         "NUM_UNITS": 7,
         "_deepnote_index_column": 232
        },
        {
         "LIGHTING_CONDITION": "DUSK",
         "REPORT_TYPE": "ON SCENE",
         "CRASH_HOUR": 14,
         "NUM_UNITS": 9,
         "_deepnote_index_column": 233
        },
        {
         "LIGHTING_CONDITION": "DUSK",
         "REPORT_TYPE": "ON SCENE",
         "CRASH_HOUR": 15,
         "NUM_UNITS": 43,
         "_deepnote_index_column": 234
        },
        {
         "LIGHTING_CONDITION": "DUSK",
         "REPORT_TYPE": "ON SCENE",
         "CRASH_HOUR": 16,
         "NUM_UNITS": 94,
         "_deepnote_index_column": 235
        },
        {
         "LIGHTING_CONDITION": "DUSK",
         "REPORT_TYPE": "ON SCENE",
         "CRASH_HOUR": 17,
         "NUM_UNITS": 112,
         "_deepnote_index_column": 236
        },
        {
         "LIGHTING_CONDITION": "DUSK",
         "REPORT_TYPE": "ON SCENE",
         "CRASH_HOUR": 18,
         "NUM_UNITS": 119,
         "_deepnote_index_column": 237
        },
        {
         "LIGHTING_CONDITION": "DUSK",
         "REPORT_TYPE": "ON SCENE",
         "CRASH_HOUR": 19,
         "NUM_UNITS": 126,
         "_deepnote_index_column": 238
        },
        {
         "LIGHTING_CONDITION": "DUSK",
         "REPORT_TYPE": "ON SCENE",
         "CRASH_HOUR": 20,
         "NUM_UNITS": 74,
         "_deepnote_index_column": 239
        },
        {
         "LIGHTING_CONDITION": "DUSK",
         "REPORT_TYPE": "ON SCENE",
         "CRASH_HOUR": 21,
         "NUM_UNITS": 27,
         "_deepnote_index_column": 240
        },
        {
         "LIGHTING_CONDITION": "DUSK",
         "REPORT_TYPE": "ON SCENE",
         "CRASH_HOUR": 22,
         "NUM_UNITS": 6,
         "_deepnote_index_column": 241
        },
        {
         "LIGHTING_CONDITION": "DUSK",
         "REPORT_TYPE": "ON SCENE",
         "CRASH_HOUR": 23,
         "NUM_UNITS": 13,
         "_deepnote_index_column": 242
        },
        {
         "LIGHTING_CONDITION": "UNKNOWN",
         "REPORT_TYPE": "NOT ON SCENE (DESK REPORT)",
         "CRASH_HOUR": 0,
         "NUM_UNITS": 46,
         "_deepnote_index_column": 243
        },
        {
         "LIGHTING_CONDITION": "UNKNOWN",
         "REPORT_TYPE": "NOT ON SCENE (DESK REPORT)",
         "CRASH_HOUR": 1,
         "NUM_UNITS": 46,
         "_deepnote_index_column": 244
        },
        {
         "LIGHTING_CONDITION": "UNKNOWN",
         "REPORT_TYPE": "NOT ON SCENE (DESK REPORT)",
         "CRASH_HOUR": 2,
         "NUM_UNITS": 28,
         "_deepnote_index_column": 245
        },
        {
         "LIGHTING_CONDITION": "UNKNOWN",
         "REPORT_TYPE": "NOT ON SCENE (DESK REPORT)",
         "CRASH_HOUR": 3,
         "NUM_UNITS": 18,
         "_deepnote_index_column": 246
        },
        {
         "LIGHTING_CONDITION": "UNKNOWN",
         "REPORT_TYPE": "NOT ON SCENE (DESK REPORT)",
         "CRASH_HOUR": 4,
         "NUM_UNITS": 22,
         "_deepnote_index_column": 247
        },
        {
         "LIGHTING_CONDITION": "UNKNOWN",
         "REPORT_TYPE": "NOT ON SCENE (DESK REPORT)",
         "CRASH_HOUR": 5,
         "NUM_UNITS": 20,
         "_deepnote_index_column": 248
        },
        {
         "LIGHTING_CONDITION": "UNKNOWN",
         "REPORT_TYPE": "NOT ON SCENE (DESK REPORT)",
         "CRASH_HOUR": 6,
         "NUM_UNITS": 51,
         "_deepnote_index_column": 249
        },
        {
         "LIGHTING_CONDITION": "UNKNOWN",
         "REPORT_TYPE": "NOT ON SCENE (DESK REPORT)",
         "CRASH_HOUR": 7,
         "NUM_UNITS": 64,
         "_deepnote_index_column": 250
        },
        {
         "LIGHTING_CONDITION": "UNKNOWN",
         "REPORT_TYPE": "NOT ON SCENE (DESK REPORT)",
         "CRASH_HOUR": 8,
         "NUM_UNITS": 97,
         "_deepnote_index_column": 251
        },
        {
         "LIGHTING_CONDITION": "UNKNOWN",
         "REPORT_TYPE": "NOT ON SCENE (DESK REPORT)",
         "CRASH_HOUR": 9,
         "NUM_UNITS": 77,
         "_deepnote_index_column": 252
        },
        {
         "LIGHTING_CONDITION": "UNKNOWN",
         "REPORT_TYPE": "NOT ON SCENE (DESK REPORT)",
         "CRASH_HOUR": 10,
         "NUM_UNITS": 91,
         "_deepnote_index_column": 253
        },
        {
         "LIGHTING_CONDITION": "UNKNOWN",
         "REPORT_TYPE": "NOT ON SCENE (DESK REPORT)",
         "CRASH_HOUR": 11,
         "NUM_UNITS": 64,
         "_deepnote_index_column": 254
        },
        {
         "LIGHTING_CONDITION": "UNKNOWN",
         "REPORT_TYPE": "NOT ON SCENE (DESK REPORT)",
         "CRASH_HOUR": 12,
         "NUM_UNITS": 91,
         "_deepnote_index_column": 255
        },
        {
         "LIGHTING_CONDITION": "UNKNOWN",
         "REPORT_TYPE": "NOT ON SCENE (DESK REPORT)",
         "CRASH_HOUR": 13,
         "NUM_UNITS": 68,
         "_deepnote_index_column": 256
        },
        {
         "LIGHTING_CONDITION": "UNKNOWN",
         "REPORT_TYPE": "NOT ON SCENE (DESK REPORT)",
         "CRASH_HOUR": 14,
         "NUM_UNITS": 68,
         "_deepnote_index_column": 257
        },
        {
         "LIGHTING_CONDITION": "UNKNOWN",
         "REPORT_TYPE": "NOT ON SCENE (DESK REPORT)",
         "CRASH_HOUR": 15,
         "NUM_UNITS": 80,
         "_deepnote_index_column": 258
        },
        {
         "LIGHTING_CONDITION": "UNKNOWN",
         "REPORT_TYPE": "NOT ON SCENE (DESK REPORT)",
         "CRASH_HOUR": 16,
         "NUM_UNITS": 94,
         "_deepnote_index_column": 259
        },
        {
         "LIGHTING_CONDITION": "UNKNOWN",
         "REPORT_TYPE": "NOT ON SCENE (DESK REPORT)",
         "CRASH_HOUR": 17,
         "NUM_UNITS": 86,
         "_deepnote_index_column": 260
        },
        {
         "LIGHTING_CONDITION": "UNKNOWN",
         "REPORT_TYPE": "NOT ON SCENE (DESK REPORT)",
         "CRASH_HOUR": 18,
         "NUM_UNITS": 115,
         "_deepnote_index_column": 261
        },
        {
         "LIGHTING_CONDITION": "UNKNOWN",
         "REPORT_TYPE": "NOT ON SCENE (DESK REPORT)",
         "CRASH_HOUR": 19,
         "NUM_UNITS": 70,
         "_deepnote_index_column": 262
        },
        {
         "LIGHTING_CONDITION": "UNKNOWN",
         "REPORT_TYPE": "NOT ON SCENE (DESK REPORT)",
         "CRASH_HOUR": 20,
         "NUM_UNITS": 73,
         "_deepnote_index_column": 263
        },
        {
         "LIGHTING_CONDITION": "UNKNOWN",
         "REPORT_TYPE": "NOT ON SCENE (DESK REPORT)",
         "CRASH_HOUR": 21,
         "NUM_UNITS": 70,
         "_deepnote_index_column": 264
        },
        {
         "LIGHTING_CONDITION": "UNKNOWN",
         "REPORT_TYPE": "NOT ON SCENE (DESK REPORT)",
         "CRASH_HOUR": 22,
         "NUM_UNITS": 46,
         "_deepnote_index_column": 265
        },
        {
         "LIGHTING_CONDITION": "UNKNOWN",
         "REPORT_TYPE": "NOT ON SCENE (DESK REPORT)",
         "CRASH_HOUR": 23,
         "NUM_UNITS": 42,
         "_deepnote_index_column": 266
        },
        {
         "LIGHTING_CONDITION": "UNKNOWN",
         "REPORT_TYPE": "ON SCENE",
         "CRASH_HOUR": 0,
         "NUM_UNITS": 33,
         "_deepnote_index_column": 267
        },
        {
         "LIGHTING_CONDITION": "UNKNOWN",
         "REPORT_TYPE": "ON SCENE",
         "CRASH_HOUR": 1,
         "NUM_UNITS": 13,
         "_deepnote_index_column": 268
        },
        {
         "LIGHTING_CONDITION": "UNKNOWN",
         "REPORT_TYPE": "ON SCENE",
         "CRASH_HOUR": 2,
         "NUM_UNITS": 16,
         "_deepnote_index_column": 269
        },
        {
         "LIGHTING_CONDITION": "UNKNOWN",
         "REPORT_TYPE": "ON SCENE",
         "CRASH_HOUR": 3,
         "NUM_UNITS": 24,
         "_deepnote_index_column": 270
        },
        {
         "LIGHTING_CONDITION": "UNKNOWN",
         "REPORT_TYPE": "ON SCENE",
         "CRASH_HOUR": 4,
         "NUM_UNITS": 10,
         "_deepnote_index_column": 271
        },
        {
         "LIGHTING_CONDITION": "UNKNOWN",
         "REPORT_TYPE": "ON SCENE",
         "CRASH_HOUR": 5,
         "NUM_UNITS": 14,
         "_deepnote_index_column": 272
        },
        {
         "LIGHTING_CONDITION": "UNKNOWN",
         "REPORT_TYPE": "ON SCENE",
         "CRASH_HOUR": 6,
         "NUM_UNITS": 27,
         "_deepnote_index_column": 273
        },
        {
         "LIGHTING_CONDITION": "UNKNOWN",
         "REPORT_TYPE": "ON SCENE",
         "CRASH_HOUR": 7,
         "NUM_UNITS": 22,
         "_deepnote_index_column": 274
        },
        {
         "LIGHTING_CONDITION": "UNKNOWN",
         "REPORT_TYPE": "ON SCENE",
         "CRASH_HOUR": 8,
         "NUM_UNITS": 19,
         "_deepnote_index_column": 275
        },
        {
         "LIGHTING_CONDITION": "UNKNOWN",
         "REPORT_TYPE": "ON SCENE",
         "CRASH_HOUR": 9,
         "NUM_UNITS": 23,
         "_deepnote_index_column": 276
        },
        {
         "LIGHTING_CONDITION": "UNKNOWN",
         "REPORT_TYPE": "ON SCENE",
         "CRASH_HOUR": 10,
         "NUM_UNITS": 21,
         "_deepnote_index_column": 277
        },
        {
         "LIGHTING_CONDITION": "UNKNOWN",
         "REPORT_TYPE": "ON SCENE",
         "CRASH_HOUR": 11,
         "NUM_UNITS": 7,
         "_deepnote_index_column": 278
        },
        {
         "LIGHTING_CONDITION": "UNKNOWN",
         "REPORT_TYPE": "ON SCENE",
         "CRASH_HOUR": 12,
         "NUM_UNITS": 17,
         "_deepnote_index_column": 279
        },
        {
         "LIGHTING_CONDITION": "UNKNOWN",
         "REPORT_TYPE": "ON SCENE",
         "CRASH_HOUR": 13,
         "NUM_UNITS": 9,
         "_deepnote_index_column": 280
        },
        {
         "LIGHTING_CONDITION": "UNKNOWN",
         "REPORT_TYPE": "ON SCENE",
         "CRASH_HOUR": 14,
         "NUM_UNITS": 7,
         "_deepnote_index_column": 281
        },
        {
         "LIGHTING_CONDITION": "UNKNOWN",
         "REPORT_TYPE": "ON SCENE",
         "CRASH_HOUR": 15,
         "NUM_UNITS": 17,
         "_deepnote_index_column": 282
        },
        {
         "LIGHTING_CONDITION": "UNKNOWN",
         "REPORT_TYPE": "ON SCENE",
         "CRASH_HOUR": 16,
         "NUM_UNITS": 19,
         "_deepnote_index_column": 283
        },
        {
         "LIGHTING_CONDITION": "UNKNOWN",
         "REPORT_TYPE": "ON SCENE",
         "CRASH_HOUR": 17,
         "NUM_UNITS": 23,
         "_deepnote_index_column": 284
        },
        {
         "LIGHTING_CONDITION": "UNKNOWN",
         "REPORT_TYPE": "ON SCENE",
         "CRASH_HOUR": 18,
         "NUM_UNITS": 14,
         "_deepnote_index_column": 285
        },
        {
         "LIGHTING_CONDITION": "UNKNOWN",
         "REPORT_TYPE": "ON SCENE",
         "CRASH_HOUR": 19,
         "NUM_UNITS": 9,
         "_deepnote_index_column": 286
        },
        {
         "LIGHTING_CONDITION": "UNKNOWN",
         "REPORT_TYPE": "ON SCENE",
         "CRASH_HOUR": 20,
         "NUM_UNITS": 10,
         "_deepnote_index_column": 287
        },
        {
         "LIGHTING_CONDITION": "UNKNOWN",
         "REPORT_TYPE": "ON SCENE",
         "CRASH_HOUR": 21,
         "NUM_UNITS": 10,
         "_deepnote_index_column": 288
        },
        {
         "LIGHTING_CONDITION": "UNKNOWN",
         "REPORT_TYPE": "ON SCENE",
         "CRASH_HOUR": 22,
         "NUM_UNITS": 20,
         "_deepnote_index_column": 289
        },
        {
         "LIGHTING_CONDITION": "UNKNOWN",
         "REPORT_TYPE": "ON SCENE",
         "CRASH_HOUR": 23,
         "NUM_UNITS": 6,
         "_deepnote_index_column": 290
        }
       ]
      },
      "text/plain": "    LIGHTING_CONDITION                 REPORT_TYPE  CRASH_HOUR  NUM_UNITS\n0             DARKNESS                     AMENDED          20          2\n1             DARKNESS  NOT ON SCENE (DESK REPORT)           0         97\n2             DARKNESS  NOT ON SCENE (DESK REPORT)           1         86\n3             DARKNESS  NOT ON SCENE (DESK REPORT)           2         64\n4             DARKNESS  NOT ON SCENE (DESK REPORT)           3         57\n..                 ...                         ...         ...        ...\n286            UNKNOWN                    ON SCENE          19          9\n287            UNKNOWN                    ON SCENE          20         10\n288            UNKNOWN                    ON SCENE          21         10\n289            UNKNOWN                    ON SCENE          22         20\n290            UNKNOWN                    ON SCENE          23          6\n\n[291 rows x 4 columns]",
      "text/html": "<div>\n<style scoped>\n    .dataframe tbody tr th:only-of-type {\n        vertical-align: middle;\n    }\n\n    .dataframe tbody tr th {\n        vertical-align: top;\n    }\n\n    .dataframe thead th {\n        text-align: right;\n    }\n</style>\n<table border=\"1\" class=\"dataframe\">\n  <thead>\n    <tr style=\"text-align: right;\">\n      <th></th>\n      <th>LIGHTING_CONDITION</th>\n      <th>REPORT_TYPE</th>\n      <th>CRASH_HOUR</th>\n      <th>NUM_UNITS</th>\n    </tr>\n  </thead>\n  <tbody>\n    <tr>\n      <th>0</th>\n      <td>DARKNESS</td>\n      <td>AMENDED</td>\n      <td>20</td>\n      <td>2</td>\n    </tr>\n    <tr>\n      <th>1</th>\n      <td>DARKNESS</td>\n      <td>NOT ON SCENE (DESK REPORT)</td>\n      <td>0</td>\n      <td>97</td>\n    </tr>\n    <tr>\n      <th>2</th>\n      <td>DARKNESS</td>\n      <td>NOT ON SCENE (DESK REPORT)</td>\n      <td>1</td>\n      <td>86</td>\n    </tr>\n    <tr>\n      <th>3</th>\n      <td>DARKNESS</td>\n      <td>NOT ON SCENE (DESK REPORT)</td>\n      <td>2</td>\n      <td>64</td>\n    </tr>\n    <tr>\n      <th>4</th>\n      <td>DARKNESS</td>\n      <td>NOT ON SCENE (DESK REPORT)</td>\n      <td>3</td>\n      <td>57</td>\n    </tr>\n    <tr>\n      <th>...</th>\n      <td>...</td>\n      <td>...</td>\n      <td>...</td>\n      <td>...</td>\n    </tr>\n    <tr>\n      <th>286</th>\n      <td>UNKNOWN</td>\n      <td>ON SCENE</td>\n      <td>19</td>\n      <td>9</td>\n    </tr>\n    <tr>\n      <th>287</th>\n      <td>UNKNOWN</td>\n      <td>ON SCENE</td>\n      <td>20</td>\n      <td>10</td>\n    </tr>\n    <tr>\n      <th>288</th>\n      <td>UNKNOWN</td>\n      <td>ON SCENE</td>\n      <td>21</td>\n      <td>10</td>\n    </tr>\n    <tr>\n      <th>289</th>\n      <td>UNKNOWN</td>\n      <td>ON SCENE</td>\n      <td>22</td>\n      <td>20</td>\n    </tr>\n    <tr>\n      <th>290</th>\n      <td>UNKNOWN</td>\n      <td>ON SCENE</td>\n      <td>23</td>\n      <td>6</td>\n    </tr>\n  </tbody>\n</table>\n<p>291 rows × 4 columns</p>\n</div>"
     },
     "metadata": {}
    }
   ],
   "execution_count": 3
  },
  {
   "cell_type": "code",
   "source": "alt.Chart(reporte_1).mark_bar().encode(\n    x='LIGHTING_CONDITION',\n    y='NUM_UNITS',\n    color='REPORT_TYPE'\n).properties(width=220)",
   "metadata": {
    "tags": [],
    "cell_id": "00006-54eac1fd-99bb-41dd-8911-1a88d9729080",
    "deepnote_to_be_reexecuted": false,
    "source_hash": "d68e1795",
    "execution_start": 1635520921220,
    "execution_millis": 107,
    "deepnote_cell_type": "code"
   },
   "outputs": [
    {
     "output_type": "execute_result",
     "execution_count": 4,
     "data": {
      "text/html": "\n<div id=\"altair-viz-f384d7c4deab462cbd3b89a3c5e09474\"></div>\n<script type=\"text/javascript\">\n  (function(spec, embedOpt){\n    let outputDiv = document.currentScript.previousElementSibling;\n    if (outputDiv.id !== \"altair-viz-f384d7c4deab462cbd3b89a3c5e09474\") {\n      outputDiv = document.getElementById(\"altair-viz-f384d7c4deab462cbd3b89a3c5e09474\");\n    }\n    const paths = {\n      \"vega\": \"https://cdn.jsdelivr.net/npm//vega@5?noext\",\n      \"vega-lib\": \"https://cdn.jsdelivr.net/npm//vega-lib?noext\",\n      \"vega-lite\": \"https://cdn.jsdelivr.net/npm//vega-lite@4.8.1?noext\",\n      \"vega-embed\": \"https://cdn.jsdelivr.net/npm//vega-embed@6?noext\",\n    };\n\n    function loadScript(lib) {\n      return new Promise(function(resolve, reject) {\n        var s = document.createElement('script');\n        s.src = paths[lib];\n        s.async = true;\n        s.onload = () => resolve(paths[lib]);\n        s.onerror = () => reject(`Error loading script: ${paths[lib]}`);\n        document.getElementsByTagName(\"head\")[0].appendChild(s);\n      });\n    }\n\n    function showError(err) {\n      outputDiv.innerHTML = `<div class=\"error\" style=\"color:red;\">${err}</div>`;\n      throw err;\n    }\n\n    function displayChart(vegaEmbed) {\n      vegaEmbed(outputDiv, spec, embedOpt)\n        .catch(err => showError(`Javascript Error: ${err.message}<br>This usually means there's a typo in your chart specification. See the javascript console for the full traceback.`));\n    }\n\n    if(typeof define === \"function\" && define.amd) {\n      requirejs.config({paths});\n      require([\"vega-embed\"], displayChart, err => showError(`Error loading script: ${err.message}`));\n    } else if (typeof vegaEmbed === \"function\") {\n      displayChart(vegaEmbed);\n    } else {\n      loadScript(\"vega\")\n        .then(() => loadScript(\"vega-lite\"))\n        .then(() => loadScript(\"vega-embed\"))\n        .catch(showError)\n        .then(() => displayChart(vegaEmbed));\n    }\n  })({\"config\": {\"view\": {\"continuousWidth\": 400, \"continuousHeight\": 300}}, \"data\": {\"name\": \"data-1073021d61d500af59f64e0f70a29060\"}, \"mark\": \"bar\", \"encoding\": {\"color\": {\"type\": \"nominal\", \"field\": \"REPORT_TYPE\"}, \"x\": {\"type\": \"nominal\", \"field\": \"LIGHTING_CONDITION\"}, \"y\": {\"type\": \"quantitative\", \"field\": \"NUM_UNITS\"}}, \"width\": 220, \"$schema\": \"https://vega.github.io/schema/vega-lite/v4.8.1.json\", \"datasets\": {\"data-1073021d61d500af59f64e0f70a29060\": [{\"LIGHTING_CONDITION\": \"DARKNESS\", \"REPORT_TYPE\": \"AMENDED\", \"CRASH_HOUR\": 20, \"NUM_UNITS\": 2}, {\"LIGHTING_CONDITION\": \"DARKNESS\", \"REPORT_TYPE\": \"NOT ON SCENE (DESK REPORT)\", \"CRASH_HOUR\": 0, \"NUM_UNITS\": 97}, {\"LIGHTING_CONDITION\": \"DARKNESS\", \"REPORT_TYPE\": \"NOT ON SCENE (DESK REPORT)\", \"CRASH_HOUR\": 1, \"NUM_UNITS\": 86}, {\"LIGHTING_CONDITION\": \"DARKNESS\", \"REPORT_TYPE\": \"NOT ON SCENE (DESK REPORT)\", \"CRASH_HOUR\": 2, \"NUM_UNITS\": 64}, {\"LIGHTING_CONDITION\": \"DARKNESS\", \"REPORT_TYPE\": \"NOT ON SCENE (DESK REPORT)\", \"CRASH_HOUR\": 3, \"NUM_UNITS\": 57}, {\"LIGHTING_CONDITION\": \"DARKNESS\", \"REPORT_TYPE\": \"NOT ON SCENE (DESK REPORT)\", \"CRASH_HOUR\": 4, \"NUM_UNITS\": 46}, {\"LIGHTING_CONDITION\": \"DARKNESS\", \"REPORT_TYPE\": \"NOT ON SCENE (DESK REPORT)\", \"CRASH_HOUR\": 5, \"NUM_UNITS\": 40}, {\"LIGHTING_CONDITION\": \"DARKNESS\", \"REPORT_TYPE\": \"NOT ON SCENE (DESK REPORT)\", \"CRASH_HOUR\": 6, \"NUM_UNITS\": 29}, {\"LIGHTING_CONDITION\": \"DARKNESS\", \"REPORT_TYPE\": \"NOT ON SCENE (DESK REPORT)\", \"CRASH_HOUR\": 7, \"NUM_UNITS\": 11}, {\"LIGHTING_CONDITION\": \"DARKNESS\", \"REPORT_TYPE\": \"NOT ON SCENE (DESK REPORT)\", \"CRASH_HOUR\": 8, \"NUM_UNITS\": 2}, {\"LIGHTING_CONDITION\": \"DARKNESS\", \"REPORT_TYPE\": \"NOT ON SCENE (DESK REPORT)\", \"CRASH_HOUR\": 9, \"NUM_UNITS\": 9}, {\"LIGHTING_CONDITION\": \"DARKNESS\", \"REPORT_TYPE\": \"NOT ON SCENE (DESK REPORT)\", \"CRASH_HOUR\": 10, \"NUM_UNITS\": 12}, {\"LIGHTING_CONDITION\": \"DARKNESS\", \"REPORT_TYPE\": \"NOT ON SCENE (DESK REPORT)\", \"CRASH_HOUR\": 11, \"NUM_UNITS\": 2}, {\"LIGHTING_CONDITION\": \"DARKNESS\", \"REPORT_TYPE\": \"NOT ON SCENE (DESK REPORT)\", \"CRASH_HOUR\": 12, \"NUM_UNITS\": 4}, {\"LIGHTING_CONDITION\": \"DARKNESS\", \"REPORT_TYPE\": \"NOT ON SCENE (DESK REPORT)\", \"CRASH_HOUR\": 14, \"NUM_UNITS\": 9}, {\"LIGHTING_CONDITION\": \"DARKNESS\", \"REPORT_TYPE\": \"NOT ON SCENE (DESK REPORT)\", \"CRASH_HOUR\": 15, \"NUM_UNITS\": 16}, {\"LIGHTING_CONDITION\": \"DARKNESS\", \"REPORT_TYPE\": \"NOT ON SCENE (DESK REPORT)\", \"CRASH_HOUR\": 16, \"NUM_UNITS\": 38}, {\"LIGHTING_CONDITION\": \"DARKNESS\", \"REPORT_TYPE\": \"NOT ON SCENE (DESK REPORT)\", \"CRASH_HOUR\": 17, \"NUM_UNITS\": 182}, {\"LIGHTING_CONDITION\": \"DARKNESS\", \"REPORT_TYPE\": \"NOT ON SCENE (DESK REPORT)\", \"CRASH_HOUR\": 18, \"NUM_UNITS\": 214}, {\"LIGHTING_CONDITION\": \"DARKNESS\", \"REPORT_TYPE\": \"NOT ON SCENE (DESK REPORT)\", \"CRASH_HOUR\": 19, \"NUM_UNITS\": 214}, {\"LIGHTING_CONDITION\": \"DARKNESS\", \"REPORT_TYPE\": \"NOT ON SCENE (DESK REPORT)\", \"CRASH_HOUR\": 20, \"NUM_UNITS\": 189}, {\"LIGHTING_CONDITION\": \"DARKNESS\", \"REPORT_TYPE\": \"NOT ON SCENE (DESK REPORT)\", \"CRASH_HOUR\": 21, \"NUM_UNITS\": 201}, {\"LIGHTING_CONDITION\": \"DARKNESS\", \"REPORT_TYPE\": \"NOT ON SCENE (DESK REPORT)\", \"CRASH_HOUR\": 22, \"NUM_UNITS\": 162}, {\"LIGHTING_CONDITION\": \"DARKNESS\", \"REPORT_TYPE\": \"NOT ON SCENE (DESK REPORT)\", \"CRASH_HOUR\": 23, \"NUM_UNITS\": 138}, {\"LIGHTING_CONDITION\": \"DARKNESS\", \"REPORT_TYPE\": \"ON SCENE\", \"CRASH_HOUR\": 0, \"NUM_UNITS\": 51}, {\"LIGHTING_CONDITION\": \"DARKNESS\", \"REPORT_TYPE\": \"ON SCENE\", \"CRASH_HOUR\": 1, \"NUM_UNITS\": 66}, {\"LIGHTING_CONDITION\": \"DARKNESS\", \"REPORT_TYPE\": \"ON SCENE\", \"CRASH_HOUR\": 2, \"NUM_UNITS\": 67}, {\"LIGHTING_CONDITION\": \"DARKNESS\", \"REPORT_TYPE\": \"ON SCENE\", \"CRASH_HOUR\": 3, \"NUM_UNITS\": 56}, {\"LIGHTING_CONDITION\": \"DARKNESS\", \"REPORT_TYPE\": \"ON SCENE\", \"CRASH_HOUR\": 4, \"NUM_UNITS\": 89}, {\"LIGHTING_CONDITION\": \"DARKNESS\", \"REPORT_TYPE\": \"ON SCENE\", \"CRASH_HOUR\": 5, \"NUM_UNITS\": 27}, {\"LIGHTING_CONDITION\": \"DARKNESS\", \"REPORT_TYPE\": \"ON SCENE\", \"CRASH_HOUR\": 6, \"NUM_UNITS\": 19}, {\"LIGHTING_CONDITION\": \"DARKNESS\", \"REPORT_TYPE\": \"ON SCENE\", \"CRASH_HOUR\": 7, \"NUM_UNITS\": 6}, {\"LIGHTING_CONDITION\": \"DARKNESS\", \"REPORT_TYPE\": \"ON SCENE\", \"CRASH_HOUR\": 9, \"NUM_UNITS\": 2}, {\"LIGHTING_CONDITION\": \"DARKNESS\", \"REPORT_TYPE\": \"ON SCENE\", \"CRASH_HOUR\": 11, \"NUM_UNITS\": 2}, {\"LIGHTING_CONDITION\": \"DARKNESS\", \"REPORT_TYPE\": \"ON SCENE\", \"CRASH_HOUR\": 12, \"NUM_UNITS\": 2}, {\"LIGHTING_CONDITION\": \"DARKNESS\", \"REPORT_TYPE\": \"ON SCENE\", \"CRASH_HOUR\": 14, \"NUM_UNITS\": 2}, {\"LIGHTING_CONDITION\": \"DARKNESS\", \"REPORT_TYPE\": \"ON SCENE\", \"CRASH_HOUR\": 15, \"NUM_UNITS\": 4}, {\"LIGHTING_CONDITION\": \"DARKNESS\", \"REPORT_TYPE\": \"ON SCENE\", \"CRASH_HOUR\": 16, \"NUM_UNITS\": 16}, {\"LIGHTING_CONDITION\": \"DARKNESS\", \"REPORT_TYPE\": \"ON SCENE\", \"CRASH_HOUR\": 17, \"NUM_UNITS\": 57}, {\"LIGHTING_CONDITION\": \"DARKNESS\", \"REPORT_TYPE\": \"ON SCENE\", \"CRASH_HOUR\": 18, \"NUM_UNITS\": 113}, {\"LIGHTING_CONDITION\": \"DARKNESS\", \"REPORT_TYPE\": \"ON SCENE\", \"CRASH_HOUR\": 19, \"NUM_UNITS\": 99}, {\"LIGHTING_CONDITION\": \"DARKNESS\", \"REPORT_TYPE\": \"ON SCENE\", \"CRASH_HOUR\": 20, \"NUM_UNITS\": 141}, {\"LIGHTING_CONDITION\": \"DARKNESS\", \"REPORT_TYPE\": \"ON SCENE\", \"CRASH_HOUR\": 21, \"NUM_UNITS\": 92}, {\"LIGHTING_CONDITION\": \"DARKNESS\", \"REPORT_TYPE\": \"ON SCENE\", \"CRASH_HOUR\": 22, \"NUM_UNITS\": 73}, {\"LIGHTING_CONDITION\": \"DARKNESS\", \"REPORT_TYPE\": \"ON SCENE\", \"CRASH_HOUR\": 23, \"NUM_UNITS\": 74}, {\"LIGHTING_CONDITION\": \"DARKNESS, LIGHTED ROAD\", \"REPORT_TYPE\": \"AMENDED\", \"CRASH_HOUR\": 21, \"NUM_UNITS\": 2}, {\"LIGHTING_CONDITION\": \"DARKNESS, LIGHTED ROAD\", \"REPORT_TYPE\": \"AMENDED\", \"CRASH_HOUR\": 22, \"NUM_UNITS\": 1}, {\"LIGHTING_CONDITION\": \"DARKNESS, LIGHTED ROAD\", \"REPORT_TYPE\": \"AMENDED\", \"CRASH_HOUR\": 23, \"NUM_UNITS\": 2}, {\"LIGHTING_CONDITION\": \"DARKNESS, LIGHTED ROAD\", \"REPORT_TYPE\": \"NOT ON SCENE (DESK REPORT)\", \"CRASH_HOUR\": 0, \"NUM_UNITS\": 286}, {\"LIGHTING_CONDITION\": \"DARKNESS, LIGHTED ROAD\", \"REPORT_TYPE\": \"NOT ON SCENE (DESK REPORT)\", \"CRASH_HOUR\": 1, \"NUM_UNITS\": 247}, {\"LIGHTING_CONDITION\": \"DARKNESS, LIGHTED ROAD\", \"REPORT_TYPE\": \"NOT ON SCENE (DESK REPORT)\", \"CRASH_HOUR\": 2, \"NUM_UNITS\": 213}, {\"LIGHTING_CONDITION\": \"DARKNESS, LIGHTED ROAD\", \"REPORT_TYPE\": \"NOT ON SCENE (DESK REPORT)\", \"CRASH_HOUR\": 3, \"NUM_UNITS\": 140}, {\"LIGHTING_CONDITION\": \"DARKNESS, LIGHTED ROAD\", \"REPORT_TYPE\": \"NOT ON SCENE (DESK REPORT)\", \"CRASH_HOUR\": 4, \"NUM_UNITS\": 127}, {\"LIGHTING_CONDITION\": \"DARKNESS, LIGHTED ROAD\", \"REPORT_TYPE\": \"NOT ON SCENE (DESK REPORT)\", \"CRASH_HOUR\": 5, \"NUM_UNITS\": 124}, {\"LIGHTING_CONDITION\": \"DARKNESS, LIGHTED ROAD\", \"REPORT_TYPE\": \"NOT ON SCENE (DESK REPORT)\", \"CRASH_HOUR\": 6, \"NUM_UNITS\": 82}, {\"LIGHTING_CONDITION\": \"DARKNESS, LIGHTED ROAD\", \"REPORT_TYPE\": \"NOT ON SCENE (DESK REPORT)\", \"CRASH_HOUR\": 7, \"NUM_UNITS\": 16}, {\"LIGHTING_CONDITION\": \"DARKNESS, LIGHTED ROAD\", \"REPORT_TYPE\": \"NOT ON SCENE (DESK REPORT)\", \"CRASH_HOUR\": 8, \"NUM_UNITS\": 18}, {\"LIGHTING_CONDITION\": \"DARKNESS, LIGHTED ROAD\", \"REPORT_TYPE\": \"NOT ON SCENE (DESK REPORT)\", \"CRASH_HOUR\": 9, \"NUM_UNITS\": 23}, {\"LIGHTING_CONDITION\": \"DARKNESS, LIGHTED ROAD\", \"REPORT_TYPE\": \"NOT ON SCENE (DESK REPORT)\", \"CRASH_HOUR\": 10, \"NUM_UNITS\": 19}, {\"LIGHTING_CONDITION\": \"DARKNESS, LIGHTED ROAD\", \"REPORT_TYPE\": \"NOT ON SCENE (DESK REPORT)\", \"CRASH_HOUR\": 11, \"NUM_UNITS\": 20}, {\"LIGHTING_CONDITION\": \"DARKNESS, LIGHTED ROAD\", \"REPORT_TYPE\": \"NOT ON SCENE (DESK REPORT)\", \"CRASH_HOUR\": 12, \"NUM_UNITS\": 22}, {\"LIGHTING_CONDITION\": \"DARKNESS, LIGHTED ROAD\", \"REPORT_TYPE\": \"NOT ON SCENE (DESK REPORT)\", \"CRASH_HOUR\": 13, \"NUM_UNITS\": 6}, {\"LIGHTING_CONDITION\": \"DARKNESS, LIGHTED ROAD\", \"REPORT_TYPE\": \"NOT ON SCENE (DESK REPORT)\", \"CRASH_HOUR\": 14, \"NUM_UNITS\": 14}, {\"LIGHTING_CONDITION\": \"DARKNESS, LIGHTED ROAD\", \"REPORT_TYPE\": \"NOT ON SCENE (DESK REPORT)\", \"CRASH_HOUR\": 15, \"NUM_UNITS\": 18}, {\"LIGHTING_CONDITION\": \"DARKNESS, LIGHTED ROAD\", \"REPORT_TYPE\": \"NOT ON SCENE (DESK REPORT)\", \"CRASH_HOUR\": 16, \"NUM_UNITS\": 112}, {\"LIGHTING_CONDITION\": \"DARKNESS, LIGHTED ROAD\", \"REPORT_TYPE\": \"NOT ON SCENE (DESK REPORT)\", \"CRASH_HOUR\": 17, \"NUM_UNITS\": 399}, {\"LIGHTING_CONDITION\": \"DARKNESS, LIGHTED ROAD\", \"REPORT_TYPE\": \"NOT ON SCENE (DESK REPORT)\", \"CRASH_HOUR\": 18, \"NUM_UNITS\": 502}, {\"LIGHTING_CONDITION\": \"DARKNESS, LIGHTED ROAD\", \"REPORT_TYPE\": \"NOT ON SCENE (DESK REPORT)\", \"CRASH_HOUR\": 19, \"NUM_UNITS\": 606}, {\"LIGHTING_CONDITION\": \"DARKNESS, LIGHTED ROAD\", \"REPORT_TYPE\": \"NOT ON SCENE (DESK REPORT)\", \"CRASH_HOUR\": 20, \"NUM_UNITS\": 677}, {\"LIGHTING_CONDITION\": \"DARKNESS, LIGHTED ROAD\", \"REPORT_TYPE\": \"NOT ON SCENE (DESK REPORT)\", \"CRASH_HOUR\": 21, \"NUM_UNITS\": 672}, {\"LIGHTING_CONDITION\": \"DARKNESS, LIGHTED ROAD\", \"REPORT_TYPE\": \"NOT ON SCENE (DESK REPORT)\", \"CRASH_HOUR\": 22, \"NUM_UNITS\": 613}, {\"LIGHTING_CONDITION\": \"DARKNESS, LIGHTED ROAD\", \"REPORT_TYPE\": \"NOT ON SCENE (DESK REPORT)\", \"CRASH_HOUR\": 23, \"NUM_UNITS\": 424}, {\"LIGHTING_CONDITION\": \"DARKNESS, LIGHTED ROAD\", \"REPORT_TYPE\": \"ON SCENE\", \"CRASH_HOUR\": 0, \"NUM_UNITS\": 618}, {\"LIGHTING_CONDITION\": \"DARKNESS, LIGHTED ROAD\", \"REPORT_TYPE\": \"ON SCENE\", \"CRASH_HOUR\": 1, \"NUM_UNITS\": 475}, {\"LIGHTING_CONDITION\": \"DARKNESS, LIGHTED ROAD\", \"REPORT_TYPE\": \"ON SCENE\", \"CRASH_HOUR\": 2, \"NUM_UNITS\": 509}, {\"LIGHTING_CONDITION\": \"DARKNESS, LIGHTED ROAD\", \"REPORT_TYPE\": \"ON SCENE\", \"CRASH_HOUR\": 3, \"NUM_UNITS\": 356}, {\"LIGHTING_CONDITION\": \"DARKNESS, LIGHTED ROAD\", \"REPORT_TYPE\": \"ON SCENE\", \"CRASH_HOUR\": 4, \"NUM_UNITS\": 246}, {\"LIGHTING_CONDITION\": \"DARKNESS, LIGHTED ROAD\", \"REPORT_TYPE\": \"ON SCENE\", \"CRASH_HOUR\": 5, \"NUM_UNITS\": 221}, {\"LIGHTING_CONDITION\": \"DARKNESS, LIGHTED ROAD\", \"REPORT_TYPE\": \"ON SCENE\", \"CRASH_HOUR\": 6, \"NUM_UNITS\": 120}, {\"LIGHTING_CONDITION\": \"DARKNESS, LIGHTED ROAD\", \"REPORT_TYPE\": \"ON SCENE\", \"CRASH_HOUR\": 7, \"NUM_UNITS\": 10}, {\"LIGHTING_CONDITION\": \"DARKNESS, LIGHTED ROAD\", \"REPORT_TYPE\": \"ON SCENE\", \"CRASH_HOUR\": 8, \"NUM_UNITS\": 5}, {\"LIGHTING_CONDITION\": \"DARKNESS, LIGHTED ROAD\", \"REPORT_TYPE\": \"ON SCENE\", \"CRASH_HOUR\": 9, \"NUM_UNITS\": 11}, {\"LIGHTING_CONDITION\": \"DARKNESS, LIGHTED ROAD\", \"REPORT_TYPE\": \"ON SCENE\", \"CRASH_HOUR\": 10, \"NUM_UNITS\": 9}, {\"LIGHTING_CONDITION\": \"DARKNESS, LIGHTED ROAD\", \"REPORT_TYPE\": \"ON SCENE\", \"CRASH_HOUR\": 11, \"NUM_UNITS\": 11}, {\"LIGHTING_CONDITION\": \"DARKNESS, LIGHTED ROAD\", \"REPORT_TYPE\": \"ON SCENE\", \"CRASH_HOUR\": 12, \"NUM_UNITS\": 2}, {\"LIGHTING_CONDITION\": \"DARKNESS, LIGHTED ROAD\", \"REPORT_TYPE\": \"ON SCENE\", \"CRASH_HOUR\": 13, \"NUM_UNITS\": 1}, {\"LIGHTING_CONDITION\": \"DARKNESS, LIGHTED ROAD\", \"REPORT_TYPE\": \"ON SCENE\", \"CRASH_HOUR\": 14, \"NUM_UNITS\": 6}, {\"LIGHTING_CONDITION\": \"DARKNESS, LIGHTED ROAD\", \"REPORT_TYPE\": \"ON SCENE\", \"CRASH_HOUR\": 15, \"NUM_UNITS\": 10}, {\"LIGHTING_CONDITION\": \"DARKNESS, LIGHTED ROAD\", \"REPORT_TYPE\": \"ON SCENE\", \"CRASH_HOUR\": 16, \"NUM_UNITS\": 99}, {\"LIGHTING_CONDITION\": \"DARKNESS, LIGHTED ROAD\", \"REPORT_TYPE\": \"ON SCENE\", \"CRASH_HOUR\": 17, \"NUM_UNITS\": 347}, {\"LIGHTING_CONDITION\": \"DARKNESS, LIGHTED ROAD\", \"REPORT_TYPE\": \"ON SCENE\", \"CRASH_HOUR\": 18, \"NUM_UNITS\": 385}, {\"LIGHTING_CONDITION\": \"DARKNESS, LIGHTED ROAD\", \"REPORT_TYPE\": \"ON SCENE\", \"CRASH_HOUR\": 19, \"NUM_UNITS\": 429}, {\"LIGHTING_CONDITION\": \"DARKNESS, LIGHTED ROAD\", \"REPORT_TYPE\": \"ON SCENE\", \"CRASH_HOUR\": 20, \"NUM_UNITS\": 512}, {\"LIGHTING_CONDITION\": \"DARKNESS, LIGHTED ROAD\", \"REPORT_TYPE\": \"ON SCENE\", \"CRASH_HOUR\": 21, \"NUM_UNITS\": 612}, {\"LIGHTING_CONDITION\": \"DARKNESS, LIGHTED ROAD\", \"REPORT_TYPE\": \"ON SCENE\", \"CRASH_HOUR\": 22, \"NUM_UNITS\": 688}, {\"LIGHTING_CONDITION\": \"DARKNESS, LIGHTED ROAD\", \"REPORT_TYPE\": \"ON SCENE\", \"CRASH_HOUR\": 23, \"NUM_UNITS\": 649}, {\"LIGHTING_CONDITION\": \"DAWN\", \"REPORT_TYPE\": \"NOT ON SCENE (DESK REPORT)\", \"CRASH_HOUR\": 0, \"NUM_UNITS\": 2}, {\"LIGHTING_CONDITION\": \"DAWN\", \"REPORT_TYPE\": \"NOT ON SCENE (DESK REPORT)\", \"CRASH_HOUR\": 1, \"NUM_UNITS\": 2}, {\"LIGHTING_CONDITION\": \"DAWN\", \"REPORT_TYPE\": \"NOT ON SCENE (DESK REPORT)\", \"CRASH_HOUR\": 2, \"NUM_UNITS\": 2}, {\"LIGHTING_CONDITION\": \"DAWN\", \"REPORT_TYPE\": \"NOT ON SCENE (DESK REPORT)\", \"CRASH_HOUR\": 3, \"NUM_UNITS\": 4}, {\"LIGHTING_CONDITION\": \"DAWN\", \"REPORT_TYPE\": \"NOT ON SCENE (DESK REPORT)\", \"CRASH_HOUR\": 4, \"NUM_UNITS\": 9}, {\"LIGHTING_CONDITION\": \"DAWN\", \"REPORT_TYPE\": \"NOT ON SCENE (DESK REPORT)\", \"CRASH_HOUR\": 5, \"NUM_UNITS\": 74}, {\"LIGHTING_CONDITION\": \"DAWN\", \"REPORT_TYPE\": \"NOT ON SCENE (DESK REPORT)\", \"CRASH_HOUR\": 6, \"NUM_UNITS\": 74}, {\"LIGHTING_CONDITION\": \"DAWN\", \"REPORT_TYPE\": \"NOT ON SCENE (DESK REPORT)\", \"CRASH_HOUR\": 7, \"NUM_UNITS\": 41}, {\"LIGHTING_CONDITION\": \"DAWN\", \"REPORT_TYPE\": \"NOT ON SCENE (DESK REPORT)\", \"CRASH_HOUR\": 8, \"NUM_UNITS\": 8}, {\"LIGHTING_CONDITION\": \"DAWN\", \"REPORT_TYPE\": \"NOT ON SCENE (DESK REPORT)\", \"CRASH_HOUR\": 9, \"NUM_UNITS\": 8}, {\"LIGHTING_CONDITION\": \"DAWN\", \"REPORT_TYPE\": \"NOT ON SCENE (DESK REPORT)\", \"CRASH_HOUR\": 10, \"NUM_UNITS\": 6}, {\"LIGHTING_CONDITION\": \"DAWN\", \"REPORT_TYPE\": \"NOT ON SCENE (DESK REPORT)\", \"CRASH_HOUR\": 11, \"NUM_UNITS\": 2}, {\"LIGHTING_CONDITION\": \"DAWN\", \"REPORT_TYPE\": \"NOT ON SCENE (DESK REPORT)\", \"CRASH_HOUR\": 12, \"NUM_UNITS\": 6}, {\"LIGHTING_CONDITION\": \"DAWN\", \"REPORT_TYPE\": \"NOT ON SCENE (DESK REPORT)\", \"CRASH_HOUR\": 13, \"NUM_UNITS\": 8}, {\"LIGHTING_CONDITION\": \"DAWN\", \"REPORT_TYPE\": \"NOT ON SCENE (DESK REPORT)\", \"CRASH_HOUR\": 14, \"NUM_UNITS\": 14}, {\"LIGHTING_CONDITION\": \"DAWN\", \"REPORT_TYPE\": \"NOT ON SCENE (DESK REPORT)\", \"CRASH_HOUR\": 15, \"NUM_UNITS\": 16}, {\"LIGHTING_CONDITION\": \"DAWN\", \"REPORT_TYPE\": \"NOT ON SCENE (DESK REPORT)\", \"CRASH_HOUR\": 16, \"NUM_UNITS\": 29}, {\"LIGHTING_CONDITION\": \"DAWN\", \"REPORT_TYPE\": \"NOT ON SCENE (DESK REPORT)\", \"CRASH_HOUR\": 17, \"NUM_UNITS\": 66}, {\"LIGHTING_CONDITION\": \"DAWN\", \"REPORT_TYPE\": \"NOT ON SCENE (DESK REPORT)\", \"CRASH_HOUR\": 18, \"NUM_UNITS\": 51}, {\"LIGHTING_CONDITION\": \"DAWN\", \"REPORT_TYPE\": \"NOT ON SCENE (DESK REPORT)\", \"CRASH_HOUR\": 19, \"NUM_UNITS\": 53}, {\"LIGHTING_CONDITION\": \"DAWN\", \"REPORT_TYPE\": \"NOT ON SCENE (DESK REPORT)\", \"CRASH_HOUR\": 20, \"NUM_UNITS\": 16}, {\"LIGHTING_CONDITION\": \"DAWN\", \"REPORT_TYPE\": \"NOT ON SCENE (DESK REPORT)\", \"CRASH_HOUR\": 22, \"NUM_UNITS\": 4}, {\"LIGHTING_CONDITION\": \"DAWN\", \"REPORT_TYPE\": \"ON SCENE\", \"CRASH_HOUR\": 0, \"NUM_UNITS\": 6}, {\"LIGHTING_CONDITION\": \"DAWN\", \"REPORT_TYPE\": \"ON SCENE\", \"CRASH_HOUR\": 1, \"NUM_UNITS\": 2}, {\"LIGHTING_CONDITION\": \"DAWN\", \"REPORT_TYPE\": \"ON SCENE\", \"CRASH_HOUR\": 2, \"NUM_UNITS\": 4}, {\"LIGHTING_CONDITION\": \"DAWN\", \"REPORT_TYPE\": \"ON SCENE\", \"CRASH_HOUR\": 4, \"NUM_UNITS\": 18}, {\"LIGHTING_CONDITION\": \"DAWN\", \"REPORT_TYPE\": \"ON SCENE\", \"CRASH_HOUR\": 5, \"NUM_UNITS\": 83}, {\"LIGHTING_CONDITION\": \"DAWN\", \"REPORT_TYPE\": \"ON SCENE\", \"CRASH_HOUR\": 6, \"NUM_UNITS\": 134}, {\"LIGHTING_CONDITION\": \"DAWN\", \"REPORT_TYPE\": \"ON SCENE\", \"CRASH_HOUR\": 7, \"NUM_UNITS\": 38}, {\"LIGHTING_CONDITION\": \"DAWN\", \"REPORT_TYPE\": \"ON SCENE\", \"CRASH_HOUR\": 8, \"NUM_UNITS\": 10}, {\"LIGHTING_CONDITION\": \"DAWN\", \"REPORT_TYPE\": \"ON SCENE\", \"CRASH_HOUR\": 9, \"NUM_UNITS\": 3}, {\"LIGHTING_CONDITION\": \"DAWN\", \"REPORT_TYPE\": \"ON SCENE\", \"CRASH_HOUR\": 10, \"NUM_UNITS\": 2}, {\"LIGHTING_CONDITION\": \"DAWN\", \"REPORT_TYPE\": \"ON SCENE\", \"CRASH_HOUR\": 11, \"NUM_UNITS\": 2}, {\"LIGHTING_CONDITION\": \"DAWN\", \"REPORT_TYPE\": \"ON SCENE\", \"CRASH_HOUR\": 12, \"NUM_UNITS\": 2}, {\"LIGHTING_CONDITION\": \"DAWN\", \"REPORT_TYPE\": \"ON SCENE\", \"CRASH_HOUR\": 13, \"NUM_UNITS\": 4}, {\"LIGHTING_CONDITION\": \"DAWN\", \"REPORT_TYPE\": \"ON SCENE\", \"CRASH_HOUR\": 14, \"NUM_UNITS\": 7}, {\"LIGHTING_CONDITION\": \"DAWN\", \"REPORT_TYPE\": \"ON SCENE\", \"CRASH_HOUR\": 15, \"NUM_UNITS\": 23}, {\"LIGHTING_CONDITION\": \"DAWN\", \"REPORT_TYPE\": \"ON SCENE\", \"CRASH_HOUR\": 16, \"NUM_UNITS\": 34}, {\"LIGHTING_CONDITION\": \"DAWN\", \"REPORT_TYPE\": \"ON SCENE\", \"CRASH_HOUR\": 17, \"NUM_UNITS\": 28}, {\"LIGHTING_CONDITION\": \"DAWN\", \"REPORT_TYPE\": \"ON SCENE\", \"CRASH_HOUR\": 18, \"NUM_UNITS\": 20}, {\"LIGHTING_CONDITION\": \"DAWN\", \"REPORT_TYPE\": \"ON SCENE\", \"CRASH_HOUR\": 19, \"NUM_UNITS\": 12}, {\"LIGHTING_CONDITION\": \"DAWN\", \"REPORT_TYPE\": \"ON SCENE\", \"CRASH_HOUR\": 20, \"NUM_UNITS\": 8}, {\"LIGHTING_CONDITION\": \"DAWN\", \"REPORT_TYPE\": \"ON SCENE\", \"CRASH_HOUR\": 21, \"NUM_UNITS\": 3}, {\"LIGHTING_CONDITION\": \"DAWN\", \"REPORT_TYPE\": \"ON SCENE\", \"CRASH_HOUR\": 22, \"NUM_UNITS\": 3}, {\"LIGHTING_CONDITION\": \"DAWN\", \"REPORT_TYPE\": \"ON SCENE\", \"CRASH_HOUR\": 23, \"NUM_UNITS\": 4}, {\"LIGHTING_CONDITION\": \"DAYLIGHT\", \"REPORT_TYPE\": \"AMENDED\", \"CRASH_HOUR\": 6, \"NUM_UNITS\": 2}, {\"LIGHTING_CONDITION\": \"DAYLIGHT\", \"REPORT_TYPE\": \"AMENDED\", \"CRASH_HOUR\": 7, \"NUM_UNITS\": 6}, {\"LIGHTING_CONDITION\": \"DAYLIGHT\", \"REPORT_TYPE\": \"AMENDED\", \"CRASH_HOUR\": 8, \"NUM_UNITS\": 2}, {\"LIGHTING_CONDITION\": \"DAYLIGHT\", \"REPORT_TYPE\": \"AMENDED\", \"CRASH_HOUR\": 10, \"NUM_UNITS\": 2}, {\"LIGHTING_CONDITION\": \"DAYLIGHT\", \"REPORT_TYPE\": \"AMENDED\", \"CRASH_HOUR\": 11, \"NUM_UNITS\": 2}, {\"LIGHTING_CONDITION\": \"DAYLIGHT\", \"REPORT_TYPE\": \"AMENDED\", \"CRASH_HOUR\": 12, \"NUM_UNITS\": 4}, {\"LIGHTING_CONDITION\": \"DAYLIGHT\", \"REPORT_TYPE\": \"AMENDED\", \"CRASH_HOUR\": 14, \"NUM_UNITS\": 4}, {\"LIGHTING_CONDITION\": \"DAYLIGHT\", \"REPORT_TYPE\": \"AMENDED\", \"CRASH_HOUR\": 16, \"NUM_UNITS\": 2}, {\"LIGHTING_CONDITION\": \"DAYLIGHT\", \"REPORT_TYPE\": \"AMENDED\", \"CRASH_HOUR\": 18, \"NUM_UNITS\": 2}, {\"LIGHTING_CONDITION\": \"DAYLIGHT\", \"REPORT_TYPE\": \"AMENDED\", \"CRASH_HOUR\": 20, \"NUM_UNITS\": 2}, {\"LIGHTING_CONDITION\": \"DAYLIGHT\", \"REPORT_TYPE\": \"NOT ON SCENE (DESK REPORT)\", \"CRASH_HOUR\": 0, \"NUM_UNITS\": 14}, {\"LIGHTING_CONDITION\": \"DAYLIGHT\", \"REPORT_TYPE\": \"NOT ON SCENE (DESK REPORT)\", \"CRASH_HOUR\": 1, \"NUM_UNITS\": 25}, {\"LIGHTING_CONDITION\": \"DAYLIGHT\", \"REPORT_TYPE\": \"NOT ON SCENE (DESK REPORT)\", \"CRASH_HOUR\": 2, \"NUM_UNITS\": 20}, {\"LIGHTING_CONDITION\": \"DAYLIGHT\", \"REPORT_TYPE\": \"NOT ON SCENE (DESK REPORT)\", \"CRASH_HOUR\": 3, \"NUM_UNITS\": 13}, {\"LIGHTING_CONDITION\": \"DAYLIGHT\", \"REPORT_TYPE\": \"NOT ON SCENE (DESK REPORT)\", \"CRASH_HOUR\": 4, \"NUM_UNITS\": 16}, {\"LIGHTING_CONDITION\": \"DAYLIGHT\", \"REPORT_TYPE\": \"NOT ON SCENE (DESK REPORT)\", \"CRASH_HOUR\": 5, \"NUM_UNITS\": 90}, {\"LIGHTING_CONDITION\": \"DAYLIGHT\", \"REPORT_TYPE\": \"NOT ON SCENE (DESK REPORT)\", \"CRASH_HOUR\": 6, \"NUM_UNITS\": 402}, {\"LIGHTING_CONDITION\": \"DAYLIGHT\", \"REPORT_TYPE\": \"NOT ON SCENE (DESK REPORT)\", \"CRASH_HOUR\": 7, \"NUM_UNITS\": 1308}, {\"LIGHTING_CONDITION\": \"DAYLIGHT\", \"REPORT_TYPE\": \"NOT ON SCENE (DESK REPORT)\", \"CRASH_HOUR\": 8, \"NUM_UNITS\": 1638}, {\"LIGHTING_CONDITION\": \"DAYLIGHT\", \"REPORT_TYPE\": \"NOT ON SCENE (DESK REPORT)\", \"CRASH_HOUR\": 9, \"NUM_UNITS\": 1434}, {\"LIGHTING_CONDITION\": \"DAYLIGHT\", \"REPORT_TYPE\": \"NOT ON SCENE (DESK REPORT)\", \"CRASH_HOUR\": 10, \"NUM_UNITS\": 1350}, {\"LIGHTING_CONDITION\": \"DAYLIGHT\", \"REPORT_TYPE\": \"NOT ON SCENE (DESK REPORT)\", \"CRASH_HOUR\": 11, \"NUM_UNITS\": 1515}, {\"LIGHTING_CONDITION\": \"DAYLIGHT\", \"REPORT_TYPE\": \"NOT ON SCENE (DESK REPORT)\", \"CRASH_HOUR\": 12, \"NUM_UNITS\": 1838}, {\"LIGHTING_CONDITION\": \"DAYLIGHT\", \"REPORT_TYPE\": \"NOT ON SCENE (DESK REPORT)\", \"CRASH_HOUR\": 13, \"NUM_UNITS\": 2198}, {\"LIGHTING_CONDITION\": \"DAYLIGHT\", \"REPORT_TYPE\": \"NOT ON SCENE (DESK REPORT)\", \"CRASH_HOUR\": 14, \"NUM_UNITS\": 2335}, {\"LIGHTING_CONDITION\": \"DAYLIGHT\", \"REPORT_TYPE\": \"NOT ON SCENE (DESK REPORT)\", \"CRASH_HOUR\": 15, \"NUM_UNITS\": 2546}, {\"LIGHTING_CONDITION\": \"DAYLIGHT\", \"REPORT_TYPE\": \"NOT ON SCENE (DESK REPORT)\", \"CRASH_HOUR\": 16, \"NUM_UNITS\": 2206}, {\"LIGHTING_CONDITION\": \"DAYLIGHT\", \"REPORT_TYPE\": \"NOT ON SCENE (DESK REPORT)\", \"CRASH_HOUR\": 17, \"NUM_UNITS\": 1735}, {\"LIGHTING_CONDITION\": \"DAYLIGHT\", \"REPORT_TYPE\": \"NOT ON SCENE (DESK REPORT)\", \"CRASH_HOUR\": 18, \"NUM_UNITS\": 1024}, {\"LIGHTING_CONDITION\": \"DAYLIGHT\", \"REPORT_TYPE\": \"NOT ON SCENE (DESK REPORT)\", \"CRASH_HOUR\": 19, \"NUM_UNITS\": 395}, {\"LIGHTING_CONDITION\": \"DAYLIGHT\", \"REPORT_TYPE\": \"NOT ON SCENE (DESK REPORT)\", \"CRASH_HOUR\": 20, \"NUM_UNITS\": 103}, {\"LIGHTING_CONDITION\": \"DAYLIGHT\", \"REPORT_TYPE\": \"NOT ON SCENE (DESK REPORT)\", \"CRASH_HOUR\": 21, \"NUM_UNITS\": 32}, {\"LIGHTING_CONDITION\": \"DAYLIGHT\", \"REPORT_TYPE\": \"NOT ON SCENE (DESK REPORT)\", \"CRASH_HOUR\": 22, \"NUM_UNITS\": 22}, {\"LIGHTING_CONDITION\": \"DAYLIGHT\", \"REPORT_TYPE\": \"NOT ON SCENE (DESK REPORT)\", \"CRASH_HOUR\": 23, \"NUM_UNITS\": 18}, {\"LIGHTING_CONDITION\": \"DAYLIGHT\", \"REPORT_TYPE\": \"ON SCENE\", \"CRASH_HOUR\": 0, \"NUM_UNITS\": 11}, {\"LIGHTING_CONDITION\": \"DAYLIGHT\", \"REPORT_TYPE\": \"ON SCENE\", \"CRASH_HOUR\": 1, \"NUM_UNITS\": 10}, {\"LIGHTING_CONDITION\": \"DAYLIGHT\", \"REPORT_TYPE\": \"ON SCENE\", \"CRASH_HOUR\": 2, \"NUM_UNITS\": 4}, {\"LIGHTING_CONDITION\": \"DAYLIGHT\", \"REPORT_TYPE\": \"ON SCENE\", \"CRASH_HOUR\": 3, \"NUM_UNITS\": 3}, {\"LIGHTING_CONDITION\": \"DAYLIGHT\", \"REPORT_TYPE\": \"ON SCENE\", \"CRASH_HOUR\": 4, \"NUM_UNITS\": 19}, {\"LIGHTING_CONDITION\": \"DAYLIGHT\", \"REPORT_TYPE\": \"ON SCENE\", \"CRASH_HOUR\": 5, \"NUM_UNITS\": 80}, {\"LIGHTING_CONDITION\": \"DAYLIGHT\", \"REPORT_TYPE\": \"ON SCENE\", \"CRASH_HOUR\": 6, \"NUM_UNITS\": 320}, {\"LIGHTING_CONDITION\": \"DAYLIGHT\", \"REPORT_TYPE\": \"ON SCENE\", \"CRASH_HOUR\": 7, \"NUM_UNITS\": 954}, {\"LIGHTING_CONDITION\": \"DAYLIGHT\", \"REPORT_TYPE\": \"ON SCENE\", \"CRASH_HOUR\": 8, \"NUM_UNITS\": 1255}, {\"LIGHTING_CONDITION\": \"DAYLIGHT\", \"REPORT_TYPE\": \"ON SCENE\", \"CRASH_HOUR\": 9, \"NUM_UNITS\": 1095}, {\"LIGHTING_CONDITION\": \"DAYLIGHT\", \"REPORT_TYPE\": \"ON SCENE\", \"CRASH_HOUR\": 10, \"NUM_UNITS\": 989}, {\"LIGHTING_CONDITION\": \"DAYLIGHT\", \"REPORT_TYPE\": \"ON SCENE\", \"CRASH_HOUR\": 11, \"NUM_UNITS\": 1170}, {\"LIGHTING_CONDITION\": \"DAYLIGHT\", \"REPORT_TYPE\": \"ON SCENE\", \"CRASH_HOUR\": 12, \"NUM_UNITS\": 1245}, {\"LIGHTING_CONDITION\": \"DAYLIGHT\", \"REPORT_TYPE\": \"ON SCENE\", \"CRASH_HOUR\": 13, \"NUM_UNITS\": 1088}, {\"LIGHTING_CONDITION\": \"DAYLIGHT\", \"REPORT_TYPE\": \"ON SCENE\", \"CRASH_HOUR\": 14, \"NUM_UNITS\": 1177}, {\"LIGHTING_CONDITION\": \"DAYLIGHT\", \"REPORT_TYPE\": \"ON SCENE\", \"CRASH_HOUR\": 15, \"NUM_UNITS\": 1332}, {\"LIGHTING_CONDITION\": \"DAYLIGHT\", \"REPORT_TYPE\": \"ON SCENE\", \"CRASH_HOUR\": 16, \"NUM_UNITS\": 1287}, {\"LIGHTING_CONDITION\": \"DAYLIGHT\", \"REPORT_TYPE\": \"ON SCENE\", \"CRASH_HOUR\": 17, \"NUM_UNITS\": 1027}, {\"LIGHTING_CONDITION\": \"DAYLIGHT\", \"REPORT_TYPE\": \"ON SCENE\", \"CRASH_HOUR\": 18, \"NUM_UNITS\": 618}, {\"LIGHTING_CONDITION\": \"DAYLIGHT\", \"REPORT_TYPE\": \"ON SCENE\", \"CRASH_HOUR\": 19, \"NUM_UNITS\": 233}, {\"LIGHTING_CONDITION\": \"DAYLIGHT\", \"REPORT_TYPE\": \"ON SCENE\", \"CRASH_HOUR\": 20, \"NUM_UNITS\": 24}, {\"LIGHTING_CONDITION\": \"DAYLIGHT\", \"REPORT_TYPE\": \"ON SCENE\", \"CRASH_HOUR\": 21, \"NUM_UNITS\": 6}, {\"LIGHTING_CONDITION\": \"DAYLIGHT\", \"REPORT_TYPE\": \"ON SCENE\", \"CRASH_HOUR\": 22, \"NUM_UNITS\": 6}, {\"LIGHTING_CONDITION\": \"DUSK\", \"REPORT_TYPE\": \"AMENDED\", \"CRASH_HOUR\": 20, \"NUM_UNITS\": 5}, {\"LIGHTING_CONDITION\": \"DUSK\", \"REPORT_TYPE\": \"NOT ON SCENE (DESK REPORT)\", \"CRASH_HOUR\": 0, \"NUM_UNITS\": 6}, {\"LIGHTING_CONDITION\": \"DUSK\", \"REPORT_TYPE\": \"NOT ON SCENE (DESK REPORT)\", \"CRASH_HOUR\": 1, \"NUM_UNITS\": 6}, {\"LIGHTING_CONDITION\": \"DUSK\", \"REPORT_TYPE\": \"NOT ON SCENE (DESK REPORT)\", \"CRASH_HOUR\": 2, \"NUM_UNITS\": 2}, {\"LIGHTING_CONDITION\": \"DUSK\", \"REPORT_TYPE\": \"NOT ON SCENE (DESK REPORT)\", \"CRASH_HOUR\": 3, \"NUM_UNITS\": 8}, {\"LIGHTING_CONDITION\": \"DUSK\", \"REPORT_TYPE\": \"NOT ON SCENE (DESK REPORT)\", \"CRASH_HOUR\": 4, \"NUM_UNITS\": 2}, {\"LIGHTING_CONDITION\": \"DUSK\", \"REPORT_TYPE\": \"NOT ON SCENE (DESK REPORT)\", \"CRASH_HOUR\": 5, \"NUM_UNITS\": 13}, {\"LIGHTING_CONDITION\": \"DUSK\", \"REPORT_TYPE\": \"NOT ON SCENE (DESK REPORT)\", \"CRASH_HOUR\": 6, \"NUM_UNITS\": 16}, {\"LIGHTING_CONDITION\": \"DUSK\", \"REPORT_TYPE\": \"NOT ON SCENE (DESK REPORT)\", \"CRASH_HOUR\": 7, \"NUM_UNITS\": 6}, {\"LIGHTING_CONDITION\": \"DUSK\", \"REPORT_TYPE\": \"NOT ON SCENE (DESK REPORT)\", \"CRASH_HOUR\": 8, \"NUM_UNITS\": 2}, {\"LIGHTING_CONDITION\": \"DUSK\", \"REPORT_TYPE\": \"NOT ON SCENE (DESK REPORT)\", \"CRASH_HOUR\": 11, \"NUM_UNITS\": 2}, {\"LIGHTING_CONDITION\": \"DUSK\", \"REPORT_TYPE\": \"NOT ON SCENE (DESK REPORT)\", \"CRASH_HOUR\": 12, \"NUM_UNITS\": 2}, {\"LIGHTING_CONDITION\": \"DUSK\", \"REPORT_TYPE\": \"NOT ON SCENE (DESK REPORT)\", \"CRASH_HOUR\": 13, \"NUM_UNITS\": 12}, {\"LIGHTING_CONDITION\": \"DUSK\", \"REPORT_TYPE\": \"NOT ON SCENE (DESK REPORT)\", \"CRASH_HOUR\": 14, \"NUM_UNITS\": 13}, {\"LIGHTING_CONDITION\": \"DUSK\", \"REPORT_TYPE\": \"NOT ON SCENE (DESK REPORT)\", \"CRASH_HOUR\": 15, \"NUM_UNITS\": 50}, {\"LIGHTING_CONDITION\": \"DUSK\", \"REPORT_TYPE\": \"NOT ON SCENE (DESK REPORT)\", \"CRASH_HOUR\": 16, \"NUM_UNITS\": 171}, {\"LIGHTING_CONDITION\": \"DUSK\", \"REPORT_TYPE\": \"NOT ON SCENE (DESK REPORT)\", \"CRASH_HOUR\": 17, \"NUM_UNITS\": 211}, {\"LIGHTING_CONDITION\": \"DUSK\", \"REPORT_TYPE\": \"NOT ON SCENE (DESK REPORT)\", \"CRASH_HOUR\": 18, \"NUM_UNITS\": 173}, {\"LIGHTING_CONDITION\": \"DUSK\", \"REPORT_TYPE\": \"NOT ON SCENE (DESK REPORT)\", \"CRASH_HOUR\": 19, \"NUM_UNITS\": 154}, {\"LIGHTING_CONDITION\": \"DUSK\", \"REPORT_TYPE\": \"NOT ON SCENE (DESK REPORT)\", \"CRASH_HOUR\": 20, \"NUM_UNITS\": 72}, {\"LIGHTING_CONDITION\": \"DUSK\", \"REPORT_TYPE\": \"NOT ON SCENE (DESK REPORT)\", \"CRASH_HOUR\": 21, \"NUM_UNITS\": 26}, {\"LIGHTING_CONDITION\": \"DUSK\", \"REPORT_TYPE\": \"NOT ON SCENE (DESK REPORT)\", \"CRASH_HOUR\": 22, \"NUM_UNITS\": 24}, {\"LIGHTING_CONDITION\": \"DUSK\", \"REPORT_TYPE\": \"NOT ON SCENE (DESK REPORT)\", \"CRASH_HOUR\": 23, \"NUM_UNITS\": 4}, {\"LIGHTING_CONDITION\": \"DUSK\", \"REPORT_TYPE\": \"ON SCENE\", \"CRASH_HOUR\": 0, \"NUM_UNITS\": 7}, {\"LIGHTING_CONDITION\": \"DUSK\", \"REPORT_TYPE\": \"ON SCENE\", \"CRASH_HOUR\": 1, \"NUM_UNITS\": 1}, {\"LIGHTING_CONDITION\": \"DUSK\", \"REPORT_TYPE\": \"ON SCENE\", \"CRASH_HOUR\": 2, \"NUM_UNITS\": 3}, {\"LIGHTING_CONDITION\": \"DUSK\", \"REPORT_TYPE\": \"ON SCENE\", \"CRASH_HOUR\": 3, \"NUM_UNITS\": 3}, {\"LIGHTING_CONDITION\": \"DUSK\", \"REPORT_TYPE\": \"ON SCENE\", \"CRASH_HOUR\": 4, \"NUM_UNITS\": 6}, {\"LIGHTING_CONDITION\": \"DUSK\", \"REPORT_TYPE\": \"ON SCENE\", \"CRASH_HOUR\": 5, \"NUM_UNITS\": 14}, {\"LIGHTING_CONDITION\": \"DUSK\", \"REPORT_TYPE\": \"ON SCENE\", \"CRASH_HOUR\": 6, \"NUM_UNITS\": 5}, {\"LIGHTING_CONDITION\": \"DUSK\", \"REPORT_TYPE\": \"ON SCENE\", \"CRASH_HOUR\": 8, \"NUM_UNITS\": 6}, {\"LIGHTING_CONDITION\": \"DUSK\", \"REPORT_TYPE\": \"ON SCENE\", \"CRASH_HOUR\": 9, \"NUM_UNITS\": 6}, {\"LIGHTING_CONDITION\": \"DUSK\", \"REPORT_TYPE\": \"ON SCENE\", \"CRASH_HOUR\": 11, \"NUM_UNITS\": 6}, {\"LIGHTING_CONDITION\": \"DUSK\", \"REPORT_TYPE\": \"ON SCENE\", \"CRASH_HOUR\": 12, \"NUM_UNITS\": 2}, {\"LIGHTING_CONDITION\": \"DUSK\", \"REPORT_TYPE\": \"ON SCENE\", \"CRASH_HOUR\": 13, \"NUM_UNITS\": 7}, {\"LIGHTING_CONDITION\": \"DUSK\", \"REPORT_TYPE\": \"ON SCENE\", \"CRASH_HOUR\": 14, \"NUM_UNITS\": 9}, {\"LIGHTING_CONDITION\": \"DUSK\", \"REPORT_TYPE\": \"ON SCENE\", \"CRASH_HOUR\": 15, \"NUM_UNITS\": 43}, {\"LIGHTING_CONDITION\": \"DUSK\", \"REPORT_TYPE\": \"ON SCENE\", \"CRASH_HOUR\": 16, \"NUM_UNITS\": 94}, {\"LIGHTING_CONDITION\": \"DUSK\", \"REPORT_TYPE\": \"ON SCENE\", \"CRASH_HOUR\": 17, \"NUM_UNITS\": 112}, {\"LIGHTING_CONDITION\": \"DUSK\", \"REPORT_TYPE\": \"ON SCENE\", \"CRASH_HOUR\": 18, \"NUM_UNITS\": 119}, {\"LIGHTING_CONDITION\": \"DUSK\", \"REPORT_TYPE\": \"ON SCENE\", \"CRASH_HOUR\": 19, \"NUM_UNITS\": 126}, {\"LIGHTING_CONDITION\": \"DUSK\", \"REPORT_TYPE\": \"ON SCENE\", \"CRASH_HOUR\": 20, \"NUM_UNITS\": 74}, {\"LIGHTING_CONDITION\": \"DUSK\", \"REPORT_TYPE\": \"ON SCENE\", \"CRASH_HOUR\": 21, \"NUM_UNITS\": 27}, {\"LIGHTING_CONDITION\": \"DUSK\", \"REPORT_TYPE\": \"ON SCENE\", \"CRASH_HOUR\": 22, \"NUM_UNITS\": 6}, {\"LIGHTING_CONDITION\": \"DUSK\", \"REPORT_TYPE\": \"ON SCENE\", \"CRASH_HOUR\": 23, \"NUM_UNITS\": 13}, {\"LIGHTING_CONDITION\": \"UNKNOWN\", \"REPORT_TYPE\": \"NOT ON SCENE (DESK REPORT)\", \"CRASH_HOUR\": 0, \"NUM_UNITS\": 46}, {\"LIGHTING_CONDITION\": \"UNKNOWN\", \"REPORT_TYPE\": \"NOT ON SCENE (DESK REPORT)\", \"CRASH_HOUR\": 1, \"NUM_UNITS\": 46}, {\"LIGHTING_CONDITION\": \"UNKNOWN\", \"REPORT_TYPE\": \"NOT ON SCENE (DESK REPORT)\", \"CRASH_HOUR\": 2, \"NUM_UNITS\": 28}, {\"LIGHTING_CONDITION\": \"UNKNOWN\", \"REPORT_TYPE\": \"NOT ON SCENE (DESK REPORT)\", \"CRASH_HOUR\": 3, \"NUM_UNITS\": 18}, {\"LIGHTING_CONDITION\": \"UNKNOWN\", \"REPORT_TYPE\": \"NOT ON SCENE (DESK REPORT)\", \"CRASH_HOUR\": 4, \"NUM_UNITS\": 22}, {\"LIGHTING_CONDITION\": \"UNKNOWN\", \"REPORT_TYPE\": \"NOT ON SCENE (DESK REPORT)\", \"CRASH_HOUR\": 5, \"NUM_UNITS\": 20}, {\"LIGHTING_CONDITION\": \"UNKNOWN\", \"REPORT_TYPE\": \"NOT ON SCENE (DESK REPORT)\", \"CRASH_HOUR\": 6, \"NUM_UNITS\": 51}, {\"LIGHTING_CONDITION\": \"UNKNOWN\", \"REPORT_TYPE\": \"NOT ON SCENE (DESK REPORT)\", \"CRASH_HOUR\": 7, \"NUM_UNITS\": 64}, {\"LIGHTING_CONDITION\": \"UNKNOWN\", \"REPORT_TYPE\": \"NOT ON SCENE (DESK REPORT)\", \"CRASH_HOUR\": 8, \"NUM_UNITS\": 97}, {\"LIGHTING_CONDITION\": \"UNKNOWN\", \"REPORT_TYPE\": \"NOT ON SCENE (DESK REPORT)\", \"CRASH_HOUR\": 9, \"NUM_UNITS\": 77}, {\"LIGHTING_CONDITION\": \"UNKNOWN\", \"REPORT_TYPE\": \"NOT ON SCENE (DESK REPORT)\", \"CRASH_HOUR\": 10, \"NUM_UNITS\": 91}, {\"LIGHTING_CONDITION\": \"UNKNOWN\", \"REPORT_TYPE\": \"NOT ON SCENE (DESK REPORT)\", \"CRASH_HOUR\": 11, \"NUM_UNITS\": 64}, {\"LIGHTING_CONDITION\": \"UNKNOWN\", \"REPORT_TYPE\": \"NOT ON SCENE (DESK REPORT)\", \"CRASH_HOUR\": 12, \"NUM_UNITS\": 91}, {\"LIGHTING_CONDITION\": \"UNKNOWN\", \"REPORT_TYPE\": \"NOT ON SCENE (DESK REPORT)\", \"CRASH_HOUR\": 13, \"NUM_UNITS\": 68}, {\"LIGHTING_CONDITION\": \"UNKNOWN\", \"REPORT_TYPE\": \"NOT ON SCENE (DESK REPORT)\", \"CRASH_HOUR\": 14, \"NUM_UNITS\": 68}, {\"LIGHTING_CONDITION\": \"UNKNOWN\", \"REPORT_TYPE\": \"NOT ON SCENE (DESK REPORT)\", \"CRASH_HOUR\": 15, \"NUM_UNITS\": 80}, {\"LIGHTING_CONDITION\": \"UNKNOWN\", \"REPORT_TYPE\": \"NOT ON SCENE (DESK REPORT)\", \"CRASH_HOUR\": 16, \"NUM_UNITS\": 94}, {\"LIGHTING_CONDITION\": \"UNKNOWN\", \"REPORT_TYPE\": \"NOT ON SCENE (DESK REPORT)\", \"CRASH_HOUR\": 17, \"NUM_UNITS\": 86}, {\"LIGHTING_CONDITION\": \"UNKNOWN\", \"REPORT_TYPE\": \"NOT ON SCENE (DESK REPORT)\", \"CRASH_HOUR\": 18, \"NUM_UNITS\": 115}, {\"LIGHTING_CONDITION\": \"UNKNOWN\", \"REPORT_TYPE\": \"NOT ON SCENE (DESK REPORT)\", \"CRASH_HOUR\": 19, \"NUM_UNITS\": 70}, {\"LIGHTING_CONDITION\": \"UNKNOWN\", \"REPORT_TYPE\": \"NOT ON SCENE (DESK REPORT)\", \"CRASH_HOUR\": 20, \"NUM_UNITS\": 73}, {\"LIGHTING_CONDITION\": \"UNKNOWN\", \"REPORT_TYPE\": \"NOT ON SCENE (DESK REPORT)\", \"CRASH_HOUR\": 21, \"NUM_UNITS\": 70}, {\"LIGHTING_CONDITION\": \"UNKNOWN\", \"REPORT_TYPE\": \"NOT ON SCENE (DESK REPORT)\", \"CRASH_HOUR\": 22, \"NUM_UNITS\": 46}, {\"LIGHTING_CONDITION\": \"UNKNOWN\", \"REPORT_TYPE\": \"NOT ON SCENE (DESK REPORT)\", \"CRASH_HOUR\": 23, \"NUM_UNITS\": 42}, {\"LIGHTING_CONDITION\": \"UNKNOWN\", \"REPORT_TYPE\": \"ON SCENE\", \"CRASH_HOUR\": 0, \"NUM_UNITS\": 33}, {\"LIGHTING_CONDITION\": \"UNKNOWN\", \"REPORT_TYPE\": \"ON SCENE\", \"CRASH_HOUR\": 1, \"NUM_UNITS\": 13}, {\"LIGHTING_CONDITION\": \"UNKNOWN\", \"REPORT_TYPE\": \"ON SCENE\", \"CRASH_HOUR\": 2, \"NUM_UNITS\": 16}, {\"LIGHTING_CONDITION\": \"UNKNOWN\", \"REPORT_TYPE\": \"ON SCENE\", \"CRASH_HOUR\": 3, \"NUM_UNITS\": 24}, {\"LIGHTING_CONDITION\": \"UNKNOWN\", \"REPORT_TYPE\": \"ON SCENE\", \"CRASH_HOUR\": 4, \"NUM_UNITS\": 10}, {\"LIGHTING_CONDITION\": \"UNKNOWN\", \"REPORT_TYPE\": \"ON SCENE\", \"CRASH_HOUR\": 5, \"NUM_UNITS\": 14}, {\"LIGHTING_CONDITION\": \"UNKNOWN\", \"REPORT_TYPE\": \"ON SCENE\", \"CRASH_HOUR\": 6, \"NUM_UNITS\": 27}, {\"LIGHTING_CONDITION\": \"UNKNOWN\", \"REPORT_TYPE\": \"ON SCENE\", \"CRASH_HOUR\": 7, \"NUM_UNITS\": 22}, {\"LIGHTING_CONDITION\": \"UNKNOWN\", \"REPORT_TYPE\": \"ON SCENE\", \"CRASH_HOUR\": 8, \"NUM_UNITS\": 19}, {\"LIGHTING_CONDITION\": \"UNKNOWN\", \"REPORT_TYPE\": \"ON SCENE\", \"CRASH_HOUR\": 9, \"NUM_UNITS\": 23}, {\"LIGHTING_CONDITION\": \"UNKNOWN\", \"REPORT_TYPE\": \"ON SCENE\", \"CRASH_HOUR\": 10, \"NUM_UNITS\": 21}, {\"LIGHTING_CONDITION\": \"UNKNOWN\", \"REPORT_TYPE\": \"ON SCENE\", \"CRASH_HOUR\": 11, \"NUM_UNITS\": 7}, {\"LIGHTING_CONDITION\": \"UNKNOWN\", \"REPORT_TYPE\": \"ON SCENE\", \"CRASH_HOUR\": 12, \"NUM_UNITS\": 17}, {\"LIGHTING_CONDITION\": \"UNKNOWN\", \"REPORT_TYPE\": \"ON SCENE\", \"CRASH_HOUR\": 13, \"NUM_UNITS\": 9}, {\"LIGHTING_CONDITION\": \"UNKNOWN\", \"REPORT_TYPE\": \"ON SCENE\", \"CRASH_HOUR\": 14, \"NUM_UNITS\": 7}, {\"LIGHTING_CONDITION\": \"UNKNOWN\", \"REPORT_TYPE\": \"ON SCENE\", \"CRASH_HOUR\": 15, \"NUM_UNITS\": 17}, {\"LIGHTING_CONDITION\": \"UNKNOWN\", \"REPORT_TYPE\": \"ON SCENE\", \"CRASH_HOUR\": 16, \"NUM_UNITS\": 19}, {\"LIGHTING_CONDITION\": \"UNKNOWN\", \"REPORT_TYPE\": \"ON SCENE\", \"CRASH_HOUR\": 17, \"NUM_UNITS\": 23}, {\"LIGHTING_CONDITION\": \"UNKNOWN\", \"REPORT_TYPE\": \"ON SCENE\", \"CRASH_HOUR\": 18, \"NUM_UNITS\": 14}, {\"LIGHTING_CONDITION\": \"UNKNOWN\", \"REPORT_TYPE\": \"ON SCENE\", \"CRASH_HOUR\": 19, \"NUM_UNITS\": 9}, {\"LIGHTING_CONDITION\": \"UNKNOWN\", \"REPORT_TYPE\": \"ON SCENE\", \"CRASH_HOUR\": 20, \"NUM_UNITS\": 10}, {\"LIGHTING_CONDITION\": \"UNKNOWN\", \"REPORT_TYPE\": \"ON SCENE\", \"CRASH_HOUR\": 21, \"NUM_UNITS\": 10}, {\"LIGHTING_CONDITION\": \"UNKNOWN\", \"REPORT_TYPE\": \"ON SCENE\", \"CRASH_HOUR\": 22, \"NUM_UNITS\": 20}, {\"LIGHTING_CONDITION\": \"UNKNOWN\", \"REPORT_TYPE\": \"ON SCENE\", \"CRASH_HOUR\": 23, \"NUM_UNITS\": 6}]}}, {\"mode\": \"vega-lite\"});\n</script>",
      "text/plain": "alt.Chart(...)"
     },
     "metadata": {}
    }
   ],
   "execution_count": 4
  },
  {
   "cell_type": "markdown",
   "source": "## Total, de accidentes por hora",
   "metadata": {
    "tags": [],
    "cell_id": "00007-b913d6ef-3d08-4004-a085-8b997aab2712",
    "deepnote_cell_type": "markdown"
   }
  },
  {
   "cell_type": "code",
   "source": "report_2 = Chicago_df.groupby(['LIGHTING_CONDITION', 'CRASH_HOUR']).agg({'NUM_UNITS': ['sum']})\nreport_2 = report_2.reset_index()\nreport_2.columns = ['LIGHTING_CONDITION', 'CRASH_HOUR', 'NUM_UNITS_SUM']\n\nalt.Chart(report_2).mark_bar().encode(\n    x = 'CRASH_HOUR',\n    y = 'NUM_UNITS_SUM',\n    color = 'LIGHTING_CONDITION'\n).properties(width=500)\n",
   "metadata": {
    "tags": [],
    "cell_id": "00007-19c8314e-42e6-4899-bf3f-13c341763420",
    "deepnote_to_be_reexecuted": false,
    "source_hash": "108b786d",
    "execution_start": 1635520921337,
    "execution_millis": 86,
    "deepnote_cell_type": "code"
   },
   "outputs": [
    {
     "output_type": "execute_result",
     "execution_count": 5,
     "data": {
      "text/html": "\n<div id=\"altair-viz-ef01ee8f0eb24a0cac8c60f776e05c11\"></div>\n<script type=\"text/javascript\">\n  (function(spec, embedOpt){\n    let outputDiv = document.currentScript.previousElementSibling;\n    if (outputDiv.id !== \"altair-viz-ef01ee8f0eb24a0cac8c60f776e05c11\") {\n      outputDiv = document.getElementById(\"altair-viz-ef01ee8f0eb24a0cac8c60f776e05c11\");\n    }\n    const paths = {\n      \"vega\": \"https://cdn.jsdelivr.net/npm//vega@5?noext\",\n      \"vega-lib\": \"https://cdn.jsdelivr.net/npm//vega-lib?noext\",\n      \"vega-lite\": \"https://cdn.jsdelivr.net/npm//vega-lite@4.8.1?noext\",\n      \"vega-embed\": \"https://cdn.jsdelivr.net/npm//vega-embed@6?noext\",\n    };\n\n    function loadScript(lib) {\n      return new Promise(function(resolve, reject) {\n        var s = document.createElement('script');\n        s.src = paths[lib];\n        s.async = true;\n        s.onload = () => resolve(paths[lib]);\n        s.onerror = () => reject(`Error loading script: ${paths[lib]}`);\n        document.getElementsByTagName(\"head\")[0].appendChild(s);\n      });\n    }\n\n    function showError(err) {\n      outputDiv.innerHTML = `<div class=\"error\" style=\"color:red;\">${err}</div>`;\n      throw err;\n    }\n\n    function displayChart(vegaEmbed) {\n      vegaEmbed(outputDiv, spec, embedOpt)\n        .catch(err => showError(`Javascript Error: ${err.message}<br>This usually means there's a typo in your chart specification. See the javascript console for the full traceback.`));\n    }\n\n    if(typeof define === \"function\" && define.amd) {\n      requirejs.config({paths});\n      require([\"vega-embed\"], displayChart, err => showError(`Error loading script: ${err.message}`));\n    } else if (typeof vegaEmbed === \"function\") {\n      displayChart(vegaEmbed);\n    } else {\n      loadScript(\"vega\")\n        .then(() => loadScript(\"vega-lite\"))\n        .then(() => loadScript(\"vega-embed\"))\n        .catch(showError)\n        .then(() => displayChart(vegaEmbed));\n    }\n  })({\"config\": {\"view\": {\"continuousWidth\": 400, \"continuousHeight\": 300}}, \"data\": {\"name\": \"data-c0e37cce90742cd3a4684b38d7537ca1\"}, \"mark\": \"bar\", \"encoding\": {\"color\": {\"type\": \"nominal\", \"field\": \"LIGHTING_CONDITION\"}, \"x\": {\"type\": \"quantitative\", \"field\": \"CRASH_HOUR\"}, \"y\": {\"type\": \"quantitative\", \"field\": \"NUM_UNITS_SUM\"}}, \"width\": 500, \"$schema\": \"https://vega.github.io/schema/vega-lite/v4.8.1.json\", \"datasets\": {\"data-c0e37cce90742cd3a4684b38d7537ca1\": [{\"LIGHTING_CONDITION\": \"DARKNESS\", \"CRASH_HOUR\": 0, \"NUM_UNITS_SUM\": 154}, {\"LIGHTING_CONDITION\": \"DARKNESS\", \"CRASH_HOUR\": 1, \"NUM_UNITS_SUM\": 156}, {\"LIGHTING_CONDITION\": \"DARKNESS\", \"CRASH_HOUR\": 2, \"NUM_UNITS_SUM\": 133}, {\"LIGHTING_CONDITION\": \"DARKNESS\", \"CRASH_HOUR\": 3, \"NUM_UNITS_SUM\": 123}, {\"LIGHTING_CONDITION\": \"DARKNESS\", \"CRASH_HOUR\": 4, \"NUM_UNITS_SUM\": 137}, {\"LIGHTING_CONDITION\": \"DARKNESS\", \"CRASH_HOUR\": 5, \"NUM_UNITS_SUM\": 67}, {\"LIGHTING_CONDITION\": \"DARKNESS\", \"CRASH_HOUR\": 6, \"NUM_UNITS_SUM\": 48}, {\"LIGHTING_CONDITION\": \"DARKNESS\", \"CRASH_HOUR\": 7, \"NUM_UNITS_SUM\": 17}, {\"LIGHTING_CONDITION\": \"DARKNESS\", \"CRASH_HOUR\": 8, \"NUM_UNITS_SUM\": 2}, {\"LIGHTING_CONDITION\": \"DARKNESS\", \"CRASH_HOUR\": 9, \"NUM_UNITS_SUM\": 11}, {\"LIGHTING_CONDITION\": \"DARKNESS\", \"CRASH_HOUR\": 10, \"NUM_UNITS_SUM\": 12}, {\"LIGHTING_CONDITION\": \"DARKNESS\", \"CRASH_HOUR\": 11, \"NUM_UNITS_SUM\": 4}, {\"LIGHTING_CONDITION\": \"DARKNESS\", \"CRASH_HOUR\": 12, \"NUM_UNITS_SUM\": 6}, {\"LIGHTING_CONDITION\": \"DARKNESS\", \"CRASH_HOUR\": 13, \"NUM_UNITS_SUM\": 2}, {\"LIGHTING_CONDITION\": \"DARKNESS\", \"CRASH_HOUR\": 14, \"NUM_UNITS_SUM\": 11}, {\"LIGHTING_CONDITION\": \"DARKNESS\", \"CRASH_HOUR\": 15, \"NUM_UNITS_SUM\": 20}, {\"LIGHTING_CONDITION\": \"DARKNESS\", \"CRASH_HOUR\": 16, \"NUM_UNITS_SUM\": 54}, {\"LIGHTING_CONDITION\": \"DARKNESS\", \"CRASH_HOUR\": 17, \"NUM_UNITS_SUM\": 247}, {\"LIGHTING_CONDITION\": \"DARKNESS\", \"CRASH_HOUR\": 18, \"NUM_UNITS_SUM\": 336}, {\"LIGHTING_CONDITION\": \"DARKNESS\", \"CRASH_HOUR\": 19, \"NUM_UNITS_SUM\": 324}, {\"LIGHTING_CONDITION\": \"DARKNESS\", \"CRASH_HOUR\": 20, \"NUM_UNITS_SUM\": 334}, {\"LIGHTING_CONDITION\": \"DARKNESS\", \"CRASH_HOUR\": 21, \"NUM_UNITS_SUM\": 303}, {\"LIGHTING_CONDITION\": \"DARKNESS\", \"CRASH_HOUR\": 22, \"NUM_UNITS_SUM\": 241}, {\"LIGHTING_CONDITION\": \"DARKNESS\", \"CRASH_HOUR\": 23, \"NUM_UNITS_SUM\": 216}, {\"LIGHTING_CONDITION\": \"DARKNESS, LIGHTED ROAD\", \"CRASH_HOUR\": 0, \"NUM_UNITS_SUM\": 916}, {\"LIGHTING_CONDITION\": \"DARKNESS, LIGHTED ROAD\", \"CRASH_HOUR\": 1, \"NUM_UNITS_SUM\": 741}, {\"LIGHTING_CONDITION\": \"DARKNESS, LIGHTED ROAD\", \"CRASH_HOUR\": 2, \"NUM_UNITS_SUM\": 734}, {\"LIGHTING_CONDITION\": \"DARKNESS, LIGHTED ROAD\", \"CRASH_HOUR\": 3, \"NUM_UNITS_SUM\": 510}, {\"LIGHTING_CONDITION\": \"DARKNESS, LIGHTED ROAD\", \"CRASH_HOUR\": 4, \"NUM_UNITS_SUM\": 392}, {\"LIGHTING_CONDITION\": \"DARKNESS, LIGHTED ROAD\", \"CRASH_HOUR\": 5, \"NUM_UNITS_SUM\": 355}, {\"LIGHTING_CONDITION\": \"DARKNESS, LIGHTED ROAD\", \"CRASH_HOUR\": 6, \"NUM_UNITS_SUM\": 204}, {\"LIGHTING_CONDITION\": \"DARKNESS, LIGHTED ROAD\", \"CRASH_HOUR\": 7, \"NUM_UNITS_SUM\": 26}, {\"LIGHTING_CONDITION\": \"DARKNESS, LIGHTED ROAD\", \"CRASH_HOUR\": 8, \"NUM_UNITS_SUM\": 23}, {\"LIGHTING_CONDITION\": \"DARKNESS, LIGHTED ROAD\", \"CRASH_HOUR\": 9, \"NUM_UNITS_SUM\": 34}, {\"LIGHTING_CONDITION\": \"DARKNESS, LIGHTED ROAD\", \"CRASH_HOUR\": 10, \"NUM_UNITS_SUM\": 28}, {\"LIGHTING_CONDITION\": \"DARKNESS, LIGHTED ROAD\", \"CRASH_HOUR\": 11, \"NUM_UNITS_SUM\": 31}, {\"LIGHTING_CONDITION\": \"DARKNESS, LIGHTED ROAD\", \"CRASH_HOUR\": 12, \"NUM_UNITS_SUM\": 24}, {\"LIGHTING_CONDITION\": \"DARKNESS, LIGHTED ROAD\", \"CRASH_HOUR\": 13, \"NUM_UNITS_SUM\": 9}, {\"LIGHTING_CONDITION\": \"DARKNESS, LIGHTED ROAD\", \"CRASH_HOUR\": 14, \"NUM_UNITS_SUM\": 22}, {\"LIGHTING_CONDITION\": \"DARKNESS, LIGHTED ROAD\", \"CRASH_HOUR\": 15, \"NUM_UNITS_SUM\": 30}, {\"LIGHTING_CONDITION\": \"DARKNESS, LIGHTED ROAD\", \"CRASH_HOUR\": 16, \"NUM_UNITS_SUM\": 213}, {\"LIGHTING_CONDITION\": \"DARKNESS, LIGHTED ROAD\", \"CRASH_HOUR\": 17, \"NUM_UNITS_SUM\": 762}, {\"LIGHTING_CONDITION\": \"DARKNESS, LIGHTED ROAD\", \"CRASH_HOUR\": 18, \"NUM_UNITS_SUM\": 931}, {\"LIGHTING_CONDITION\": \"DARKNESS, LIGHTED ROAD\", \"CRASH_HOUR\": 19, \"NUM_UNITS_SUM\": 1074}, {\"LIGHTING_CONDITION\": \"DARKNESS, LIGHTED ROAD\", \"CRASH_HOUR\": 20, \"NUM_UNITS_SUM\": 1225}, {\"LIGHTING_CONDITION\": \"DARKNESS, LIGHTED ROAD\", \"CRASH_HOUR\": 21, \"NUM_UNITS_SUM\": 1351}, {\"LIGHTING_CONDITION\": \"DARKNESS, LIGHTED ROAD\", \"CRASH_HOUR\": 22, \"NUM_UNITS_SUM\": 1333}, {\"LIGHTING_CONDITION\": \"DARKNESS, LIGHTED ROAD\", \"CRASH_HOUR\": 23, \"NUM_UNITS_SUM\": 1118}, {\"LIGHTING_CONDITION\": \"DAWN\", \"CRASH_HOUR\": 0, \"NUM_UNITS_SUM\": 8}, {\"LIGHTING_CONDITION\": \"DAWN\", \"CRASH_HOUR\": 1, \"NUM_UNITS_SUM\": 4}, {\"LIGHTING_CONDITION\": \"DAWN\", \"CRASH_HOUR\": 2, \"NUM_UNITS_SUM\": 6}, {\"LIGHTING_CONDITION\": \"DAWN\", \"CRASH_HOUR\": 3, \"NUM_UNITS_SUM\": 4}, {\"LIGHTING_CONDITION\": \"DAWN\", \"CRASH_HOUR\": 4, \"NUM_UNITS_SUM\": 32}, {\"LIGHTING_CONDITION\": \"DAWN\", \"CRASH_HOUR\": 5, \"NUM_UNITS_SUM\": 157}, {\"LIGHTING_CONDITION\": \"DAWN\", \"CRASH_HOUR\": 6, \"NUM_UNITS_SUM\": 222}, {\"LIGHTING_CONDITION\": \"DAWN\", \"CRASH_HOUR\": 7, \"NUM_UNITS_SUM\": 83}, {\"LIGHTING_CONDITION\": \"DAWN\", \"CRASH_HOUR\": 8, \"NUM_UNITS_SUM\": 18}, {\"LIGHTING_CONDITION\": \"DAWN\", \"CRASH_HOUR\": 9, \"NUM_UNITS_SUM\": 11}, {\"LIGHTING_CONDITION\": \"DAWN\", \"CRASH_HOUR\": 10, \"NUM_UNITS_SUM\": 8}, {\"LIGHTING_CONDITION\": \"DAWN\", \"CRASH_HOUR\": 11, \"NUM_UNITS_SUM\": 4}, {\"LIGHTING_CONDITION\": \"DAWN\", \"CRASH_HOUR\": 12, \"NUM_UNITS_SUM\": 8}, {\"LIGHTING_CONDITION\": \"DAWN\", \"CRASH_HOUR\": 13, \"NUM_UNITS_SUM\": 12}, {\"LIGHTING_CONDITION\": \"DAWN\", \"CRASH_HOUR\": 14, \"NUM_UNITS_SUM\": 21}, {\"LIGHTING_CONDITION\": \"DAWN\", \"CRASH_HOUR\": 15, \"NUM_UNITS_SUM\": 39}, {\"LIGHTING_CONDITION\": \"DAWN\", \"CRASH_HOUR\": 16, \"NUM_UNITS_SUM\": 67}, {\"LIGHTING_CONDITION\": \"DAWN\", \"CRASH_HOUR\": 17, \"NUM_UNITS_SUM\": 96}, {\"LIGHTING_CONDITION\": \"DAWN\", \"CRASH_HOUR\": 18, \"NUM_UNITS_SUM\": 78}, {\"LIGHTING_CONDITION\": \"DAWN\", \"CRASH_HOUR\": 19, \"NUM_UNITS_SUM\": 67}, {\"LIGHTING_CONDITION\": \"DAWN\", \"CRASH_HOUR\": 20, \"NUM_UNITS_SUM\": 26}, {\"LIGHTING_CONDITION\": \"DAWN\", \"CRASH_HOUR\": 21, \"NUM_UNITS_SUM\": 3}, {\"LIGHTING_CONDITION\": \"DAWN\", \"CRASH_HOUR\": 22, \"NUM_UNITS_SUM\": 7}, {\"LIGHTING_CONDITION\": \"DAWN\", \"CRASH_HOUR\": 23, \"NUM_UNITS_SUM\": 4}, {\"LIGHTING_CONDITION\": \"DAYLIGHT\", \"CRASH_HOUR\": 0, \"NUM_UNITS_SUM\": 25}, {\"LIGHTING_CONDITION\": \"DAYLIGHT\", \"CRASH_HOUR\": 1, \"NUM_UNITS_SUM\": 37}, {\"LIGHTING_CONDITION\": \"DAYLIGHT\", \"CRASH_HOUR\": 2, \"NUM_UNITS_SUM\": 24}, {\"LIGHTING_CONDITION\": \"DAYLIGHT\", \"CRASH_HOUR\": 3, \"NUM_UNITS_SUM\": 16}, {\"LIGHTING_CONDITION\": \"DAYLIGHT\", \"CRASH_HOUR\": 4, \"NUM_UNITS_SUM\": 35}, {\"LIGHTING_CONDITION\": \"DAYLIGHT\", \"CRASH_HOUR\": 5, \"NUM_UNITS_SUM\": 174}, {\"LIGHTING_CONDITION\": \"DAYLIGHT\", \"CRASH_HOUR\": 6, \"NUM_UNITS_SUM\": 749}, {\"LIGHTING_CONDITION\": \"DAYLIGHT\", \"CRASH_HOUR\": 7, \"NUM_UNITS_SUM\": 2313}, {\"LIGHTING_CONDITION\": \"DAYLIGHT\", \"CRASH_HOUR\": 8, \"NUM_UNITS_SUM\": 2963}, {\"LIGHTING_CONDITION\": \"DAYLIGHT\", \"CRASH_HOUR\": 9, \"NUM_UNITS_SUM\": 2579}, {\"LIGHTING_CONDITION\": \"DAYLIGHT\", \"CRASH_HOUR\": 10, \"NUM_UNITS_SUM\": 2398}, {\"LIGHTING_CONDITION\": \"DAYLIGHT\", \"CRASH_HOUR\": 11, \"NUM_UNITS_SUM\": 2759}, {\"LIGHTING_CONDITION\": \"DAYLIGHT\", \"CRASH_HOUR\": 12, \"NUM_UNITS_SUM\": 3154}, {\"LIGHTING_CONDITION\": \"DAYLIGHT\", \"CRASH_HOUR\": 13, \"NUM_UNITS_SUM\": 3357}, {\"LIGHTING_CONDITION\": \"DAYLIGHT\", \"CRASH_HOUR\": 14, \"NUM_UNITS_SUM\": 3606}, {\"LIGHTING_CONDITION\": \"DAYLIGHT\", \"CRASH_HOUR\": 15, \"NUM_UNITS_SUM\": 3979}, {\"LIGHTING_CONDITION\": \"DAYLIGHT\", \"CRASH_HOUR\": 16, \"NUM_UNITS_SUM\": 3596}, {\"LIGHTING_CONDITION\": \"DAYLIGHT\", \"CRASH_HOUR\": 17, \"NUM_UNITS_SUM\": 2820}, {\"LIGHTING_CONDITION\": \"DAYLIGHT\", \"CRASH_HOUR\": 18, \"NUM_UNITS_SUM\": 1679}, {\"LIGHTING_CONDITION\": \"DAYLIGHT\", \"CRASH_HOUR\": 19, \"NUM_UNITS_SUM\": 647}, {\"LIGHTING_CONDITION\": \"DAYLIGHT\", \"CRASH_HOUR\": 20, \"NUM_UNITS_SUM\": 136}, {\"LIGHTING_CONDITION\": \"DAYLIGHT\", \"CRASH_HOUR\": 21, \"NUM_UNITS_SUM\": 38}, {\"LIGHTING_CONDITION\": \"DAYLIGHT\", \"CRASH_HOUR\": 22, \"NUM_UNITS_SUM\": 28}, {\"LIGHTING_CONDITION\": \"DAYLIGHT\", \"CRASH_HOUR\": 23, \"NUM_UNITS_SUM\": 18}, {\"LIGHTING_CONDITION\": \"DUSK\", \"CRASH_HOUR\": 0, \"NUM_UNITS_SUM\": 13}, {\"LIGHTING_CONDITION\": \"DUSK\", \"CRASH_HOUR\": 1, \"NUM_UNITS_SUM\": 7}, {\"LIGHTING_CONDITION\": \"DUSK\", \"CRASH_HOUR\": 2, \"NUM_UNITS_SUM\": 5}, {\"LIGHTING_CONDITION\": \"DUSK\", \"CRASH_HOUR\": 3, \"NUM_UNITS_SUM\": 11}, {\"LIGHTING_CONDITION\": \"DUSK\", \"CRASH_HOUR\": 4, \"NUM_UNITS_SUM\": 12}, {\"LIGHTING_CONDITION\": \"DUSK\", \"CRASH_HOUR\": 5, \"NUM_UNITS_SUM\": 29}, {\"LIGHTING_CONDITION\": \"DUSK\", \"CRASH_HOUR\": 6, \"NUM_UNITS_SUM\": 21}, {\"LIGHTING_CONDITION\": \"DUSK\", \"CRASH_HOUR\": 7, \"NUM_UNITS_SUM\": 6}, {\"LIGHTING_CONDITION\": \"DUSK\", \"CRASH_HOUR\": 8, \"NUM_UNITS_SUM\": 8}, {\"LIGHTING_CONDITION\": \"DUSK\", \"CRASH_HOUR\": 9, \"NUM_UNITS_SUM\": 6}, {\"LIGHTING_CONDITION\": \"DUSK\", \"CRASH_HOUR\": 11, \"NUM_UNITS_SUM\": 8}, {\"LIGHTING_CONDITION\": \"DUSK\", \"CRASH_HOUR\": 12, \"NUM_UNITS_SUM\": 4}, {\"LIGHTING_CONDITION\": \"DUSK\", \"CRASH_HOUR\": 13, \"NUM_UNITS_SUM\": 19}, {\"LIGHTING_CONDITION\": \"DUSK\", \"CRASH_HOUR\": 14, \"NUM_UNITS_SUM\": 22}, {\"LIGHTING_CONDITION\": \"DUSK\", \"CRASH_HOUR\": 15, \"NUM_UNITS_SUM\": 97}, {\"LIGHTING_CONDITION\": \"DUSK\", \"CRASH_HOUR\": 16, \"NUM_UNITS_SUM\": 275}, {\"LIGHTING_CONDITION\": \"DUSK\", \"CRASH_HOUR\": 17, \"NUM_UNITS_SUM\": 337}, {\"LIGHTING_CONDITION\": \"DUSK\", \"CRASH_HOUR\": 18, \"NUM_UNITS_SUM\": 300}, {\"LIGHTING_CONDITION\": \"DUSK\", \"CRASH_HOUR\": 19, \"NUM_UNITS_SUM\": 288}, {\"LIGHTING_CONDITION\": \"DUSK\", \"CRASH_HOUR\": 20, \"NUM_UNITS_SUM\": 151}, {\"LIGHTING_CONDITION\": \"DUSK\", \"CRASH_HOUR\": 21, \"NUM_UNITS_SUM\": 55}, {\"LIGHTING_CONDITION\": \"DUSK\", \"CRASH_HOUR\": 22, \"NUM_UNITS_SUM\": 30}, {\"LIGHTING_CONDITION\": \"DUSK\", \"CRASH_HOUR\": 23, \"NUM_UNITS_SUM\": 17}, {\"LIGHTING_CONDITION\": \"UNKNOWN\", \"CRASH_HOUR\": 0, \"NUM_UNITS_SUM\": 79}, {\"LIGHTING_CONDITION\": \"UNKNOWN\", \"CRASH_HOUR\": 1, \"NUM_UNITS_SUM\": 59}, {\"LIGHTING_CONDITION\": \"UNKNOWN\", \"CRASH_HOUR\": 2, \"NUM_UNITS_SUM\": 46}, {\"LIGHTING_CONDITION\": \"UNKNOWN\", \"CRASH_HOUR\": 3, \"NUM_UNITS_SUM\": 42}, {\"LIGHTING_CONDITION\": \"UNKNOWN\", \"CRASH_HOUR\": 4, \"NUM_UNITS_SUM\": 32}, {\"LIGHTING_CONDITION\": \"UNKNOWN\", \"CRASH_HOUR\": 5, \"NUM_UNITS_SUM\": 34}, {\"LIGHTING_CONDITION\": \"UNKNOWN\", \"CRASH_HOUR\": 6, \"NUM_UNITS_SUM\": 81}, {\"LIGHTING_CONDITION\": \"UNKNOWN\", \"CRASH_HOUR\": 7, \"NUM_UNITS_SUM\": 86}, {\"LIGHTING_CONDITION\": \"UNKNOWN\", \"CRASH_HOUR\": 8, \"NUM_UNITS_SUM\": 118}, {\"LIGHTING_CONDITION\": \"UNKNOWN\", \"CRASH_HOUR\": 9, \"NUM_UNITS_SUM\": 102}, {\"LIGHTING_CONDITION\": \"UNKNOWN\", \"CRASH_HOUR\": 10, \"NUM_UNITS_SUM\": 112}, {\"LIGHTING_CONDITION\": \"UNKNOWN\", \"CRASH_HOUR\": 11, \"NUM_UNITS_SUM\": 74}, {\"LIGHTING_CONDITION\": \"UNKNOWN\", \"CRASH_HOUR\": 12, \"NUM_UNITS_SUM\": 110}, {\"LIGHTING_CONDITION\": \"UNKNOWN\", \"CRASH_HOUR\": 13, \"NUM_UNITS_SUM\": 77}, {\"LIGHTING_CONDITION\": \"UNKNOWN\", \"CRASH_HOUR\": 14, \"NUM_UNITS_SUM\": 75}, {\"LIGHTING_CONDITION\": \"UNKNOWN\", \"CRASH_HOUR\": 15, \"NUM_UNITS_SUM\": 103}, {\"LIGHTING_CONDITION\": \"UNKNOWN\", \"CRASH_HOUR\": 16, \"NUM_UNITS_SUM\": 119}, {\"LIGHTING_CONDITION\": \"UNKNOWN\", \"CRASH_HOUR\": 17, \"NUM_UNITS_SUM\": 109}, {\"LIGHTING_CONDITION\": \"UNKNOWN\", \"CRASH_HOUR\": 18, \"NUM_UNITS_SUM\": 131}, {\"LIGHTING_CONDITION\": \"UNKNOWN\", \"CRASH_HOUR\": 19, \"NUM_UNITS_SUM\": 81}, {\"LIGHTING_CONDITION\": \"UNKNOWN\", \"CRASH_HOUR\": 20, \"NUM_UNITS_SUM\": 83}, {\"LIGHTING_CONDITION\": \"UNKNOWN\", \"CRASH_HOUR\": 21, \"NUM_UNITS_SUM\": 83}, {\"LIGHTING_CONDITION\": \"UNKNOWN\", \"CRASH_HOUR\": 22, \"NUM_UNITS_SUM\": 66}, {\"LIGHTING_CONDITION\": \"UNKNOWN\", \"CRASH_HOUR\": 23, \"NUM_UNITS_SUM\": 48}]}}, {\"mode\": \"vega-lite\"});\n</script>",
      "text/plain": "alt.Chart(...)"
     },
     "metadata": {}
    }
   ],
   "execution_count": 5
  },
  {
   "cell_type": "markdown",
   "source": "## Total, de accidentes de acuerdo a la velocidad limite",
   "metadata": {
    "tags": [],
    "cell_id": "00009-d7bebb15-b2a0-4543-a94e-be10a0169f89",
    "deepnote_cell_type": "markdown"
   }
  },
  {
   "cell_type": "code",
   "source": "report_3 = Chicago_df.groupby(['POSTED_SPEED_LIMIT','DAMAGE']).agg({'NUM_UNITS':['sum']})\nreport_3 = report_3.reset_index()\nreport_3.columns = ['POSTED_SPEED_LIMIT', 'DAMAGE', 'NUM_UNITS']\nreport_3\n",
   "metadata": {
    "tags": [],
    "cell_id": "00009-e4577880-fbe9-46b9-b604-cbc9b5aff7c2",
    "deepnote_to_be_reexecuted": false,
    "source_hash": "761bac03",
    "execution_start": 1635520921438,
    "execution_millis": 61,
    "deepnote_cell_type": "code"
   },
   "outputs": [
    {
     "output_type": "execute_result",
     "execution_count": 6,
     "data": {
      "application/vnd.deepnote.dataframe.v2+json": {
       "row_count": 58,
       "column_count": 3,
       "columns": [
        {
         "name": "POSTED_SPEED_LIMIT",
         "dtype": "int64",
         "stats": {
          "unique_count": 23,
          "nan_count": 0,
          "min": "0",
          "max": "99",
          "histogram": [
           {
            "bin_start": 0,
            "bin_end": 9.9,
            "count": 14
           },
           {
            "bin_start": 9.9,
            "bin_end": 19.8,
            "count": 6
           },
           {
            "bin_start": 19.8,
            "bin_end": 29.700000000000003,
            "count": 8
           },
           {
            "bin_start": 29.700000000000003,
            "bin_end": 39.6,
            "count": 11
           },
           {
            "bin_start": 39.6,
            "bin_end": 49.5,
            "count": 6
           },
           {
            "bin_start": 49.5,
            "bin_end": 59.400000000000006,
            "count": 6
           },
           {
            "bin_start": 59.400000000000006,
            "bin_end": 69.3,
            "count": 3
           },
           {
            "bin_start": 69.3,
            "bin_end": 79.2,
            "count": 2
           },
           {
            "bin_start": 79.2,
            "bin_end": 89.10000000000001,
            "count": 0
           },
           {
            "bin_start": 89.10000000000001,
            "bin_end": 99,
            "count": 2
           }
          ]
         }
        },
        {
         "name": "DAMAGE",
         "dtype": "object",
         "stats": {
          "unique_count": 3,
          "nan_count": 0,
          "categories": [
           {
            "name": "OVER $1,500",
            "count": 21
           },
           {
            "name": "$501 - $1,500",
            "count": 19
           },
           {
            "name": "$500 OR LESS",
            "count": 18
           }
          ]
         }
        },
        {
         "name": "NUM_UNITS",
         "dtype": "int64",
         "stats": {
          "unique_count": 38,
          "nan_count": 0,
          "min": "1",
          "max": "24592",
          "histogram": [
           {
            "bin_start": 1,
            "bin_end": 2460.1,
            "count": 54
           },
           {
            "bin_start": 2460.1,
            "bin_end": 4919.2,
            "count": 1
           },
           {
            "bin_start": 4919.2,
            "bin_end": 7378.299999999999,
            "count": 1
           },
           {
            "bin_start": 7378.299999999999,
            "bin_end": 9837.4,
            "count": 0
           },
           {
            "bin_start": 9837.4,
            "bin_end": 12296.5,
            "count": 1
           },
           {
            "bin_start": 12296.5,
            "bin_end": 14755.599999999999,
            "count": 0
           },
           {
            "bin_start": 14755.599999999999,
            "bin_end": 17214.7,
            "count": 0
           },
           {
            "bin_start": 17214.7,
            "bin_end": 19673.8,
            "count": 0
           },
           {
            "bin_start": 19673.8,
            "bin_end": 22132.899999999998,
            "count": 0
           },
           {
            "bin_start": 22132.899999999998,
            "bin_end": 24592,
            "count": 1
           }
          ]
         }
        },
        {
         "name": "_deepnote_index_column",
         "dtype": "int64"
        }
       ],
       "rows_top": [
        {
         "POSTED_SPEED_LIMIT": 0,
         "DAMAGE": "$500 OR LESS",
         "NUM_UNITS": 105,
         "_deepnote_index_column": 0
        },
        {
         "POSTED_SPEED_LIMIT": 0,
         "DAMAGE": "$501 - $1,500",
         "NUM_UNITS": 191,
         "_deepnote_index_column": 1
        },
        {
         "POSTED_SPEED_LIMIT": 0,
         "DAMAGE": "OVER $1,500",
         "NUM_UNITS": 494,
         "_deepnote_index_column": 2
        },
        {
         "POSTED_SPEED_LIMIT": 1,
         "DAMAGE": "$500 OR LESS",
         "NUM_UNITS": 2,
         "_deepnote_index_column": 3
        },
        {
         "POSTED_SPEED_LIMIT": 1,
         "DAMAGE": "$501 - $1,500",
         "NUM_UNITS": 2,
         "_deepnote_index_column": 4
        },
        {
         "POSTED_SPEED_LIMIT": 2,
         "DAMAGE": "OVER $1,500",
         "NUM_UNITS": 1,
         "_deepnote_index_column": 5
        },
        {
         "POSTED_SPEED_LIMIT": 3,
         "DAMAGE": "$501 - $1,500",
         "NUM_UNITS": 8,
         "_deepnote_index_column": 6
        },
        {
         "POSTED_SPEED_LIMIT": 3,
         "DAMAGE": "OVER $1,500",
         "NUM_UNITS": 8,
         "_deepnote_index_column": 7
        },
        {
         "POSTED_SPEED_LIMIT": 5,
         "DAMAGE": "$500 OR LESS",
         "NUM_UNITS": 96,
         "_deepnote_index_column": 8
        },
        {
         "POSTED_SPEED_LIMIT": 5,
         "DAMAGE": "$501 - $1,500",
         "NUM_UNITS": 141,
         "_deepnote_index_column": 9
        },
        {
         "POSTED_SPEED_LIMIT": 5,
         "DAMAGE": "OVER $1,500",
         "NUM_UNITS": 226,
         "_deepnote_index_column": 10
        },
        {
         "POSTED_SPEED_LIMIT": 9,
         "DAMAGE": "$500 OR LESS",
         "NUM_UNITS": 4,
         "_deepnote_index_column": 11
        },
        {
         "POSTED_SPEED_LIMIT": 9,
         "DAMAGE": "$501 - $1,500",
         "NUM_UNITS": 6,
         "_deepnote_index_column": 12
        },
        {
         "POSTED_SPEED_LIMIT": 9,
         "DAMAGE": "OVER $1,500",
         "NUM_UNITS": 2,
         "_deepnote_index_column": 13
        },
        {
         "POSTED_SPEED_LIMIT": 10,
         "DAMAGE": "$500 OR LESS",
         "NUM_UNITS": 159,
         "_deepnote_index_column": 14
        },
        {
         "POSTED_SPEED_LIMIT": 10,
         "DAMAGE": "$501 - $1,500",
         "NUM_UNITS": 385,
         "_deepnote_index_column": 15
        },
        {
         "POSTED_SPEED_LIMIT": 10,
         "DAMAGE": "OVER $1,500",
         "NUM_UNITS": 555,
         "_deepnote_index_column": 16
        },
        {
         "POSTED_SPEED_LIMIT": 15,
         "DAMAGE": "$500 OR LESS",
         "NUM_UNITS": 312,
         "_deepnote_index_column": 17
        },
        {
         "POSTED_SPEED_LIMIT": 15,
         "DAMAGE": "$501 - $1,500",
         "NUM_UNITS": 680,
         "_deepnote_index_column": 18
        },
        {
         "POSTED_SPEED_LIMIT": 15,
         "DAMAGE": "OVER $1,500",
         "NUM_UNITS": 928,
         "_deepnote_index_column": 19
        },
        {
         "POSTED_SPEED_LIMIT": 20,
         "DAMAGE": "$500 OR LESS",
         "NUM_UNITS": 311,
         "_deepnote_index_column": 20
        },
        {
         "POSTED_SPEED_LIMIT": 20,
         "DAMAGE": "$501 - $1,500",
         "NUM_UNITS": 678,
         "_deepnote_index_column": 21
        },
        {
         "POSTED_SPEED_LIMIT": 20,
         "DAMAGE": "OVER $1,500",
         "NUM_UNITS": 1345,
         "_deepnote_index_column": 22
        },
        {
         "POSTED_SPEED_LIMIT": 24,
         "DAMAGE": "$500 OR LESS",
         "NUM_UNITS": 2,
         "_deepnote_index_column": 23
        },
        {
         "POSTED_SPEED_LIMIT": 24,
         "DAMAGE": "$501 - $1,500",
         "NUM_UNITS": 5,
         "_deepnote_index_column": 24
        },
        {
         "POSTED_SPEED_LIMIT": 25,
         "DAMAGE": "$500 OR LESS",
         "NUM_UNITS": 422,
         "_deepnote_index_column": 25
        },
        {
         "POSTED_SPEED_LIMIT": 25,
         "DAMAGE": "$501 - $1,500",
         "NUM_UNITS": 1211,
         "_deepnote_index_column": 26
        },
        {
         "POSTED_SPEED_LIMIT": 25,
         "DAMAGE": "OVER $1,500",
         "NUM_UNITS": 1852,
         "_deepnote_index_column": 27
        },
        {
         "POSTED_SPEED_LIMIT": 30,
         "DAMAGE": "$500 OR LESS",
         "NUM_UNITS": 5180,
         "_deepnote_index_column": 28
        },
        {
         "POSTED_SPEED_LIMIT": 30,
         "DAMAGE": "$501 - $1,500",
         "NUM_UNITS": 12121,
         "_deepnote_index_column": 29
        },
        {
         "POSTED_SPEED_LIMIT": 30,
         "DAMAGE": "OVER $1,500",
         "NUM_UNITS": 24592,
         "_deepnote_index_column": 30
        },
        {
         "POSTED_SPEED_LIMIT": 33,
         "DAMAGE": "$501 - $1,500",
         "NUM_UNITS": 2,
         "_deepnote_index_column": 31
        },
        {
         "POSTED_SPEED_LIMIT": 33,
         "DAMAGE": "OVER $1,500",
         "NUM_UNITS": 2,
         "_deepnote_index_column": 32
        },
        {
         "POSTED_SPEED_LIMIT": 35,
         "DAMAGE": "$500 OR LESS",
         "NUM_UNITS": 437,
         "_deepnote_index_column": 33
        },
        {
         "POSTED_SPEED_LIMIT": 35,
         "DAMAGE": "$501 - $1,500",
         "NUM_UNITS": 995,
         "_deepnote_index_column": 34
        },
        {
         "POSTED_SPEED_LIMIT": 35,
         "DAMAGE": "OVER $1,500",
         "NUM_UNITS": 2466,
         "_deepnote_index_column": 35
        },
        {
         "POSTED_SPEED_LIMIT": 39,
         "DAMAGE": "$500 OR LESS",
         "NUM_UNITS": 2,
         "_deepnote_index_column": 36
        },
        {
         "POSTED_SPEED_LIMIT": 39,
         "DAMAGE": "$501 - $1,500",
         "NUM_UNITS": 1,
         "_deepnote_index_column": 37
        },
        {
         "POSTED_SPEED_LIMIT": 39,
         "DAMAGE": "OVER $1,500",
         "NUM_UNITS": 7,
         "_deepnote_index_column": 38
        },
        {
         "POSTED_SPEED_LIMIT": 40,
         "DAMAGE": "$500 OR LESS",
         "NUM_UNITS": 43,
         "_deepnote_index_column": 39
        },
        {
         "POSTED_SPEED_LIMIT": 40,
         "DAMAGE": "$501 - $1,500",
         "NUM_UNITS": 141,
         "_deepnote_index_column": 40
        },
        {
         "POSTED_SPEED_LIMIT": 40,
         "DAMAGE": "OVER $1,500",
         "NUM_UNITS": 342,
         "_deepnote_index_column": 41
        },
        {
         "POSTED_SPEED_LIMIT": 45,
         "DAMAGE": "$500 OR LESS",
         "NUM_UNITS": 21,
         "_deepnote_index_column": 42
        },
        {
         "POSTED_SPEED_LIMIT": 45,
         "DAMAGE": "$501 - $1,500",
         "NUM_UNITS": 91,
         "_deepnote_index_column": 43
        },
        {
         "POSTED_SPEED_LIMIT": 45,
         "DAMAGE": "OVER $1,500",
         "NUM_UNITS": 201,
         "_deepnote_index_column": 44
        },
        {
         "POSTED_SPEED_LIMIT": 50,
         "DAMAGE": "$500 OR LESS",
         "NUM_UNITS": 3,
         "_deepnote_index_column": 45
        },
        {
         "POSTED_SPEED_LIMIT": 50,
         "DAMAGE": "$501 - $1,500",
         "NUM_UNITS": 3,
         "_deepnote_index_column": 46
        },
        {
         "POSTED_SPEED_LIMIT": 50,
         "DAMAGE": "OVER $1,500",
         "NUM_UNITS": 3,
         "_deepnote_index_column": 47
        },
        {
         "POSTED_SPEED_LIMIT": 55,
         "DAMAGE": "$500 OR LESS",
         "NUM_UNITS": 6,
         "_deepnote_index_column": 48
        },
        {
         "POSTED_SPEED_LIMIT": 55,
         "DAMAGE": "$501 - $1,500",
         "NUM_UNITS": 3,
         "_deepnote_index_column": 49
        },
        {
         "POSTED_SPEED_LIMIT": 55,
         "DAMAGE": "OVER $1,500",
         "NUM_UNITS": 20,
         "_deepnote_index_column": 50
        },
        {
         "POSTED_SPEED_LIMIT": 60,
         "DAMAGE": "$500 OR LESS",
         "NUM_UNITS": 2,
         "_deepnote_index_column": 51
        },
        {
         "POSTED_SPEED_LIMIT": 60,
         "DAMAGE": "OVER $1,500",
         "NUM_UNITS": 2,
         "_deepnote_index_column": 52
        },
        {
         "POSTED_SPEED_LIMIT": 65,
         "DAMAGE": "OVER $1,500",
         "NUM_UNITS": 2,
         "_deepnote_index_column": 53
        },
        {
         "POSTED_SPEED_LIMIT": 70,
         "DAMAGE": "$501 - $1,500",
         "NUM_UNITS": 2,
         "_deepnote_index_column": 54
        },
        {
         "POSTED_SPEED_LIMIT": 70,
         "DAMAGE": "OVER $1,500",
         "NUM_UNITS": 1,
         "_deepnote_index_column": 55
        },
        {
         "POSTED_SPEED_LIMIT": 99,
         "DAMAGE": "$500 OR LESS",
         "NUM_UNITS": 2,
         "_deepnote_index_column": 56
        },
        {
         "POSTED_SPEED_LIMIT": 99,
         "DAMAGE": "OVER $1,500",
         "NUM_UNITS": 6,
         "_deepnote_index_column": 57
        }
       ],
       "rows_bottom": null
      },
      "text/plain": "    POSTED_SPEED_LIMIT         DAMAGE  NUM_UNITS\n0                    0   $500 OR LESS        105\n1                    0  $501 - $1,500        191\n2                    0    OVER $1,500        494\n3                    1   $500 OR LESS          2\n4                    1  $501 - $1,500          2\n5                    2    OVER $1,500          1\n6                    3  $501 - $1,500          8\n7                    3    OVER $1,500          8\n8                    5   $500 OR LESS         96\n9                    5  $501 - $1,500        141\n10                   5    OVER $1,500        226\n11                   9   $500 OR LESS          4\n12                   9  $501 - $1,500          6\n13                   9    OVER $1,500          2\n14                  10   $500 OR LESS        159\n15                  10  $501 - $1,500        385\n16                  10    OVER $1,500        555\n17                  15   $500 OR LESS        312\n18                  15  $501 - $1,500        680\n19                  15    OVER $1,500        928\n20                  20   $500 OR LESS        311\n21                  20  $501 - $1,500        678\n22                  20    OVER $1,500       1345\n23                  24   $500 OR LESS          2\n24                  24  $501 - $1,500          5\n25                  25   $500 OR LESS        422\n26                  25  $501 - $1,500       1211\n27                  25    OVER $1,500       1852\n28                  30   $500 OR LESS       5180\n29                  30  $501 - $1,500      12121\n30                  30    OVER $1,500      24592\n31                  33  $501 - $1,500          2\n32                  33    OVER $1,500          2\n33                  35   $500 OR LESS        437\n34                  35  $501 - $1,500        995\n35                  35    OVER $1,500       2466\n36                  39   $500 OR LESS          2\n37                  39  $501 - $1,500          1\n38                  39    OVER $1,500          7\n39                  40   $500 OR LESS         43\n40                  40  $501 - $1,500        141\n41                  40    OVER $1,500        342\n42                  45   $500 OR LESS         21\n43                  45  $501 - $1,500         91\n44                  45    OVER $1,500        201\n45                  50   $500 OR LESS          3\n46                  50  $501 - $1,500          3\n47                  50    OVER $1,500          3\n48                  55   $500 OR LESS          6\n49                  55  $501 - $1,500          3\n50                  55    OVER $1,500         20\n51                  60   $500 OR LESS          2\n52                  60    OVER $1,500          2\n53                  65    OVER $1,500          2\n54                  70  $501 - $1,500          2\n55                  70    OVER $1,500          1\n56                  99   $500 OR LESS          2\n57                  99    OVER $1,500          6",
      "text/html": "<div>\n<style scoped>\n    .dataframe tbody tr th:only-of-type {\n        vertical-align: middle;\n    }\n\n    .dataframe tbody tr th {\n        vertical-align: top;\n    }\n\n    .dataframe thead th {\n        text-align: right;\n    }\n</style>\n<table border=\"1\" class=\"dataframe\">\n  <thead>\n    <tr style=\"text-align: right;\">\n      <th></th>\n      <th>POSTED_SPEED_LIMIT</th>\n      <th>DAMAGE</th>\n      <th>NUM_UNITS</th>\n    </tr>\n  </thead>\n  <tbody>\n    <tr>\n      <th>0</th>\n      <td>0</td>\n      <td>$500 OR LESS</td>\n      <td>105</td>\n    </tr>\n    <tr>\n      <th>1</th>\n      <td>0</td>\n      <td>$501 - $1,500</td>\n      <td>191</td>\n    </tr>\n    <tr>\n      <th>2</th>\n      <td>0</td>\n      <td>OVER $1,500</td>\n      <td>494</td>\n    </tr>\n    <tr>\n      <th>3</th>\n      <td>1</td>\n      <td>$500 OR LESS</td>\n      <td>2</td>\n    </tr>\n    <tr>\n      <th>4</th>\n      <td>1</td>\n      <td>$501 - $1,500</td>\n      <td>2</td>\n    </tr>\n    <tr>\n      <th>5</th>\n      <td>2</td>\n      <td>OVER $1,500</td>\n      <td>1</td>\n    </tr>\n    <tr>\n      <th>6</th>\n      <td>3</td>\n      <td>$501 - $1,500</td>\n      <td>8</td>\n    </tr>\n    <tr>\n      <th>7</th>\n      <td>3</td>\n      <td>OVER $1,500</td>\n      <td>8</td>\n    </tr>\n    <tr>\n      <th>8</th>\n      <td>5</td>\n      <td>$500 OR LESS</td>\n      <td>96</td>\n    </tr>\n    <tr>\n      <th>9</th>\n      <td>5</td>\n      <td>$501 - $1,500</td>\n      <td>141</td>\n    </tr>\n    <tr>\n      <th>10</th>\n      <td>5</td>\n      <td>OVER $1,500</td>\n      <td>226</td>\n    </tr>\n    <tr>\n      <th>11</th>\n      <td>9</td>\n      <td>$500 OR LESS</td>\n      <td>4</td>\n    </tr>\n    <tr>\n      <th>12</th>\n      <td>9</td>\n      <td>$501 - $1,500</td>\n      <td>6</td>\n    </tr>\n    <tr>\n      <th>13</th>\n      <td>9</td>\n      <td>OVER $1,500</td>\n      <td>2</td>\n    </tr>\n    <tr>\n      <th>14</th>\n      <td>10</td>\n      <td>$500 OR LESS</td>\n      <td>159</td>\n    </tr>\n    <tr>\n      <th>15</th>\n      <td>10</td>\n      <td>$501 - $1,500</td>\n      <td>385</td>\n    </tr>\n    <tr>\n      <th>16</th>\n      <td>10</td>\n      <td>OVER $1,500</td>\n      <td>555</td>\n    </tr>\n    <tr>\n      <th>17</th>\n      <td>15</td>\n      <td>$500 OR LESS</td>\n      <td>312</td>\n    </tr>\n    <tr>\n      <th>18</th>\n      <td>15</td>\n      <td>$501 - $1,500</td>\n      <td>680</td>\n    </tr>\n    <tr>\n      <th>19</th>\n      <td>15</td>\n      <td>OVER $1,500</td>\n      <td>928</td>\n    </tr>\n    <tr>\n      <th>20</th>\n      <td>20</td>\n      <td>$500 OR LESS</td>\n      <td>311</td>\n    </tr>\n    <tr>\n      <th>21</th>\n      <td>20</td>\n      <td>$501 - $1,500</td>\n      <td>678</td>\n    </tr>\n    <tr>\n      <th>22</th>\n      <td>20</td>\n      <td>OVER $1,500</td>\n      <td>1345</td>\n    </tr>\n    <tr>\n      <th>23</th>\n      <td>24</td>\n      <td>$500 OR LESS</td>\n      <td>2</td>\n    </tr>\n    <tr>\n      <th>24</th>\n      <td>24</td>\n      <td>$501 - $1,500</td>\n      <td>5</td>\n    </tr>\n    <tr>\n      <th>25</th>\n      <td>25</td>\n      <td>$500 OR LESS</td>\n      <td>422</td>\n    </tr>\n    <tr>\n      <th>26</th>\n      <td>25</td>\n      <td>$501 - $1,500</td>\n      <td>1211</td>\n    </tr>\n    <tr>\n      <th>27</th>\n      <td>25</td>\n      <td>OVER $1,500</td>\n      <td>1852</td>\n    </tr>\n    <tr>\n      <th>28</th>\n      <td>30</td>\n      <td>$500 OR LESS</td>\n      <td>5180</td>\n    </tr>\n    <tr>\n      <th>29</th>\n      <td>30</td>\n      <td>$501 - $1,500</td>\n      <td>12121</td>\n    </tr>\n    <tr>\n      <th>30</th>\n      <td>30</td>\n      <td>OVER $1,500</td>\n      <td>24592</td>\n    </tr>\n    <tr>\n      <th>31</th>\n      <td>33</td>\n      <td>$501 - $1,500</td>\n      <td>2</td>\n    </tr>\n    <tr>\n      <th>32</th>\n      <td>33</td>\n      <td>OVER $1,500</td>\n      <td>2</td>\n    </tr>\n    <tr>\n      <th>33</th>\n      <td>35</td>\n      <td>$500 OR LESS</td>\n      <td>437</td>\n    </tr>\n    <tr>\n      <th>34</th>\n      <td>35</td>\n      <td>$501 - $1,500</td>\n      <td>995</td>\n    </tr>\n    <tr>\n      <th>35</th>\n      <td>35</td>\n      <td>OVER $1,500</td>\n      <td>2466</td>\n    </tr>\n    <tr>\n      <th>36</th>\n      <td>39</td>\n      <td>$500 OR LESS</td>\n      <td>2</td>\n    </tr>\n    <tr>\n      <th>37</th>\n      <td>39</td>\n      <td>$501 - $1,500</td>\n      <td>1</td>\n    </tr>\n    <tr>\n      <th>38</th>\n      <td>39</td>\n      <td>OVER $1,500</td>\n      <td>7</td>\n    </tr>\n    <tr>\n      <th>39</th>\n      <td>40</td>\n      <td>$500 OR LESS</td>\n      <td>43</td>\n    </tr>\n    <tr>\n      <th>40</th>\n      <td>40</td>\n      <td>$501 - $1,500</td>\n      <td>141</td>\n    </tr>\n    <tr>\n      <th>41</th>\n      <td>40</td>\n      <td>OVER $1,500</td>\n      <td>342</td>\n    </tr>\n    <tr>\n      <th>42</th>\n      <td>45</td>\n      <td>$500 OR LESS</td>\n      <td>21</td>\n    </tr>\n    <tr>\n      <th>43</th>\n      <td>45</td>\n      <td>$501 - $1,500</td>\n      <td>91</td>\n    </tr>\n    <tr>\n      <th>44</th>\n      <td>45</td>\n      <td>OVER $1,500</td>\n      <td>201</td>\n    </tr>\n    <tr>\n      <th>45</th>\n      <td>50</td>\n      <td>$500 OR LESS</td>\n      <td>3</td>\n    </tr>\n    <tr>\n      <th>46</th>\n      <td>50</td>\n      <td>$501 - $1,500</td>\n      <td>3</td>\n    </tr>\n    <tr>\n      <th>47</th>\n      <td>50</td>\n      <td>OVER $1,500</td>\n      <td>3</td>\n    </tr>\n    <tr>\n      <th>48</th>\n      <td>55</td>\n      <td>$500 OR LESS</td>\n      <td>6</td>\n    </tr>\n    <tr>\n      <th>49</th>\n      <td>55</td>\n      <td>$501 - $1,500</td>\n      <td>3</td>\n    </tr>\n    <tr>\n      <th>50</th>\n      <td>55</td>\n      <td>OVER $1,500</td>\n      <td>20</td>\n    </tr>\n    <tr>\n      <th>51</th>\n      <td>60</td>\n      <td>$500 OR LESS</td>\n      <td>2</td>\n    </tr>\n    <tr>\n      <th>52</th>\n      <td>60</td>\n      <td>OVER $1,500</td>\n      <td>2</td>\n    </tr>\n    <tr>\n      <th>53</th>\n      <td>65</td>\n      <td>OVER $1,500</td>\n      <td>2</td>\n    </tr>\n    <tr>\n      <th>54</th>\n      <td>70</td>\n      <td>$501 - $1,500</td>\n      <td>2</td>\n    </tr>\n    <tr>\n      <th>55</th>\n      <td>70</td>\n      <td>OVER $1,500</td>\n      <td>1</td>\n    </tr>\n    <tr>\n      <th>56</th>\n      <td>99</td>\n      <td>$500 OR LESS</td>\n      <td>2</td>\n    </tr>\n    <tr>\n      <th>57</th>\n      <td>99</td>\n      <td>OVER $1,500</td>\n      <td>6</td>\n    </tr>\n  </tbody>\n</table>\n</div>"
     },
     "metadata": {}
    }
   ],
   "execution_count": 6
  },
  {
   "cell_type": "code",
   "source": "alt.Chart(report_3).mark_bar().encode(\n    x = 'POSTED_SPEED_LIMIT',\n    y = 'NUM_UNITS',\n    color = 'DAMAGE'\n).properties(width=500)",
   "metadata": {
    "tags": [],
    "cell_id": "00010-77293414-9081-4b89-b039-34e676c5e217",
    "deepnote_to_be_reexecuted": false,
    "source_hash": "5db64bae",
    "execution_start": 1635520921571,
    "execution_millis": 13,
    "deepnote_cell_type": "code"
   },
   "outputs": [
    {
     "output_type": "execute_result",
     "execution_count": 7,
     "data": {
      "text/html": "\n<div id=\"altair-viz-1d70cf9e69b2468eba79c50947f5979e\"></div>\n<script type=\"text/javascript\">\n  (function(spec, embedOpt){\n    let outputDiv = document.currentScript.previousElementSibling;\n    if (outputDiv.id !== \"altair-viz-1d70cf9e69b2468eba79c50947f5979e\") {\n      outputDiv = document.getElementById(\"altair-viz-1d70cf9e69b2468eba79c50947f5979e\");\n    }\n    const paths = {\n      \"vega\": \"https://cdn.jsdelivr.net/npm//vega@5?noext\",\n      \"vega-lib\": \"https://cdn.jsdelivr.net/npm//vega-lib?noext\",\n      \"vega-lite\": \"https://cdn.jsdelivr.net/npm//vega-lite@4.8.1?noext\",\n      \"vega-embed\": \"https://cdn.jsdelivr.net/npm//vega-embed@6?noext\",\n    };\n\n    function loadScript(lib) {\n      return new Promise(function(resolve, reject) {\n        var s = document.createElement('script');\n        s.src = paths[lib];\n        s.async = true;\n        s.onload = () => resolve(paths[lib]);\n        s.onerror = () => reject(`Error loading script: ${paths[lib]}`);\n        document.getElementsByTagName(\"head\")[0].appendChild(s);\n      });\n    }\n\n    function showError(err) {\n      outputDiv.innerHTML = `<div class=\"error\" style=\"color:red;\">${err}</div>`;\n      throw err;\n    }\n\n    function displayChart(vegaEmbed) {\n      vegaEmbed(outputDiv, spec, embedOpt)\n        .catch(err => showError(`Javascript Error: ${err.message}<br>This usually means there's a typo in your chart specification. See the javascript console for the full traceback.`));\n    }\n\n    if(typeof define === \"function\" && define.amd) {\n      requirejs.config({paths});\n      require([\"vega-embed\"], displayChart, err => showError(`Error loading script: ${err.message}`));\n    } else if (typeof vegaEmbed === \"function\") {\n      displayChart(vegaEmbed);\n    } else {\n      loadScript(\"vega\")\n        .then(() => loadScript(\"vega-lite\"))\n        .then(() => loadScript(\"vega-embed\"))\n        .catch(showError)\n        .then(() => displayChart(vegaEmbed));\n    }\n  })({\"config\": {\"view\": {\"continuousWidth\": 400, \"continuousHeight\": 300}}, \"data\": {\"name\": \"data-7f436d22862c54e92b720f824f2d6a54\"}, \"mark\": \"bar\", \"encoding\": {\"color\": {\"type\": \"nominal\", \"field\": \"DAMAGE\"}, \"x\": {\"type\": \"quantitative\", \"field\": \"POSTED_SPEED_LIMIT\"}, \"y\": {\"type\": \"quantitative\", \"field\": \"NUM_UNITS\"}}, \"width\": 500, \"$schema\": \"https://vega.github.io/schema/vega-lite/v4.8.1.json\", \"datasets\": {\"data-7f436d22862c54e92b720f824f2d6a54\": [{\"POSTED_SPEED_LIMIT\": 0, \"DAMAGE\": \"$500 OR LESS\", \"NUM_UNITS\": 105}, {\"POSTED_SPEED_LIMIT\": 0, \"DAMAGE\": \"$501 - $1,500\", \"NUM_UNITS\": 191}, {\"POSTED_SPEED_LIMIT\": 0, \"DAMAGE\": \"OVER $1,500\", \"NUM_UNITS\": 494}, {\"POSTED_SPEED_LIMIT\": 1, \"DAMAGE\": \"$500 OR LESS\", \"NUM_UNITS\": 2}, {\"POSTED_SPEED_LIMIT\": 1, \"DAMAGE\": \"$501 - $1,500\", \"NUM_UNITS\": 2}, {\"POSTED_SPEED_LIMIT\": 2, \"DAMAGE\": \"OVER $1,500\", \"NUM_UNITS\": 1}, {\"POSTED_SPEED_LIMIT\": 3, \"DAMAGE\": \"$501 - $1,500\", \"NUM_UNITS\": 8}, {\"POSTED_SPEED_LIMIT\": 3, \"DAMAGE\": \"OVER $1,500\", \"NUM_UNITS\": 8}, {\"POSTED_SPEED_LIMIT\": 5, \"DAMAGE\": \"$500 OR LESS\", \"NUM_UNITS\": 96}, {\"POSTED_SPEED_LIMIT\": 5, \"DAMAGE\": \"$501 - $1,500\", \"NUM_UNITS\": 141}, {\"POSTED_SPEED_LIMIT\": 5, \"DAMAGE\": \"OVER $1,500\", \"NUM_UNITS\": 226}, {\"POSTED_SPEED_LIMIT\": 9, \"DAMAGE\": \"$500 OR LESS\", \"NUM_UNITS\": 4}, {\"POSTED_SPEED_LIMIT\": 9, \"DAMAGE\": \"$501 - $1,500\", \"NUM_UNITS\": 6}, {\"POSTED_SPEED_LIMIT\": 9, \"DAMAGE\": \"OVER $1,500\", \"NUM_UNITS\": 2}, {\"POSTED_SPEED_LIMIT\": 10, \"DAMAGE\": \"$500 OR LESS\", \"NUM_UNITS\": 159}, {\"POSTED_SPEED_LIMIT\": 10, \"DAMAGE\": \"$501 - $1,500\", \"NUM_UNITS\": 385}, {\"POSTED_SPEED_LIMIT\": 10, \"DAMAGE\": \"OVER $1,500\", \"NUM_UNITS\": 555}, {\"POSTED_SPEED_LIMIT\": 15, \"DAMAGE\": \"$500 OR LESS\", \"NUM_UNITS\": 312}, {\"POSTED_SPEED_LIMIT\": 15, \"DAMAGE\": \"$501 - $1,500\", \"NUM_UNITS\": 680}, {\"POSTED_SPEED_LIMIT\": 15, \"DAMAGE\": \"OVER $1,500\", \"NUM_UNITS\": 928}, {\"POSTED_SPEED_LIMIT\": 20, \"DAMAGE\": \"$500 OR LESS\", \"NUM_UNITS\": 311}, {\"POSTED_SPEED_LIMIT\": 20, \"DAMAGE\": \"$501 - $1,500\", \"NUM_UNITS\": 678}, {\"POSTED_SPEED_LIMIT\": 20, \"DAMAGE\": \"OVER $1,500\", \"NUM_UNITS\": 1345}, {\"POSTED_SPEED_LIMIT\": 24, \"DAMAGE\": \"$500 OR LESS\", \"NUM_UNITS\": 2}, {\"POSTED_SPEED_LIMIT\": 24, \"DAMAGE\": \"$501 - $1,500\", \"NUM_UNITS\": 5}, {\"POSTED_SPEED_LIMIT\": 25, \"DAMAGE\": \"$500 OR LESS\", \"NUM_UNITS\": 422}, {\"POSTED_SPEED_LIMIT\": 25, \"DAMAGE\": \"$501 - $1,500\", \"NUM_UNITS\": 1211}, {\"POSTED_SPEED_LIMIT\": 25, \"DAMAGE\": \"OVER $1,500\", \"NUM_UNITS\": 1852}, {\"POSTED_SPEED_LIMIT\": 30, \"DAMAGE\": \"$500 OR LESS\", \"NUM_UNITS\": 5180}, {\"POSTED_SPEED_LIMIT\": 30, \"DAMAGE\": \"$501 - $1,500\", \"NUM_UNITS\": 12121}, {\"POSTED_SPEED_LIMIT\": 30, \"DAMAGE\": \"OVER $1,500\", \"NUM_UNITS\": 24592}, {\"POSTED_SPEED_LIMIT\": 33, \"DAMAGE\": \"$501 - $1,500\", \"NUM_UNITS\": 2}, {\"POSTED_SPEED_LIMIT\": 33, \"DAMAGE\": \"OVER $1,500\", \"NUM_UNITS\": 2}, {\"POSTED_SPEED_LIMIT\": 35, \"DAMAGE\": \"$500 OR LESS\", \"NUM_UNITS\": 437}, {\"POSTED_SPEED_LIMIT\": 35, \"DAMAGE\": \"$501 - $1,500\", \"NUM_UNITS\": 995}, {\"POSTED_SPEED_LIMIT\": 35, \"DAMAGE\": \"OVER $1,500\", \"NUM_UNITS\": 2466}, {\"POSTED_SPEED_LIMIT\": 39, \"DAMAGE\": \"$500 OR LESS\", \"NUM_UNITS\": 2}, {\"POSTED_SPEED_LIMIT\": 39, \"DAMAGE\": \"$501 - $1,500\", \"NUM_UNITS\": 1}, {\"POSTED_SPEED_LIMIT\": 39, \"DAMAGE\": \"OVER $1,500\", \"NUM_UNITS\": 7}, {\"POSTED_SPEED_LIMIT\": 40, \"DAMAGE\": \"$500 OR LESS\", \"NUM_UNITS\": 43}, {\"POSTED_SPEED_LIMIT\": 40, \"DAMAGE\": \"$501 - $1,500\", \"NUM_UNITS\": 141}, {\"POSTED_SPEED_LIMIT\": 40, \"DAMAGE\": \"OVER $1,500\", \"NUM_UNITS\": 342}, {\"POSTED_SPEED_LIMIT\": 45, \"DAMAGE\": \"$500 OR LESS\", \"NUM_UNITS\": 21}, {\"POSTED_SPEED_LIMIT\": 45, \"DAMAGE\": \"$501 - $1,500\", \"NUM_UNITS\": 91}, {\"POSTED_SPEED_LIMIT\": 45, \"DAMAGE\": \"OVER $1,500\", \"NUM_UNITS\": 201}, {\"POSTED_SPEED_LIMIT\": 50, \"DAMAGE\": \"$500 OR LESS\", \"NUM_UNITS\": 3}, {\"POSTED_SPEED_LIMIT\": 50, \"DAMAGE\": \"$501 - $1,500\", \"NUM_UNITS\": 3}, {\"POSTED_SPEED_LIMIT\": 50, \"DAMAGE\": \"OVER $1,500\", \"NUM_UNITS\": 3}, {\"POSTED_SPEED_LIMIT\": 55, \"DAMAGE\": \"$500 OR LESS\", \"NUM_UNITS\": 6}, {\"POSTED_SPEED_LIMIT\": 55, \"DAMAGE\": \"$501 - $1,500\", \"NUM_UNITS\": 3}, {\"POSTED_SPEED_LIMIT\": 55, \"DAMAGE\": \"OVER $1,500\", \"NUM_UNITS\": 20}, {\"POSTED_SPEED_LIMIT\": 60, \"DAMAGE\": \"$500 OR LESS\", \"NUM_UNITS\": 2}, {\"POSTED_SPEED_LIMIT\": 60, \"DAMAGE\": \"OVER $1,500\", \"NUM_UNITS\": 2}, {\"POSTED_SPEED_LIMIT\": 65, \"DAMAGE\": \"OVER $1,500\", \"NUM_UNITS\": 2}, {\"POSTED_SPEED_LIMIT\": 70, \"DAMAGE\": \"$501 - $1,500\", \"NUM_UNITS\": 2}, {\"POSTED_SPEED_LIMIT\": 70, \"DAMAGE\": \"OVER $1,500\", \"NUM_UNITS\": 1}, {\"POSTED_SPEED_LIMIT\": 99, \"DAMAGE\": \"$500 OR LESS\", \"NUM_UNITS\": 2}, {\"POSTED_SPEED_LIMIT\": 99, \"DAMAGE\": \"OVER $1,500\", \"NUM_UNITS\": 6}]}}, {\"mode\": \"vega-lite\"});\n</script>",
      "text/plain": "alt.Chart(...)"
     },
     "metadata": {}
    }
   ],
   "execution_count": 7
  },
  {
   "cell_type": "markdown",
   "source": "<a style='text-decoration:none;line-height:16px;display:flex;color:#5B5B62;padding:10px;justify-content:end;' href='https://deepnote.com?utm_source=created-in-deepnote-cell&projectId=2fc7c785-41cd-4295-8d30-2962103ea22b' target=\"_blank\">\n<img alt='Created in deepnote.com' style='display:inline;max-height:16px;margin:0px;margin-right:7.5px;' src='data:image/svg+xml;base64,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' > </img>\nCreated in <span style='font-weight:600;margin-left:4px;'>Deepnote</span></a>",
   "metadata": {
    "tags": [],
    "created_in_deepnote_cell": true,
    "deepnote_cell_type": "markdown"
   }
  }
 ],
 "nbformat": 4,
 "nbformat_minor": 2,
 "metadata": {
  "orig_nbformat": 2,
  "deepnote": {
   "is_reactive": false
  },
  "deepnote_notebook_id": "c6d63fb7-519a-4f73-8d4b-a9331ed5e12f",
  "deepnote_execution_queue": []
 }
}